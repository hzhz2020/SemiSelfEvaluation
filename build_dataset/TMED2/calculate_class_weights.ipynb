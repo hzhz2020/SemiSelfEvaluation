{
 "cells": [
  {
   "cell_type": "code",
   "execution_count": 1,
   "metadata": {},
   "outputs": [],
   "source": [
    "import pandas as pd\n",
    "import numpy as np\n",
    "\n",
    "import os"
   ]
  },
  {
   "cell_type": "code",
   "execution_count": 2,
   "metadata": {},
   "outputs": [],
   "source": [
    "def calculate_loss_weights_for_each_view(N_PLAX, N_PSAX, N_A4C, N_A2C):\n",
    "    \n",
    "    product_without_N_PLAX =  N_PSAX/10 * N_A4C/10 * N_A2C/10 \n",
    "#     print(product_without_N_PLAX)\n",
    "    \n",
    "    product_without_N_PSAX = N_PLAX/10 * N_A4C/10 * N_A2C/10 \n",
    "#     print(product_without_N_PSAX)\n",
    "    \n",
    "    product_without_N_A4C = N_PLAX/10 * N_PSAX/10 * N_A2C/10 \n",
    "#     print(product_without_N_A4C)\n",
    "    \n",
    "    product_without_N_A2C = N_PLAX/10 * N_PSAX/10 * N_A4C/10 \n",
    "#     print(product_without_N_A2C)\n",
    "    \n",
    "    \n",
    "    \n",
    "    denominator = product_without_N_PLAX + product_without_N_PSAX + product_without_N_A4C + product_without_N_A2C \n",
    "    \n",
    "    \n",
    "    W_PLAX = round(product_without_N_PLAX / denominator,3)\n",
    "    \n",
    "    W_PSAX = round(product_without_N_PSAX / denominator,3)\n",
    "    \n",
    "    W_A2C = round(product_without_N_A2C / denominator,3)\n",
    "    \n",
    "    W_A4C = round(product_without_N_A4C / denominator,3)\n",
    "        \n",
    "    \n",
    "    return W_PLAX, W_PSAX, W_A4C, W_A2C\n",
    "    "
   ]
  },
  {
   "cell_type": "code",
   "execution_count": 2,
   "metadata": {},
   "outputs": [
    {
     "data": {
      "text/plain": [
       "1660"
      ]
     },
     "execution_count": 2,
     "metadata": {},
     "output_type": "execute_result"
    }
   ],
   "source": [
    "650+223+462+325"
   ]
  },
  {
   "cell_type": "markdown",
   "metadata": {},
   "source": [
    "## Image counts "
   ]
  },
  {
   "cell_type": "code",
   "execution_count": 3,
   "metadata": {},
   "outputs": [],
   "source": [
    "#####################################################seed0########################################################\n",
    "#DEV479\n",
    "seed0_DEV479_train_PLAX = 5413 \n",
    "seed0_DEV479_train_PSAX = 2002\n",
    "seed0_DEV479_train_A4C = 3750\n",
    "seed0_DEV479_train_A2C = 2827\n",
    "seed0_DEV479_train = seed0_DEV479_train_PLAX + seed0_DEV479_train_PSAX + seed0_DEV479_train_A4C + seed0_DEV479_train_A2C\n",
    "\n",
    "#DEV165\n",
    "seed0_DEV165_train_PLAX = 1867\n",
    "seed0_DEV165_train_PSAX = 698\n",
    "seed0_DEV165_train_A4C = 1281\n",
    "seed0_DEV165_train_A2C = 950\n",
    "seed0_DEV165_train = seed0_DEV165_train_PLAX + seed0_DEV165_train_PSAX + seed0_DEV165_train_A4C + seed0_DEV165_train_A2C\n",
    "\n",
    "#DEV56\n",
    "seed0_DEV56_train_PLAX = 632\n",
    "seed0_DEV56_train_PSAX = 239\n",
    "seed0_DEV56_train_A4C = 405\n",
    "seed0_DEV56_train_A2C = 285\n",
    "seed0_DEV56_train = seed0_DEV56_train_PLAX + seed0_DEV56_train_PSAX + seed0_DEV56_train_A4C + seed0_DEV56_train_A2C\n",
    "\n",
    "\n",
    "#####################################################seed1########################################################\n",
    "#DEV479\n",
    "seed1_DEV479_train_PLAX = 5451\n",
    "seed1_DEV479_train_PSAX = 2015\n",
    "seed1_DEV479_train_A4C = 3725\n",
    "seed1_DEV479_train_A2C = 2799\n",
    "seed1_DEV479_train = seed1_DEV479_train_PLAX + seed1_DEV479_train_PSAX + seed1_DEV479_train_A4C + seed1_DEV479_train_A2C\n",
    "\n",
    "#DEV165\n",
    "seed1_DEV165_train_PLAX = 1959\n",
    "seed1_DEV165_train_PSAX = 717\n",
    "seed1_DEV165_train_A4C = 1326\n",
    "seed1_DEV165_train_A2C = 973\n",
    "seed1_DEV165_train = seed1_DEV165_train_PLAX + seed1_DEV165_train_PSAX + seed1_DEV165_train_A4C + seed1_DEV165_train_A2C\n",
    "\n",
    "#DEV56\n",
    "seed1_DEV56_train_PLAX = 650\n",
    "seed1_DEV56_train_PSAX = 223\n",
    "seed1_DEV56_train_A4C = 462\n",
    "seed1_DEV56_train_A2C = 325\n",
    "seed1_DEV56_train = seed1_DEV56_train_PLAX + seed1_DEV56_train_PSAX + seed1_DEV56_train_A4C + seed1_DEV56_train_A2C\n",
    "\n",
    "#####################################################seed2########################################################\n",
    "#DEV479\n",
    "seed2_DEV479_train_PLAX = 5464\n",
    "seed2_DEV479_train_PSAX = 2023\n",
    "seed2_DEV479_train_A4C = 3743\n",
    "seed2_DEV479_train_A2C = 2822\n",
    "seed2_DEV479_train = seed2_DEV479_train_PLAX + seed2_DEV479_train_PSAX + seed2_DEV479_train_A4C + seed2_DEV479_train_A2C\n",
    "\n",
    "#DEV165\n",
    "seed2_DEV165_train_PLAX = 1791\n",
    "seed2_DEV165_train_PSAX = 659\n",
    "seed2_DEV165_train_A4C = 1192\n",
    "seed2_DEV165_train_A2C = 928\n",
    "seed2_DEV165_train = seed2_DEV165_train_PLAX + seed2_DEV165_train_PSAX + seed2_DEV165_train_A4C + seed2_DEV165_train_A2C\n",
    "\n",
    "#DEV56\n",
    "seed2_DEV56_train_PLAX = 572\n",
    "seed2_DEV56_train_PSAX = 199\n",
    "seed2_DEV56_train_A4C = 379\n",
    "seed2_DEV56_train_A2C = 277\n",
    "seed2_DEV56_train = seed2_DEV56_train_PLAX + seed2_DEV56_train_PSAX + seed2_DEV56_train_A4C + seed2_DEV56_train_A2C\n",
    "\n"
   ]
  },
  {
   "cell_type": "code",
   "execution_count": null,
   "metadata": {},
   "outputs": [],
   "source": []
  },
  {
   "cell_type": "markdown",
   "metadata": {},
   "source": [
    "### Part1: Total iterations and Warmup iterations"
   ]
  },
  {
   "cell_type": "code",
   "execution_count": 34,
   "metadata": {},
   "outputs": [],
   "source": [
    "def calculate_TotalIterations_AND_WarmupIterations(total_images, epoch, batch_size, warmup_pos):\n",
    "    \n",
    "    total_iterations = epoch * total_images//batch_size\n",
    "    warmup_iterations = int(total_iterations * warmup_pos)\n",
    "    \n",
    "    return total_iterations, warmup_iterations\n",
    "    \n",
    "    \n",
    "    "
   ]
  },
  {
   "cell_type": "code",
   "execution_count": 37,
   "metadata": {},
   "outputs": [
    {
     "data": {
      "text/plain": [
       "4372"
      ]
     },
     "execution_count": 37,
     "metadata": {},
     "output_type": "execute_result"
    }
   ],
   "source": [
    "20 * seed0_DEV479_train // 64"
   ]
  },
  {
   "cell_type": "code",
   "execution_count": 35,
   "metadata": {},
   "outputs": [
    {
     "name": "stdout",
     "output_type": "stream",
     "text": [
      "seed0_DEV479_total_iterations: 4372\n",
      "seed0_DEV479_warmup_iterations: 1748\n"
     ]
    }
   ],
   "source": [
    "seed0_DEV479_total_iterations, seed0_DEV479_warmup_iterations = calculate_TotalIterations_AND_WarmupIterations(seed0_DEV479_train, epoch=20, batch_size=64, warmup_pos=0.4)\n",
    "print('seed0_DEV479_total_iterations: {}'.format(seed0_DEV479_total_iterations))\n",
    "print('seed0_DEV479_warmup_iterations: {}'.format(seed0_DEV479_warmup_iterations))\n"
   ]
  },
  {
   "cell_type": "code",
   "execution_count": 13,
   "metadata": {},
   "outputs": [
    {
     "name": "stdout",
     "output_type": "stream",
     "text": [
      "seed1_DEV479_total_iterations: 43600\n",
      "seed1_DEV479_warmup_iterations: 17440\n"
     ]
    }
   ],
   "source": [
    "seed1_DEV479_total_iterations, seed1_DEV479_warmup_iterations = calculate_TotalIterations_AND_WarmupIterations(seed1_DEV479_train, epoch=200, batch_size=64, warmup_pos=0.4)\n",
    "print('seed1_DEV479_total_iterations: {}'.format(seed1_DEV479_total_iterations))\n",
    "print('seed1_DEV479_warmup_iterations: {}'.format(seed1_DEV479_warmup_iterations))"
   ]
  },
  {
   "cell_type": "code",
   "execution_count": 16,
   "metadata": {},
   "outputs": [
    {
     "name": "stdout",
     "output_type": "stream",
     "text": [
      "seed2_DEV479_total_iterations: 43800\n",
      "seed2_DEV479_warmup_iterations: 17520\n"
     ]
    }
   ],
   "source": [
    "seed2_DEV479_total_iterations, seed2_DEV479_warmup_iterations = calculate_TotalIterations_AND_WarmupIterations(seed2_DEV479_train, epoch=200, batch_size=64, warmup_pos=0.4)\n",
    "print('seed2_DEV479_total_iterations: {}'.format(seed2_DEV479_total_iterations))\n",
    "print('seed2_DEV479_warmup_iterations: {}'.format(seed2_DEV479_warmup_iterations))"
   ]
  },
  {
   "cell_type": "code",
   "execution_count": null,
   "metadata": {},
   "outputs": [],
   "source": []
  },
  {
   "cell_type": "code",
   "execution_count": 17,
   "metadata": {},
   "outputs": [
    {
     "name": "stdout",
     "output_type": "stream",
     "text": [
      "seed0_DEV165_total_iterations: 14800\n",
      "seed0_DEV165_warmup_iterations: 5920\n"
     ]
    }
   ],
   "source": [
    "seed0_DEV165_total_iterations, seed0_DEV165_warmup_iterations = calculate_TotalIterations_AND_WarmupIterations(seed0_DEV165_train, epoch=200, batch_size=64, warmup_pos=0.4)\n",
    "print('seed0_DEV165_total_iterations: {}'.format(seed0_DEV165_total_iterations))\n",
    "print('seed0_DEV165_warmup_iterations: {}'.format(seed0_DEV165_warmup_iterations))\n"
   ]
  },
  {
   "cell_type": "code",
   "execution_count": 18,
   "metadata": {
    "scrolled": false
   },
   "outputs": [
    {
     "name": "stdout",
     "output_type": "stream",
     "text": [
      "seed1_DEV165_total_iterations: 15400\n",
      "seed1_DEV165_warmup_iterations: 6160\n"
     ]
    }
   ],
   "source": [
    "seed1_DEV165_total_iterations, seed1_DEV165_warmup_iterations = calculate_TotalIterations_AND_WarmupIterations(seed1_DEV165_train, epoch=200, batch_size=64, warmup_pos=0.4)\n",
    "print('seed1_DEV165_total_iterations: {}'.format(seed1_DEV165_total_iterations))\n",
    "print('seed1_DEV165_warmup_iterations: {}'.format(seed1_DEV165_warmup_iterations))"
   ]
  },
  {
   "cell_type": "code",
   "execution_count": 19,
   "metadata": {},
   "outputs": [
    {
     "name": "stdout",
     "output_type": "stream",
     "text": [
      "seed2_DEV165_total_iterations: 14200\n",
      "seed2_DEV165_warmup_iterations: 5680\n"
     ]
    }
   ],
   "source": [
    "seed2_DEV165_total_iterations, seed2_DEV165_warmup_iterations = calculate_TotalIterations_AND_WarmupIterations(seed2_DEV165_train, epoch=200, batch_size=64, warmup_pos=0.4)\n",
    "print('seed2_DEV165_total_iterations: {}'.format(seed2_DEV165_total_iterations))\n",
    "print('seed2_DEV165_warmup_iterations: {}'.format(seed2_DEV165_warmup_iterations))"
   ]
  },
  {
   "cell_type": "code",
   "execution_count": null,
   "metadata": {},
   "outputs": [],
   "source": []
  },
  {
   "cell_type": "code",
   "execution_count": 23,
   "metadata": {},
   "outputs": [
    {
     "name": "stdout",
     "output_type": "stream",
     "text": [
      "seed0_DEV56_total_iterations: 9600\n",
      "seed0_DEV56_warmup_iterations: 3840\n"
     ]
    }
   ],
   "source": [
    "seed0_DEV56_total_iterations, seed0_DEV56_warmup_iterations = calculate_TotalIterations_AND_WarmupIterations(seed0_DEV56_train, epoch=400, batch_size=64, warmup_pos=0.4)\n",
    "print('seed0_DEV56_total_iterations: {}'.format(seed0_DEV56_total_iterations))\n",
    "print('seed0_DEV56_warmup_iterations: {}'.format(seed0_DEV56_warmup_iterations))\n"
   ]
  },
  {
   "cell_type": "code",
   "execution_count": 24,
   "metadata": {
    "scrolled": false
   },
   "outputs": [
    {
     "name": "stdout",
     "output_type": "stream",
     "text": [
      "seed1_DEV56_total_iterations: 10000\n",
      "seed1_DEV56_warmup_iterations: 4000\n"
     ]
    }
   ],
   "source": [
    "seed1_DEV56_total_iterations, seed1_DEV56_warmup_iterations = calculate_TotalIterations_AND_WarmupIterations(seed1_DEV56_train, epoch=400, batch_size=64, warmup_pos=0.4)\n",
    "print('seed1_DEV56_total_iterations: {}'.format(seed1_DEV56_total_iterations))\n",
    "print('seed1_DEV56_warmup_iterations: {}'.format(seed1_DEV56_warmup_iterations))"
   ]
  },
  {
   "cell_type": "code",
   "execution_count": 25,
   "metadata": {},
   "outputs": [
    {
     "name": "stdout",
     "output_type": "stream",
     "text": [
      "seed2_DEV56_total_iterations: 8800\n",
      "seed2_DEV56_warmup_iterations: 3520\n"
     ]
    }
   ],
   "source": [
    "seed2_DEV56_total_iterations, seed2_DEV56_warmup_iterations = calculate_TotalIterations_AND_WarmupIterations(seed2_DEV56_train, epoch=400, batch_size=64, warmup_pos=0.4)\n",
    "print('seed2_DEV56_total_iterations: {}'.format(seed2_DEV56_total_iterations))\n",
    "print('seed2_DEV56_warmup_iterations: {}'.format(seed2_DEV56_warmup_iterations))"
   ]
  },
  {
   "cell_type": "code",
   "execution_count": null,
   "metadata": {},
   "outputs": [],
   "source": []
  },
  {
   "cell_type": "markdown",
   "metadata": {},
   "source": [
    "### Part2: class weights"
   ]
  },
  {
   "cell_type": "markdown",
   "metadata": {},
   "source": [
    "### seed0_DEV479_train"
   ]
  },
  {
   "cell_type": "code",
   "execution_count": 4,
   "metadata": {},
   "outputs": [
    {
     "name": "stdout",
     "output_type": "stream",
     "text": [
      "Weight_seed0_DEV479_train_PLAX: 0.142\n",
      "Weight_seed0_DEV479_train_PSAX: 0.383\n",
      "Weight_seed0_DEV479_train_A4C: 0.204\n",
      "Weight_seed0_DEV479_train_A2C: 0.271\n"
     ]
    }
   ],
   "source": [
    "Weight_seed0_DEV479_train_PLAX, Weight_seed0_DEV479_train_PSAX, Weight_seed0_DEV479_train_A4C, Weight_seed0_DEV479_train_A2C = calculate_loss_weights_for_each_view(N_PLAX=seed0_DEV479_train_PLAX, N_PSAX=seed0_DEV479_train_PSAX, N_A4C=seed0_DEV479_train_A4C, N_A2C=seed0_DEV479_train_A2C)\n",
    "\n",
    "print('Weight_seed0_DEV479_train_PLAX: {}'.format(Weight_seed0_DEV479_train_PLAX))\n",
    "print('Weight_seed0_DEV479_train_PSAX: {}'.format(Weight_seed0_DEV479_train_PSAX))\n",
    "print('Weight_seed0_DEV479_train_A4C: {}'.format(Weight_seed0_DEV479_train_A4C))\n",
    "print('Weight_seed0_DEV479_train_A2C: {}'.format(Weight_seed0_DEV479_train_A2C))\n"
   ]
  },
  {
   "cell_type": "code",
   "execution_count": null,
   "metadata": {},
   "outputs": [],
   "source": []
  },
  {
   "cell_type": "markdown",
   "metadata": {},
   "source": [
    "### seed0_DEV165_train"
   ]
  },
  {
   "cell_type": "code",
   "execution_count": 5,
   "metadata": {
    "scrolled": true
   },
   "outputs": [
    {
     "name": "stdout",
     "output_type": "stream",
     "text": [
      "Weight_seed0_DEV165_train_PLAX: 0.141\n",
      "Weight_seed0_DEV165_train_PSAX: 0.377\n",
      "Weight_seed0_DEV165_train_A4C: 0.205\n",
      "Weight_seed0_DEV165_train_A2C: 0.277\n"
     ]
    }
   ],
   "source": [
    "Weight_seed0_DEV165_train_PLAX, Weight_seed0_DEV165_train_PSAX, Weight_seed0_DEV165_train_A4C, Weight_seed0_DEV165_train_A2C = calculate_loss_weights_for_each_view(N_PLAX=seed0_DEV165_train_PLAX, N_PSAX=seed0_DEV165_train_PSAX, N_A4C=seed0_DEV165_train_A4C, N_A2C=seed0_DEV165_train_A2C)\n",
    "\n",
    "print('Weight_seed0_DEV165_train_PLAX: {}'.format(Weight_seed0_DEV165_train_PLAX))\n",
    "print('Weight_seed0_DEV165_train_PSAX: {}'.format(Weight_seed0_DEV165_train_PSAX))\n",
    "print('Weight_seed0_DEV165_train_A4C: {}'.format(Weight_seed0_DEV165_train_A4C))\n",
    "print('Weight_seed0_DEV165_train_A2C: {}'.format(Weight_seed0_DEV165_train_A2C))\n"
   ]
  },
  {
   "cell_type": "code",
   "execution_count": null,
   "metadata": {},
   "outputs": [],
   "source": []
  },
  {
   "cell_type": "markdown",
   "metadata": {},
   "source": [
    "### seed0_DEV56_train"
   ]
  },
  {
   "cell_type": "code",
   "execution_count": 6,
   "metadata": {
    "scrolled": true
   },
   "outputs": [
    {
     "name": "stdout",
     "output_type": "stream",
     "text": [
      "Weight_seed0_DEV56_train_PLAX: 0.135\n",
      "Weight_seed0_DEV56_train_PSAX: 0.356\n",
      "Weight_seed0_DEV56_train_A4C: 0.21\n",
      "Weight_seed0_DEV56_train_A2C: 0.299\n"
     ]
    }
   ],
   "source": [
    "Weight_seed0_DEV56_train_PLAX, Weight_seed0_DEV56_train_PSAX, Weight_seed0_DEV56_train_A4C, Weight_seed0_DEV56_train_A2C = calculate_loss_weights_for_each_view(N_PLAX=seed0_DEV56_train_PLAX, N_PSAX=seed0_DEV56_train_PSAX, N_A4C=seed0_DEV56_train_A4C, N_A2C=seed0_DEV56_train_A2C)\n",
    "\n",
    "print('Weight_seed0_DEV56_train_PLAX: {}'.format(Weight_seed0_DEV56_train_PLAX))\n",
    "print('Weight_seed0_DEV56_train_PSAX: {}'.format(Weight_seed0_DEV56_train_PSAX))\n",
    "print('Weight_seed0_DEV56_train_A4C: {}'.format(Weight_seed0_DEV56_train_A4C))\n",
    "print('Weight_seed0_DEV56_train_A2C: {}'.format(Weight_seed0_DEV56_train_A2C))\n"
   ]
  },
  {
   "cell_type": "code",
   "execution_count": null,
   "metadata": {},
   "outputs": [],
   "source": []
  },
  {
   "cell_type": "code",
   "execution_count": 7,
   "metadata": {},
   "outputs": [],
   "source": [
    "##################################################################################################################"
   ]
  },
  {
   "cell_type": "markdown",
   "metadata": {},
   "source": [
    "### seed1_DEV479_train"
   ]
  },
  {
   "cell_type": "code",
   "execution_count": 8,
   "metadata": {},
   "outputs": [
    {
     "name": "stdout",
     "output_type": "stream",
     "text": [
      "Weight_seed1_DEV479_train_PLAX: 0.141\n",
      "Weight_seed1_DEV479_train_PSAX: 0.38\n",
      "Weight_seed1_DEV479_train_A4C: 0.206\n",
      "Weight_seed1_DEV479_train_A2C: 0.274\n"
     ]
    }
   ],
   "source": [
    "Weight_seed1_DEV479_train_PLAX, Weight_seed1_DEV479_train_PSAX, Weight_seed1_DEV479_train_A4C, Weight_seed1_DEV479_train_A2C = calculate_loss_weights_for_each_view(N_PLAX=seed1_DEV479_train_PLAX, N_PSAX=seed1_DEV479_train_PSAX, N_A4C=seed1_DEV479_train_A4C, N_A2C=seed1_DEV479_train_A2C)\n",
    "\n",
    "print('Weight_seed1_DEV479_train_PLAX: {}'.format(Weight_seed1_DEV479_train_PLAX))\n",
    "print('Weight_seed1_DEV479_train_PSAX: {}'.format(Weight_seed1_DEV479_train_PSAX))\n",
    "print('Weight_seed1_DEV479_train_A4C: {}'.format(Weight_seed1_DEV479_train_A4C))\n",
    "print('Weight_seed1_DEV479_train_A2C: {}'.format(Weight_seed1_DEV479_train_A2C))\n"
   ]
  },
  {
   "cell_type": "code",
   "execution_count": null,
   "metadata": {},
   "outputs": [],
   "source": []
  },
  {
   "cell_type": "markdown",
   "metadata": {},
   "source": [
    "### seed1_DEV165_train"
   ]
  },
  {
   "cell_type": "code",
   "execution_count": 9,
   "metadata": {
    "scrolled": true
   },
   "outputs": [
    {
     "name": "stdout",
     "output_type": "stream",
     "text": [
      "Weight_seed1_DEV165_train_PLAX: 0.138\n",
      "Weight_seed1_DEV165_train_PSAX: 0.378\n",
      "Weight_seed1_DEV165_train_A4C: 0.205\n",
      "Weight_seed1_DEV165_train_A2C: 0.279\n"
     ]
    }
   ],
   "source": [
    "Weight_seed1_DEV165_train_PLAX, Weight_seed1_DEV165_train_PSAX, Weight_seed1_DEV165_train_A4C, Weight_seed1_DEV165_train_A2C = calculate_loss_weights_for_each_view(N_PLAX=seed1_DEV165_train_PLAX, N_PSAX=seed1_DEV165_train_PSAX, N_A4C=seed1_DEV165_train_A4C, N_A2C=seed1_DEV165_train_A2C)\n",
    "\n",
    "print('Weight_seed1_DEV165_train_PLAX: {}'.format(Weight_seed1_DEV165_train_PLAX))\n",
    "print('Weight_seed1_DEV165_train_PSAX: {}'.format(Weight_seed1_DEV165_train_PSAX))\n",
    "print('Weight_seed1_DEV165_train_A4C: {}'.format(Weight_seed1_DEV165_train_A4C))\n",
    "print('Weight_seed1_DEV165_train_A2C: {}'.format(Weight_seed1_DEV165_train_A2C))\n"
   ]
  },
  {
   "cell_type": "code",
   "execution_count": null,
   "metadata": {},
   "outputs": [],
   "source": []
  },
  {
   "cell_type": "markdown",
   "metadata": {},
   "source": [
    "### seed1_DEV56_train"
   ]
  },
  {
   "cell_type": "code",
   "execution_count": 10,
   "metadata": {
    "scrolled": true
   },
   "outputs": [
    {
     "name": "stdout",
     "output_type": "stream",
     "text": [
      "Weight_seed1_DEV56_train_PLAX: 0.137\n",
      "Weight_seed1_DEV56_train_PSAX: 0.398\n",
      "Weight_seed1_DEV56_train_A4C: 0.192\n",
      "Weight_seed1_DEV56_train_A2C: 0.273\n"
     ]
    }
   ],
   "source": [
    "Weight_seed1_DEV56_train_PLAX, Weight_seed1_DEV56_train_PSAX, Weight_seed1_DEV56_train_A4C, Weight_seed1_DEV56_train_A2C = calculate_loss_weights_for_each_view(N_PLAX=seed1_DEV56_train_PLAX, N_PSAX=seed1_DEV56_train_PSAX, N_A4C=seed1_DEV56_train_A4C, N_A2C=seed1_DEV56_train_A2C)\n",
    "\n",
    "print('Weight_seed1_DEV56_train_PLAX: {}'.format(Weight_seed1_DEV56_train_PLAX))\n",
    "print('Weight_seed1_DEV56_train_PSAX: {}'.format(Weight_seed1_DEV56_train_PSAX))\n",
    "print('Weight_seed1_DEV56_train_A4C: {}'.format(Weight_seed1_DEV56_train_A4C))\n",
    "print('Weight_seed1_DEV56_train_A2C: {}'.format(Weight_seed1_DEV56_train_A2C))\n"
   ]
  },
  {
   "cell_type": "code",
   "execution_count": null,
   "metadata": {},
   "outputs": [],
   "source": []
  },
  {
   "cell_type": "code",
   "execution_count": 11,
   "metadata": {},
   "outputs": [],
   "source": [
    "##################################################################################################################"
   ]
  },
  {
   "cell_type": "markdown",
   "metadata": {},
   "source": [
    "### seed2_DEV479_train"
   ]
  },
  {
   "cell_type": "code",
   "execution_count": 12,
   "metadata": {
    "scrolled": true
   },
   "outputs": [
    {
     "name": "stdout",
     "output_type": "stream",
     "text": [
      "Weight_seed2_DEV479_train_PLAX: 0.141\n",
      "Weight_seed2_DEV479_train_PSAX: 0.381\n",
      "Weight_seed2_DEV479_train_A4C: 0.206\n",
      "Weight_seed2_DEV479_train_A2C: 0.273\n"
     ]
    }
   ],
   "source": [
    "Weight_seed2_DEV479_train_PLAX, Weight_seed2_DEV479_train_PSAX, Weight_seed2_DEV479_train_A4C, Weight_seed2_DEV479_train_A2C = calculate_loss_weights_for_each_view(N_PLAX=seed2_DEV479_train_PLAX, N_PSAX=seed2_DEV479_train_PSAX, N_A4C=seed2_DEV479_train_A4C, N_A2C=seed2_DEV479_train_A2C)\n",
    "\n",
    "print('Weight_seed2_DEV479_train_PLAX: {}'.format(Weight_seed2_DEV479_train_PLAX))\n",
    "print('Weight_seed2_DEV479_train_PSAX: {}'.format(Weight_seed2_DEV479_train_PSAX))\n",
    "print('Weight_seed2_DEV479_train_A4C: {}'.format(Weight_seed2_DEV479_train_A4C))\n",
    "print('Weight_seed2_DEV479_train_A2C: {}'.format(Weight_seed2_DEV479_train_A2C))\n"
   ]
  },
  {
   "cell_type": "code",
   "execution_count": null,
   "metadata": {},
   "outputs": [],
   "source": []
  },
  {
   "cell_type": "markdown",
   "metadata": {},
   "source": [
    "### seed2_DEV165_train"
   ]
  },
  {
   "cell_type": "code",
   "execution_count": 13,
   "metadata": {
    "scrolled": true
   },
   "outputs": [
    {
     "name": "stdout",
     "output_type": "stream",
     "text": [
      "Weight_seed2_DEV165_train_PLAX: 0.14\n",
      "Weight_seed2_DEV165_train_PSAX: 0.38\n",
      "Weight_seed2_DEV165_train_A4C: 0.21\n",
      "Weight_seed2_DEV165_train_A2C: 0.27\n"
     ]
    }
   ],
   "source": [
    "Weight_seed2_DEV165_train_PLAX, Weight_seed2_DEV165_train_PSAX, Weight_seed2_DEV165_train_A4C, Weight_seed2_DEV165_train_A2C = calculate_loss_weights_for_each_view(N_PLAX=seed2_DEV165_train_PLAX, N_PSAX=seed2_DEV165_train_PSAX, N_A4C=seed2_DEV165_train_A4C, N_A2C=seed2_DEV165_train_A2C)\n",
    "\n",
    "print('Weight_seed2_DEV165_train_PLAX: {}'.format(Weight_seed2_DEV165_train_PLAX))\n",
    "print('Weight_seed2_DEV165_train_PSAX: {}'.format(Weight_seed2_DEV165_train_PSAX))\n",
    "print('Weight_seed2_DEV165_train_A4C: {}'.format(Weight_seed2_DEV165_train_A4C))\n",
    "print('Weight_seed2_DEV165_train_A2C: {}'.format(Weight_seed2_DEV165_train_A2C))\n"
   ]
  },
  {
   "cell_type": "code",
   "execution_count": null,
   "metadata": {},
   "outputs": [],
   "source": []
  },
  {
   "cell_type": "markdown",
   "metadata": {},
   "source": [
    "### seed2_DEV56_train"
   ]
  },
  {
   "cell_type": "code",
   "execution_count": 14,
   "metadata": {
    "scrolled": true
   },
   "outputs": [
    {
     "name": "stdout",
     "output_type": "stream",
     "text": [
      "Weight_seed2_DEV56_train_PLAX: 0.134\n",
      "Weight_seed2_DEV56_train_PSAX: 0.386\n",
      "Weight_seed2_DEV56_train_A4C: 0.203\n",
      "Weight_seed2_DEV56_train_A2C: 0.277\n"
     ]
    }
   ],
   "source": [
    "Weight_seed2_DEV56_train_PLAX, Weight_seed2_DEV56_train_PSAX, Weight_seed2_DEV56_train_A4C, Weight_seed2_DEV56_train_A2C = calculate_loss_weights_for_each_view(N_PLAX=seed2_DEV56_train_PLAX, N_PSAX=seed2_DEV56_train_PSAX, N_A4C=seed2_DEV56_train_A4C, N_A2C=seed2_DEV56_train_A2C)\n",
    "\n",
    "print('Weight_seed2_DEV56_train_PLAX: {}'.format(Weight_seed2_DEV56_train_PLAX))\n",
    "print('Weight_seed2_DEV56_train_PSAX: {}'.format(Weight_seed2_DEV56_train_PSAX))\n",
    "print('Weight_seed2_DEV56_train_A4C: {}'.format(Weight_seed2_DEV56_train_A4C))\n",
    "print('Weight_seed2_DEV56_train_A2C: {}'.format(Weight_seed2_DEV56_train_A2C))\n"
   ]
  },
  {
   "cell_type": "code",
   "execution_count": null,
   "metadata": {},
   "outputs": [],
   "source": []
  }
 ],
 "metadata": {
  "kernelspec": {
   "display_name": "Python 3 (ipykernel)",
   "language": "python",
   "name": "python3"
  },
  "language_info": {
   "codemirror_mode": {
    "name": "ipython",
    "version": 3
   },
   "file_extension": ".py",
   "mimetype": "text/x-python",
   "name": "python",
   "nbconvert_exporter": "python",
   "pygments_lexer": "ipython3",
   "version": "3.8.13"
  }
 },
 "nbformat": 4,
 "nbformat_minor": 4
}
