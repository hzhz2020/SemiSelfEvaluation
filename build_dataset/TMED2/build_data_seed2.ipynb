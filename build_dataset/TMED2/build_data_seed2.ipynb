{
 "cells": [
  {
   "cell_type": "code",
   "execution_count": 1,
   "metadata": {},
   "outputs": [],
   "source": [
    "import numpy as np\n",
    "import pandas as pd\n",
    "import os\n"
   ]
  },
  {
   "cell_type": "code",
   "execution_count": 2,
   "metadata": {},
   "outputs": [],
   "source": [
    "def read_npy(filepath):\n",
    "    with open(filepath, 'rb') as f:\n",
    "        data = np.load(f)\n",
    "    return data"
   ]
  },
  {
   "cell_type": "code",
   "execution_count": 3,
   "metadata": {},
   "outputs": [],
   "source": [
    "import pickle\n",
    "\n",
    "def save_pickle(directory, filename, file_to_save):\n",
    "#     make_dir_if_not_exists(directory)\n",
    "    \n",
    "    with open(os.path.join(directory, filename), 'wb') as handle:\n",
    "        pickle.dump(file_to_save, handle, protocol=pickle.HIGHEST_PROTOCOL)"
   ]
  },
  {
   "cell_type": "code",
   "execution_count": null,
   "metadata": {},
   "outputs": [],
   "source": []
  },
  {
   "cell_type": "markdown",
   "metadata": {},
   "source": [
    "## Seed2"
   ]
  },
  {
   "cell_type": "markdown",
   "metadata": {},
   "source": [
    "#### step0: filter out the instance for A4CorA2CorOther from the test set of seed0"
   ]
  },
  {
   "cell_type": "code",
   "execution_count": 4,
   "metadata": {},
   "outputs": [],
   "source": [
    "seed2_test_image_path = '/cluster/tufts/hugheslab/zhuang12/Echo_ClinicalManualScript_1112/ML_DATA/ViewClassifier/npy_seed2/shared_test_this_seed/test_image.npy'\n",
    "seed2_test_label_path = '/cluster/tufts/hugheslab/zhuang12/Echo_ClinicalManualScript_1112/ML_DATA/ViewClassifier/npy_seed2/shared_test_this_seed/test_label.npy'\n"
   ]
  },
  {
   "cell_type": "code",
   "execution_count": 5,
   "metadata": {},
   "outputs": [],
   "source": [
    "seed2_test_images = read_npy(seed2_test_image_path)\n",
    "seed2_test_labels = read_npy(seed2_test_label_path)"
   ]
  },
  {
   "cell_type": "code",
   "execution_count": 6,
   "metadata": {},
   "outputs": [
    {
     "name": "stdout",
     "output_type": "stream",
     "text": [
      "seed2_test_images: (3459, 112, 112, 3), seed2_test_labels: (3459,)\n"
     ]
    }
   ],
   "source": [
    "print('seed2_test_images: {}, seed2_test_labels: {}'.format(seed2_test_images.shape , seed2_test_labels.shape ))\n"
   ]
  },
  {
   "cell_type": "code",
   "execution_count": 7,
   "metadata": {},
   "outputs": [
    {
     "data": {
      "text/plain": [
       "{0, 1, 2, 3, 4}"
      ]
     },
     "execution_count": 7,
     "metadata": {},
     "output_type": "execute_result"
    }
   ],
   "source": [
    "set(seed2_test_labels)"
   ]
  },
  {
   "cell_type": "code",
   "execution_count": 8,
   "metadata": {},
   "outputs": [],
   "source": [
    "NotA4CorA2CorOther_mask = seed2_test_labels!=4"
   ]
  },
  {
   "cell_type": "code",
   "execution_count": 9,
   "metadata": {},
   "outputs": [
    {
     "data": {
      "text/plain": [
       "array([ True,  True,  True, ..., False, False, False])"
      ]
     },
     "execution_count": 9,
     "metadata": {},
     "output_type": "execute_result"
    }
   ],
   "source": [
    "NotA4CorA2CorOther_mask"
   ]
  },
  {
   "cell_type": "code",
   "execution_count": 10,
   "metadata": {},
   "outputs": [
    {
     "name": "stdout",
     "output_type": "stream",
     "text": [
      "After filtering out A4CorA2CorOther:\n",
      "seed2_test_images[NotA4CorA2CorOther_mask]: (2057, 112, 112, 3), seed2_test_labels[NotA4CorA2CorOther_mask]: (2057,)\n"
     ]
    }
   ],
   "source": [
    "print('After filtering out A4CorA2CorOther:')\n",
    "print('seed2_test_images[NotA4CorA2CorOther_mask]: {}, seed2_test_labels[NotA4CorA2CorOther_mask]: {}'.format(seed2_test_images[NotA4CorA2CorOther_mask].shape , seed2_test_labels[NotA4CorA2CorOther_mask].shape ))\n"
   ]
  },
  {
   "cell_type": "code",
   "execution_count": 11,
   "metadata": {},
   "outputs": [],
   "source": [
    "seed2_test_set = {\"images\":seed2_test_images[NotA4CorA2CorOther_mask], \"labels\":seed2_test_labels[NotA4CorA2CorOther_mask]}\n"
   ]
  },
  {
   "cell_type": "code",
   "execution_count": 12,
   "metadata": {},
   "outputs": [],
   "source": [
    "#save the test set\n",
    "data_seed2_shared_testset_path = '/cluster/tufts/hugheslab/zhuang12/SSL_Contamination/realistic-ssl-evaluation-pytorch_RE/ML_DATA/TMED2/unnormalized_HWC/echo/data_seed2/this_seed_shared_testset'\n",
    "# np.save(os.path.join(data_seed2_shared_testset_path, 'test.npy'), seed2_test_set)\n",
    "save_pickle(data_seed2_shared_testset_path, 'test.npy', seed2_test_set)\n"
   ]
  },
  {
   "cell_type": "code",
   "execution_count": null,
   "metadata": {},
   "outputs": [],
   "source": []
  },
  {
   "cell_type": "code",
   "execution_count": null,
   "metadata": {},
   "outputs": [],
   "source": []
  },
  {
   "cell_type": "markdown",
   "metadata": {},
   "source": [
    "### DEV479"
   ]
  },
  {
   "cell_type": "code",
   "execution_count": 3,
   "metadata": {},
   "outputs": [],
   "source": [
    "seed2_DEV479_dir = '/cluster/tufts/hugheslab/zhuang12/Echo_ClinicalManualScript_1112/ML_DATA/ViewClassifier/npy_seed2/DEV479'\n"
   ]
  },
  {
   "cell_type": "markdown",
   "metadata": {},
   "source": [
    "#### step1: concatenate the already processed npy file for train set"
   ]
  },
  {
   "cell_type": "code",
   "execution_count": 4,
   "metadata": {},
   "outputs": [],
   "source": [
    "\n",
    "seed2_DEV479_train_A4C_image_path = os.path.join(seed2_DEV479_dir, 'train_A4C_image.npy')\n",
    "seed2_DEV479_train_A4C_label_path = os.path.join(seed2_DEV479_dir, 'train_A4C_label.npy')\n",
    "\n",
    "seed2_DEV479_train_A2C_image_path = os.path.join(seed2_DEV479_dir, 'train_A2C_image.npy')\n",
    "seed2_DEV479_train_A2C_label_path = os.path.join(seed2_DEV479_dir, 'train_A2C_label.npy')\n",
    "\n",
    "seed2_DEV479_train_PLAX_image_path = os.path.join(seed2_DEV479_dir, 'train_PLAX_image.npy')\n",
    "seed2_DEV479_train_PLAX_label_path = os.path.join(seed2_DEV479_dir, 'train_PLAX_label.npy')\n",
    "\n",
    "seed2_DEV479_train_PSAX_image_path = os.path.join(seed2_DEV479_dir, 'train_PSAX_image.npy')\n",
    "seed2_DEV479_train_PSAX_label_path = os.path.join(seed2_DEV479_dir, 'train_PSAX_label.npy')\n",
    "\n"
   ]
  },
  {
   "cell_type": "code",
   "execution_count": 5,
   "metadata": {},
   "outputs": [],
   "source": [
    "seed2_DEV479_train_A4C_images = read_npy(seed2_DEV479_train_A4C_image_path)\n",
    "seed2_DEV479_train_A4C_labels = read_npy(seed2_DEV479_train_A4C_label_path)\n",
    "\n",
    "seed2_DEV479_train_A2C_images = read_npy(seed2_DEV479_train_A2C_image_path)\n",
    "seed2_DEV479_train_A2C_labels = read_npy(seed2_DEV479_train_A2C_label_path)\n",
    "\n",
    "seed2_DEV479_train_PLAX_images = read_npy(seed2_DEV479_train_PLAX_image_path)\n",
    "seed2_DEV479_train_PLAX_labels = read_npy(seed2_DEV479_train_PLAX_label_path)\n",
    "\n",
    "seed2_DEV479_train_PSAX_images = read_npy(seed2_DEV479_train_PSAX_image_path)\n",
    "seed2_DEV479_train_PSAX_labels = read_npy(seed2_DEV479_train_PSAX_label_path)\n"
   ]
  },
  {
   "cell_type": "code",
   "execution_count": 6,
   "metadata": {},
   "outputs": [
    {
     "name": "stdout",
     "output_type": "stream",
     "text": [
      "seed2_DEV479_train_PLAX_images: (5464, 112, 112, 3), seed2_DEV479_train_PLAX_labels: (5464,)\n",
      "seed2_DEV479_train_PSAX_images: (2023, 112, 112, 3), seed2_DEV479_train_PSAX_labels: (2023,)\n",
      "seed2_DEV479_train_A4C_images: (3743, 112, 112, 3), seed2_DEV479_train_A4C_labels: (3743,)\n",
      "seed2_DEV479_train_A2C_images: (2822, 112, 112, 3), seed2_DEV479_train_A2C_labels: (2822,)\n"
     ]
    }
   ],
   "source": [
    "print('seed2_DEV479_train_PLAX_images: {}, seed2_DEV479_train_PLAX_labels: {}'.format(seed2_DEV479_train_PLAX_images.shape, seed2_DEV479_train_PLAX_labels.shape))\n",
    "print('seed2_DEV479_train_PSAX_images: {}, seed2_DEV479_train_PSAX_labels: {}'.format(seed2_DEV479_train_PSAX_images.shape, seed2_DEV479_train_PSAX_labels.shape))\n",
    "print('seed2_DEV479_train_A4C_images: {}, seed2_DEV479_train_A4C_labels: {}'.format(seed2_DEV479_train_A4C_images.shape, seed2_DEV479_train_A4C_labels.shape))\n",
    "print('seed2_DEV479_train_A2C_images: {}, seed2_DEV479_train_A2C_labels: {}'.format(seed2_DEV479_train_A2C_images.shape, seed2_DEV479_train_A2C_labels.shape))\n"
   ]
  },
  {
   "cell_type": "code",
   "execution_count": 8,
   "metadata": {},
   "outputs": [],
   "source": [
    "seed2_DEV479_train_images = np.concatenate((seed2_DEV479_train_A4C_images,\\\n",
    "                                            seed2_DEV479_train_A2C_images,\\\n",
    "                                            seed2_DEV479_train_PLAX_images,\\\n",
    "                                            seed2_DEV479_train_PSAX_images), axis=0)\n",
    "\n",
    "seed2_DEV479_train_labels = np.concatenate((seed2_DEV479_train_A4C_labels,\\\n",
    "                                            seed2_DEV479_train_A2C_labels,\\\n",
    "                                            seed2_DEV479_train_PLAX_labels,\\\n",
    "                                            seed2_DEV479_train_PSAX_labels), axis=0)\n"
   ]
  },
  {
   "cell_type": "code",
   "execution_count": 9,
   "metadata": {},
   "outputs": [
    {
     "name": "stdout",
     "output_type": "stream",
     "text": [
      "seed2_DEV479_train_images: (14052, 112, 112, 3), seed2_DEV479_train_labels: (14052,)\n"
     ]
    }
   ],
   "source": [
    "print('seed2_DEV479_train_images: {}, seed2_DEV479_train_labels: {}'.format(seed2_DEV479_train_images.shape, seed2_DEV479_train_labels.shape))\n",
    "\n",
    "assert len(seed2_DEV479_train_images) == len(seed2_DEV479_train_labels) == len(seed2_DEV479_train_A4C_images) + len(seed2_DEV479_train_A2C_images) +\\\n",
    "                                                                           len(seed2_DEV479_train_PLAX_images) + len(seed2_DEV479_train_PSAX_images)\n",
    "\n"
   ]
  },
  {
   "cell_type": "code",
   "execution_count": 10,
   "metadata": {},
   "outputs": [],
   "source": [
    "seed2_DEV479_train_set = {\"images\":seed2_DEV479_train_images, \"labels\":seed2_DEV479_train_labels}\n"
   ]
  },
  {
   "cell_type": "code",
   "execution_count": 12,
   "metadata": {},
   "outputs": [],
   "source": [
    "#save the test set\n",
    "data_seed2_DEV479_trainset_path = '/cluster/tufts/hugheslab/zhuang12/SSL_Contamination/realistic-ssl-evaluation-pytorch_RE/ML_DATA/TMED2/unnormalized_HWC/echo/data_seed2/DEV479'\n",
    "# np.save(os.path.join(data_seed2_DEV479_trainset_path, 'train.npy'), seed2_DEV479_train_set)\n",
    "save_pickle(data_seed2_DEV479_trainset_path, 'train.npy', seed2_DEV479_train_set)\n"
   ]
  },
  {
   "cell_type": "code",
   "execution_count": null,
   "metadata": {},
   "outputs": [],
   "source": []
  },
  {
   "cell_type": "markdown",
   "metadata": {},
   "source": [
    "#### step2: filter out the instance for A4CorA2CorOther from the val set of seed0 DEV479"
   ]
  },
  {
   "cell_type": "code",
   "execution_count": 4,
   "metadata": {},
   "outputs": [],
   "source": [
    "seed2_DEV479_val_image_path = '/cluster/tufts/hugheslab/zhuang12/Echo_ClinicalManualScript_1112/ML_DATA/ViewClassifier/npy_seed2/DEV479/val_image.npy'\n",
    "seed2_DEV479_val_label_path = '/cluster/tufts/hugheslab/zhuang12/Echo_ClinicalManualScript_1112/ML_DATA/ViewClassifier/npy_seed2/DEV479/val_label.npy'\n"
   ]
  },
  {
   "cell_type": "code",
   "execution_count": 5,
   "metadata": {},
   "outputs": [],
   "source": [
    "seed2_DEV479_val_images = read_npy(seed2_DEV479_val_image_path)\n",
    "seed2_DEV479_val_labels = read_npy(seed2_DEV479_val_label_path)"
   ]
  },
  {
   "cell_type": "code",
   "execution_count": 6,
   "metadata": {},
   "outputs": [
    {
     "name": "stdout",
     "output_type": "stream",
     "text": [
      "seed2_DEV479_val_images: (3448, 112, 112, 3), seed2_DEV479_val_labels: (3448,)\n"
     ]
    }
   ],
   "source": [
    "print('seed2_DEV479_val_images: {}, seed2_DEV479_val_labels: {}'.format(seed2_DEV479_val_images.shape , seed2_DEV479_val_labels.shape ))\n"
   ]
  },
  {
   "cell_type": "code",
   "execution_count": 7,
   "metadata": {},
   "outputs": [
    {
     "data": {
      "text/plain": [
       "{0, 1, 2, 3, 4}"
      ]
     },
     "execution_count": 7,
     "metadata": {},
     "output_type": "execute_result"
    }
   ],
   "source": [
    "set(seed2_DEV479_val_labels)"
   ]
  },
  {
   "cell_type": "code",
   "execution_count": 8,
   "metadata": {},
   "outputs": [],
   "source": [
    "NotA4CorA2CorOther_mask = seed2_DEV479_val_labels!=4"
   ]
  },
  {
   "cell_type": "code",
   "execution_count": 9,
   "metadata": {},
   "outputs": [
    {
     "data": {
      "text/plain": [
       "array([ True,  True,  True, ..., False, False, False])"
      ]
     },
     "execution_count": 9,
     "metadata": {},
     "output_type": "execute_result"
    }
   ],
   "source": [
    "NotA4CorA2CorOther_mask"
   ]
  },
  {
   "cell_type": "code",
   "execution_count": 10,
   "metadata": {},
   "outputs": [
    {
     "name": "stdout",
     "output_type": "stream",
     "text": [
      "After filtering out A4CorA2CorOther:\n",
      "seed2_DEV479_val_images[NotA4CorA2CorOther_mask]: (1994, 112, 112, 3), seed2_DEV479_val_labels[NotA4CorA2CorOther_mask]: (1994,)\n"
     ]
    }
   ],
   "source": [
    "print('After filtering out A4CorA2CorOther:')\n",
    "print('seed2_DEV479_val_images[NotA4CorA2CorOther_mask]: {}, seed2_DEV479_val_labels[NotA4CorA2CorOther_mask]: {}'.format(seed2_DEV479_val_images[NotA4CorA2CorOther_mask].shape , seed2_DEV479_val_labels[NotA4CorA2CorOther_mask].shape ))\n"
   ]
  },
  {
   "cell_type": "code",
   "execution_count": 11,
   "metadata": {},
   "outputs": [],
   "source": [
    "seed2_DEV479_val_set = {\"images\":seed2_DEV479_val_images[NotA4CorA2CorOther_mask], \"labels\":seed2_DEV479_val_labels[NotA4CorA2CorOther_mask]}\n"
   ]
  },
  {
   "cell_type": "code",
   "execution_count": 12,
   "metadata": {},
   "outputs": [],
   "source": [
    "#save the val set\n",
    "data_seed2_DEV479_valset_path = '/cluster/tufts/hugheslab/zhuang12/SSL_Contamination/realistic-ssl-evaluation-pytorch_RE/ML_DATA/TMED2/unnormalized_HWC/echo/data_seed2/DEV479'\n",
    "# np.save(os.path.join(data_seed2_DEV479_valset_path, 'val.npy'),seed2_DEV479_val_set)\n",
    "save_pickle(data_seed2_DEV479_valset_path, 'val.npy',seed2_DEV479_val_set)\n"
   ]
  },
  {
   "cell_type": "code",
   "execution_count": null,
   "metadata": {},
   "outputs": [],
   "source": []
  },
  {
   "cell_type": "code",
   "execution_count": null,
   "metadata": {},
   "outputs": [],
   "source": []
  },
  {
   "cell_type": "markdown",
   "metadata": {},
   "source": [
    "### DEV165"
   ]
  },
  {
   "cell_type": "code",
   "execution_count": 7,
   "metadata": {},
   "outputs": [],
   "source": [
    "seed2_DEV165_dir = '/cluster/tufts/hugheslab/zhuang12/Echo_ClinicalManualScript_1112/ML_DATA/ViewClassifier/npy_seed2/DEV165'\n"
   ]
  },
  {
   "cell_type": "markdown",
   "metadata": {},
   "source": [
    "#### step1: concatenate the already processed npy file for train set"
   ]
  },
  {
   "cell_type": "code",
   "execution_count": 8,
   "metadata": {},
   "outputs": [],
   "source": [
    "seed2_DEV165_train_A4C_image_path = os.path.join(seed2_DEV165_dir, 'train_A4C_image.npy')\n",
    "seed2_DEV165_train_A4C_label_path = os.path.join(seed2_DEV165_dir, 'train_A4C_label.npy')\n",
    "\n",
    "seed2_DEV165_train_A2C_image_path = os.path.join(seed2_DEV165_dir, 'train_A2C_image.npy')\n",
    "seed2_DEV165_train_A2C_label_path = os.path.join(seed2_DEV165_dir, 'train_A2C_label.npy')\n",
    "\n",
    "seed2_DEV165_train_PLAX_image_path = os.path.join(seed2_DEV165_dir, 'train_PLAX_image.npy')\n",
    "seed2_DEV165_train_PLAX_label_path = os.path.join(seed2_DEV165_dir, 'train_PLAX_label.npy')\n",
    "\n",
    "seed2_DEV165_train_PSAX_image_path = os.path.join(seed2_DEV165_dir, 'train_PSAX_image.npy')\n",
    "seed2_DEV165_train_PSAX_label_path = os.path.join(seed2_DEV165_dir, 'train_PSAX_label.npy')\n",
    "\n"
   ]
  },
  {
   "cell_type": "code",
   "execution_count": 9,
   "metadata": {},
   "outputs": [],
   "source": [
    "seed2_DEV165_train_A4C_images = read_npy(seed2_DEV165_train_A4C_image_path)\n",
    "seed2_DEV165_train_A4C_labels = read_npy(seed2_DEV165_train_A4C_label_path)\n",
    "\n",
    "seed2_DEV165_train_A2C_images = read_npy(seed2_DEV165_train_A2C_image_path)\n",
    "seed2_DEV165_train_A2C_labels = read_npy(seed2_DEV165_train_A2C_label_path)\n",
    "\n",
    "seed2_DEV165_train_PLAX_images = read_npy(seed2_DEV165_train_PLAX_image_path)\n",
    "seed2_DEV165_train_PLAX_labels = read_npy(seed2_DEV165_train_PLAX_label_path)\n",
    "\n",
    "seed2_DEV165_train_PSAX_images = read_npy(seed2_DEV165_train_PSAX_image_path)\n",
    "seed2_DEV165_train_PSAX_labels = read_npy(seed2_DEV165_train_PSAX_label_path)\n"
   ]
  },
  {
   "cell_type": "code",
   "execution_count": 10,
   "metadata": {},
   "outputs": [
    {
     "name": "stdout",
     "output_type": "stream",
     "text": [
      "seed2_DEV165_train_PLAX_images: (1791, 112, 112, 3), seed2_DEV165_train_PLAX_labels: (1791,)\n",
      "seed2_DEV165_train_PSAX_images: (659, 112, 112, 3), seed2_DEV165_train_PSAX_labels: (659,)\n",
      "seed2_DEV165_train_A4C_images: (1192, 112, 112, 3), seed2_DEV165_train_A4C_labels: (1192,)\n",
      "seed2_DEV165_train_A2C_images: (928, 112, 112, 3), seed2_DEV165_train_A2C_labels: (928,)\n"
     ]
    }
   ],
   "source": [
    "print('seed2_DEV165_train_PLAX_images: {}, seed2_DEV165_train_PLAX_labels: {}'.format(seed2_DEV165_train_PLAX_images.shape, seed2_DEV165_train_PLAX_labels.shape))\n",
    "print('seed2_DEV165_train_PSAX_images: {}, seed2_DEV165_train_PSAX_labels: {}'.format(seed2_DEV165_train_PSAX_images.shape, seed2_DEV165_train_PSAX_labels.shape))\n",
    "print('seed2_DEV165_train_A4C_images: {}, seed2_DEV165_train_A4C_labels: {}'.format(seed2_DEV165_train_A4C_images.shape, seed2_DEV165_train_A4C_labels.shape))\n",
    "print('seed2_DEV165_train_A2C_images: {}, seed2_DEV165_train_A2C_labels: {}'.format(seed2_DEV165_train_A2C_images.shape, seed2_DEV165_train_A2C_labels.shape))\n",
    "\n"
   ]
  },
  {
   "cell_type": "code",
   "execution_count": 8,
   "metadata": {},
   "outputs": [],
   "source": [
    "seed2_DEV165_train_images = np.concatenate((seed2_DEV165_train_A4C_images,\\\n",
    "                                            seed2_DEV165_train_A2C_images,\\\n",
    "                                            seed2_DEV165_train_PLAX_images,\\\n",
    "                                            seed2_DEV165_train_PSAX_images), axis=0)\n",
    "\n",
    "seed2_DEV165_train_labels = np.concatenate((seed2_DEV165_train_A4C_labels,\\\n",
    "                                            seed2_DEV165_train_A2C_labels,\\\n",
    "                                            seed2_DEV165_train_PLAX_labels,\\\n",
    "                                            seed2_DEV165_train_PSAX_labels), axis=0)\n"
   ]
  },
  {
   "cell_type": "code",
   "execution_count": 9,
   "metadata": {},
   "outputs": [
    {
     "name": "stdout",
     "output_type": "stream",
     "text": [
      "seed2_DEV165_train_images: (4570, 112, 112, 3), seed2_DEV165_train_labels: (4570,)\n"
     ]
    }
   ],
   "source": [
    "print('seed2_DEV165_train_images: {}, seed2_DEV165_train_labels: {}'.format(seed2_DEV165_train_images.shape, seed2_DEV165_train_labels.shape))\n",
    "\n",
    "assert len(seed2_DEV165_train_images) == len(seed2_DEV165_train_labels) == len(seed2_DEV165_train_A4C_images) + len(seed2_DEV165_train_A2C_images) +\\\n",
    "                                                                           len(seed2_DEV165_train_PLAX_images) + len(seed2_DEV165_train_PSAX_images)\n",
    "\n"
   ]
  },
  {
   "cell_type": "code",
   "execution_count": 10,
   "metadata": {},
   "outputs": [],
   "source": [
    "seed2_DEV165_train_set = {\"images\":seed2_DEV165_train_images, \"labels\":seed2_DEV165_train_labels}\n"
   ]
  },
  {
   "cell_type": "code",
   "execution_count": 11,
   "metadata": {},
   "outputs": [],
   "source": [
    "#save the test set\n",
    "data_seed2_DEV165_trainset_path = '/cluster/tufts/hugheslab/zhuang12/SSL_Contamination/realistic-ssl-evaluation-pytorch_RE/ML_DATA/TMED2/unnormalized_HWC/echo/data_seed2/DEV165'\n",
    "# np.save(os.path.join(data_seed2_DEV165_trainset_path, 'train.npy'), seed2_DEV165_train_set)\n",
    "save_pickle(data_seed2_DEV165_trainset_path, 'train.npy', seed2_DEV165_train_set)\n",
    "\n"
   ]
  },
  {
   "cell_type": "code",
   "execution_count": null,
   "metadata": {},
   "outputs": [],
   "source": []
  },
  {
   "cell_type": "markdown",
   "metadata": {},
   "source": [
    "#### step2: filter out the instance for A4CorA2CorOther from the val set of seed0 DEV479"
   ]
  },
  {
   "cell_type": "code",
   "execution_count": 4,
   "metadata": {},
   "outputs": [],
   "source": [
    "seed2_DEV165_val_image_path = '/cluster/tufts/hugheslab/zhuang12/Echo_ClinicalManualScript_1112/ML_DATA/ViewClassifier/npy_seed2/DEV165/val_image.npy'\n",
    "seed2_DEV165_val_label_path = '/cluster/tufts/hugheslab/zhuang12/Echo_ClinicalManualScript_1112/ML_DATA/ViewClassifier/npy_seed2/DEV165/val_label.npy'\n"
   ]
  },
  {
   "cell_type": "code",
   "execution_count": 5,
   "metadata": {},
   "outputs": [],
   "source": [
    "seed2_DEV165_val_images = read_npy(seed2_DEV165_val_image_path)\n",
    "seed2_DEV165_val_labels = read_npy(seed2_DEV165_val_label_path)"
   ]
  },
  {
   "cell_type": "code",
   "execution_count": 6,
   "metadata": {},
   "outputs": [
    {
     "name": "stdout",
     "output_type": "stream",
     "text": [
      "seed2_DEV165_val_images: (1300, 112, 112, 3), seed2_DEV165_val_labels: (1300,)\n"
     ]
    }
   ],
   "source": [
    "print('seed2_DEV165_val_images: {}, seed2_DEV165_val_labels: {}'.format(seed2_DEV165_val_images.shape , seed2_DEV165_val_labels.shape ))\n"
   ]
  },
  {
   "cell_type": "code",
   "execution_count": 7,
   "metadata": {},
   "outputs": [
    {
     "data": {
      "text/plain": [
       "{0, 1, 2, 3, 4}"
      ]
     },
     "execution_count": 7,
     "metadata": {},
     "output_type": "execute_result"
    }
   ],
   "source": [
    "set(seed2_DEV165_val_labels)"
   ]
  },
  {
   "cell_type": "code",
   "execution_count": 8,
   "metadata": {},
   "outputs": [],
   "source": [
    "NotA4CorA2CorOther_mask = seed2_DEV165_val_labels!=4"
   ]
  },
  {
   "cell_type": "code",
   "execution_count": 9,
   "metadata": {},
   "outputs": [
    {
     "data": {
      "text/plain": [
       "array([ True,  True,  True, ..., False, False, False])"
      ]
     },
     "execution_count": 9,
     "metadata": {},
     "output_type": "execute_result"
    }
   ],
   "source": [
    "NotA4CorA2CorOther_mask"
   ]
  },
  {
   "cell_type": "code",
   "execution_count": 10,
   "metadata": {},
   "outputs": [
    {
     "name": "stdout",
     "output_type": "stream",
     "text": [
      "After filtering out A4CorA2CorOther:\n",
      "seed2_DEV165_val_images[NotA4CorA2CorOther_mask]: (722, 112, 112, 3), seed2_DEV165_val_labels[NotA4CorA2CorOther_mask]: (722,)\n"
     ]
    }
   ],
   "source": [
    "print('After filtering out A4CorA2CorOther:')\n",
    "print('seed2_DEV165_val_images[NotA4CorA2CorOther_mask]: {}, seed2_DEV165_val_labels[NotA4CorA2CorOther_mask]: {}'.format(seed2_DEV165_val_images[NotA4CorA2CorOther_mask].shape , seed2_DEV165_val_labels[NotA4CorA2CorOther_mask].shape ))\n"
   ]
  },
  {
   "cell_type": "code",
   "execution_count": 11,
   "metadata": {},
   "outputs": [],
   "source": [
    "seed2_DEV165_val_set = {\"images\":seed2_DEV165_val_images[NotA4CorA2CorOther_mask], \"labels\":seed2_DEV165_val_labels[NotA4CorA2CorOther_mask]}\n"
   ]
  },
  {
   "cell_type": "code",
   "execution_count": 12,
   "metadata": {},
   "outputs": [],
   "source": [
    "#save the val set\n",
    "data_seed2_DEV165_valset_path = '/cluster/tufts/hugheslab/zhuang12/SSL_Contamination/realistic-ssl-evaluation-pytorch_RE/ML_DATA/TMED2/unnormalized_HWC/echo/data_seed2/DEV165'\n",
    "# np.save(os.path.join(data_seed2_DEV165_valset_path, 'val.npy'),seed2_DEV165_val_set)\n",
    "save_pickle(data_seed2_DEV165_valset_path, 'val.npy',seed2_DEV165_val_set)\n"
   ]
  },
  {
   "cell_type": "code",
   "execution_count": null,
   "metadata": {},
   "outputs": [],
   "source": []
  },
  {
   "cell_type": "code",
   "execution_count": null,
   "metadata": {},
   "outputs": [],
   "source": []
  },
  {
   "cell_type": "markdown",
   "metadata": {},
   "source": [
    "### DEV56"
   ]
  },
  {
   "cell_type": "code",
   "execution_count": 11,
   "metadata": {},
   "outputs": [],
   "source": [
    "seed2_DEV56_dir = '/cluster/tufts/hugheslab/zhuang12/Echo_ClinicalManualScript_1112/ML_DATA/ViewClassifier/npy_seed2/DEV56'\n"
   ]
  },
  {
   "cell_type": "markdown",
   "metadata": {},
   "source": [
    "#### step1: concatenate the already processed npy file for train set"
   ]
  },
  {
   "cell_type": "code",
   "execution_count": 12,
   "metadata": {},
   "outputs": [],
   "source": [
    "\n",
    "seed2_DEV56_train_A4C_image_path = os.path.join(seed2_DEV56_dir, 'train_A4C_image.npy')\n",
    "seed2_DEV56_train_A4C_label_path = os.path.join(seed2_DEV56_dir, 'train_A4C_label.npy')\n",
    "\n",
    "seed2_DEV56_train_A2C_image_path = os.path.join(seed2_DEV56_dir, 'train_A2C_image.npy')\n",
    "seed2_DEV56_train_A2C_label_path = os.path.join(seed2_DEV56_dir, 'train_A2C_label.npy')\n",
    "\n",
    "seed2_DEV56_train_PLAX_image_path = os.path.join(seed2_DEV56_dir, 'train_PLAX_image.npy')\n",
    "seed2_DEV56_train_PLAX_label_path = os.path.join(seed2_DEV56_dir, 'train_PLAX_label.npy')\n",
    "\n",
    "seed2_DEV56_train_PSAX_image_path = os.path.join(seed2_DEV56_dir, 'train_PSAX_image.npy')\n",
    "seed2_DEV56_train_PSAX_label_path = os.path.join(seed2_DEV56_dir, 'train_PSAX_label.npy')\n",
    "\n"
   ]
  },
  {
   "cell_type": "code",
   "execution_count": 13,
   "metadata": {},
   "outputs": [],
   "source": [
    "seed2_DEV56_train_A4C_images = read_npy(seed2_DEV56_train_A4C_image_path)\n",
    "seed2_DEV56_train_A4C_labels = read_npy(seed2_DEV56_train_A4C_label_path)\n",
    "\n",
    "seed2_DEV56_train_A2C_images = read_npy(seed2_DEV56_train_A2C_image_path)\n",
    "seed2_DEV56_train_A2C_labels = read_npy(seed2_DEV56_train_A2C_label_path)\n",
    "\n",
    "seed2_DEV56_train_PLAX_images = read_npy(seed2_DEV56_train_PLAX_image_path)\n",
    "seed2_DEV56_train_PLAX_labels = read_npy(seed2_DEV56_train_PLAX_label_path)\n",
    "\n",
    "seed2_DEV56_train_PSAX_images = read_npy(seed2_DEV56_train_PSAX_image_path)\n",
    "seed2_DEV56_train_PSAX_labels = read_npy(seed2_DEV56_train_PSAX_label_path)\n"
   ]
  },
  {
   "cell_type": "code",
   "execution_count": 14,
   "metadata": {},
   "outputs": [
    {
     "name": "stdout",
     "output_type": "stream",
     "text": [
      "seed2_DEV56_train_PLAX_images: (572, 112, 112, 3), seed2_DEV56_train_PLAX_labels: (572,)\n",
      "seed2_DEV56_train_PSAX_images: (199, 112, 112, 3), seed2_DEV56_train_PSAX_labels: (199,)\n",
      "seed2_DEV56_train_A4C_images: (379, 112, 112, 3), seed2_DEV56_train_A4C_labels: (379,)\n",
      "seed2_DEV56_train_A2C_images: (277, 112, 112, 3), seed2_DEV56_train_A2C_labels: (277,)\n"
     ]
    }
   ],
   "source": [
    "print('seed2_DEV56_train_PLAX_images: {}, seed2_DEV56_train_PLAX_labels: {}'.format(seed2_DEV56_train_PLAX_images.shape, seed2_DEV56_train_PLAX_labels.shape))\n",
    "print('seed2_DEV56_train_PSAX_images: {}, seed2_DEV56_train_PSAX_labels: {}'.format(seed2_DEV56_train_PSAX_images.shape, seed2_DEV56_train_PSAX_labels.shape))\n",
    "print('seed2_DEV56_train_A4C_images: {}, seed2_DEV56_train_A4C_labels: {}'.format(seed2_DEV56_train_A4C_images.shape, seed2_DEV56_train_A4C_labels.shape))\n",
    "print('seed2_DEV56_train_A2C_images: {}, seed2_DEV56_train_A2C_labels: {}'.format(seed2_DEV56_train_A2C_images.shape, seed2_DEV56_train_A2C_labels.shape))\n",
    "\n"
   ]
  },
  {
   "cell_type": "code",
   "execution_count": 8,
   "metadata": {},
   "outputs": [],
   "source": [
    "seed2_DEV56_train_images = np.concatenate((seed2_DEV56_train_A4C_images,\\\n",
    "                                            seed2_DEV56_train_A2C_images,\\\n",
    "                                            seed2_DEV56_train_PLAX_images,\\\n",
    "                                            seed2_DEV56_train_PSAX_images), axis=0)\n",
    "\n",
    "seed2_DEV56_train_labels = np.concatenate((seed2_DEV56_train_A4C_labels,\\\n",
    "                                            seed2_DEV56_train_A2C_labels,\\\n",
    "                                            seed2_DEV56_train_PLAX_labels,\\\n",
    "                                            seed2_DEV56_train_PSAX_labels), axis=0)\n"
   ]
  },
  {
   "cell_type": "code",
   "execution_count": 9,
   "metadata": {},
   "outputs": [
    {
     "name": "stdout",
     "output_type": "stream",
     "text": [
      "seed2_DEV56_train_images: (1427, 112, 112, 3), seed2_DEV56_train_labels: (1427,)\n"
     ]
    }
   ],
   "source": [
    "print('seed2_DEV56_train_images: {}, seed2_DEV56_train_labels: {}'.format(seed2_DEV56_train_images.shape, seed2_DEV56_train_labels.shape))\n",
    "\n",
    "assert len(seed2_DEV56_train_images) == len(seed2_DEV56_train_labels) == len(seed2_DEV56_train_A4C_images) + len(seed2_DEV56_train_A2C_images) +\\\n",
    "                                                                           len(seed2_DEV56_train_PLAX_images) + len(seed2_DEV56_train_PSAX_images)\n",
    "\n",
    "\n"
   ]
  },
  {
   "cell_type": "code",
   "execution_count": 10,
   "metadata": {},
   "outputs": [],
   "source": [
    "seed2_DEV56_train_set = {\"images\":seed2_DEV56_train_images, \"labels\":seed2_DEV56_train_labels}\n"
   ]
  },
  {
   "cell_type": "code",
   "execution_count": 11,
   "metadata": {},
   "outputs": [],
   "source": [
    "#save the test set\n",
    "data_seed2_DEV56_trainset_path = '/cluster/tufts/hugheslab/zhuang12/SSL_Contamination/realistic-ssl-evaluation-pytorch_RE/ML_DATA/TMED2/unnormalized_HWC/echo/data_seed2/DEV56'\n",
    "# np.save(os.path.join(data_seed2_DEV56_trainset_path, 'train.npy'), seed2_DEV56_train_set)\n",
    "save_pickle(data_seed2_DEV56_trainset_path, 'train.npy', seed2_DEV56_train_set)\n",
    "\n"
   ]
  },
  {
   "cell_type": "code",
   "execution_count": null,
   "metadata": {},
   "outputs": [],
   "source": []
  },
  {
   "cell_type": "markdown",
   "metadata": {},
   "source": [
    "#### step2: filter out the instance for A4CorA2CorOther from the val set of seed0 DEV479"
   ]
  },
  {
   "cell_type": "code",
   "execution_count": 4,
   "metadata": {},
   "outputs": [],
   "source": [
    "seed2_DEV56_val_image_path = '/cluster/tufts/hugheslab/zhuang12/Echo_ClinicalManualScript_1112/ML_DATA/ViewClassifier/npy_seed2/DEV56/val_image.npy'\n",
    "seed2_DEV56_val_label_path = '/cluster/tufts/hugheslab/zhuang12/Echo_ClinicalManualScript_1112/ML_DATA/ViewClassifier/npy_seed2/DEV56/val_label.npy'\n"
   ]
  },
  {
   "cell_type": "code",
   "execution_count": 5,
   "metadata": {},
   "outputs": [],
   "source": [
    "seed2_DEV56_val_images = read_npy(seed2_DEV56_val_image_path)\n",
    "seed2_DEV56_val_labels = read_npy(seed2_DEV56_val_label_path)"
   ]
  },
  {
   "cell_type": "code",
   "execution_count": 6,
   "metadata": {},
   "outputs": [
    {
     "name": "stdout",
     "output_type": "stream",
     "text": [
      "seed2_DEV56_val_images: (468, 112, 112, 3), seed2_DEV56_val_labels: (468,)\n"
     ]
    }
   ],
   "source": [
    "print('seed2_DEV56_val_images: {}, seed2_DEV56_val_labels: {}'.format(seed2_DEV56_val_images.shape , seed2_DEV56_val_labels.shape ))\n",
    "\n"
   ]
  },
  {
   "cell_type": "code",
   "execution_count": 7,
   "metadata": {},
   "outputs": [
    {
     "data": {
      "text/plain": [
       "{0, 1, 2, 3, 4}"
      ]
     },
     "execution_count": 7,
     "metadata": {},
     "output_type": "execute_result"
    }
   ],
   "source": [
    "set(seed2_DEV56_val_labels)"
   ]
  },
  {
   "cell_type": "code",
   "execution_count": 8,
   "metadata": {},
   "outputs": [],
   "source": [
    "NotA4CorA2CorOther_mask = seed2_DEV56_val_labels!=4"
   ]
  },
  {
   "cell_type": "code",
   "execution_count": 9,
   "metadata": {},
   "outputs": [
    {
     "data": {
      "text/plain": [
       "array([ True,  True,  True,  True,  True,  True,  True,  True,  True,\n",
       "        True,  True,  True,  True,  True,  True,  True,  True,  True,\n",
       "        True,  True,  True,  True,  True,  True,  True,  True,  True,\n",
       "        True,  True,  True,  True,  True,  True,  True,  True,  True,\n",
       "        True,  True,  True,  True,  True,  True,  True,  True,  True,\n",
       "        True,  True,  True,  True,  True,  True,  True,  True,  True,\n",
       "        True,  True,  True,  True,  True,  True,  True,  True,  True,\n",
       "        True,  True,  True,  True,  True,  True,  True,  True,  True,\n",
       "        True,  True,  True,  True,  True,  True,  True,  True,  True,\n",
       "        True,  True,  True,  True,  True,  True,  True,  True,  True,\n",
       "        True,  True,  True,  True,  True,  True,  True,  True,  True,\n",
       "        True,  True,  True,  True,  True,  True,  True,  True,  True,\n",
       "        True,  True,  True,  True,  True,  True,  True,  True,  True,\n",
       "        True,  True,  True,  True,  True,  True,  True,  True,  True,\n",
       "        True,  True,  True,  True,  True,  True,  True,  True,  True,\n",
       "        True,  True,  True,  True,  True,  True,  True,  True,  True,\n",
       "        True,  True,  True,  True,  True,  True,  True,  True,  True,\n",
       "        True,  True,  True,  True,  True,  True,  True,  True,  True,\n",
       "        True,  True,  True,  True,  True,  True,  True,  True,  True,\n",
       "        True,  True,  True,  True,  True,  True,  True,  True,  True,\n",
       "        True,  True,  True,  True,  True,  True,  True,  True,  True,\n",
       "        True,  True,  True,  True,  True,  True,  True,  True,  True,\n",
       "        True,  True,  True,  True,  True,  True,  True,  True,  True,\n",
       "        True,  True,  True,  True,  True,  True,  True,  True,  True,\n",
       "        True,  True,  True,  True,  True, False, False,  True,  True,\n",
       "        True, False, False, False, False, False, False, False, False,\n",
       "       False, False, False, False, False, False, False, False, False,\n",
       "       False, False, False, False, False, False, False, False, False,\n",
       "       False, False, False, False, False, False, False, False, False,\n",
       "       False,  True,  True,  True,  True,  True,  True,  True,  True,\n",
       "        True, False, False, False,  True,  True,  True,  True,  True,\n",
       "       False, False, False, False, False, False, False, False, False,\n",
       "       False, False, False, False, False, False, False, False, False,\n",
       "       False, False, False, False, False, False, False, False, False,\n",
       "       False, False, False, False, False, False, False, False, False,\n",
       "        True, False, False,  True, False,  True,  True,  True,  True,\n",
       "        True,  True,  True,  True,  True,  True, False, False, False,\n",
       "       False, False, False,  True,  True, False, False, False, False,\n",
       "       False, False, False, False, False, False, False, False, False,\n",
       "       False, False, False, False, False, False, False, False, False,\n",
       "       False, False, False, False, False, False, False, False, False,\n",
       "       False, False, False, False, False, False, False, False, False,\n",
       "       False, False, False, False, False, False, False, False, False,\n",
       "       False, False, False, False, False, False, False, False, False,\n",
       "       False, False, False, False, False, False, False, False, False,\n",
       "       False, False, False, False, False, False, False, False, False,\n",
       "       False, False, False, False, False, False, False, False, False,\n",
       "       False, False, False, False, False, False, False, False, False,\n",
       "       False, False, False, False, False, False, False, False, False,\n",
       "       False, False, False, False, False, False, False, False, False,\n",
       "       False, False, False, False, False, False, False, False, False,\n",
       "       False, False, False, False, False, False, False, False, False])"
      ]
     },
     "execution_count": 9,
     "metadata": {},
     "output_type": "execute_result"
    }
   ],
   "source": [
    "NotA4CorA2CorOther_mask"
   ]
  },
  {
   "cell_type": "code",
   "execution_count": 10,
   "metadata": {},
   "outputs": [
    {
     "name": "stdout",
     "output_type": "stream",
     "text": [
      "After filtering out A4CorA2CorOther:\n",
      "seed2_DEV56_val_images[NotA4CorA2CorOther_mask]: (252, 112, 112, 3), seed2_DEV56_val_labels[NotA4CorA2CorOther_mask]: (252,)\n"
     ]
    }
   ],
   "source": [
    "print('After filtering out A4CorA2CorOther:')\n",
    "print('seed2_DEV56_val_images[NotA4CorA2CorOther_mask]: {}, seed2_DEV56_val_labels[NotA4CorA2CorOther_mask]: {}'.format(seed2_DEV56_val_images[NotA4CorA2CorOther_mask].shape , seed2_DEV56_val_labels[NotA4CorA2CorOther_mask].shape ))\n"
   ]
  },
  {
   "cell_type": "code",
   "execution_count": 11,
   "metadata": {},
   "outputs": [],
   "source": [
    "seed2_DEV56_val_set = {\"images\":seed2_DEV56_val_images[NotA4CorA2CorOther_mask], \"labels\":seed2_DEV56_val_labels[NotA4CorA2CorOther_mask]}\n"
   ]
  },
  {
   "cell_type": "code",
   "execution_count": 12,
   "metadata": {},
   "outputs": [],
   "source": [
    "#save the val set\n",
    "data_seed2_DEV56_valset_path = '/cluster/tufts/hugheslab/zhuang12/SSL_Contamination/realistic-ssl-evaluation-pytorch_RE/ML_DATA/TMED2/unnormalized_HWC/echo/data_seed2/DEV56'\n",
    "# np.save(os.path.join(data_seed2_DEV56_valset_path, 'val.npy'),seed2_DEV56_val_set)\n",
    "save_pickle(data_seed2_DEV56_valset_path, 'val.npy',seed2_DEV56_val_set)\n"
   ]
  },
  {
   "cell_type": "code",
   "execution_count": null,
   "metadata": {},
   "outputs": [],
   "source": []
  }
 ],
 "metadata": {
  "kernelspec": {
   "display_name": "Python 3",
   "language": "python",
   "name": "python3"
  },
  "language_info": {
   "codemirror_mode": {
    "name": "ipython",
    "version": 3
   },
   "file_extension": ".py",
   "mimetype": "text/x-python",
   "name": "python",
   "nbconvert_exporter": "python",
   "pygments_lexer": "ipython3",
   "version": "3.6.13"
  }
 },
 "nbformat": 4,
 "nbformat_minor": 5
}
