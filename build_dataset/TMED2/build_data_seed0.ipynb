{
 "cells": [
  {
   "cell_type": "code",
   "execution_count": 1,
   "id": "1651a850",
   "metadata": {},
   "outputs": [],
   "source": [
    "import numpy as np\n",
    "import pandas as pd\n",
    "import os\n"
   ]
  },
  {
   "cell_type": "code",
   "execution_count": 2,
   "id": "cc9ec4a7",
   "metadata": {},
   "outputs": [],
   "source": [
    "def read_npy(filepath):\n",
    "    with open(filepath, 'rb') as f:\n",
    "        data = np.load(f)\n",
    "    return data"
   ]
  },
  {
   "cell_type": "code",
   "execution_count": 3,
   "id": "420abb69",
   "metadata": {},
   "outputs": [],
   "source": [
    "import pickle\n",
    "\n",
    "def save_pickle(directory, filename, file_to_save):\n",
    "#     make_dir_if_not_exists(directory)\n",
    "    \n",
    "    with open(os.path.join(directory, filename), 'wb') as handle:\n",
    "        pickle.dump(file_to_save, handle, protocol=pickle.HIGHEST_PROTOCOL)"
   ]
  },
  {
   "cell_type": "code",
   "execution_count": null,
   "id": "62152e81",
   "metadata": {},
   "outputs": [],
   "source": []
  },
  {
   "cell_type": "markdown",
   "id": "6e58b927",
   "metadata": {},
   "source": [
    "### All Shared Stanford test set"
   ]
  },
  {
   "cell_type": "code",
   "execution_count": 4,
   "id": "90472dfb",
   "metadata": {},
   "outputs": [],
   "source": [
    "stanford_test_image_path = '/cluster/tufts/hugheslab/zhuang12/Echo_ClinicalManualScript_1112/ML_DATA/stanford_A4C_image.npy'\n",
    "stanford_test_label_path = '/cluster/tufts/hugheslab/zhuang12/Echo_ClinicalManualScript_1112/ML_DATA/stanford_A4C_label.npy'\n"
   ]
  },
  {
   "cell_type": "code",
   "execution_count": 5,
   "id": "cd123a2b",
   "metadata": {},
   "outputs": [],
   "source": [
    "stanford_test_images = read_npy(stanford_test_image_path)\n",
    "stanford_test_labels = read_npy(stanford_test_label_path)\n"
   ]
  },
  {
   "cell_type": "code",
   "execution_count": 6,
   "id": "6dc952e3",
   "metadata": {},
   "outputs": [
    {
     "name": "stdout",
     "output_type": "stream",
     "text": [
      "stanford_test_images: (10030, 112, 112, 3), stanford_test_labels: (10030,)\n"
     ]
    }
   ],
   "source": [
    "print('stanford_test_images: {}, stanford_test_labels: {}'.format(stanford_test_images.shape , stanford_test_labels.shape ))\n"
   ]
  },
  {
   "cell_type": "code",
   "execution_count": 7,
   "id": "92e4d09a",
   "metadata": {},
   "outputs": [
    {
     "data": {
      "text/plain": [
       "{2}"
      ]
     },
     "execution_count": 7,
     "metadata": {},
     "output_type": "execute_result"
    }
   ],
   "source": [
    "set(stanford_test_labels)\n"
   ]
  },
  {
   "cell_type": "code",
   "execution_count": 8,
   "id": "dae6bd68",
   "metadata": {},
   "outputs": [],
   "source": [
    "stanford_test_set = {\"images\":stanford_test_images, \"labels\":stanford_test_labels}\n"
   ]
  },
  {
   "cell_type": "code",
   "execution_count": 9,
   "id": "9dce116c",
   "metadata": {},
   "outputs": [],
   "source": [
    "#save the test set\n",
    "all_shared_stanford_testset_path = '/cluster/tufts/hugheslab/zhuang12/SSL_Contamination/realistic-ssl-evaluation-pytorch_RE/ML_DATA/TMED2/unnormalized_HWC/echo/all_shared_stanford_testset'\n",
    "# np.save(os.path.join(data_seed0_shared_testset_path, 'test.npy'), seed0_test_set)\n",
    "save_pickle(all_shared_stanford_testset_path, 'stanford_A4C.npy', stanford_test_set)\n"
   ]
  },
  {
   "cell_type": "code",
   "execution_count": null,
   "id": "b697bdb7",
   "metadata": {},
   "outputs": [],
   "source": []
  },
  {
   "cell_type": "markdown",
   "id": "4935952c",
   "metadata": {},
   "source": [
    "## Seed0"
   ]
  },
  {
   "cell_type": "markdown",
   "id": "54652877",
   "metadata": {},
   "source": [
    "#### step0: filter out the instance for A4CorA2CorOther from the test set of seed0"
   ]
  },
  {
   "cell_type": "code",
   "execution_count": 4,
   "id": "06d9b027",
   "metadata": {},
   "outputs": [],
   "source": [
    "seed0_test_image_path = '/cluster/tufts/hugheslab/zhuang12/Echo_ClinicalManualScript_1112/ML_DATA/ViewClassifier/npy_seed0/shared_test_this_seed/test_image.npy'\n",
    "seed0_test_label_path = '/cluster/tufts/hugheslab/zhuang12/Echo_ClinicalManualScript_1112/ML_DATA/ViewClassifier/npy_seed0/shared_test_this_seed/test_label.npy'\n"
   ]
  },
  {
   "cell_type": "code",
   "execution_count": 5,
   "id": "a9f6fa3e",
   "metadata": {},
   "outputs": [],
   "source": [
    "seed0_test_images = read_npy(seed0_test_image_path)\n",
    "seed0_test_labels = read_npy(seed0_test_label_path)"
   ]
  },
  {
   "cell_type": "code",
   "execution_count": 6,
   "id": "c7893249",
   "metadata": {},
   "outputs": [
    {
     "name": "stdout",
     "output_type": "stream",
     "text": [
      "seed0_test_images: (3602, 112, 112, 3), seed0_test_labels: (3602,)\n"
     ]
    }
   ],
   "source": [
    "print('seed0_test_images: {}, seed0_test_labels: {}'.format(seed0_test_images.shape , seed0_test_labels.shape ))\n"
   ]
  },
  {
   "cell_type": "code",
   "execution_count": 7,
   "id": "ea3e6c9a",
   "metadata": {},
   "outputs": [
    {
     "data": {
      "text/plain": [
       "{0, 1, 2, 3, 4}"
      ]
     },
     "execution_count": 7,
     "metadata": {},
     "output_type": "execute_result"
    }
   ],
   "source": [
    "set(seed0_test_labels)"
   ]
  },
  {
   "cell_type": "code",
   "execution_count": 8,
   "id": "54c89916",
   "metadata": {},
   "outputs": [
    {
     "data": {
      "text/plain": [
       "array([[[[0, 0, 0],\n",
       "         [1, 1, 1],\n",
       "         [1, 1, 1],\n",
       "         ...,\n",
       "         [0, 0, 0],\n",
       "         [0, 0, 0],\n",
       "         [0, 0, 0]],\n",
       "\n",
       "        [[0, 0, 0],\n",
       "         [0, 0, 0],\n",
       "         [0, 0, 0],\n",
       "         ...,\n",
       "         [0, 0, 0],\n",
       "         [0, 0, 0],\n",
       "         [0, 0, 0]],\n",
       "\n",
       "        [[0, 0, 0],\n",
       "         [0, 0, 0],\n",
       "         [0, 0, 0],\n",
       "         ...,\n",
       "         [1, 1, 1],\n",
       "         [0, 0, 0],\n",
       "         [0, 0, 0]],\n",
       "\n",
       "        ...,\n",
       "\n",
       "        [[0, 0, 0],\n",
       "         [0, 0, 0],\n",
       "         [0, 0, 0],\n",
       "         ...,\n",
       "         [0, 0, 0],\n",
       "         [0, 0, 0],\n",
       "         [0, 0, 0]],\n",
       "\n",
       "        [[0, 0, 0],\n",
       "         [0, 0, 0],\n",
       "         [0, 0, 0],\n",
       "         ...,\n",
       "         [0, 0, 0],\n",
       "         [0, 0, 0],\n",
       "         [0, 0, 0]],\n",
       "\n",
       "        [[0, 0, 0],\n",
       "         [0, 0, 0],\n",
       "         [0, 0, 0],\n",
       "         ...,\n",
       "         [0, 0, 0],\n",
       "         [0, 0, 0],\n",
       "         [0, 0, 0]]],\n",
       "\n",
       "\n",
       "       [[[0, 0, 0],\n",
       "         [1, 1, 1],\n",
       "         [1, 1, 1],\n",
       "         ...,\n",
       "         [0, 0, 0],\n",
       "         [0, 0, 0],\n",
       "         [0, 0, 0]],\n",
       "\n",
       "        [[0, 0, 0],\n",
       "         [0, 0, 0],\n",
       "         [0, 0, 0],\n",
       "         ...,\n",
       "         [0, 0, 0],\n",
       "         [0, 0, 0],\n",
       "         [0, 0, 0]],\n",
       "\n",
       "        [[0, 0, 0],\n",
       "         [0, 0, 0],\n",
       "         [0, 0, 0],\n",
       "         ...,\n",
       "         [1, 1, 1],\n",
       "         [0, 0, 0],\n",
       "         [0, 0, 0]],\n",
       "\n",
       "        ...,\n",
       "\n",
       "        [[0, 0, 0],\n",
       "         [0, 0, 0],\n",
       "         [0, 0, 0],\n",
       "         ...,\n",
       "         [0, 0, 0],\n",
       "         [0, 0, 0],\n",
       "         [0, 0, 0]],\n",
       "\n",
       "        [[0, 0, 0],\n",
       "         [0, 0, 0],\n",
       "         [0, 0, 0],\n",
       "         ...,\n",
       "         [0, 0, 0],\n",
       "         [0, 0, 0],\n",
       "         [0, 0, 0]],\n",
       "\n",
       "        [[0, 0, 0],\n",
       "         [0, 0, 0],\n",
       "         [0, 0, 0],\n",
       "         ...,\n",
       "         [0, 0, 0],\n",
       "         [0, 0, 0],\n",
       "         [0, 0, 0]]],\n",
       "\n",
       "\n",
       "       [[[0, 0, 0],\n",
       "         [1, 1, 1],\n",
       "         [1, 1, 1],\n",
       "         ...,\n",
       "         [0, 0, 0],\n",
       "         [0, 0, 0],\n",
       "         [0, 0, 0]],\n",
       "\n",
       "        [[0, 0, 0],\n",
       "         [0, 0, 0],\n",
       "         [0, 0, 0],\n",
       "         ...,\n",
       "         [0, 0, 0],\n",
       "         [0, 0, 0],\n",
       "         [0, 0, 0]],\n",
       "\n",
       "        [[0, 0, 0],\n",
       "         [0, 0, 0],\n",
       "         [1, 1, 1],\n",
       "         ...,\n",
       "         [1, 1, 1],\n",
       "         [0, 0, 0],\n",
       "         [0, 0, 0]],\n",
       "\n",
       "        ...,\n",
       "\n",
       "        [[0, 0, 0],\n",
       "         [0, 0, 0],\n",
       "         [0, 0, 0],\n",
       "         ...,\n",
       "         [0, 0, 0],\n",
       "         [0, 0, 0],\n",
       "         [0, 0, 0]],\n",
       "\n",
       "        [[0, 0, 0],\n",
       "         [0, 0, 0],\n",
       "         [0, 0, 0],\n",
       "         ...,\n",
       "         [0, 0, 0],\n",
       "         [0, 0, 0],\n",
       "         [0, 0, 0]],\n",
       "\n",
       "        [[0, 0, 0],\n",
       "         [0, 0, 0],\n",
       "         [0, 0, 0],\n",
       "         ...,\n",
       "         [0, 0, 0],\n",
       "         [0, 0, 0],\n",
       "         [0, 0, 0]]],\n",
       "\n",
       "\n",
       "       ...,\n",
       "\n",
       "\n",
       "       [[[0, 0, 0],\n",
       "         [0, 0, 0],\n",
       "         [0, 0, 0],\n",
       "         ...,\n",
       "         [0, 0, 0],\n",
       "         [0, 0, 0],\n",
       "         [0, 0, 0]],\n",
       "\n",
       "        [[0, 0, 0],\n",
       "         [0, 0, 0],\n",
       "         [0, 0, 0],\n",
       "         ...,\n",
       "         [0, 0, 0],\n",
       "         [0, 0, 0],\n",
       "         [0, 0, 0]],\n",
       "\n",
       "        [[0, 0, 0],\n",
       "         [0, 0, 0],\n",
       "         [0, 0, 0],\n",
       "         ...,\n",
       "         [0, 0, 0],\n",
       "         [0, 0, 0],\n",
       "         [0, 0, 0]],\n",
       "\n",
       "        ...,\n",
       "\n",
       "        [[0, 0, 0],\n",
       "         [0, 0, 0],\n",
       "         [0, 0, 0],\n",
       "         ...,\n",
       "         [0, 0, 0],\n",
       "         [0, 0, 0],\n",
       "         [0, 0, 0]],\n",
       "\n",
       "        [[0, 0, 0],\n",
       "         [0, 0, 0],\n",
       "         [0, 0, 0],\n",
       "         ...,\n",
       "         [0, 0, 0],\n",
       "         [0, 0, 0],\n",
       "         [0, 0, 0]],\n",
       "\n",
       "        [[0, 0, 0],\n",
       "         [0, 0, 0],\n",
       "         [0, 0, 0],\n",
       "         ...,\n",
       "         [0, 0, 0],\n",
       "         [0, 0, 0],\n",
       "         [0, 0, 0]]],\n",
       "\n",
       "\n",
       "       [[[0, 0, 0],\n",
       "         [1, 1, 1],\n",
       "         [1, 1, 1],\n",
       "         ...,\n",
       "         [0, 0, 0],\n",
       "         [0, 0, 0],\n",
       "         [0, 0, 0]],\n",
       "\n",
       "        [[0, 0, 0],\n",
       "         [0, 0, 0],\n",
       "         [0, 0, 0],\n",
       "         ...,\n",
       "         [0, 0, 0],\n",
       "         [0, 0, 0],\n",
       "         [0, 0, 0]],\n",
       "\n",
       "        [[0, 0, 0],\n",
       "         [0, 0, 0],\n",
       "         [0, 0, 0],\n",
       "         ...,\n",
       "         [1, 1, 1],\n",
       "         [0, 0, 0],\n",
       "         [0, 0, 0]],\n",
       "\n",
       "        ...,\n",
       "\n",
       "        [[0, 0, 0],\n",
       "         [0, 0, 0],\n",
       "         [0, 0, 0],\n",
       "         ...,\n",
       "         [0, 0, 0],\n",
       "         [0, 0, 0],\n",
       "         [0, 0, 0]],\n",
       "\n",
       "        [[0, 0, 0],\n",
       "         [0, 0, 0],\n",
       "         [0, 0, 0],\n",
       "         ...,\n",
       "         [0, 0, 0],\n",
       "         [0, 0, 0],\n",
       "         [0, 0, 0]],\n",
       "\n",
       "        [[0, 0, 0],\n",
       "         [0, 0, 0],\n",
       "         [0, 0, 0],\n",
       "         ...,\n",
       "         [0, 0, 0],\n",
       "         [0, 0, 0],\n",
       "         [0, 0, 0]]],\n",
       "\n",
       "\n",
       "       [[[0, 0, 0],\n",
       "         [0, 0, 0],\n",
       "         [0, 0, 0],\n",
       "         ...,\n",
       "         [0, 0, 0],\n",
       "         [0, 0, 0],\n",
       "         [0, 0, 0]],\n",
       "\n",
       "        [[0, 0, 0],\n",
       "         [0, 0, 0],\n",
       "         [0, 0, 0],\n",
       "         ...,\n",
       "         [0, 0, 0],\n",
       "         [0, 0, 0],\n",
       "         [0, 0, 0]],\n",
       "\n",
       "        [[0, 0, 0],\n",
       "         [0, 0, 0],\n",
       "         [0, 0, 0],\n",
       "         ...,\n",
       "         [0, 0, 0],\n",
       "         [0, 0, 0],\n",
       "         [0, 0, 0]],\n",
       "\n",
       "        ...,\n",
       "\n",
       "        [[0, 0, 0],\n",
       "         [0, 0, 0],\n",
       "         [0, 0, 0],\n",
       "         ...,\n",
       "         [0, 0, 0],\n",
       "         [0, 0, 0],\n",
       "         [0, 0, 0]],\n",
       "\n",
       "        [[0, 0, 0],\n",
       "         [0, 0, 0],\n",
       "         [0, 0, 0],\n",
       "         ...,\n",
       "         [0, 0, 0],\n",
       "         [0, 0, 0],\n",
       "         [0, 0, 0]],\n",
       "\n",
       "        [[0, 0, 0],\n",
       "         [0, 0, 0],\n",
       "         [0, 0, 0],\n",
       "         ...,\n",
       "         [0, 0, 0],\n",
       "         [0, 0, 0],\n",
       "         [0, 0, 0]]]], dtype=uint8)"
      ]
     },
     "execution_count": 8,
     "metadata": {},
     "output_type": "execute_result"
    }
   ],
   "source": [
    "seed0_test_images"
   ]
  },
  {
   "cell_type": "code",
   "execution_count": 10,
   "id": "0a9f86b3",
   "metadata": {},
   "outputs": [
    {
     "data": {
      "text/plain": [
       "array([0, 0, 0, ..., 4, 4, 4])"
      ]
     },
     "execution_count": 10,
     "metadata": {},
     "output_type": "execute_result"
    }
   ],
   "source": [
    "seed0_test_labels"
   ]
  },
  {
   "cell_type": "code",
   "execution_count": 9,
   "id": "32af2823",
   "metadata": {},
   "outputs": [
    {
     "data": {
      "text/plain": [
       "array([0, 0, 0, ..., 4, 4, 4])"
      ]
     },
     "execution_count": 9,
     "metadata": {},
     "output_type": "execute_result"
    }
   ],
   "source": [
    "seed0_test_labels"
   ]
  },
  {
   "cell_type": "code",
   "execution_count": 8,
   "id": "cf12b82b",
   "metadata": {},
   "outputs": [],
   "source": [
    "NotA4CorA2CorOther_mask = seed0_test_labels!=4"
   ]
  },
  {
   "cell_type": "code",
   "execution_count": 9,
   "id": "bacf623b",
   "metadata": {},
   "outputs": [
    {
     "data": {
      "text/plain": [
       "array([ True,  True,  True, ..., False, False, False])"
      ]
     },
     "execution_count": 9,
     "metadata": {},
     "output_type": "execute_result"
    }
   ],
   "source": [
    "NotA4CorA2CorOther_mask"
   ]
  },
  {
   "cell_type": "code",
   "execution_count": 10,
   "id": "cda664df",
   "metadata": {},
   "outputs": [
    {
     "name": "stdout",
     "output_type": "stream",
     "text": [
      "After filtering out A4CorA2CorOther:\n",
      "seed0_test_images[NotA4CorA2CorOther_mask]: (2104, 112, 112, 3), seed0_test_labels[NotA4CorA2CorOther_mask]: (2104,)\n"
     ]
    }
   ],
   "source": [
    "print('After filtering out A4CorA2CorOther:')\n",
    "print('seed0_test_images[NotA4CorA2CorOther_mask]: {}, seed0_test_labels[NotA4CorA2CorOther_mask]: {}'.format(seed0_test_images[NotA4CorA2CorOther_mask].shape , seed0_test_labels[NotA4CorA2CorOther_mask].shape ))\n"
   ]
  },
  {
   "cell_type": "code",
   "execution_count": 11,
   "id": "2cea115f",
   "metadata": {},
   "outputs": [],
   "source": [
    "seed0_test_set = {\"images\":seed0_test_images[NotA4CorA2CorOther_mask], \"labels\":seed0_test_labels[NotA4CorA2CorOther_mask]}\n"
   ]
  },
  {
   "cell_type": "code",
   "execution_count": 12,
   "id": "4a30fd1b",
   "metadata": {},
   "outputs": [],
   "source": [
    "#save the test set\n",
    "data_seed0_shared_testset_path = '/cluster/tufts/hugheslab/zhuang12/SSL_Contamination/realistic-ssl-evaluation-pytorch_RE/ML_DATA/TMED2/unnormalized_HWC/echo/data_seed0/this_seed_shared_testset'\n",
    "# np.save(os.path.join(data_seed0_shared_testset_path, 'test.npy'), seed0_test_set)\n",
    "save_pickle(data_seed0_shared_testset_path, 'test.npy', seed0_test_set)\n"
   ]
  },
  {
   "cell_type": "code",
   "execution_count": null,
   "id": "adc5343f",
   "metadata": {},
   "outputs": [],
   "source": []
  },
  {
   "cell_type": "code",
   "execution_count": null,
   "id": "8feda5cf",
   "metadata": {},
   "outputs": [],
   "source": []
  },
  {
   "cell_type": "markdown",
   "id": "87b98ce0",
   "metadata": {},
   "source": [
    "### DEV479"
   ]
  },
  {
   "cell_type": "code",
   "execution_count": 3,
   "id": "66469714",
   "metadata": {},
   "outputs": [],
   "source": [
    "seed0_DEV479_dir = '/cluster/tufts/hugheslab/zhuang12/Echo_ClinicalManualScript_1112/ML_DATA/ViewClassifier/npy_seed0/DEV479'\n"
   ]
  },
  {
   "cell_type": "markdown",
   "id": "bfa27a1b",
   "metadata": {},
   "source": [
    "#### step1: concatenate the already processed npy file for train set"
   ]
  },
  {
   "cell_type": "code",
   "execution_count": 4,
   "id": "281cd5a3",
   "metadata": {},
   "outputs": [],
   "source": [
    "\n",
    "seed0_DEV479_train_A4C_image_path = os.path.join(seed0_DEV479_dir, 'train_A4C_image.npy')\n",
    "seed0_DEV479_train_A4C_label_path = os.path.join(seed0_DEV479_dir, 'train_A4C_label.npy')\n",
    "\n",
    "seed0_DEV479_train_A2C_image_path = os.path.join(seed0_DEV479_dir, 'train_A2C_image.npy')\n",
    "seed0_DEV479_train_A2C_label_path = os.path.join(seed0_DEV479_dir, 'train_A2C_label.npy')\n",
    "\n",
    "seed0_DEV479_train_PLAX_image_path = os.path.join(seed0_DEV479_dir, 'train_PLAX_image.npy')\n",
    "seed0_DEV479_train_PLAX_label_path = os.path.join(seed0_DEV479_dir, 'train_PLAX_label.npy')\n",
    "\n",
    "seed0_DEV479_train_PSAX_image_path = os.path.join(seed0_DEV479_dir, 'train_PSAX_image.npy')\n",
    "seed0_DEV479_train_PSAX_label_path = os.path.join(seed0_DEV479_dir, 'train_PSAX_label.npy')\n",
    "\n"
   ]
  },
  {
   "cell_type": "code",
   "execution_count": 5,
   "id": "24bfb4f6",
   "metadata": {},
   "outputs": [],
   "source": [
    "seed0_DEV479_train_A4C_images = read_npy(seed0_DEV479_train_A4C_image_path)\n",
    "seed0_DEV479_train_A4C_labels = read_npy(seed0_DEV479_train_A4C_label_path)\n",
    "\n",
    "seed0_DEV479_train_A2C_images = read_npy(seed0_DEV479_train_A2C_image_path)\n",
    "seed0_DEV479_train_A2C_labels = read_npy(seed0_DEV479_train_A2C_label_path)\n",
    "\n",
    "seed0_DEV479_train_PLAX_images = read_npy(seed0_DEV479_train_PLAX_image_path)\n",
    "seed0_DEV479_train_PLAX_labels = read_npy(seed0_DEV479_train_PLAX_label_path)\n",
    "\n",
    "seed0_DEV479_train_PSAX_images = read_npy(seed0_DEV479_train_PSAX_image_path)\n",
    "seed0_DEV479_train_PSAX_labels = read_npy(seed0_DEV479_train_PSAX_label_path)\n"
   ]
  },
  {
   "cell_type": "code",
   "execution_count": 6,
   "id": "9eaba4f0",
   "metadata": {},
   "outputs": [
    {
     "name": "stdout",
     "output_type": "stream",
     "text": [
      "seed0_DEV479_train_PLAX_images: (5413, 112, 112, 3), seed0_DEV479_train_PLAX_labels: (5413,)\n",
      "seed0_DEV479_train_PSAX_images: (2002, 112, 112, 3), seed0_DEV479_train_PSAX_labels: (2002,)\n",
      "seed0_DEV479_train_A4C_images: (3750, 112, 112, 3), seed0_DEV479_train_A4C_labels: (3750,)\n",
      "seed0_DEV479_train_A2C_images: (2827, 112, 112, 3), seed0_DEV479_train_A2C_labels: (2827,)\n"
     ]
    }
   ],
   "source": [
    "print('seed0_DEV479_train_PLAX_images: {}, seed0_DEV479_train_PLAX_labels: {}'.format(seed0_DEV479_train_PLAX_images.shape, seed0_DEV479_train_PLAX_labels.shape))\n",
    "print('seed0_DEV479_train_PSAX_images: {}, seed0_DEV479_train_PSAX_labels: {}'.format(seed0_DEV479_train_PSAX_images.shape, seed0_DEV479_train_PSAX_labels.shape))\n",
    "print('seed0_DEV479_train_A4C_images: {}, seed0_DEV479_train_A4C_labels: {}'.format(seed0_DEV479_train_A4C_images.shape, seed0_DEV479_train_A4C_labels.shape))\n",
    "print('seed0_DEV479_train_A2C_images: {}, seed0_DEV479_train_A2C_labels: {}'.format(seed0_DEV479_train_A2C_images.shape, seed0_DEV479_train_A2C_labels.shape))\n",
    "\n"
   ]
  },
  {
   "cell_type": "code",
   "execution_count": 8,
   "id": "cee65942",
   "metadata": {},
   "outputs": [],
   "source": [
    "seed0_DEV479_train_images = np.concatenate((seed0_DEV479_train_A4C_images,\\\n",
    "                                            seed0_DEV479_train_A2C_images,\\\n",
    "                                            seed0_DEV479_train_PLAX_images,\\\n",
    "                                            seed0_DEV479_train_PSAX_images), axis=0)\n",
    "\n",
    "seed0_DEV479_train_labels = np.concatenate((seed0_DEV479_train_A4C_labels,\\\n",
    "                                            seed0_DEV479_train_A2C_labels,\\\n",
    "                                            seed0_DEV479_train_PLAX_labels,\\\n",
    "                                            seed0_DEV479_train_PSAX_labels), axis=0)\n"
   ]
  },
  {
   "cell_type": "code",
   "execution_count": 9,
   "id": "7d382cff",
   "metadata": {},
   "outputs": [
    {
     "name": "stdout",
     "output_type": "stream",
     "text": [
      "seed0_DEV479_train_images: (13992, 112, 112, 3), seed0_DEV479_train_labels: (13992,)\n"
     ]
    }
   ],
   "source": [
    "print('seed0_DEV479_train_images: {}, seed0_DEV479_train_labels: {}'.format(seed0_DEV479_train_images.shape, seed0_DEV479_train_labels.shape))\n",
    "\n",
    "assert len(seed0_DEV479_train_images) == len(seed0_DEV479_train_labels) == len(seed0_DEV479_train_A4C_images) + len(seed0_DEV479_train_A2C_images) +\\\n",
    "                                                                           len(seed0_DEV479_train_PLAX_images) + len(seed0_DEV479_train_PSAX_images)\n",
    "\n"
   ]
  },
  {
   "cell_type": "code",
   "execution_count": 10,
   "id": "4020b77c",
   "metadata": {},
   "outputs": [],
   "source": [
    "seed0_DEV479_train_set = {\"images\":seed0_DEV479_train_images, \"labels\":seed0_DEV479_train_labels}\n"
   ]
  },
  {
   "cell_type": "code",
   "execution_count": 11,
   "id": "bad2e852",
   "metadata": {},
   "outputs": [],
   "source": [
    "#save the test set\n",
    "data_seed0_DEV479_trainset_path = '/cluster/tufts/hugheslab/zhuang12/SSL_Contamination/realistic-ssl-evaluation-pytorch_RE/ML_DATA/TMED2/unnormalized_HWC/echo/data_seed0/DEV479'\n",
    "# np.save(os.path.join(data_seed0_DEV479_trainset_path, 'train.npy'), seed0_DEV479_train_set)\n",
    "save_pickle(data_seed0_DEV479_trainset_path, 'train.npy', seed0_DEV479_train_set)\n"
   ]
  },
  {
   "cell_type": "code",
   "execution_count": null,
   "id": "2031d90b",
   "metadata": {},
   "outputs": [],
   "source": []
  },
  {
   "cell_type": "markdown",
   "id": "6d39f099",
   "metadata": {},
   "source": [
    "#### step2: filter out the instance for A4CorA2CorOther from the val set of seed0 DEV479"
   ]
  },
  {
   "cell_type": "code",
   "execution_count": 4,
   "id": "57b55723",
   "metadata": {},
   "outputs": [],
   "source": [
    "seed0_DEV479_val_image_path = '/cluster/tufts/hugheslab/zhuang12/Echo_ClinicalManualScript_1112/ML_DATA/ViewClassifier/npy_seed0/DEV479/val_image.npy'\n",
    "seed0_DEV479_val_label_path = '/cluster/tufts/hugheslab/zhuang12/Echo_ClinicalManualScript_1112/ML_DATA/ViewClassifier/npy_seed0/DEV479/val_label.npy'\n"
   ]
  },
  {
   "cell_type": "code",
   "execution_count": 5,
   "id": "7384f146",
   "metadata": {},
   "outputs": [],
   "source": [
    "seed0_DEV479_val_images = read_npy(seed0_DEV479_val_image_path)\n",
    "seed0_DEV479_val_labels = read_npy(seed0_DEV479_val_label_path)"
   ]
  },
  {
   "cell_type": "code",
   "execution_count": 6,
   "id": "82bc59dc",
   "metadata": {},
   "outputs": [
    {
     "name": "stdout",
     "output_type": "stream",
     "text": [
      "seed0_DEV479_val_images: (3602, 112, 112, 3), seed0_DEV479_val_labels: (3602,)\n"
     ]
    }
   ],
   "source": [
    "print('seed0_DEV479_val_images: {}, seed0_DEV479_val_labels: {}'.format(seed0_DEV479_val_images.shape , seed0_DEV479_val_labels.shape ))\n",
    " "
   ]
  },
  {
   "cell_type": "code",
   "execution_count": 7,
   "id": "055035c0",
   "metadata": {},
   "outputs": [
    {
     "data": {
      "text/plain": [
       "{0, 1, 2, 3, 4}"
      ]
     },
     "execution_count": 7,
     "metadata": {},
     "output_type": "execute_result"
    }
   ],
   "source": [
    "set(seed0_DEV479_val_labels)"
   ]
  },
  {
   "cell_type": "code",
   "execution_count": 8,
   "id": "ad1b0703",
   "metadata": {},
   "outputs": [],
   "source": [
    "NotA4CorA2CorOther_mask = seed0_DEV479_val_labels!=4"
   ]
  },
  {
   "cell_type": "code",
   "execution_count": 9,
   "id": "9df36c33",
   "metadata": {},
   "outputs": [
    {
     "data": {
      "text/plain": [
       "array([ True,  True,  True, ..., False, False, False])"
      ]
     },
     "execution_count": 9,
     "metadata": {},
     "output_type": "execute_result"
    }
   ],
   "source": [
    "NotA4CorA2CorOther_mask"
   ]
  },
  {
   "cell_type": "code",
   "execution_count": 10,
   "id": "24240d3c",
   "metadata": {},
   "outputs": [
    {
     "name": "stdout",
     "output_type": "stream",
     "text": [
      "After filtering out A4CorA2CorOther:\n",
      "seed0_DEV479_val_images[NotA4CorA2CorOther_mask]: (2007, 112, 112, 3), seed0_DEV479_val_labels[NotA4CorA2CorOther_mask]: (2007,)\n"
     ]
    }
   ],
   "source": [
    "print('After filtering out A4CorA2CorOther:')\n",
    "print('seed0_DEV479_val_images[NotA4CorA2CorOther_mask]: {}, seed0_DEV479_val_labels[NotA4CorA2CorOther_mask]: {}'.format(seed0_DEV479_val_images[NotA4CorA2CorOther_mask].shape , seed0_DEV479_val_labels[NotA4CorA2CorOther_mask].shape ))\n"
   ]
  },
  {
   "cell_type": "code",
   "execution_count": 11,
   "id": "3e8441e8",
   "metadata": {},
   "outputs": [],
   "source": [
    "seed0_DEV479_val_set = {\"images\":seed0_DEV479_val_images[NotA4CorA2CorOther_mask], \"labels\":seed0_DEV479_val_labels[NotA4CorA2CorOther_mask]}\n"
   ]
  },
  {
   "cell_type": "code",
   "execution_count": 12,
   "id": "b9ccb580",
   "metadata": {},
   "outputs": [],
   "source": [
    "#save the val set\n",
    "data_seed0_DEV479_valset_path = '/cluster/tufts/hugheslab/zhuang12/SSL_Contamination/realistic-ssl-evaluation-pytorch_RE/ML_DATA/TMED2/unnormalized_HWC/echo/data_seed0/DEV479'\n",
    "# np.save(os.path.join(data_seed0_DEV479_valset_path, 'val.npy'),seed0_DEV479_val_set)\n",
    "save_pickle(data_seed0_DEV479_valset_path, 'val.npy', seed0_DEV479_val_set)\n",
    "\n"
   ]
  },
  {
   "cell_type": "code",
   "execution_count": null,
   "id": "dea31a0b",
   "metadata": {},
   "outputs": [],
   "source": []
  },
  {
   "cell_type": "code",
   "execution_count": null,
   "id": "888a0d76",
   "metadata": {},
   "outputs": [],
   "source": []
  },
  {
   "cell_type": "markdown",
   "id": "7c552647",
   "metadata": {},
   "source": [
    "### DEV165"
   ]
  },
  {
   "cell_type": "code",
   "execution_count": 7,
   "id": "ff0920d2",
   "metadata": {},
   "outputs": [],
   "source": [
    "seed0_DEV165_dir = '/cluster/tufts/hugheslab/zhuang12/Echo_ClinicalManualScript_1112/ML_DATA/ViewClassifier/npy_seed0/DEV165'\n"
   ]
  },
  {
   "cell_type": "markdown",
   "id": "da8cba51",
   "metadata": {},
   "source": [
    "#### step1: concatenate the already processed npy file for train set"
   ]
  },
  {
   "cell_type": "code",
   "execution_count": 8,
   "id": "f27ba91a",
   "metadata": {},
   "outputs": [],
   "source": [
    "\n",
    "seed0_DEV165_train_A4C_image_path = os.path.join(seed0_DEV165_dir, 'train_A4C_image.npy')\n",
    "seed0_DEV165_train_A4C_label_path = os.path.join(seed0_DEV165_dir, 'train_A4C_label.npy')\n",
    "\n",
    "seed0_DEV165_train_A2C_image_path = os.path.join(seed0_DEV165_dir, 'train_A2C_image.npy')\n",
    "seed0_DEV165_train_A2C_label_path = os.path.join(seed0_DEV165_dir, 'train_A2C_label.npy')\n",
    "\n",
    "seed0_DEV165_train_PLAX_image_path = os.path.join(seed0_DEV165_dir, 'train_PLAX_image.npy')\n",
    "seed0_DEV165_train_PLAX_label_path = os.path.join(seed0_DEV165_dir, 'train_PLAX_label.npy')\n",
    "\n",
    "seed0_DEV165_train_PSAX_image_path = os.path.join(seed0_DEV165_dir, 'train_PSAX_image.npy')\n",
    "seed0_DEV165_train_PSAX_label_path = os.path.join(seed0_DEV165_dir, 'train_PSAX_label.npy')\n",
    "\n"
   ]
  },
  {
   "cell_type": "code",
   "execution_count": 9,
   "id": "aa5e9be1",
   "metadata": {},
   "outputs": [],
   "source": [
    "seed0_DEV165_train_A4C_images = read_npy(seed0_DEV165_train_A4C_image_path)\n",
    "seed0_DEV165_train_A4C_labels = read_npy(seed0_DEV165_train_A4C_label_path)\n",
    "\n",
    "seed0_DEV165_train_A2C_images = read_npy(seed0_DEV165_train_A2C_image_path)\n",
    "seed0_DEV165_train_A2C_labels = read_npy(seed0_DEV165_train_A2C_label_path)\n",
    "\n",
    "seed0_DEV165_train_PLAX_images = read_npy(seed0_DEV165_train_PLAX_image_path)\n",
    "seed0_DEV165_train_PLAX_labels = read_npy(seed0_DEV165_train_PLAX_label_path)\n",
    "\n",
    "seed0_DEV165_train_PSAX_images = read_npy(seed0_DEV165_train_PSAX_image_path)\n",
    "seed0_DEV165_train_PSAX_labels = read_npy(seed0_DEV165_train_PSAX_label_path)\n"
   ]
  },
  {
   "cell_type": "code",
   "execution_count": 10,
   "id": "a7b67b76",
   "metadata": {},
   "outputs": [
    {
     "name": "stdout",
     "output_type": "stream",
     "text": [
      "seed0_DEV165_train_PLAX_images: (1867, 112, 112, 3), seed0_DEV165_train_PLAX_labels: (1867,)\n",
      "seed0_DEV165_train_PSAX_images: (698, 112, 112, 3), seed0_DEV165_train_PSAX_labels: (698,)\n",
      "seed0_DEV165_train_A4C_images: (1281, 112, 112, 3), seed0_DEV165_train_A4C_labels: (1281,)\n",
      "seed0_DEV165_train_A2C_images: (950, 112, 112, 3), seed0_DEV165_train_A2C_labels: (950,)\n"
     ]
    }
   ],
   "source": [
    "print('seed0_DEV165_train_PLAX_images: {}, seed0_DEV165_train_PLAX_labels: {}'.format(seed0_DEV165_train_PLAX_images.shape, seed0_DEV165_train_PLAX_labels.shape))\n",
    "print('seed0_DEV165_train_PSAX_images: {}, seed0_DEV165_train_PSAX_labels: {}'.format(seed0_DEV165_train_PSAX_images.shape, seed0_DEV165_train_PSAX_labels.shape))\n",
    "print('seed0_DEV165_train_A4C_images: {}, seed0_DEV165_train_A4C_labels: {}'.format(seed0_DEV165_train_A4C_images.shape, seed0_DEV165_train_A4C_labels.shape))\n",
    "print('seed0_DEV165_train_A2C_images: {}, seed0_DEV165_train_A2C_labels: {}'.format(seed0_DEV165_train_A2C_images.shape, seed0_DEV165_train_A2C_labels.shape))\n"
   ]
  },
  {
   "cell_type": "code",
   "execution_count": 8,
   "id": "a5a7daef",
   "metadata": {},
   "outputs": [],
   "source": [
    "seed0_DEV165_train_images = np.concatenate((seed0_DEV165_train_A4C_images,\\\n",
    "                                            seed0_DEV165_train_A2C_images,\\\n",
    "                                            seed0_DEV165_train_PLAX_images,\\\n",
    "                                            seed0_DEV165_train_PSAX_images), axis=0)\n",
    "\n",
    "seed0_DEV165_train_labels = np.concatenate((seed0_DEV165_train_A4C_labels,\\\n",
    "                                            seed0_DEV165_train_A2C_labels,\\\n",
    "                                            seed0_DEV165_train_PLAX_labels,\\\n",
    "                                            seed0_DEV165_train_PSAX_labels), axis=0)\n"
   ]
  },
  {
   "cell_type": "code",
   "execution_count": 9,
   "id": "f7e3c7e6",
   "metadata": {},
   "outputs": [
    {
     "name": "stdout",
     "output_type": "stream",
     "text": [
      "seed0_DEV165_train_images: (4796, 112, 112, 3), seed0_DEV165_train_labels: (4796,)\n"
     ]
    }
   ],
   "source": [
    "print('seed0_DEV165_train_images: {}, seed0_DEV165_train_labels: {}'.format(seed0_DEV165_train_images.shape, seed0_DEV165_train_labels.shape))\n",
    "\n",
    "assert len(seed0_DEV165_train_images) == len(seed0_DEV165_train_labels) == len(seed0_DEV165_train_A4C_images) + len(seed0_DEV165_train_A2C_images) +\\\n",
    "                                                                           len(seed0_DEV165_train_PLAX_images) + len(seed0_DEV165_train_PSAX_images)\n",
    "\n"
   ]
  },
  {
   "cell_type": "code",
   "execution_count": 10,
   "id": "a2f8e9f0",
   "metadata": {},
   "outputs": [],
   "source": [
    "seed0_DEV165_train_set = {\"images\":seed0_DEV165_train_images, \"labels\":seed0_DEV165_train_labels}\n"
   ]
  },
  {
   "cell_type": "code",
   "execution_count": 11,
   "id": "14e19fc6",
   "metadata": {},
   "outputs": [],
   "source": [
    "#save the test set\n",
    "data_seed0_DEV165_trainset_path = '/cluster/tufts/hugheslab/zhuang12/SSL_Contamination/realistic-ssl-evaluation-pytorch_RE/ML_DATA/TMED2/unnormalized_HWC/echo/data_seed0/DEV165'\n",
    "# np.save(os.path.join(data_seed0_DEV165_trainset_path, 'train.npy'), seed0_DEV165_train_set)\n",
    "save_pickle(data_seed0_DEV165_trainset_path, 'train.npy', seed0_DEV165_train_set)\n"
   ]
  },
  {
   "cell_type": "code",
   "execution_count": null,
   "id": "fd4a13ca",
   "metadata": {},
   "outputs": [],
   "source": []
  },
  {
   "cell_type": "markdown",
   "id": "e65c9780",
   "metadata": {},
   "source": [
    "#### step2: filter out the instance for A4CorA2CorOther from the val set of seed0 DEV479"
   ]
  },
  {
   "cell_type": "code",
   "execution_count": 4,
   "id": "53888f5e",
   "metadata": {},
   "outputs": [],
   "source": [
    "seed0_DEV165_val_image_path = '/cluster/tufts/hugheslab/zhuang12/Echo_ClinicalManualScript_1112/ML_DATA/ViewClassifier/npy_seed0/DEV165/val_image.npy'\n",
    "seed0_DEV165_val_label_path = '/cluster/tufts/hugheslab/zhuang12/Echo_ClinicalManualScript_1112/ML_DATA/ViewClassifier/npy_seed0/DEV165/val_label.npy'\n"
   ]
  },
  {
   "cell_type": "code",
   "execution_count": 5,
   "id": "595b800d",
   "metadata": {},
   "outputs": [],
   "source": [
    "seed0_DEV165_val_images = read_npy(seed0_DEV165_val_image_path)\n",
    "seed0_DEV165_val_labels = read_npy(seed0_DEV165_val_label_path)"
   ]
  },
  {
   "cell_type": "code",
   "execution_count": 6,
   "id": "ccf23058",
   "metadata": {},
   "outputs": [
    {
     "name": "stdout",
     "output_type": "stream",
     "text": [
      "seed0_DEV165_val_images: (1274, 112, 112, 3), seed0_DEV165_val_labels: (1274,)\n"
     ]
    }
   ],
   "source": [
    "print('seed0_DEV165_val_images: {}, seed0_DEV165_val_labels: {}'.format(seed0_DEV165_val_images.shape , seed0_DEV165_val_labels.shape ))\n",
    "\n"
   ]
  },
  {
   "cell_type": "code",
   "execution_count": 7,
   "id": "9b297da6",
   "metadata": {},
   "outputs": [
    {
     "data": {
      "text/plain": [
       "{0, 1, 2, 3, 4}"
      ]
     },
     "execution_count": 7,
     "metadata": {},
     "output_type": "execute_result"
    }
   ],
   "source": [
    "set(seed0_DEV165_val_labels)"
   ]
  },
  {
   "cell_type": "code",
   "execution_count": 8,
   "id": "df3d7ae4",
   "metadata": {},
   "outputs": [],
   "source": [
    "NotA4CorA2CorOther_mask = seed0_DEV165_val_labels!=4"
   ]
  },
  {
   "cell_type": "code",
   "execution_count": 9,
   "id": "b68bd0dd",
   "metadata": {},
   "outputs": [
    {
     "data": {
      "text/plain": [
       "array([ True,  True,  True, ..., False, False, False])"
      ]
     },
     "execution_count": 9,
     "metadata": {},
     "output_type": "execute_result"
    }
   ],
   "source": [
    "NotA4CorA2CorOther_mask"
   ]
  },
  {
   "cell_type": "code",
   "execution_count": 10,
   "id": "19574cae",
   "metadata": {},
   "outputs": [
    {
     "name": "stdout",
     "output_type": "stream",
     "text": [
      "After filtering out A4CorA2CorOther:\n",
      "seed0_DEV165_val_images[NotA4CorA2CorOther_mask]: (735, 112, 112, 3), seed0_DEV165_val_labels[NotA4CorA2CorOther_mask]: (735,)\n"
     ]
    }
   ],
   "source": [
    "print('After filtering out A4CorA2CorOther:')\n",
    "print('seed0_DEV165_val_images[NotA4CorA2CorOther_mask]: {}, seed0_DEV165_val_labels[NotA4CorA2CorOther_mask]: {}'.format(seed0_DEV165_val_images[NotA4CorA2CorOther_mask].shape , seed0_DEV165_val_labels[NotA4CorA2CorOther_mask].shape ))\n"
   ]
  },
  {
   "cell_type": "code",
   "execution_count": 11,
   "id": "ec88e451",
   "metadata": {},
   "outputs": [],
   "source": [
    "seed0_DEV165_val_set = {\"images\":seed0_DEV165_val_images[NotA4CorA2CorOther_mask], \"labels\":seed0_DEV165_val_labels[NotA4CorA2CorOther_mask]}\n"
   ]
  },
  {
   "cell_type": "code",
   "execution_count": 12,
   "id": "e60b0f06",
   "metadata": {},
   "outputs": [],
   "source": [
    "#save the val set\n",
    "data_seed0_DEV165_valset_path = '/cluster/tufts/hugheslab/zhuang12/SSL_Contamination/realistic-ssl-evaluation-pytorch_RE/ML_DATA/TMED2/unnormalized_HWC/echo/data_seed0/DEV165'\n",
    "# np.save(os.path.join(data_seed0_DEV165_valset_path, 'val.npy'),seed0_DEV165_val_set)\n",
    "save_pickle(data_seed0_DEV165_valset_path, 'val.npy', seed0_DEV165_val_set)\n",
    "\n"
   ]
  },
  {
   "cell_type": "code",
   "execution_count": null,
   "id": "5faa22a7",
   "metadata": {},
   "outputs": [],
   "source": []
  },
  {
   "cell_type": "code",
   "execution_count": null,
   "id": "18ed21e2",
   "metadata": {},
   "outputs": [],
   "source": []
  },
  {
   "cell_type": "markdown",
   "id": "0f56c9a2",
   "metadata": {},
   "source": [
    "### DEV56"
   ]
  },
  {
   "cell_type": "code",
   "execution_count": 11,
   "id": "65726208",
   "metadata": {},
   "outputs": [],
   "source": [
    "seed0_DEV56_dir = '/cluster/tufts/hugheslab/zhuang12/Echo_ClinicalManualScript_1112/ML_DATA/ViewClassifier/npy_seed0/DEV56'\n"
   ]
  },
  {
   "cell_type": "markdown",
   "id": "063daa32",
   "metadata": {},
   "source": [
    "#### step1: concatenate the already processed npy file for train set"
   ]
  },
  {
   "cell_type": "code",
   "execution_count": 12,
   "id": "7d5e6522",
   "metadata": {},
   "outputs": [],
   "source": [
    "\n",
    "seed0_DEV56_train_A4C_image_path = os.path.join(seed0_DEV56_dir, 'train_A4C_image.npy')\n",
    "seed0_DEV56_train_A4C_label_path = os.path.join(seed0_DEV56_dir, 'train_A4C_label.npy')\n",
    "\n",
    "seed0_DEV56_train_A2C_image_path = os.path.join(seed0_DEV56_dir, 'train_A2C_image.npy')\n",
    "seed0_DEV56_train_A2C_label_path = os.path.join(seed0_DEV56_dir, 'train_A2C_label.npy')\n",
    "\n",
    "seed0_DEV56_train_PLAX_image_path = os.path.join(seed0_DEV56_dir, 'train_PLAX_image.npy')\n",
    "seed0_DEV56_train_PLAX_label_path = os.path.join(seed0_DEV56_dir, 'train_PLAX_label.npy')\n",
    "\n",
    "seed0_DEV56_train_PSAX_image_path = os.path.join(seed0_DEV56_dir, 'train_PSAX_image.npy')\n",
    "seed0_DEV56_train_PSAX_label_path = os.path.join(seed0_DEV56_dir, 'train_PSAX_label.npy')\n",
    "\n"
   ]
  },
  {
   "cell_type": "code",
   "execution_count": 13,
   "id": "9f3c185c",
   "metadata": {},
   "outputs": [],
   "source": [
    "seed0_DEV56_train_A4C_images = read_npy(seed0_DEV56_train_A4C_image_path)\n",
    "seed0_DEV56_train_A4C_labels = read_npy(seed0_DEV56_train_A4C_label_path)\n",
    "\n",
    "seed0_DEV56_train_A2C_images = read_npy(seed0_DEV56_train_A2C_image_path)\n",
    "seed0_DEV56_train_A2C_labels = read_npy(seed0_DEV56_train_A2C_label_path)\n",
    "\n",
    "seed0_DEV56_train_PLAX_images = read_npy(seed0_DEV56_train_PLAX_image_path)\n",
    "seed0_DEV56_train_PLAX_labels = read_npy(seed0_DEV56_train_PLAX_label_path)\n",
    "\n",
    "seed0_DEV56_train_PSAX_images = read_npy(seed0_DEV56_train_PSAX_image_path)\n",
    "seed0_DEV56_train_PSAX_labels = read_npy(seed0_DEV56_train_PSAX_label_path)\n"
   ]
  },
  {
   "cell_type": "code",
   "execution_count": 14,
   "id": "4e2f50f1",
   "metadata": {},
   "outputs": [
    {
     "name": "stdout",
     "output_type": "stream",
     "text": [
      "seed0_DEV56_train_PLAX_images: (632, 112, 112, 3), seed0_DEV56_train_PLAX_labels: (632,)\n",
      "seed0_DEV56_train_PSAX_images: (239, 112, 112, 3), seed0_DEV56_train_PSAX_labels: (239,)\n",
      "seed0_DEV56_train_A4C_images: (405, 112, 112, 3), seed0_DEV56_train_A4C_labels: (405,)\n",
      "seed0_DEV56_train_A2C_images: (285, 112, 112, 3), seed0_DEV56_train_A2C_labels: (285,)\n"
     ]
    }
   ],
   "source": [
    "print('seed0_DEV56_train_PLAX_images: {}, seed0_DEV56_train_PLAX_labels: {}'.format(seed0_DEV56_train_PLAX_images.shape, seed0_DEV56_train_PLAX_labels.shape))\n",
    "print('seed0_DEV56_train_PSAX_images: {}, seed0_DEV56_train_PSAX_labels: {}'.format(seed0_DEV56_train_PSAX_images.shape, seed0_DEV56_train_PSAX_labels.shape))\n",
    "print('seed0_DEV56_train_A4C_images: {}, seed0_DEV56_train_A4C_labels: {}'.format(seed0_DEV56_train_A4C_images.shape, seed0_DEV56_train_A4C_labels.shape))\n",
    "print('seed0_DEV56_train_A2C_images: {}, seed0_DEV56_train_A2C_labels: {}'.format(seed0_DEV56_train_A2C_images.shape, seed0_DEV56_train_A2C_labels.shape))\n",
    "\n"
   ]
  },
  {
   "cell_type": "code",
   "execution_count": 8,
   "id": "27545948",
   "metadata": {},
   "outputs": [],
   "source": [
    "seed0_DEV56_train_images = np.concatenate((seed0_DEV56_train_A4C_images,\\\n",
    "                                            seed0_DEV56_train_A2C_images,\\\n",
    "                                            seed0_DEV56_train_PLAX_images,\\\n",
    "                                            seed0_DEV56_train_PSAX_images), axis=0)\n",
    "\n",
    "seed0_DEV56_train_labels = np.concatenate((seed0_DEV56_train_A4C_labels,\\\n",
    "                                            seed0_DEV56_train_A2C_labels,\\\n",
    "                                            seed0_DEV56_train_PLAX_labels,\\\n",
    "                                            seed0_DEV56_train_PSAX_labels), axis=0)\n"
   ]
  },
  {
   "cell_type": "code",
   "execution_count": 9,
   "id": "34feff35",
   "metadata": {},
   "outputs": [
    {
     "name": "stdout",
     "output_type": "stream",
     "text": [
      "seed0_DEV56_train_images: (1561, 112, 112, 3), seed0_DEV56_train_labels: (1561,)\n"
     ]
    }
   ],
   "source": [
    "print('seed0_DEV56_train_images: {}, seed0_DEV56_train_labels: {}'.format(seed0_DEV56_train_images.shape, seed0_DEV56_train_labels.shape))\n",
    "\n",
    "assert len(seed0_DEV56_train_images) == len(seed0_DEV56_train_labels) == len(seed0_DEV56_train_A4C_images) + len(seed0_DEV56_train_A2C_images) +\\\n",
    "                                                                           len(seed0_DEV56_train_PLAX_images) + len(seed0_DEV56_train_PSAX_images)\n",
    "\n",
    "\n"
   ]
  },
  {
   "cell_type": "code",
   "execution_count": 10,
   "id": "ce5c63fa",
   "metadata": {},
   "outputs": [],
   "source": [
    "seed0_DEV56_train_set = {\"images\":seed0_DEV56_train_images, \"labels\":seed0_DEV56_train_labels}\n"
   ]
  },
  {
   "cell_type": "code",
   "execution_count": 11,
   "id": "66a01f16",
   "metadata": {},
   "outputs": [],
   "source": [
    "#save the test set\n",
    "data_seed0_DEV56_trainset_path = '/cluster/tufts/hugheslab/zhuang12/SSL_Contamination/realistic-ssl-evaluation-pytorch_RE/ML_DATA/TMED2/unnormalized_HWC/echo/data_seed0/DEV56'\n",
    "# np.save(os.path.join(data_seed0_DEV56_trainset_path, 'train.npy'), seed0_DEV56_train_set)\n",
    "save_pickle(data_seed0_DEV56_trainset_path, 'train.npy', seed0_DEV56_train_set)\n"
   ]
  },
  {
   "cell_type": "code",
   "execution_count": null,
   "id": "c301871f",
   "metadata": {},
   "outputs": [],
   "source": []
  },
  {
   "cell_type": "markdown",
   "id": "d4b01ce7",
   "metadata": {},
   "source": [
    "#### step2: filter out the instance for A4CorA2CorOther from the val set of seed0 DEV479"
   ]
  },
  {
   "cell_type": "code",
   "execution_count": 4,
   "id": "0917d3c9",
   "metadata": {},
   "outputs": [],
   "source": [
    "seed0_DEV56_val_image_path = '/cluster/tufts/hugheslab/zhuang12/Echo_ClinicalManualScript_1112/ML_DATA/ViewClassifier/npy_seed0/DEV56/val_image.npy'\n",
    "seed0_DEV56_val_label_path = '/cluster/tufts/hugheslab/zhuang12/Echo_ClinicalManualScript_1112/ML_DATA/ViewClassifier/npy_seed0/DEV56/val_label.npy'\n"
   ]
  },
  {
   "cell_type": "code",
   "execution_count": 5,
   "id": "2e23c164",
   "metadata": {},
   "outputs": [],
   "source": [
    "seed0_DEV56_val_images = read_npy(seed0_DEV56_val_image_path)\n",
    "seed0_DEV56_val_labels = read_npy(seed0_DEV56_val_label_path)"
   ]
  },
  {
   "cell_type": "code",
   "execution_count": 6,
   "id": "7fabf431",
   "metadata": {},
   "outputs": [
    {
     "name": "stdout",
     "output_type": "stream",
     "text": [
      "seed0_DEV56_val_images: (350, 112, 112, 3), seed0_DEV56_val_labels: (350,)\n"
     ]
    }
   ],
   "source": [
    "print('seed0_DEV56_val_images: {}, seed0_DEV56_val_labels: {}'.format(seed0_DEV56_val_images.shape , seed0_DEV56_val_labels.shape ))\n",
    "\n"
   ]
  },
  {
   "cell_type": "code",
   "execution_count": 7,
   "id": "ee6b0cb5",
   "metadata": {},
   "outputs": [
    {
     "data": {
      "text/plain": [
       "{0, 1, 2, 3, 4}"
      ]
     },
     "execution_count": 7,
     "metadata": {},
     "output_type": "execute_result"
    }
   ],
   "source": [
    "set(seed0_DEV56_val_labels)"
   ]
  },
  {
   "cell_type": "code",
   "execution_count": 8,
   "id": "dffe135a",
   "metadata": {},
   "outputs": [],
   "source": [
    "NotA4CorA2CorOther_mask = seed0_DEV56_val_labels!=4"
   ]
  },
  {
   "cell_type": "code",
   "execution_count": 9,
   "id": "4250ca8b",
   "metadata": {},
   "outputs": [
    {
     "data": {
      "text/plain": [
       "array([ True,  True,  True,  True,  True,  True,  True,  True,  True,\n",
       "        True,  True,  True,  True,  True,  True,  True,  True,  True,\n",
       "        True,  True,  True,  True,  True,  True,  True,  True,  True,\n",
       "        True,  True,  True,  True,  True,  True,  True,  True,  True,\n",
       "        True,  True,  True,  True,  True,  True,  True,  True,  True,\n",
       "        True,  True,  True,  True,  True,  True,  True,  True,  True,\n",
       "        True,  True,  True,  True,  True,  True,  True,  True,  True,\n",
       "        True,  True,  True,  True,  True,  True,  True,  True,  True,\n",
       "        True,  True,  True,  True,  True,  True,  True,  True,  True,\n",
       "        True,  True,  True,  True,  True,  True,  True,  True,  True,\n",
       "        True,  True,  True,  True,  True,  True,  True,  True,  True,\n",
       "        True,  True,  True,  True,  True,  True,  True,  True,  True,\n",
       "        True,  True,  True,  True,  True,  True,  True,  True,  True,\n",
       "        True,  True,  True,  True,  True,  True,  True,  True,  True,\n",
       "        True,  True,  True,  True,  True,  True,  True,  True,  True,\n",
       "        True,  True,  True,  True,  True,  True,  True,  True,  True,\n",
       "        True,  True,  True,  True,  True,  True,  True,  True,  True,\n",
       "        True,  True,  True,  True,  True,  True,  True,  True,  True,\n",
       "        True,  True,  True,  True,  True,  True,  True,  True,  True,\n",
       "        True,  True,  True,  True,  True,  True,  True,  True,  True,\n",
       "        True,  True,  True,  True,  True,  True,  True,  True,  True,\n",
       "        True,  True,  True,  True,  True,  True,  True,  True,  True,\n",
       "        True,  True,  True,  True,  True,  True,  True,  True,  True,\n",
       "        True,  True,  True,  True,  True,  True,  True,  True,  True,\n",
       "        True,  True, False, False, False, False, False, False, False,\n",
       "       False, False, False, False, False, False, False, False, False,\n",
       "       False, False, False, False, False, False, False, False, False,\n",
       "       False, False, False, False, False, False, False, False, False,\n",
       "       False,  True,  True,  True,  True,  True,  True, False, False,\n",
       "        True, False, False, False, False, False, False, False, False,\n",
       "       False, False, False, False, False, False, False, False, False,\n",
       "       False, False, False, False, False, False, False, False,  True,\n",
       "        True,  True,  True,  True, False, False,  True,  True,  True,\n",
       "        True,  True,  True,  True,  True,  True,  True,  True, False,\n",
       "       False, False,  True,  True, False, False, False, False, False,\n",
       "       False, False, False, False, False, False, False, False, False,\n",
       "       False, False, False, False, False, False, False, False, False,\n",
       "       False, False, False, False, False, False, False, False, False,\n",
       "       False, False, False, False, False, False, False, False])"
      ]
     },
     "execution_count": 9,
     "metadata": {},
     "output_type": "execute_result"
    }
   ],
   "source": [
    "NotA4CorA2CorOther_mask"
   ]
  },
  {
   "cell_type": "code",
   "execution_count": 10,
   "id": "455415b0",
   "metadata": {},
   "outputs": [
    {
     "name": "stdout",
     "output_type": "stream",
     "text": [
      "After filtering out A4CorA2CorOther:\n",
      "seed0_DEV56_val_images[NotA4CorA2CorOther_mask]: (243, 112, 112, 3), seed0_DEV56_val_labels[NotA4CorA2CorOther_mask]: (243,)\n"
     ]
    }
   ],
   "source": [
    "print('After filtering out A4CorA2CorOther:')\n",
    "print('seed0_DEV56_val_images[NotA4CorA2CorOther_mask]: {}, seed0_DEV56_val_labels[NotA4CorA2CorOther_mask]: {}'.format(seed0_DEV56_val_images[NotA4CorA2CorOther_mask].shape , seed0_DEV56_val_labels[NotA4CorA2CorOther_mask].shape ))\n"
   ]
  },
  {
   "cell_type": "code",
   "execution_count": 11,
   "id": "ae14764f",
   "metadata": {},
   "outputs": [],
   "source": [
    "seed0_DEV56_val_set = {\"images\":seed0_DEV56_val_images[NotA4CorA2CorOther_mask], \"labels\":seed0_DEV56_val_labels[NotA4CorA2CorOther_mask]}\n"
   ]
  },
  {
   "cell_type": "code",
   "execution_count": 12,
   "id": "2b497d35",
   "metadata": {},
   "outputs": [],
   "source": [
    "#save the val set\n",
    "data_seed0_DEV56_valset_path = '/cluster/tufts/hugheslab/zhuang12/SSL_Contamination/realistic-ssl-evaluation-pytorch_RE/ML_DATA/TMED2/unnormalized_HWC/echo/data_seed0/DEV56'\n",
    "# np.save(os.path.join(data_seed0_DEV56_valset_path, 'val.npy'),seed0_DEV56_val_set)\n",
    "save_pickle(data_seed0_DEV56_valset_path, 'val.npy', seed0_DEV56_val_set)\n"
   ]
  },
  {
   "cell_type": "code",
   "execution_count": null,
   "id": "13b8274a",
   "metadata": {},
   "outputs": [],
   "source": []
  }
 ],
 "metadata": {
  "kernelspec": {
   "display_name": "Python 3 (ipykernel)",
   "language": "python",
   "name": "python3"
  },
  "language_info": {
   "codemirror_mode": {
    "name": "ipython",
    "version": 3
   },
   "file_extension": ".py",
   "mimetype": "text/x-python",
   "name": "python",
   "nbconvert_exporter": "python",
   "pygments_lexer": "ipython3",
   "version": "3.8.12"
  }
 },
 "nbformat": 4,
 "nbformat_minor": 5
}
