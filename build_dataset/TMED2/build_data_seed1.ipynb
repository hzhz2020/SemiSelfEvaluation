{
 "cells": [
  {
   "cell_type": "code",
   "execution_count": 1,
   "id": "1881b1aa",
   "metadata": {},
   "outputs": [],
   "source": [
    "import numpy as np\n",
    "import pandas as pd\n",
    "import os\n"
   ]
  },
  {
   "cell_type": "code",
   "execution_count": 2,
   "id": "51e670a3",
   "metadata": {},
   "outputs": [],
   "source": [
    "def read_npy(filepath):\n",
    "    with open(filepath, 'rb') as f:\n",
    "        data = np.load(f)\n",
    "    return data"
   ]
  },
  {
   "cell_type": "code",
   "execution_count": 3,
   "id": "aeb9e6c3",
   "metadata": {},
   "outputs": [],
   "source": [
    "import pickle\n",
    "\n",
    "def save_pickle(directory, filename, file_to_save):\n",
    "#     make_dir_if_not_exists(directory)\n",
    "    \n",
    "    with open(os.path.join(directory, filename), 'wb') as handle:\n",
    "        pickle.dump(file_to_save, handle, protocol=pickle.HIGHEST_PROTOCOL)"
   ]
  },
  {
   "cell_type": "code",
   "execution_count": null,
   "id": "d69ca3ce",
   "metadata": {},
   "outputs": [],
   "source": []
  },
  {
   "cell_type": "markdown",
   "id": "61842941",
   "metadata": {},
   "source": [
    "## Seed1"
   ]
  },
  {
   "cell_type": "markdown",
   "id": "60bc821f",
   "metadata": {},
   "source": [
    "#### step0: filter out the instance for A4CorA2CorOther from the test set of seed0"
   ]
  },
  {
   "cell_type": "code",
   "execution_count": 4,
   "id": "eb6dee95",
   "metadata": {},
   "outputs": [],
   "source": [
    "seed1_test_image_path = '/cluster/tufts/hugheslab/zhuang12/Echo_ClinicalManualScript_1112/ML_DATA/ViewClassifier/npy_seed1/shared_test_this_seed/test_image.npy'\n",
    "seed1_test_label_path = '/cluster/tufts/hugheslab/zhuang12/Echo_ClinicalManualScript_1112/ML_DATA/ViewClassifier/npy_seed1/shared_test_this_seed/test_label.npy'\n"
   ]
  },
  {
   "cell_type": "code",
   "execution_count": 5,
   "id": "4290348b",
   "metadata": {},
   "outputs": [],
   "source": [
    "seed1_test_images = read_npy(seed1_test_image_path)\n",
    "seed1_test_labels = read_npy(seed1_test_label_path)"
   ]
  },
  {
   "cell_type": "code",
   "execution_count": 6,
   "id": "d2a1e207",
   "metadata": {},
   "outputs": [
    {
     "name": "stdout",
     "output_type": "stream",
     "text": [
      "seed1_test_images: (3473, 112, 112, 3), seed1_test_labels: (3473,)\n"
     ]
    }
   ],
   "source": [
    "print('seed1_test_images: {}, seed1_test_labels: {}'.format(seed1_test_images.shape , seed1_test_labels.shape ))\n"
   ]
  },
  {
   "cell_type": "code",
   "execution_count": 7,
   "id": "f2c5ca4d",
   "metadata": {},
   "outputs": [
    {
     "data": {
      "text/plain": [
       "{0, 1, 2, 3, 4}"
      ]
     },
     "execution_count": 7,
     "metadata": {},
     "output_type": "execute_result"
    }
   ],
   "source": [
    "set(seed1_test_labels)"
   ]
  },
  {
   "cell_type": "code",
   "execution_count": 8,
   "id": "7b4c90be",
   "metadata": {},
   "outputs": [],
   "source": [
    "NotA4CorA2CorOther_mask = seed1_test_labels!=4"
   ]
  },
  {
   "cell_type": "code",
   "execution_count": 9,
   "id": "ed2d33f2",
   "metadata": {},
   "outputs": [
    {
     "data": {
      "text/plain": [
       "array([ True,  True,  True, ..., False, False, False])"
      ]
     },
     "execution_count": 9,
     "metadata": {},
     "output_type": "execute_result"
    }
   ],
   "source": [
    "NotA4CorA2CorOther_mask"
   ]
  },
  {
   "cell_type": "code",
   "execution_count": 10,
   "id": "152b8257",
   "metadata": {},
   "outputs": [
    {
     "name": "stdout",
     "output_type": "stream",
     "text": [
      "After filtering out A4CorA2CorOther:\n",
      "seed1_test_images[NotA4CorA2CorOther_mask]: (2019, 112, 112, 3), seed1_test_labels[NotA4CorA2CorOther_mask]: (2019,)\n"
     ]
    }
   ],
   "source": [
    "print('After filtering out A4CorA2CorOther:')\n",
    "print('seed1_test_images[NotA4CorA2CorOther_mask]: {}, seed1_test_labels[NotA4CorA2CorOther_mask]: {}'.format(seed1_test_images[NotA4CorA2CorOther_mask].shape , seed1_test_labels[NotA4CorA2CorOther_mask].shape ))\n"
   ]
  },
  {
   "cell_type": "code",
   "execution_count": 11,
   "id": "060cd000",
   "metadata": {},
   "outputs": [],
   "source": [
    "seed1_test_set = {\"images\":seed1_test_images[NotA4CorA2CorOther_mask], \"labels\":seed1_test_labels[NotA4CorA2CorOther_mask]}\n"
   ]
  },
  {
   "cell_type": "code",
   "execution_count": 12,
   "id": "c0ae488f",
   "metadata": {},
   "outputs": [],
   "source": [
    "#save the test set\n",
    "data_seed1_shared_testset_path = '/cluster/tufts/hugheslab/zhuang12/SSL_Contamination/realistic-ssl-evaluation-pytorch_RE/ML_DATA/TMED2/unnormalized_HWC/echo/data_seed1/this_seed_shared_testset'\n",
    "# np.save(os.path.join(data_seed1_shared_testset_path, 'test.npy'), seed1_test_set)\n",
    "save_pickle(data_seed1_shared_testset_path, 'test.npy', seed1_test_set)\n"
   ]
  },
  {
   "cell_type": "code",
   "execution_count": null,
   "id": "3eb34fb6",
   "metadata": {},
   "outputs": [],
   "source": []
  },
  {
   "cell_type": "code",
   "execution_count": null,
   "id": "076b89ef",
   "metadata": {},
   "outputs": [],
   "source": []
  },
  {
   "cell_type": "markdown",
   "id": "53fd262f",
   "metadata": {},
   "source": [
    "### DEV479"
   ]
  },
  {
   "cell_type": "code",
   "execution_count": 3,
   "id": "24c83e84",
   "metadata": {},
   "outputs": [],
   "source": [
    "seed1_DEV479_dir = '/cluster/tufts/hugheslab/zhuang12/Echo_ClinicalManualScript_1112/ML_DATA/ViewClassifier/npy_seed1/DEV479'\n"
   ]
  },
  {
   "cell_type": "markdown",
   "id": "4a272961",
   "metadata": {},
   "source": [
    "#### step1: concatenate the already processed npy file for train set"
   ]
  },
  {
   "cell_type": "code",
   "execution_count": 4,
   "id": "9055d91f",
   "metadata": {},
   "outputs": [],
   "source": [
    "\n",
    "seed1_DEV479_train_A4C_image_path = os.path.join(seed1_DEV479_dir, 'train_A4C_image.npy')\n",
    "seed1_DEV479_train_A4C_label_path = os.path.join(seed1_DEV479_dir, 'train_A4C_label.npy')\n",
    "\n",
    "seed1_DEV479_train_A2C_image_path = os.path.join(seed1_DEV479_dir, 'train_A2C_image.npy')\n",
    "seed1_DEV479_train_A2C_label_path = os.path.join(seed1_DEV479_dir, 'train_A2C_label.npy')\n",
    "\n",
    "seed1_DEV479_train_PLAX_image_path = os.path.join(seed1_DEV479_dir, 'train_PLAX_image.npy')\n",
    "seed1_DEV479_train_PLAX_label_path = os.path.join(seed1_DEV479_dir, 'train_PLAX_label.npy')\n",
    "\n",
    "seed1_DEV479_train_PSAX_image_path = os.path.join(seed1_DEV479_dir, 'train_PSAX_image.npy')\n",
    "seed1_DEV479_train_PSAX_label_path = os.path.join(seed1_DEV479_dir, 'train_PSAX_label.npy')\n",
    "\n"
   ]
  },
  {
   "cell_type": "code",
   "execution_count": 5,
   "id": "5b573c6e",
   "metadata": {},
   "outputs": [],
   "source": [
    "seed1_DEV479_train_A4C_images = read_npy(seed1_DEV479_train_A4C_image_path)\n",
    "seed1_DEV479_train_A4C_labels = read_npy(seed1_DEV479_train_A4C_label_path)\n",
    "\n",
    "seed1_DEV479_train_A2C_images = read_npy(seed1_DEV479_train_A2C_image_path)\n",
    "seed1_DEV479_train_A2C_labels = read_npy(seed1_DEV479_train_A2C_label_path)\n",
    "\n",
    "seed1_DEV479_train_PLAX_images = read_npy(seed1_DEV479_train_PLAX_image_path)\n",
    "seed1_DEV479_train_PLAX_labels = read_npy(seed1_DEV479_train_PLAX_label_path)\n",
    "\n",
    "seed1_DEV479_train_PSAX_images = read_npy(seed1_DEV479_train_PSAX_image_path)\n",
    "seed1_DEV479_train_PSAX_labels = read_npy(seed1_DEV479_train_PSAX_label_path)\n"
   ]
  },
  {
   "cell_type": "code",
   "execution_count": 6,
   "id": "d316612a",
   "metadata": {},
   "outputs": [
    {
     "name": "stdout",
     "output_type": "stream",
     "text": [
      "seed1_DEV479_train_PLAX_images: (5451, 112, 112, 3), seed1_DEV479_train_PLAX_labels: (5451,)\n",
      "seed1_DEV479_train_PSAX_images: (2015, 112, 112, 3), seed1_DEV479_train_PSAX_labels: (2015,)\n",
      "seed1_DEV479_train_A4C_images: (3725, 112, 112, 3), seed1_DEV479_train_A4C_labels: (3725,)\n",
      "seed1_DEV479_train_A2C_images: (2799, 112, 112, 3), seed1_DEV479_train_A2C_labels: (2799,)\n"
     ]
    }
   ],
   "source": [
    "print('seed1_DEV479_train_PLAX_images: {}, seed1_DEV479_train_PLAX_labels: {}'.format(seed1_DEV479_train_PLAX_images.shape, seed1_DEV479_train_PLAX_labels.shape))\n",
    "print('seed1_DEV479_train_PSAX_images: {}, seed1_DEV479_train_PSAX_labels: {}'.format(seed1_DEV479_train_PSAX_images.shape, seed1_DEV479_train_PSAX_labels.shape))\n",
    "print('seed1_DEV479_train_A4C_images: {}, seed1_DEV479_train_A4C_labels: {}'.format(seed1_DEV479_train_A4C_images.shape, seed1_DEV479_train_A4C_labels.shape))\n",
    "print('seed1_DEV479_train_A2C_images: {}, seed1_DEV479_train_A2C_labels: {}'.format(seed1_DEV479_train_A2C_images.shape, seed1_DEV479_train_A2C_labels.shape))\n",
    "\n"
   ]
  },
  {
   "cell_type": "code",
   "execution_count": 8,
   "id": "60b57489",
   "metadata": {},
   "outputs": [],
   "source": [
    "seed1_DEV479_train_images = np.concatenate((seed1_DEV479_train_A4C_images,\\\n",
    "                                            seed1_DEV479_train_A2C_images,\\\n",
    "                                            seed1_DEV479_train_PLAX_images,\\\n",
    "                                            seed1_DEV479_train_PSAX_images), axis=0)\n",
    "\n",
    "seed1_DEV479_train_labels = np.concatenate((seed1_DEV479_train_A4C_labels,\\\n",
    "                                            seed1_DEV479_train_A2C_labels,\\\n",
    "                                            seed1_DEV479_train_PLAX_labels,\\\n",
    "                                            seed1_DEV479_train_PSAX_labels), axis=0)\n"
   ]
  },
  {
   "cell_type": "code",
   "execution_count": 9,
   "id": "c3517871",
   "metadata": {},
   "outputs": [
    {
     "name": "stdout",
     "output_type": "stream",
     "text": [
      "seed1_DEV479_train_images: (13990, 112, 112, 3), seed1_DEV479_train_labels: (13990,)\n"
     ]
    }
   ],
   "source": [
    "print('seed1_DEV479_train_images: {}, seed1_DEV479_train_labels: {}'.format(seed1_DEV479_train_images.shape, seed1_DEV479_train_labels.shape))\n",
    "\n",
    "assert len(seed1_DEV479_train_images) == len(seed1_DEV479_train_labels) == len(seed1_DEV479_train_A4C_images) + len(seed1_DEV479_train_A2C_images) +\\\n",
    "                                                                           len(seed1_DEV479_train_PLAX_images) + len(seed1_DEV479_train_PSAX_images)\n",
    "\n"
   ]
  },
  {
   "cell_type": "code",
   "execution_count": 10,
   "id": "0d7b054d",
   "metadata": {},
   "outputs": [],
   "source": [
    "seed1_DEV479_train_set = {\"images\":seed1_DEV479_train_images, \"labels\":seed1_DEV479_train_labels}\n"
   ]
  },
  {
   "cell_type": "code",
   "execution_count": 11,
   "id": "4b0cfc68",
   "metadata": {},
   "outputs": [],
   "source": [
    "#save the test set\n",
    "data_seed1_DEV479_trainset_path = '/cluster/tufts/hugheslab/zhuang12/SSL_Contamination/realistic-ssl-evaluation-pytorch_RE/ML_DATA/TMED2/unnormalized_HWC/echo/data_seed1/DEV479'\n",
    "# np.save(os.path.join(data_seed1_DEV479_trainset_path, 'train.npy'), seed1_DEV479_train_set)\n",
    "save_pickle(data_seed1_DEV479_trainset_path, 'train.npy', seed1_DEV479_train_set)\n",
    "\n"
   ]
  },
  {
   "cell_type": "code",
   "execution_count": null,
   "id": "4e89b30a",
   "metadata": {},
   "outputs": [],
   "source": []
  },
  {
   "cell_type": "markdown",
   "id": "89e62c39",
   "metadata": {},
   "source": [
    "#### step2: filter out the instance for A4CorA2CorOther from the val set of seed0 DEV479"
   ]
  },
  {
   "cell_type": "code",
   "execution_count": 7,
   "id": "f70ca58f",
   "metadata": {},
   "outputs": [],
   "source": [
    "seed1_DEV479_val_image_path = '/cluster/tufts/hugheslab/zhuang12/Echo_ClinicalManualScript_1112/ML_DATA/ViewClassifier/npy_seed1/DEV479/val_image.npy'\n",
    "seed1_DEV479_val_label_path = '/cluster/tufts/hugheslab/zhuang12/Echo_ClinicalManualScript_1112/ML_DATA/ViewClassifier/npy_seed1/DEV479/val_label.npy'\n"
   ]
  },
  {
   "cell_type": "code",
   "execution_count": 5,
   "id": "12ac59a7",
   "metadata": {},
   "outputs": [],
   "source": [
    "seed1_DEV479_val_images = read_npy(seed1_DEV479_val_image_path)\n",
    "seed1_DEV479_val_labels = read_npy(seed1_DEV479_val_label_path)"
   ]
  },
  {
   "cell_type": "code",
   "execution_count": 6,
   "id": "723143f3",
   "metadata": {},
   "outputs": [
    {
     "name": "stdout",
     "output_type": "stream",
     "text": [
      "seed1_DEV479_val_images: (3466, 112, 112, 3), seed1_DEV479_val_labels: (3466,)\n"
     ]
    }
   ],
   "source": [
    "print('seed1_DEV479_val_images: {}, seed1_DEV479_val_labels: {}'.format(seed1_DEV479_val_images.shape , seed1_DEV479_val_labels.shape ))\n"
   ]
  },
  {
   "cell_type": "code",
   "execution_count": 7,
   "id": "ea9d1e8a",
   "metadata": {},
   "outputs": [
    {
     "data": {
      "text/plain": [
       "{0, 1, 2, 3, 4}"
      ]
     },
     "execution_count": 7,
     "metadata": {},
     "output_type": "execute_result"
    }
   ],
   "source": [
    "set(seed1_DEV479_val_labels)"
   ]
  },
  {
   "cell_type": "code",
   "execution_count": 8,
   "id": "b4a1d6cf",
   "metadata": {},
   "outputs": [],
   "source": [
    "NotA4CorA2CorOther_mask = seed1_DEV479_val_labels!=4"
   ]
  },
  {
   "cell_type": "code",
   "execution_count": 9,
   "id": "87dc7429",
   "metadata": {},
   "outputs": [
    {
     "data": {
      "text/plain": [
       "array([ True,  True,  True, ..., False, False, False])"
      ]
     },
     "execution_count": 9,
     "metadata": {},
     "output_type": "execute_result"
    }
   ],
   "source": [
    "NotA4CorA2CorOther_mask"
   ]
  },
  {
   "cell_type": "code",
   "execution_count": 10,
   "id": "28b3ffd0",
   "metadata": {},
   "outputs": [
    {
     "name": "stdout",
     "output_type": "stream",
     "text": [
      "After filtering out A4CorA2CorOther:\n",
      "seed1_DEV479_val_images[NotA4CorA2CorOther_mask]: (2094, 112, 112, 3), seed1_DEV479_val_labels[NotA4CorA2CorOther_mask]: (2094,)\n"
     ]
    }
   ],
   "source": [
    "print('After filtering out A4CorA2CorOther:')\n",
    "print('seed1_DEV479_val_images[NotA4CorA2CorOther_mask]: {}, seed1_DEV479_val_labels[NotA4CorA2CorOther_mask]: {}'.format(seed1_DEV479_val_images[NotA4CorA2CorOther_mask].shape , seed1_DEV479_val_labels[NotA4CorA2CorOther_mask].shape ))\n"
   ]
  },
  {
   "cell_type": "code",
   "execution_count": 11,
   "id": "6f0a5576",
   "metadata": {},
   "outputs": [],
   "source": [
    "seed1_DEV479_val_set = {\"images\":seed1_DEV479_val_images[NotA4CorA2CorOther_mask], \"labels\":seed1_DEV479_val_labels[NotA4CorA2CorOther_mask]}\n"
   ]
  },
  {
   "cell_type": "code",
   "execution_count": 12,
   "id": "354d7243",
   "metadata": {},
   "outputs": [],
   "source": [
    "#save the val set\n",
    "data_seed1_DEV479_valset_path = '/cluster/tufts/hugheslab/zhuang12/SSL_Contamination/realistic-ssl-evaluation-pytorch_RE/ML_DATA/TMED2/unnormalized_HWC/echo/data_seed1/DEV479'\n",
    "# np.save(os.path.join(data_seed1_DEV479_valset_path, 'val.npy'),seed1_DEV479_val_set)\n",
    "save_pickle(data_seed1_DEV479_valset_path, 'val.npy',seed1_DEV479_val_set)\n",
    "\n"
   ]
  },
  {
   "cell_type": "code",
   "execution_count": null,
   "id": "99214b10",
   "metadata": {},
   "outputs": [],
   "source": []
  },
  {
   "cell_type": "code",
   "execution_count": null,
   "id": "0ab3dfbd",
   "metadata": {},
   "outputs": [],
   "source": []
  },
  {
   "cell_type": "markdown",
   "id": "d5cbee3f",
   "metadata": {},
   "source": [
    "### DEV165"
   ]
  },
  {
   "cell_type": "code",
   "execution_count": 8,
   "id": "853bc9a7",
   "metadata": {},
   "outputs": [],
   "source": [
    "seed1_DEV165_dir = '/cluster/tufts/hugheslab/zhuang12/Echo_ClinicalManualScript_1112/ML_DATA/ViewClassifier/npy_seed1/DEV165'\n"
   ]
  },
  {
   "cell_type": "markdown",
   "id": "05992a76",
   "metadata": {},
   "source": [
    "#### step1: concatenate the already processed npy file for train set"
   ]
  },
  {
   "cell_type": "code",
   "execution_count": 9,
   "id": "f58c91e2",
   "metadata": {},
   "outputs": [],
   "source": [
    "seed1_DEV165_train_A4C_image_path = os.path.join(seed1_DEV165_dir, 'train_A4C_image.npy')\n",
    "seed1_DEV165_train_A4C_label_path = os.path.join(seed1_DEV165_dir, 'train_A4C_label.npy')\n",
    "\n",
    "seed1_DEV165_train_A2C_image_path = os.path.join(seed1_DEV165_dir, 'train_A2C_image.npy')\n",
    "seed1_DEV165_train_A2C_label_path = os.path.join(seed1_DEV165_dir, 'train_A2C_label.npy')\n",
    "\n",
    "seed1_DEV165_train_PLAX_image_path = os.path.join(seed1_DEV165_dir, 'train_PLAX_image.npy')\n",
    "seed1_DEV165_train_PLAX_label_path = os.path.join(seed1_DEV165_dir, 'train_PLAX_label.npy')\n",
    "\n",
    "seed1_DEV165_train_PSAX_image_path = os.path.join(seed1_DEV165_dir, 'train_PSAX_image.npy')\n",
    "seed1_DEV165_train_PSAX_label_path = os.path.join(seed1_DEV165_dir, 'train_PSAX_label.npy')\n",
    "\n"
   ]
  },
  {
   "cell_type": "code",
   "execution_count": 10,
   "id": "08e0a97d",
   "metadata": {},
   "outputs": [],
   "source": [
    "seed1_DEV165_train_A4C_images = read_npy(seed1_DEV165_train_A4C_image_path)\n",
    "seed1_DEV165_train_A4C_labels = read_npy(seed1_DEV165_train_A4C_label_path)\n",
    "\n",
    "seed1_DEV165_train_A2C_images = read_npy(seed1_DEV165_train_A2C_image_path)\n",
    "seed1_DEV165_train_A2C_labels = read_npy(seed1_DEV165_train_A2C_label_path)\n",
    "\n",
    "seed1_DEV165_train_PLAX_images = read_npy(seed1_DEV165_train_PLAX_image_path)\n",
    "seed1_DEV165_train_PLAX_labels = read_npy(seed1_DEV165_train_PLAX_label_path)\n",
    "\n",
    "seed1_DEV165_train_PSAX_images = read_npy(seed1_DEV165_train_PSAX_image_path)\n",
    "seed1_DEV165_train_PSAX_labels = read_npy(seed1_DEV165_train_PSAX_label_path)\n"
   ]
  },
  {
   "cell_type": "code",
   "execution_count": 12,
   "id": "22fd9f79",
   "metadata": {},
   "outputs": [
    {
     "name": "stdout",
     "output_type": "stream",
     "text": [
      "seed1_DEV165_train_PLAX_images: (1959, 112, 112, 3), seed1_DEV165_train_PLAX_labels: (1959,)\n",
      "seed1_DEV165_train_PSAX_images: (717, 112, 112, 3), seed1_DEV165_train_PSAX_labels: (717,)\n",
      "seed1_DEV165_train_A4C_images: (1326, 112, 112, 3), seed1_DEV165_train_A4C_labels: (1326,)\n",
      "seed1_DEV165_train_A2C_images: (973, 112, 112, 3), seed1_DEV165_train_A2C_labels: (973,)\n"
     ]
    }
   ],
   "source": [
    "print('seed1_DEV165_train_PLAX_images: {}, seed1_DEV165_train_PLAX_labels: {}'.format(seed1_DEV165_train_PLAX_images.shape, seed1_DEV165_train_PLAX_labels.shape))\n",
    "print('seed1_DEV165_train_PSAX_images: {}, seed1_DEV165_train_PSAX_labels: {}'.format(seed1_DEV165_train_PSAX_images.shape, seed1_DEV165_train_PSAX_labels.shape))\n",
    "print('seed1_DEV165_train_A4C_images: {}, seed1_DEV165_train_A4C_labels: {}'.format(seed1_DEV165_train_A4C_images.shape, seed1_DEV165_train_A4C_labels.shape))\n",
    "print('seed1_DEV165_train_A2C_images: {}, seed1_DEV165_train_A2C_labels: {}'.format(seed1_DEV165_train_A2C_images.shape, seed1_DEV165_train_A2C_labels.shape))\n",
    "\n"
   ]
  },
  {
   "cell_type": "code",
   "execution_count": 8,
   "id": "cc0cb145",
   "metadata": {},
   "outputs": [],
   "source": [
    "seed1_DEV165_train_images = np.concatenate((seed1_DEV165_train_A4C_images,\\\n",
    "                                            seed1_DEV165_train_A2C_images,\\\n",
    "                                            seed1_DEV165_train_PLAX_images,\\\n",
    "                                            seed1_DEV165_train_PSAX_images), axis=0)\n",
    "\n",
    "seed1_DEV165_train_labels = np.concatenate((seed1_DEV165_train_A4C_labels,\\\n",
    "                                            seed1_DEV165_train_A2C_labels,\\\n",
    "                                            seed1_DEV165_train_PLAX_labels,\\\n",
    "                                            seed1_DEV165_train_PSAX_labels), axis=0)\n"
   ]
  },
  {
   "cell_type": "code",
   "execution_count": 9,
   "id": "7cb9913a",
   "metadata": {},
   "outputs": [
    {
     "name": "stdout",
     "output_type": "stream",
     "text": [
      "seed1_DEV165_train_images: (4975, 112, 112, 3), seed1_DEV165_train_labels: (4975,)\n"
     ]
    }
   ],
   "source": [
    "print('seed1_DEV165_train_images: {}, seed1_DEV165_train_labels: {}'.format(seed1_DEV165_train_images.shape, seed1_DEV165_train_labels.shape))\n",
    "\n",
    "assert len(seed1_DEV165_train_images) == len(seed1_DEV165_train_labels) == len(seed1_DEV165_train_A4C_images) + len(seed1_DEV165_train_A2C_images) +\\\n",
    "                                                                           len(seed1_DEV165_train_PLAX_images) + len(seed1_DEV165_train_PSAX_images)\n",
    "\n"
   ]
  },
  {
   "cell_type": "code",
   "execution_count": 10,
   "id": "67ab8029",
   "metadata": {},
   "outputs": [],
   "source": [
    "seed1_DEV165_train_set = {\"images\":seed1_DEV165_train_images, \"labels\":seed1_DEV165_train_labels}\n"
   ]
  },
  {
   "cell_type": "code",
   "execution_count": 11,
   "id": "2050c80f",
   "metadata": {},
   "outputs": [],
   "source": [
    "#save the test set\n",
    "data_seed1_DEV165_trainset_path = '/cluster/tufts/hugheslab/zhuang12/SSL_Contamination/realistic-ssl-evaluation-pytorch_RE/ML_DATA/TMED2/unnormalized_HWC/echo/data_seed1/DEV165'\n",
    "# np.save(os.path.join(data_seed1_DEV165_trainset_path, 'train.npy'), seed1_DEV165_train_set)\n",
    "save_pickle(data_seed1_DEV165_trainset_path, 'train.npy', seed1_DEV165_train_set)\n",
    "\n"
   ]
  },
  {
   "cell_type": "code",
   "execution_count": null,
   "id": "ffc7fe2e",
   "metadata": {},
   "outputs": [],
   "source": []
  },
  {
   "cell_type": "markdown",
   "id": "2fb9f060",
   "metadata": {},
   "source": [
    "#### step2: filter out the instance for A4CorA2CorOther from the val set of seed0 DEV479"
   ]
  },
  {
   "cell_type": "code",
   "execution_count": 4,
   "id": "c1e07909",
   "metadata": {},
   "outputs": [],
   "source": [
    "seed1_DEV165_val_image_path = '/cluster/tufts/hugheslab/zhuang12/Echo_ClinicalManualScript_1112/ML_DATA/ViewClassifier/npy_seed1/DEV165/val_image.npy'\n",
    "seed1_DEV165_val_label_path = '/cluster/tufts/hugheslab/zhuang12/Echo_ClinicalManualScript_1112/ML_DATA/ViewClassifier/npy_seed1/DEV165/val_label.npy'\n"
   ]
  },
  {
   "cell_type": "code",
   "execution_count": 5,
   "id": "b1eb7c1e",
   "metadata": {},
   "outputs": [],
   "source": [
    "seed1_DEV165_val_images = read_npy(seed1_DEV165_val_image_path)\n",
    "seed1_DEV165_val_labels = read_npy(seed1_DEV165_val_label_path)"
   ]
  },
  {
   "cell_type": "code",
   "execution_count": 6,
   "id": "6c1d10ad",
   "metadata": {},
   "outputs": [
    {
     "name": "stdout",
     "output_type": "stream",
     "text": [
      "seed1_DEV165_val_images: (1221, 112, 112, 3), seed1_DEV165_val_labels: (1221,)\n"
     ]
    }
   ],
   "source": [
    "print('seed1_DEV165_val_images: {}, seed1_DEV165_val_labels: {}'.format(seed1_DEV165_val_images.shape , seed1_DEV165_val_labels.shape ))\n"
   ]
  },
  {
   "cell_type": "code",
   "execution_count": 7,
   "id": "f7489977",
   "metadata": {},
   "outputs": [
    {
     "data": {
      "text/plain": [
       "{0, 1, 2, 3, 4}"
      ]
     },
     "execution_count": 7,
     "metadata": {},
     "output_type": "execute_result"
    }
   ],
   "source": [
    "set(seed1_DEV165_val_labels)"
   ]
  },
  {
   "cell_type": "code",
   "execution_count": 8,
   "id": "cd43c49b",
   "metadata": {},
   "outputs": [],
   "source": [
    "NotA4CorA2CorOther_mask = seed1_DEV165_val_labels!=4"
   ]
  },
  {
   "cell_type": "code",
   "execution_count": 9,
   "id": "a2901a7f",
   "metadata": {},
   "outputs": [
    {
     "data": {
      "text/plain": [
       "array([ True,  True,  True, ..., False, False, False])"
      ]
     },
     "execution_count": 9,
     "metadata": {},
     "output_type": "execute_result"
    }
   ],
   "source": [
    "NotA4CorA2CorOther_mask"
   ]
  },
  {
   "cell_type": "code",
   "execution_count": 10,
   "id": "fc7db038",
   "metadata": {},
   "outputs": [
    {
     "name": "stdout",
     "output_type": "stream",
     "text": [
      "After filtering out A4CorA2CorOther:\n",
      "seed1_DEV165_val_images[NotA4CorA2CorOther_mask]: (696, 112, 112, 3), seed1_DEV165_val_labels[NotA4CorA2CorOther_mask]: (696,)\n"
     ]
    }
   ],
   "source": [
    "print('After filtering out A4CorA2CorOther:')\n",
    "print('seed1_DEV165_val_images[NotA4CorA2CorOther_mask]: {}, seed1_DEV165_val_labels[NotA4CorA2CorOther_mask]: {}'.format(seed1_DEV165_val_images[NotA4CorA2CorOther_mask].shape , seed1_DEV165_val_labels[NotA4CorA2CorOther_mask].shape ))\n"
   ]
  },
  {
   "cell_type": "code",
   "execution_count": 11,
   "id": "93b589c8",
   "metadata": {},
   "outputs": [],
   "source": [
    "seed1_DEV165_val_set = {\"images\":seed1_DEV165_val_images[NotA4CorA2CorOther_mask], \"labels\":seed1_DEV165_val_labels[NotA4CorA2CorOther_mask]}\n"
   ]
  },
  {
   "cell_type": "code",
   "execution_count": 12,
   "id": "11fa7577",
   "metadata": {},
   "outputs": [],
   "source": [
    "#save the val set\n",
    "data_seed1_DEV165_valset_path = '/cluster/tufts/hugheslab/zhuang12/SSL_Contamination/realistic-ssl-evaluation-pytorch_RE/ML_DATA/TMED2/unnormalized_HWC/echo/data_seed1/DEV165'\n",
    "# np.save(os.path.join(data_seed1_DEV165_valset_path, 'val.npy'),seed1_DEV165_val_set)\n",
    "save_pickle(data_seed1_DEV165_valset_path, 'val.npy',seed1_DEV165_val_set)\n",
    "\n"
   ]
  },
  {
   "cell_type": "code",
   "execution_count": null,
   "id": "0d3938eb",
   "metadata": {},
   "outputs": [],
   "source": []
  },
  {
   "cell_type": "code",
   "execution_count": null,
   "id": "c216a7dc",
   "metadata": {},
   "outputs": [],
   "source": []
  },
  {
   "cell_type": "markdown",
   "id": "6dbe0442",
   "metadata": {},
   "source": [
    "### DEV56"
   ]
  },
  {
   "cell_type": "code",
   "execution_count": 13,
   "id": "af5ce319",
   "metadata": {},
   "outputs": [],
   "source": [
    "seed1_DEV56_dir = '/cluster/tufts/hugheslab/zhuang12/Echo_ClinicalManualScript_1112/ML_DATA/ViewClassifier/npy_seed1/DEV56'\n"
   ]
  },
  {
   "cell_type": "markdown",
   "id": "d1ec7885",
   "metadata": {},
   "source": [
    "#### step1: concatenate the already processed npy file for train set"
   ]
  },
  {
   "cell_type": "code",
   "execution_count": 14,
   "id": "4f2df4b0",
   "metadata": {},
   "outputs": [],
   "source": [
    "\n",
    "seed1_DEV56_train_A4C_image_path = os.path.join(seed1_DEV56_dir, 'train_A4C_image.npy')\n",
    "seed1_DEV56_train_A4C_label_path = os.path.join(seed1_DEV56_dir, 'train_A4C_label.npy')\n",
    "\n",
    "seed1_DEV56_train_A2C_image_path = os.path.join(seed1_DEV56_dir, 'train_A2C_image.npy')\n",
    "seed1_DEV56_train_A2C_label_path = os.path.join(seed1_DEV56_dir, 'train_A2C_label.npy')\n",
    "\n",
    "seed1_DEV56_train_PLAX_image_path = os.path.join(seed1_DEV56_dir, 'train_PLAX_image.npy')\n",
    "seed1_DEV56_train_PLAX_label_path = os.path.join(seed1_DEV56_dir, 'train_PLAX_label.npy')\n",
    "\n",
    "seed1_DEV56_train_PSAX_image_path = os.path.join(seed1_DEV56_dir, 'train_PSAX_image.npy')\n",
    "seed1_DEV56_train_PSAX_label_path = os.path.join(seed1_DEV56_dir, 'train_PSAX_label.npy')\n",
    "\n"
   ]
  },
  {
   "cell_type": "code",
   "execution_count": 15,
   "id": "43358f05",
   "metadata": {},
   "outputs": [],
   "source": [
    "seed1_DEV56_train_A4C_images = read_npy(seed1_DEV56_train_A4C_image_path)\n",
    "seed1_DEV56_train_A4C_labels = read_npy(seed1_DEV56_train_A4C_label_path)\n",
    "\n",
    "seed1_DEV56_train_A2C_images = read_npy(seed1_DEV56_train_A2C_image_path)\n",
    "seed1_DEV56_train_A2C_labels = read_npy(seed1_DEV56_train_A2C_label_path)\n",
    "\n",
    "seed1_DEV56_train_PLAX_images = read_npy(seed1_DEV56_train_PLAX_image_path)\n",
    "seed1_DEV56_train_PLAX_labels = read_npy(seed1_DEV56_train_PLAX_label_path)\n",
    "\n",
    "seed1_DEV56_train_PSAX_images = read_npy(seed1_DEV56_train_PSAX_image_path)\n",
    "seed1_DEV56_train_PSAX_labels = read_npy(seed1_DEV56_train_PSAX_label_path)\n"
   ]
  },
  {
   "cell_type": "code",
   "execution_count": 16,
   "id": "d97a78fa",
   "metadata": {},
   "outputs": [
    {
     "name": "stdout",
     "output_type": "stream",
     "text": [
      "seed1_DEV56_train_PLAX_images: (650, 112, 112, 3), seed1_DEV56_train_PLAX_labels: (650,)\n",
      "seed1_DEV56_train_PSAX_images: (223, 112, 112, 3), seed1_DEV56_train_PSAX_labels: (223,)\n",
      "seed1_DEV56_train_A4C_images: (462, 112, 112, 3), seed1_DEV56_train_A4C_labels: (462,)\n",
      "seed1_DEV56_train_A2C_images: (325, 112, 112, 3), seed1_DEV56_train_A2C_labels: (325,)\n"
     ]
    }
   ],
   "source": [
    "print('seed1_DEV56_train_PLAX_images: {}, seed1_DEV56_train_PLAX_labels: {}'.format(seed1_DEV56_train_PLAX_images.shape, seed1_DEV56_train_PLAX_labels.shape))\n",
    "print('seed1_DEV56_train_PSAX_images: {}, seed1_DEV56_train_PSAX_labels: {}'.format(seed1_DEV56_train_PSAX_images.shape, seed1_DEV56_train_PSAX_labels.shape))\n",
    "print('seed1_DEV56_train_A4C_images: {}, seed1_DEV56_train_A4C_labels: {}'.format(seed1_DEV56_train_A4C_images.shape, seed1_DEV56_train_A4C_labels.shape))\n",
    "print('seed1_DEV56_train_A2C_images: {}, seed1_DEV56_train_A2C_labels: {}'.format(seed1_DEV56_train_A2C_images.shape, seed1_DEV56_train_A2C_labels.shape))\n"
   ]
  },
  {
   "cell_type": "code",
   "execution_count": 8,
   "id": "4786d749",
   "metadata": {},
   "outputs": [],
   "source": [
    "seed1_DEV56_train_images = np.concatenate((seed1_DEV56_train_A4C_images,\\\n",
    "                                            seed1_DEV56_train_A2C_images,\\\n",
    "                                            seed1_DEV56_train_PLAX_images,\\\n",
    "                                            seed1_DEV56_train_PSAX_images), axis=0)\n",
    "\n",
    "seed1_DEV56_train_labels = np.concatenate((seed1_DEV56_train_A4C_labels,\\\n",
    "                                            seed1_DEV56_train_A2C_labels,\\\n",
    "                                            seed1_DEV56_train_PLAX_labels,\\\n",
    "                                            seed1_DEV56_train_PSAX_labels), axis=0)\n"
   ]
  },
  {
   "cell_type": "code",
   "execution_count": 9,
   "id": "c1b8f333",
   "metadata": {},
   "outputs": [
    {
     "name": "stdout",
     "output_type": "stream",
     "text": [
      "seed1_DEV56_train_images: (1660, 112, 112, 3), seed1_DEV56_train_labels: (1660,)\n"
     ]
    }
   ],
   "source": [
    "print('seed1_DEV56_train_images: {}, seed1_DEV56_train_labels: {}'.format(seed1_DEV56_train_images.shape, seed1_DEV56_train_labels.shape))\n",
    "\n",
    "assert len(seed1_DEV56_train_images) == len(seed1_DEV56_train_labels) == len(seed1_DEV56_train_A4C_images) + len(seed1_DEV56_train_A2C_images) +\\\n",
    "                                                                           len(seed1_DEV56_train_PLAX_images) + len(seed1_DEV56_train_PSAX_images)\n",
    "\n",
    "\n"
   ]
  },
  {
   "cell_type": "code",
   "execution_count": 10,
   "id": "8238baee",
   "metadata": {},
   "outputs": [],
   "source": [
    "seed1_DEV56_train_set = {\"images\":seed1_DEV56_train_images, \"labels\":seed1_DEV56_train_labels}\n"
   ]
  },
  {
   "cell_type": "code",
   "execution_count": 11,
   "id": "d1dd51b5",
   "metadata": {},
   "outputs": [],
   "source": [
    "#save the test set\n",
    "data_seed1_DEV56_trainset_path = '/cluster/tufts/hugheslab/zhuang12/SSL_Contamination/realistic-ssl-evaluation-pytorch_RE/ML_DATA/TMED2/unnormalized_HWC/echo/data_seed1/DEV56'\n",
    "# np.save(os.path.join(data_seed1_DEV56_trainset_path, 'train.npy'), seed1_DEV56_train_set)\n",
    "save_pickle(data_seed1_DEV56_trainset_path, 'train.npy', seed1_DEV56_train_set)\n",
    "\n"
   ]
  },
  {
   "cell_type": "code",
   "execution_count": null,
   "id": "04aba3d8",
   "metadata": {},
   "outputs": [],
   "source": []
  },
  {
   "cell_type": "markdown",
   "id": "8c9e1306",
   "metadata": {},
   "source": [
    "#### step2: filter out the instance for A4CorA2CorOther from the val set of seed0 DEV479"
   ]
  },
  {
   "cell_type": "code",
   "execution_count": 4,
   "id": "714f8635",
   "metadata": {},
   "outputs": [],
   "source": [
    "seed1_DEV56_val_image_path = '/cluster/tufts/hugheslab/zhuang12/Echo_ClinicalManualScript_1112/ML_DATA/ViewClassifier/npy_seed1/DEV56/val_image.npy'\n",
    "seed1_DEV56_val_label_path = '/cluster/tufts/hugheslab/zhuang12/Echo_ClinicalManualScript_1112/ML_DATA/ViewClassifier/npy_seed1/DEV56/val_label.npy'\n"
   ]
  },
  {
   "cell_type": "code",
   "execution_count": 5,
   "id": "00895bbd",
   "metadata": {},
   "outputs": [],
   "source": [
    "seed1_DEV56_val_images = read_npy(seed1_DEV56_val_image_path)\n",
    "seed1_DEV56_val_labels = read_npy(seed1_DEV56_val_label_path)"
   ]
  },
  {
   "cell_type": "code",
   "execution_count": 6,
   "id": "4fe03fff",
   "metadata": {},
   "outputs": [
    {
     "name": "stdout",
     "output_type": "stream",
     "text": [
      "seed1_DEV56_val_images: (499, 112, 112, 3), seed1_DEV56_val_labels: (499,)\n"
     ]
    }
   ],
   "source": [
    "print('seed1_DEV56_val_images: {}, seed1_DEV56_val_labels: {}'.format(seed1_DEV56_val_images.shape , seed1_DEV56_val_labels.shape ))\n"
   ]
  },
  {
   "cell_type": "code",
   "execution_count": 7,
   "id": "ac9a8ffd",
   "metadata": {},
   "outputs": [
    {
     "data": {
      "text/plain": [
       "{0, 1, 2, 3, 4}"
      ]
     },
     "execution_count": 7,
     "metadata": {},
     "output_type": "execute_result"
    }
   ],
   "source": [
    "set(seed1_DEV56_val_labels)"
   ]
  },
  {
   "cell_type": "code",
   "execution_count": 8,
   "id": "a2ee6551",
   "metadata": {},
   "outputs": [],
   "source": [
    "NotA4CorA2CorOther_mask = seed1_DEV56_val_labels!=4"
   ]
  },
  {
   "cell_type": "code",
   "execution_count": 9,
   "id": "9c8e24e8",
   "metadata": {},
   "outputs": [
    {
     "data": {
      "text/plain": [
       "array([ True,  True,  True,  True,  True,  True,  True,  True,  True,\n",
       "        True,  True,  True,  True,  True,  True,  True,  True,  True,\n",
       "        True,  True,  True,  True,  True,  True,  True,  True,  True,\n",
       "        True,  True,  True,  True,  True,  True,  True,  True,  True,\n",
       "        True,  True,  True,  True,  True,  True,  True,  True,  True,\n",
       "        True,  True,  True,  True,  True,  True,  True,  True,  True,\n",
       "        True,  True,  True,  True,  True,  True,  True,  True,  True,\n",
       "        True,  True,  True,  True,  True,  True,  True,  True,  True,\n",
       "        True,  True,  True,  True,  True,  True,  True,  True,  True,\n",
       "        True,  True,  True,  True,  True,  True,  True,  True,  True,\n",
       "        True,  True,  True,  True,  True,  True,  True,  True,  True,\n",
       "        True,  True,  True,  True,  True,  True,  True,  True,  True,\n",
       "        True,  True,  True,  True,  True,  True,  True,  True,  True,\n",
       "        True,  True,  True,  True,  True,  True,  True,  True,  True,\n",
       "        True,  True,  True,  True,  True,  True,  True,  True,  True,\n",
       "        True,  True,  True,  True,  True,  True,  True,  True,  True,\n",
       "        True,  True,  True,  True,  True,  True,  True,  True,  True,\n",
       "        True,  True,  True,  True,  True,  True,  True,  True,  True,\n",
       "        True,  True,  True,  True,  True,  True,  True,  True,  True,\n",
       "        True,  True,  True,  True,  True,  True,  True,  True,  True,\n",
       "        True,  True,  True,  True,  True,  True,  True,  True,  True,\n",
       "        True,  True,  True,  True,  True,  True,  True,  True,  True,\n",
       "        True,  True,  True,  True,  True,  True,  True,  True,  True,\n",
       "        True,  True,  True,  True,  True,  True, False, False, False,\n",
       "       False, False, False, False, False, False, False, False, False,\n",
       "       False, False, False, False, False, False, False, False, False,\n",
       "       False, False, False, False, False, False, False, False,  True,\n",
       "       False, False, False, False, False, False, False, False, False,\n",
       "       False, False, False, False, False, False, False, False, False,\n",
       "       False, False, False, False, False, False, False, False, False,\n",
       "       False, False, False, False, False, False, False, False, False,\n",
       "       False, False, False, False, False, False, False, False, False,\n",
       "       False, False, False, False, False, False, False, False, False,\n",
       "       False, False, False, False, False, False, False, False, False,\n",
       "       False, False, False, False, False, False, False, False, False,\n",
       "       False, False, False,  True,  True, False, False, False, False,\n",
       "       False, False, False, False, False, False, False,  True,  True,\n",
       "        True,  True,  True, False, False, False, False,  True,  True,\n",
       "        True, False, False, False, False, False, False,  True,  True,\n",
       "       False, False, False, False, False, False, False, False, False,\n",
       "       False, False, False, False, False, False, False, False, False,\n",
       "       False, False, False, False, False, False, False, False, False,\n",
       "       False, False, False, False, False, False, False, False, False,\n",
       "       False, False, False, False, False, False, False, False, False,\n",
       "       False, False, False, False, False, False, False, False, False,\n",
       "       False, False, False, False, False, False, False, False, False,\n",
       "       False, False, False, False, False, False, False, False, False,\n",
       "       False, False, False, False, False, False, False, False, False,\n",
       "       False, False, False, False, False, False, False, False, False,\n",
       "       False, False, False, False, False, False, False, False, False,\n",
       "       False, False,  True,  True,  True,  True,  True,  True, False,\n",
       "       False,  True,  True,  True, False, False, False, False, False,\n",
       "       False, False, False, False, False, False, False, False, False,\n",
       "       False, False, False, False, False, False, False, False, False,\n",
       "       False, False, False, False, False, False, False, False, False,\n",
       "       False, False, False, False])"
      ]
     },
     "execution_count": 9,
     "metadata": {},
     "output_type": "execute_result"
    }
   ],
   "source": [
    "NotA4CorA2CorOther_mask"
   ]
  },
  {
   "cell_type": "code",
   "execution_count": 10,
   "id": "11c03aed",
   "metadata": {},
   "outputs": [
    {
     "name": "stdout",
     "output_type": "stream",
     "text": [
      "After filtering out A4CorA2CorOther:\n",
      "seed1_DEV56_val_images[NotA4CorA2CorOther_mask]: (235, 112, 112, 3), seed1_DEV56_val_labels[NotA4CorA2CorOther_mask]: (235,)\n"
     ]
    }
   ],
   "source": [
    "print('After filtering out A4CorA2CorOther:')\n",
    "print('seed1_DEV56_val_images[NotA4CorA2CorOther_mask]: {}, seed1_DEV56_val_labels[NotA4CorA2CorOther_mask]: {}'.format(seed1_DEV56_val_images[NotA4CorA2CorOther_mask].shape , seed1_DEV56_val_labels[NotA4CorA2CorOther_mask].shape ))\n"
   ]
  },
  {
   "cell_type": "code",
   "execution_count": 11,
   "id": "3bd242aa",
   "metadata": {},
   "outputs": [],
   "source": [
    "seed1_DEV56_val_set = {\"images\":seed1_DEV56_val_images[NotA4CorA2CorOther_mask], \"labels\":seed1_DEV56_val_labels[NotA4CorA2CorOther_mask]}\n"
   ]
  },
  {
   "cell_type": "code",
   "execution_count": 12,
   "id": "112098a5",
   "metadata": {},
   "outputs": [],
   "source": [
    "#save the val set\n",
    "data_seed1_DEV56_valset_path = '/cluster/tufts/hugheslab/zhuang12/SSL_Contamination/realistic-ssl-evaluation-pytorch_RE/ML_DATA/TMED2/unnormalized_HWC/echo/data_seed1/DEV56'\n",
    "# np.save(os.path.join(data_seed1_DEV56_valset_path, 'val.npy'),seed1_DEV56_val_set)\n",
    "save_pickle(data_seed1_DEV56_valset_path, 'val.npy',seed1_DEV56_val_set)\n"
   ]
  },
  {
   "cell_type": "code",
   "execution_count": null,
   "id": "83a63d44",
   "metadata": {},
   "outputs": [],
   "source": []
  }
 ],
 "metadata": {
  "kernelspec": {
   "display_name": "Python 3 (ipykernel)",
   "language": "python",
   "name": "python3"
  },
  "language_info": {
   "codemirror_mode": {
    "name": "ipython",
    "version": 3
   },
   "file_extension": ".py",
   "mimetype": "text/x-python",
   "name": "python",
   "nbconvert_exporter": "python",
   "pygments_lexer": "ipython3",
   "version": "3.8.12"
  }
 },
 "nbformat": 4,
 "nbformat_minor": 5
}
