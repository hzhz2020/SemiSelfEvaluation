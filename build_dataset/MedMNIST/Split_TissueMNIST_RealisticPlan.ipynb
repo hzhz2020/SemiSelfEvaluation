{
 "cells": [
  {
   "cell_type": "code",
   "execution_count": 1,
   "id": "a41c5479",
   "metadata": {},
   "outputs": [],
   "source": [
    "import numpy as np\n",
    "import os\n",
    "from PIL import Image\n"
   ]
  },
  {
   "cell_type": "code",
   "execution_count": 2,
   "id": "f9b43a91",
   "metadata": {},
   "outputs": [],
   "source": [
    "root_dir = '/cluster/tufts/hugheslab/zhuang12/SemiSelfEvaluationProject/FromMedMNISTWebsite/'\n"
   ]
  },
  {
   "cell_type": "code",
   "execution_count": 3,
   "id": "6d162e38",
   "metadata": {},
   "outputs": [],
   "source": [
    "# def get_means_and_std(images):\n",
    "\n",
    "#     means = 0\n",
    "#     stds = 0\n",
    "\n",
    "#     assert images.ndim == 3 #data['images'] N, H, W\n",
    "#     for image in images:\n",
    "#         means += image.mean()\n",
    "#         stds += image.std()\n",
    "\n",
    "#     means = means/len(images)\n",
    "#     stds = stds/len(images)\n",
    "\n",
    "#     print('means: {}'.format(means))\n",
    "#     print('stds: {}'.format(stds))\n",
    "    \n",
    "#     return means, stds\n",
    "def get_means_and_std(images):\n",
    "\n",
    "    means = np.zeros(3)\n",
    "    stds = np.zeros(3)\n",
    "\n",
    "    assert images.shape[3] == 3 #data['images'] N, H, W, C\n",
    "    for image in images:\n",
    "\n",
    "        for i in range(3):\n",
    "            means[i] += image[:,:,i].mean()\n",
    "            stds[i] += image[:,:,i].std()\n",
    "\n",
    "    means = means/len(images)\n",
    "    stds = stds/len(images)\n",
    "\n",
    "    print('means: {}'.format(means))\n",
    "    print('stds: {}'.format(stds))\n",
    "    \n",
    "    return means, stds"
   ]
  },
  {
   "cell_type": "code",
   "execution_count": null,
   "id": "799a483a",
   "metadata": {},
   "outputs": [],
   "source": []
  },
  {
   "cell_type": "markdown",
   "id": "728d06c3",
   "metadata": {},
   "source": [
    "## original tissuemnist"
   ]
  },
  {
   "cell_type": "code",
   "execution_count": 4,
   "id": "858ff6d8",
   "metadata": {},
   "outputs": [],
   "source": [
    "tissuemnist_path = os.path.join(root_dir, 'tissuemnist.npz')\n"
   ]
  },
  {
   "cell_type": "code",
   "execution_count": 5,
   "id": "d68b1062",
   "metadata": {},
   "outputs": [],
   "source": [
    "# tissuemnist = np.load(tissuemnist_path, allow_pickle=True)\n",
    "tissuemnist = np.load(tissuemnist_path)\n"
   ]
  },
  {
   "cell_type": "markdown",
   "id": "18573fef",
   "metadata": {},
   "source": [
    "#### train"
   ]
  },
  {
   "cell_type": "code",
   "execution_count": 6,
   "id": "1b554e33",
   "metadata": {},
   "outputs": [],
   "source": [
    "train_images = tissuemnist['train_images']\n",
    "train_labels = tissuemnist['train_labels'].squeeze()\n",
    "\n",
    "\n"
   ]
  },
  {
   "cell_type": "code",
   "execution_count": 7,
   "id": "fb554c8d",
   "metadata": {
    "scrolled": true
   },
   "outputs": [
    {
     "name": "stdout",
     "output_type": "stream",
     "text": [
      "train_images: (165466, 28, 28) train_labels: (165466,)\n"
     ]
    }
   ],
   "source": [
    "print('train_images: {} train_labels: {}'.format(train_images.shape, train_labels.shape))\n"
   ]
  },
  {
   "cell_type": "code",
   "execution_count": 8,
   "id": "910eb5aa",
   "metadata": {},
   "outputs": [
    {
     "data": {
      "text/plain": [
       "array([0, 0, 6, ..., 2, 1, 6], dtype=uint8)"
      ]
     },
     "execution_count": 8,
     "metadata": {},
     "output_type": "execute_result"
    }
   ],
   "source": [
    "train_labels"
   ]
  },
  {
   "cell_type": "code",
   "execution_count": 9,
   "id": "1c1bfd7b",
   "metadata": {},
   "outputs": [
    {
     "name": "stdout",
     "output_type": "stream",
     "text": [
      "train_labels: {0, 1, 2, 3, 4, 5, 6, 7}\n",
      "num samples each class\n",
      "0: 53075\n",
      "1: 7814\n",
      "2: 5866\n",
      "3: 15406\n",
      "4: 11789\n",
      "5: 7705\n",
      "6: 39203\n",
      "7: 24608\n"
     ]
    }
   ],
   "source": [
    "print('train_labels: {}'.format(set(train_labels)))\n",
    "N_class0 = np.sum(train_labels==0)\n",
    "N_class1 = np.sum(train_labels==1)\n",
    "N_class2 = np.sum(train_labels==2)\n",
    "N_class3 = np.sum(train_labels==3)\n",
    "N_class4 = np.sum(train_labels==4)\n",
    "N_class5 = np.sum(train_labels==5)\n",
    "N_class6 = np.sum(train_labels==6)\n",
    "N_class7 = np.sum(train_labels==7)\n",
    "\n",
    "print('num samples each class')\n",
    "print('0: {}\\n1: {}\\n2: {}\\n3: {}\\n4: {}\\n5: {}\\n6: {}\\n7: {}'.format(N_class0, N_class1, N_class2, N_class3, N_class4, N_class5, N_class6, N_class7))\n",
    "\n",
    "\n"
   ]
  },
  {
   "cell_type": "code",
   "execution_count": 10,
   "id": "e3b61370",
   "metadata": {},
   "outputs": [],
   "source": [
    "train_images_3channel = []\n",
    "for image in train_images:\n",
    "    this_train_image_3channel = np.stack([image.copy(), image.copy(), image.copy()], axis=-1)\n",
    "    train_images_3channel.append(this_train_image_3channel)\n",
    "\n",
    "train_images_3channel = np.array(train_images_3channel)\n"
   ]
  },
  {
   "cell_type": "code",
   "execution_count": 11,
   "id": "c4f15803",
   "metadata": {},
   "outputs": [
    {
     "name": "stdout",
     "output_type": "stream",
     "text": [
      "train_images_3channel: (165466, 28, 28, 3) \n"
     ]
    }
   ],
   "source": [
    "print('train_images_3channel: {} '.format(train_images_3channel.shape))\n"
   ]
  },
  {
   "cell_type": "code",
   "execution_count": 12,
   "id": "80f08113",
   "metadata": {},
   "outputs": [
    {
     "name": "stdout",
     "output_type": "stream",
     "text": [
      "means: [26.02150799 26.02150799 26.02150799]\n",
      "stds: [20.37592862 20.37592862 20.37592862]\n"
     ]
    }
   ],
   "source": [
    "train_means, train_stds = get_means_and_std(train_images_3channel)"
   ]
  },
  {
   "cell_type": "code",
   "execution_count": 13,
   "id": "aab06254",
   "metadata": {},
   "outputs": [
    {
     "data": {
      "image/png": "[encoded data removed]",
      "text/plain": [
       "<PIL.Image.Image image mode=L size=28x28 at 0x2B2FD7CEE2B0>"
      ]
     },
     "execution_count": 13,
     "metadata": {},
     "output_type": "execute_result"
    }
   ],
   "source": [
    "Image.fromarray(train_images[0])"
   ]
  },
  {
   "cell_type": "code",
   "execution_count": null,
   "id": "40793f5c",
   "metadata": {},
   "outputs": [],
   "source": []
  },
  {
   "cell_type": "code",
   "execution_count": null,
   "id": "838f4427",
   "metadata": {},
   "outputs": [],
   "source": []
  },
  {
   "cell_type": "markdown",
   "id": "daa34b43",
   "metadata": {},
   "source": [
    "#### val"
   ]
  },
  {
   "cell_type": "code",
   "execution_count": 14,
   "id": "b3188bf4",
   "metadata": {},
   "outputs": [],
   "source": [
    "val_images = tissuemnist['val_images']\n",
    "val_labels = tissuemnist['val_labels'].squeeze()\n"
   ]
  },
  {
   "cell_type": "code",
   "execution_count": 15,
   "id": "85b3cc2a",
   "metadata": {
    "scrolled": true
   },
   "outputs": [
    {
     "name": "stdout",
     "output_type": "stream",
     "text": [
      "val_images: (23640, 28, 28) val_labels: (23640,)\n"
     ]
    }
   ],
   "source": [
    "print('val_images: {} val_labels: {}'.format(val_images.shape, val_labels.shape))\n"
   ]
  },
  {
   "cell_type": "code",
   "execution_count": 16,
   "id": "3ebe45a2",
   "metadata": {},
   "outputs": [
    {
     "name": "stdout",
     "output_type": "stream",
     "text": [
      "val_labels: {0, 1, 2, 3, 4, 5, 6, 7}\n",
      "num samples each class\n",
      "0: 7582\n",
      "1: 1117\n",
      "2: 838\n",
      "3: 2201\n",
      "4: 1684\n",
      "5: 1101\n",
      "6: 5601\n",
      "7: 3516\n"
     ]
    }
   ],
   "source": [
    "print('val_labels: {}'.format(set(val_labels)))\n",
    "N_class0 = np.sum(val_labels==0)\n",
    "N_class1 = np.sum(val_labels==1)\n",
    "N_class2 = np.sum(val_labels==2)\n",
    "N_class3 = np.sum(val_labels==3)\n",
    "N_class4 = np.sum(val_labels==4)\n",
    "N_class5 = np.sum(val_labels==5)\n",
    "N_class6 = np.sum(val_labels==6)\n",
    "N_class7 = np.sum(val_labels==7)\n",
    "\n",
    "print('num samples each class')\n",
    "print('0: {}\\n1: {}\\n2: {}\\n3: {}\\n4: {}\\n5: {}\\n6: {}\\n7: {}'.format(N_class0, N_class1, N_class2, N_class3, N_class4, N_class5, N_class6, N_class7))\n",
    "\n",
    "\n"
   ]
  },
  {
   "cell_type": "code",
   "execution_count": 17,
   "id": "f06f67db",
   "metadata": {},
   "outputs": [],
   "source": [
    "val_images_3channel = []\n",
    "for image in val_images:\n",
    "    this_val_image_3channel = np.stack([image.copy(), image.copy(), image.copy()], axis=-1)\n",
    "    val_images_3channel.append(this_val_image_3channel)\n",
    "\n",
    "val_images_3channel = np.array(val_images_3channel)\n",
    "\n",
    "val_set = {\"images\": val_images_3channel, \"labels\": val_labels}"
   ]
  },
  {
   "cell_type": "code",
   "execution_count": 18,
   "id": "0a3b465d",
   "metadata": {},
   "outputs": [
    {
     "name": "stdout",
     "output_type": "stream",
     "text": [
      "val_images_3channel: (23640, 28, 28, 3) \n"
     ]
    }
   ],
   "source": [
    "print('val_images_3channel: {} '.format(val_images_3channel.shape))\n"
   ]
  },
  {
   "cell_type": "code",
   "execution_count": 19,
   "id": "b145e661",
   "metadata": {
    "scrolled": true
   },
   "outputs": [
    {
     "name": "stdout",
     "output_type": "stream",
     "text": [
      "means: [26.02644266 26.02644266 26.02644266]\n",
      "stds: [20.3406241 20.3406241 20.3406241]\n"
     ]
    }
   ],
   "source": [
    "val_means, val_stds = get_means_and_std(val_images_3channel)"
   ]
  },
  {
   "cell_type": "code",
   "execution_count": 20,
   "id": "c906f518",
   "metadata": {},
   "outputs": [
    {
     "data": {
      "image/png": "[encoded data removed]",
      "text/plain": [
       "<PIL.Image.Image image mode=L size=28x28 at 0x2B2FBB6983D0>"
      ]
     },
     "execution_count": 20,
     "metadata": {},
     "output_type": "execute_result"
    }
   ],
   "source": [
    "Image.fromarray(val_images[1])"
   ]
  },
  {
   "cell_type": "code",
   "execution_count": null,
   "id": "9bcd7f34",
   "metadata": {},
   "outputs": [],
   "source": []
  },
  {
   "cell_type": "markdown",
   "id": "d0d23b74",
   "metadata": {},
   "source": [
    "#### test"
   ]
  },
  {
   "cell_type": "code",
   "execution_count": 21,
   "id": "fc516ed1",
   "metadata": {},
   "outputs": [],
   "source": [
    "test_images = tissuemnist['test_images']\n",
    "test_labels = tissuemnist['test_labels'].squeeze()\n"
   ]
  },
  {
   "cell_type": "code",
   "execution_count": 22,
   "id": "15709f63",
   "metadata": {
    "scrolled": true
   },
   "outputs": [
    {
     "name": "stdout",
     "output_type": "stream",
     "text": [
      "test_images: (47280, 28, 28) test_labels: (47280,)\n"
     ]
    }
   ],
   "source": [
    "print('test_images: {} test_labels: {}'.format(test_images.shape, test_labels.shape))\n"
   ]
  },
  {
   "cell_type": "code",
   "execution_count": 23,
   "id": "b2b8a25d",
   "metadata": {},
   "outputs": [
    {
     "name": "stdout",
     "output_type": "stream",
     "text": [
      "test_labels: {0, 1, 2, 3, 4, 5, 6, 7}\n",
      "num samples each class\n",
      "0: 15165\n",
      "1: 2233\n",
      "2: 1677\n",
      "3: 4402\n",
      "4: 3369\n",
      "5: 2202\n",
      "6: 11201\n",
      "7: 7031\n"
     ]
    }
   ],
   "source": [
    "print('test_labels: {}'.format(set(test_labels)))\n",
    "N_class0 = np.sum(test_labels==0)\n",
    "N_class1 = np.sum(test_labels==1)\n",
    "N_class2 = np.sum(test_labels==2)\n",
    "N_class3 = np.sum(test_labels==3)\n",
    "N_class4 = np.sum(test_labels==4)\n",
    "N_class5 = np.sum(test_labels==5)\n",
    "N_class6 = np.sum(test_labels==6)\n",
    "N_class7 = np.sum(test_labels==7)\n",
    "\n",
    "print('num samples each class')\n",
    "print('0: {}\\n1: {}\\n2: {}\\n3: {}\\n4: {}\\n5: {}\\n6: {}\\n7: {}'.format(N_class0, N_class1, N_class2, N_class3, N_class4, N_class5, N_class6, N_class7))\n",
    "\n",
    "\n"
   ]
  },
  {
   "cell_type": "code",
   "execution_count": 24,
   "id": "b6fa4248",
   "metadata": {},
   "outputs": [],
   "source": [
    "test_images_3channel = []\n",
    "for image in test_images:\n",
    "    this_test_image_3channel = np.stack([image.copy(), image.copy(), image.copy()], axis=-1)\n",
    "    test_images_3channel.append(this_test_image_3channel)\n",
    "\n",
    "test_images_3channel = np.array(test_images_3channel)\n",
    "\n",
    "test_set = {\"images\": test_images_3channel, \"labels\": test_labels}"
   ]
  },
  {
   "cell_type": "code",
   "execution_count": 25,
   "id": "853a75a3",
   "metadata": {
    "scrolled": true
   },
   "outputs": [
    {
     "name": "stdout",
     "output_type": "stream",
     "text": [
      "test_images_3channel: (47280, 28, 28, 3) \n"
     ]
    }
   ],
   "source": [
    "print('test_images_3channel: {} '.format(test_images_3channel.shape))\n"
   ]
  },
  {
   "cell_type": "code",
   "execution_count": 26,
   "id": "e3dc7d7f",
   "metadata": {
    "scrolled": true
   },
   "outputs": [
    {
     "name": "stdout",
     "output_type": "stream",
     "text": [
      "means: [26.07592029 26.07592029 26.07592029]\n",
      "stds: [20.41282754 20.41282754 20.41282754]\n"
     ]
    }
   ],
   "source": [
    "test_means, test_stds = get_means_and_std(test_images_3channel)"
   ]
  },
  {
   "cell_type": "code",
   "execution_count": 27,
   "id": "ff7bef81",
   "metadata": {},
   "outputs": [
    {
     "data": {
      "image/png": "[encoded data removed]",
      "text/plain": [
       "<PIL.Image.Image image mode=L size=28x28 at 0x2B2FBB699C40>"
      ]
     },
     "execution_count": 27,
     "metadata": {},
     "output_type": "execute_result"
    }
   ],
   "source": [
    "Image.fromarray(test_images[1])"
   ]
  },
  {
   "cell_type": "code",
   "execution_count": null,
   "id": "dd6eb68e",
   "metadata": {},
   "outputs": [],
   "source": []
  },
  {
   "cell_type": "markdown",
   "id": "e7ff68f2",
   "metadata": {
    "scrolled": true
   },
   "source": [
    "## Calculating Train labeled/Val/Train unlabeled split plan"
   ]
  },
  {
   "cell_type": "code",
   "execution_count": 28,
   "id": "a8b7b1d4",
   "metadata": {},
   "outputs": [
    {
     "name": "stdout",
     "output_type": "stream",
     "text": [
      "total_dev: 189106\n",
      "total_class0_dev: 60657\n",
      "total_class1_dev: 8931\n",
      "total_class2_dev: 6704\n",
      "total_class3_dev: 17607\n",
      "total_class4_dev: 13473\n",
      "total_class5_dev: 8806\n",
      "total_class6_dev: 44804\n",
      "total_class7_dev: 28124\n"
     ]
    }
   ],
   "source": [
    "total_dev = len(train_labels) + len(val_labels)\n",
    "total_class0_dev = np.sum(train_labels==0) + np.sum(val_labels==0)\n",
    "total_class1_dev = np.sum(train_labels==1) + np.sum(val_labels==1)\n",
    "total_class2_dev = np.sum(train_labels==2) + np.sum(val_labels==2)\n",
    "total_class3_dev = np.sum(train_labels==3) + np.sum(val_labels==3)\n",
    "total_class4_dev = np.sum(train_labels==4) + np.sum(val_labels==4)\n",
    "total_class5_dev = np.sum(train_labels==5) + np.sum(val_labels==5)\n",
    "total_class6_dev = np.sum(train_labels==6) + np.sum(val_labels==6)\n",
    "total_class7_dev = np.sum(train_labels==7) + np.sum(val_labels==7)\n",
    "\n",
    "print('total_dev: {}'.format(total_dev))\n",
    "print('total_class0_dev: {}'.format(total_class0_dev))\n",
    "print('total_class1_dev: {}'.format(total_class1_dev))\n",
    "print('total_class2_dev: {}'.format(total_class2_dev))\n",
    "print('total_class3_dev: {}'.format(total_class3_dev))\n",
    "print('total_class4_dev: {}'.format(total_class4_dev))\n",
    "print('total_class5_dev: {}'.format(total_class5_dev))\n",
    "print('total_class6_dev: {}'.format(total_class6_dev))\n",
    "print('total_class7_dev: {}'.format(total_class7_dev))\n",
    "\n",
    "assert total_dev == (total_class0_dev+total_class1_dev+total_class2_dev+total_class3_dev+total_class4_dev+total_class5_dev+total_class6_dev+total_class7_dev)\n"
   ]
  },
  {
   "cell_type": "code",
   "execution_count": 29,
   "id": "f084b3e1",
   "metadata": {},
   "outputs": [
    {
     "name": "stdout",
     "output_type": "stream",
     "text": [
      "temp_class0_dev: 256.60529015472804\n",
      "temp_class1_dev: 37.78198470698973\n",
      "temp_class2_dev: 28.36081351199856\n",
      "temp_class3_dev: 74.4852093534843\n",
      "temp_class4_dev: 56.996605078633145\n",
      "temp_class5_dev: 37.25318075576661\n",
      "temp_class6_dev: 189.5402578448066\n",
      "temp_class7_dev: 118.97665859359302\n"
     ]
    }
   ],
   "source": [
    "temp_class0_dev = 800 * (total_class0_dev/total_dev)\n",
    "temp_class1_dev = 800 * (total_class1_dev/total_dev)\n",
    "temp_class2_dev = 800 * (total_class2_dev/total_dev)\n",
    "temp_class3_dev = 800 * (total_class3_dev/total_dev)\n",
    "temp_class4_dev = 800 * (total_class4_dev/total_dev)\n",
    "temp_class5_dev = 800 * (total_class5_dev/total_dev)\n",
    "temp_class6_dev = 800 * (total_class6_dev/total_dev)\n",
    "temp_class7_dev = 800 * (total_class7_dev/total_dev)\n",
    "\n",
    "print('temp_class0_dev: {}'.format(temp_class0_dev))\n",
    "print('temp_class1_dev: {}'.format(temp_class1_dev))\n",
    "print('temp_class2_dev: {}'.format(temp_class2_dev))\n",
    "print('temp_class3_dev: {}'.format(temp_class3_dev))\n",
    "print('temp_class4_dev: {}'.format(temp_class4_dev))\n",
    "print('temp_class5_dev: {}'.format(temp_class5_dev))\n",
    "print('temp_class6_dev: {}'.format(temp_class6_dev))\n",
    "print('temp_class7_dev: {}'.format(temp_class7_dev))\n"
   ]
  },
  {
   "cell_type": "code",
   "execution_count": 30,
   "id": "ea77645e",
   "metadata": {},
   "outputs": [
    {
     "name": "stdout",
     "output_type": "stream",
     "text": [
      "total dev: 800\n"
     ]
    }
   ],
   "source": [
    "final_class0_dev = 256\n",
    "final_class1_dev = 38\n",
    "final_class2_dev = 30\n",
    "final_class3_dev = 74\n",
    "final_class4_dev = 56\n",
    "final_class5_dev = 38\n",
    "final_class6_dev = 190\n",
    "final_class7_dev = 118\n",
    "\n",
    "print('total dev: {}'.format(final_class0_dev+final_class1_dev+final_class2_dev+final_class3_dev+final_class4_dev+final_class5_dev+final_class6_dev+final_class7_dev))\n"
   ]
  },
  {
   "cell_type": "code",
   "execution_count": null,
   "id": "6d336e59",
   "metadata": {},
   "outputs": [],
   "source": []
  },
  {
   "cell_type": "code",
   "execution_count": null,
   "id": "6cf5aab5",
   "metadata": {},
   "outputs": [],
   "source": []
  },
  {
   "cell_type": "code",
   "execution_count": null,
   "id": "937cb0b1",
   "metadata": {},
   "outputs": [],
   "source": []
  },
  {
   "cell_type": "markdown",
   "id": "5254c66c",
   "metadata": {},
   "source": [
    "## Create Train labeled/Val/Test/Train unlabeled split"
   ]
  },
  {
   "cell_type": "markdown",
   "id": "1cca4e40",
   "metadata": {},
   "source": [
    "### 1. split train into labeled and unlabeled, according to calculated #train labeled each class (total trainlabeled size 400)"
   ]
  },
  {
   "cell_type": "code",
   "execution_count": 31,
   "id": "bd983fc4",
   "metadata": {},
   "outputs": [],
   "source": [
    "def split_l_u(images, labels, classes, trainlabeled_each_class_dict):\n",
    "    l_images = []\n",
    "    l_labels = []\n",
    "    u_images = []\n",
    "    u_labels = []\n",
    "    \n",
    "    for c in classes:\n",
    "        trainlabeled_this_class = trainlabeled_each_class_dict[c]\n",
    "        \n",
    "        cls_mask = (labels==c)\n",
    "        c_images = images[cls_mask]\n",
    "        c_labels = labels[cls_mask]\n",
    "        l_images += [c_images[:trainlabeled_this_class]]\n",
    "        l_labels += [c_labels[:trainlabeled_this_class]]\n",
    "        u_images += [c_images[trainlabeled_this_class:]]\n",
    "#         [-1]*len(c_images[n_labels_per_cls:])\n",
    "        u_labels += [-1]*len(c_labels[trainlabeled_this_class:])  #dummy label\n",
    "    \n",
    "    l_set = {\"images\": np.concatenate(l_images, 0), \"labels\": np.concatenate(l_labels, 0)}\n",
    "    u_set = {\"images\": np.concatenate(u_images, 0), \"labels\": np.array(u_labels)}\n",
    "\n",
    "    return l_set, u_set\n",
    "    \n",
    "    "
   ]
  },
  {
   "cell_type": "code",
   "execution_count": 32,
   "id": "10cde891",
   "metadata": {},
   "outputs": [],
   "source": [
    "rng = np.random.RandomState(0)\n",
    "indices = rng.permutation(len(train_images))\n",
    "train_images_3channel = train_images_3channel[indices]\n",
    "train_labels = train_labels[indices]\n"
   ]
  },
  {
   "cell_type": "code",
   "execution_count": 33,
   "id": "b9c2f6cc",
   "metadata": {},
   "outputs": [],
   "source": [
    "classes = [0, 1, 2, 3, 4, 5, 6, 7]\n",
    "trainlabeled_each_class_dict = {\n",
    "    0: 128,\n",
    "    1: 19,\n",
    "    2: 15,\n",
    "    3: 37,\n",
    "    4: 28,\n",
    "    5: 19,\n",
    "    6: 95,\n",
    "    7: 59,\n",
    "    \n",
    "}\n",
    "\n",
    "l_train_set, u_train_set = split_l_u(train_images_3channel, train_labels, classes, trainlabeled_each_class_dict)\n"
   ]
  },
  {
   "cell_type": "code",
   "execution_count": 34,
   "id": "ae6b35f1",
   "metadata": {},
   "outputs": [
    {
     "data": {
      "text/plain": [
       "{'images': array([[[[ 41,  41,  41],\n",
       "          [ 46,  46,  46],\n",
       "          [ 50,  50,  50],\n",
       "          ...,\n",
       "          [ 24,  24,  24],\n",
       "          [ 36,  36,  36],\n",
       "          [ 43,  43,  43]],\n",
       " \n",
       "         [[ 41,  41,  41],\n",
       "          [ 40,  40,  40],\n",
       "          [ 39,  39,  39],\n",
       "          ...,\n",
       "          [ 28,  28,  28],\n",
       "          [ 39,  39,  39],\n",
       "          [ 46,  46,  46]],\n",
       " \n",
       "         [[ 44,  44,  44],\n",
       "          [ 39,  39,  39],\n",
       "          [ 34,  34,  34],\n",
       "          ...,\n",
       "          [ 25,  25,  25],\n",
       "          [ 35,  35,  35],\n",
       "          [ 41,  41,  41]],\n",
       " \n",
       "         ...,\n",
       " \n",
       "         [[ 10,  10,  10],\n",
       "          [  9,   9,   9],\n",
       "          [  9,   9,   9],\n",
       "          ...,\n",
       "          [ 46,  46,  46],\n",
       "          [ 38,  38,  38],\n",
       "          [ 37,  37,  37]],\n",
       " \n",
       "         [[ 10,  10,  10],\n",
       "          [  9,   9,   9],\n",
       "          [  9,   9,   9],\n",
       "          ...,\n",
       "          [ 44,  44,  44],\n",
       "          [ 36,  36,  36],\n",
       "          [ 35,  35,  35]],\n",
       " \n",
       "         [[ 10,  10,  10],\n",
       "          [  9,   9,   9],\n",
       "          [  9,   9,   9],\n",
       "          ...,\n",
       "          [ 43,  43,  43],\n",
       "          [ 35,  35,  35],\n",
       "          [ 34,  34,  34]]],\n",
       " \n",
       " \n",
       "        [[[ 15,  15,  15],\n",
       "          [ 14,  14,  14],\n",
       "          [ 14,  14,  14],\n",
       "          ...,\n",
       "          [  7,   7,   7],\n",
       "          [  6,   6,   6],\n",
       "          [  6,   6,   6]],\n",
       " \n",
       "         [[ 14,  14,  14],\n",
       "          [ 13,  13,  13],\n",
       "          [ 13,  13,  13],\n",
       "          ...,\n",
       "          [ 10,  10,  10],\n",
       "          [ 10,  10,  10],\n",
       "          [  9,   9,   9]],\n",
       " \n",
       "         [[ 13,  13,  13],\n",
       "          [ 12,  12,  12],\n",
       "          [ 11,  11,  11],\n",
       "          ...,\n",
       "          [  8,   8,   8],\n",
       "          [  8,   8,   8],\n",
       "          [  7,   7,   7]],\n",
       " \n",
       "         ...,\n",
       " \n",
       "         [[ 18,  18,  18],\n",
       "          [ 14,  14,  14],\n",
       "          [ 10,  10,  10],\n",
       "          ...,\n",
       "          [ 12,  12,  12],\n",
       "          [ 15,  15,  15],\n",
       "          [ 17,  17,  17]],\n",
       " \n",
       "         [[ 15,  15,  15],\n",
       "          [ 12,  12,  12],\n",
       "          [ 10,  10,  10],\n",
       "          ...,\n",
       "          [ 12,  12,  12],\n",
       "          [ 14,  14,  14],\n",
       "          [ 16,  16,  16]],\n",
       " \n",
       "         [[ 17,  17,  17],\n",
       "          [ 15,  15,  15],\n",
       "          [ 14,  14,  14],\n",
       "          ...,\n",
       "          [ 15,  15,  15],\n",
       "          [ 17,  17,  17],\n",
       "          [ 19,  19,  19]]],\n",
       " \n",
       " \n",
       "        [[[ 43,  43,  43],\n",
       "          [ 51,  51,  51],\n",
       "          [ 88,  88,  88],\n",
       "          ...,\n",
       "          [ 87,  87,  87],\n",
       "          [ 70,  70,  70],\n",
       "          [ 30,  30,  30]],\n",
       " \n",
       "         [[ 40,  40,  40],\n",
       "          [ 48,  48,  48],\n",
       "          [ 82,  82,  82],\n",
       "          ...,\n",
       "          [107, 107, 107],\n",
       "          [106, 106, 106],\n",
       "          [ 70,  70,  70]],\n",
       " \n",
       "         [[ 20,  20,  20],\n",
       "          [ 23,  23,  23],\n",
       "          [ 46,  46,  46],\n",
       "          ...,\n",
       "          [ 93,  93,  93],\n",
       "          [105, 105, 105],\n",
       "          [ 70,  70,  70]],\n",
       " \n",
       "         ...,\n",
       " \n",
       "         [[ 71,  71,  71],\n",
       "          [101, 101, 101],\n",
       "          [ 94,  94,  94],\n",
       "          ...,\n",
       "          [  9,   9,   9],\n",
       "          [  5,   5,   5],\n",
       "          [  4,   4,   4]],\n",
       " \n",
       "         [[ 92,  92,  92],\n",
       "          [110, 110, 110],\n",
       "          [ 90,  90,  90],\n",
       "          ...,\n",
       "          [  7,   7,   7],\n",
       "          [  4,   4,   4],\n",
       "          [  3,   3,   3]],\n",
       " \n",
       "         [[ 79,  79,  79],\n",
       "          [ 95,  95,  95],\n",
       "          [ 78,  78,  78],\n",
       "          ...,\n",
       "          [  6,   6,   6],\n",
       "          [  3,   3,   3],\n",
       "          [  2,   2,   2]]],\n",
       " \n",
       " \n",
       "        ...,\n",
       " \n",
       " \n",
       "        [[[ 51,  51,  51],\n",
       "          [ 58,  58,  58],\n",
       "          [ 63,  63,  63],\n",
       "          ...,\n",
       "          [  9,   9,   9],\n",
       "          [ 10,  10,  10],\n",
       "          [ 11,  11,  11]],\n",
       " \n",
       "         [[ 61,  61,  61],\n",
       "          [ 69,  69,  69],\n",
       "          [ 70,  70,  70],\n",
       "          ...,\n",
       "          [  8,   8,   8],\n",
       "          [  9,   9,   9],\n",
       "          [ 10,  10,  10]],\n",
       " \n",
       "         [[ 55,  55,  55],\n",
       "          [ 65,  65,  65],\n",
       "          [ 67,  67,  67],\n",
       "          ...,\n",
       "          [  7,   7,   7],\n",
       "          [  8,   8,   8],\n",
       "          [  9,   9,   9]],\n",
       " \n",
       "         ...,\n",
       " \n",
       "         [[ 13,  13,  13],\n",
       "          [ 18,  18,  18],\n",
       "          [ 30,  30,  30],\n",
       "          ...,\n",
       "          [ 10,  10,  10],\n",
       "          [  9,   9,   9],\n",
       "          [  7,   7,   7]],\n",
       " \n",
       "         [[ 10,  10,  10],\n",
       "          [ 12,  12,  12],\n",
       "          [ 20,  20,  20],\n",
       "          ...,\n",
       "          [ 11,  11,  11],\n",
       "          [ 10,  10,  10],\n",
       "          [  9,   9,   9]],\n",
       " \n",
       "         [[ 10,  10,  10],\n",
       "          [  9,   9,   9],\n",
       "          [ 14,  14,  14],\n",
       "          ...,\n",
       "          [ 13,  13,  13],\n",
       "          [ 12,  12,  12],\n",
       "          [ 10,  10,  10]]],\n",
       " \n",
       " \n",
       "        [[[ 10,  10,  10],\n",
       "          [ 11,  11,  11],\n",
       "          [ 12,  12,  12],\n",
       "          ...,\n",
       "          [  3,   3,   3],\n",
       "          [  3,   3,   3],\n",
       "          [  3,   3,   3]],\n",
       " \n",
       "         [[  5,   5,   5],\n",
       "          [  6,   6,   6],\n",
       "          [  8,   8,   8],\n",
       "          ...,\n",
       "          [  3,   3,   3],\n",
       "          [  3,   3,   3],\n",
       "          [  3,   3,   3]],\n",
       " \n",
       "         [[  1,   1,   1],\n",
       "          [  2,   2,   2],\n",
       "          [  4,   4,   4],\n",
       "          ...,\n",
       "          [  3,   3,   3],\n",
       "          [  3,   3,   3],\n",
       "          [  3,   3,   3]],\n",
       " \n",
       "         ...,\n",
       " \n",
       "         [[  5,   5,   5],\n",
       "          [  5,   5,   5],\n",
       "          [  5,   5,   5],\n",
       "          ...,\n",
       "          [  3,   3,   3],\n",
       "          [  2,   2,   2],\n",
       "          [  2,   2,   2]],\n",
       " \n",
       "         [[  5,   5,   5],\n",
       "          [  5,   5,   5],\n",
       "          [  5,   5,   5],\n",
       "          ...,\n",
       "          [  4,   4,   4],\n",
       "          [  3,   3,   3],\n",
       "          [  2,   2,   2]],\n",
       " \n",
       "         [[  5,   5,   5],\n",
       "          [  5,   5,   5],\n",
       "          [  5,   5,   5],\n",
       "          ...,\n",
       "          [  4,   4,   4],\n",
       "          [  3,   3,   3],\n",
       "          [  2,   2,   2]]],\n",
       " \n",
       " \n",
       "        [[[ 29,  29,  29],\n",
       "          [ 42,  42,  42],\n",
       "          [ 48,  48,  48],\n",
       "          ...,\n",
       "          [ 17,  17,  17],\n",
       "          [ 12,  12,  12],\n",
       "          [  8,   8,   8]],\n",
       " \n",
       "         [[ 44,  44,  44],\n",
       "          [ 43,  43,  43],\n",
       "          [ 36,  36,  36],\n",
       "          ...,\n",
       "          [ 17,  17,  17],\n",
       "          [ 12,  12,  12],\n",
       "          [  8,   8,   8]],\n",
       " \n",
       "         [[ 41,  41,  41],\n",
       "          [ 39,  39,  39],\n",
       "          [ 33,  33,  33],\n",
       "          ...,\n",
       "          [ 16,  16,  16],\n",
       "          [ 11,  11,  11],\n",
       "          [  9,   9,   9]],\n",
       " \n",
       "         ...,\n",
       " \n",
       "         [[ 44,  44,  44],\n",
       "          [ 51,  51,  51],\n",
       "          [ 43,  43,  43],\n",
       "          ...,\n",
       "          [ 14,  14,  14],\n",
       "          [ 19,  19,  19],\n",
       "          [ 22,  22,  22]],\n",
       " \n",
       "         [[ 44,  44,  44],\n",
       "          [ 49,  49,  49],\n",
       "          [ 47,  47,  47],\n",
       "          ...,\n",
       "          [  9,   9,   9],\n",
       "          [ 12,  12,  12],\n",
       "          [ 13,  13,  13]],\n",
       " \n",
       "         [[ 50,  50,  50],\n",
       "          [ 50,  50,  50],\n",
       "          [ 52,  52,  52],\n",
       "          ...,\n",
       "          [ 10,  10,  10],\n",
       "          [ 11,  11,  11],\n",
       "          [ 10,  10,  10]]]], dtype=uint8),\n",
       " 'labels': array([0, 0, 0, 0, 0, 0, 0, 0, 0, 0, 0, 0, 0, 0, 0, 0, 0, 0, 0, 0, 0, 0,\n",
       "        0, 0, 0, 0, 0, 0, 0, 0, 0, 0, 0, 0, 0, 0, 0, 0, 0, 0, 0, 0, 0, 0,\n",
       "        0, 0, 0, 0, 0, 0, 0, 0, 0, 0, 0, 0, 0, 0, 0, 0, 0, 0, 0, 0, 0, 0,\n",
       "        0, 0, 0, 0, 0, 0, 0, 0, 0, 0, 0, 0, 0, 0, 0, 0, 0, 0, 0, 0, 0, 0,\n",
       "        0, 0, 0, 0, 0, 0, 0, 0, 0, 0, 0, 0, 0, 0, 0, 0, 0, 0, 0, 0, 0, 0,\n",
       "        0, 0, 0, 0, 0, 0, 0, 0, 0, 0, 0, 0, 0, 0, 0, 0, 0, 0, 1, 1, 1, 1,\n",
       "        1, 1, 1, 1, 1, 1, 1, 1, 1, 1, 1, 1, 1, 1, 1, 2, 2, 2, 2, 2, 2, 2,\n",
       "        2, 2, 2, 2, 2, 2, 2, 2, 3, 3, 3, 3, 3, 3, 3, 3, 3, 3, 3, 3, 3, 3,\n",
       "        3, 3, 3, 3, 3, 3, 3, 3, 3, 3, 3, 3, 3, 3, 3, 3, 3, 3, 3, 3, 3, 3,\n",
       "        3, 4, 4, 4, 4, 4, 4, 4, 4, 4, 4, 4, 4, 4, 4, 4, 4, 4, 4, 4, 4, 4,\n",
       "        4, 4, 4, 4, 4, 4, 4, 5, 5, 5, 5, 5, 5, 5, 5, 5, 5, 5, 5, 5, 5, 5,\n",
       "        5, 5, 5, 5, 6, 6, 6, 6, 6, 6, 6, 6, 6, 6, 6, 6, 6, 6, 6, 6, 6, 6,\n",
       "        6, 6, 6, 6, 6, 6, 6, 6, 6, 6, 6, 6, 6, 6, 6, 6, 6, 6, 6, 6, 6, 6,\n",
       "        6, 6, 6, 6, 6, 6, 6, 6, 6, 6, 6, 6, 6, 6, 6, 6, 6, 6, 6, 6, 6, 6,\n",
       "        6, 6, 6, 6, 6, 6, 6, 6, 6, 6, 6, 6, 6, 6, 6, 6, 6, 6, 6, 6, 6, 6,\n",
       "        6, 6, 6, 6, 6, 6, 6, 6, 6, 6, 6, 7, 7, 7, 7, 7, 7, 7, 7, 7, 7, 7,\n",
       "        7, 7, 7, 7, 7, 7, 7, 7, 7, 7, 7, 7, 7, 7, 7, 7, 7, 7, 7, 7, 7, 7,\n",
       "        7, 7, 7, 7, 7, 7, 7, 7, 7, 7, 7, 7, 7, 7, 7, 7, 7, 7, 7, 7, 7, 7,\n",
       "        7, 7, 7, 7], dtype=uint8)}"
      ]
     },
     "execution_count": 34,
     "metadata": {},
     "output_type": "execute_result"
    }
   ],
   "source": [
    "l_train_set"
   ]
  },
  {
   "cell_type": "markdown",
   "id": "92becd4d",
   "metadata": {},
   "source": [
    "### 2. sample validation set according to calculated #val labeled each class (total val size:400)"
   ]
  },
  {
   "cell_type": "code",
   "execution_count": 35,
   "id": "39eb3258",
   "metadata": {},
   "outputs": [],
   "source": [
    "vallabeled_each_class_dict = {\n",
    "    0: 128,\n",
    "    1: 19,\n",
    "    2: 15,\n",
    "    3: 37,\n",
    "    4: 28,\n",
    "    5: 19,\n",
    "    6: 95,\n",
    "    7: 59,\n",
    "    \n",
    "}"
   ]
  },
  {
   "cell_type": "code",
   "execution_count": 36,
   "id": "22005a95",
   "metadata": {},
   "outputs": [
    {
     "name": "stdout",
     "output_type": "stream",
     "text": [
      "permuted indices: [21714  5075 12283 ...  9845 10799  2732]\n",
      "saintycheck, class 0 has 7582 samples, to choose 128\n",
      "saintycheck, class 1 has 1117 samples, to choose 19\n",
      "saintycheck, class 2 has 838 samples, to choose 15\n",
      "saintycheck, class 3 has 2201 samples, to choose 37\n",
      "saintycheck, class 4 has 1684 samples, to choose 28\n",
      "saintycheck, class 5 has 1101 samples, to choose 19\n",
      "saintycheck, class 6 has 5601 samples, to choose 95\n",
      "saintycheck, class 7 has 3516 samples, to choose 59\n"
     ]
    }
   ],
   "source": [
    "rng = np.random.RandomState(0)\n",
    "indices = rng.permutation(len(val_set['images']))\n",
    "print('permuted indices: {}'.format(indices))\n",
    "\n",
    "permuted_val_images = val_set['images'][indices]\n",
    "permuted_val_labels = val_set['labels'][indices]\n",
    "\n",
    "new_400valsplit_images = []\n",
    "new_400valsplit_labels = []\n",
    "classes = [0, 1, 2, 3, 4, 5, 6, 7]\n",
    "\n",
    "\n",
    "for c in classes:\n",
    "    vallabeled_this_class = vallabeled_each_class_dict[c]\n",
    "    \n",
    "    cls_mask = (permuted_val_labels == c)\n",
    "    print('saintycheck, class {} has {} samples, to choose {}'.format(c, np.sum(cls_mask), vallabeled_this_class))\n",
    "    c_images = permuted_val_images[cls_mask]\n",
    "    c_labels = permuted_val_labels[cls_mask]\n",
    "    \n",
    "    new_400valsplit_images+=[c_images[:vallabeled_this_class]]\n",
    "    new_400valsplit_labels+=[c_labels[:vallabeled_this_class]]\n",
    "    \n",
    "new_400valsplit_set = {\"images\": np.concatenate(new_400valsplit_images, 0), \"labels\": np.concatenate(new_400valsplit_labels, 0)}\n"
   ]
  },
  {
   "cell_type": "code",
   "execution_count": null,
   "id": "179ee521",
   "metadata": {},
   "outputs": [],
   "source": []
  },
  {
   "cell_type": "markdown",
   "id": "00d9570e",
   "metadata": {},
   "source": [
    "### save data split"
   ]
  },
  {
   "cell_type": "code",
   "execution_count": 37,
   "id": "e8629da0",
   "metadata": {},
   "outputs": [],
   "source": [
    "realisticplan_save_dir = '/cluster/tufts/hugheslab/zhuang12/SemiSelfEvaluationProject/ML_DATA/MedMNIST/TissueMNIST/unnormalized_HWC/data_seed0/nlabels400_val400_realistic'\n",
    "\n"
   ]
  },
  {
   "cell_type": "code",
   "execution_count": 39,
   "id": "b1948367",
   "metadata": {},
   "outputs": [],
   "source": [
    "np.save(os.path.join(realisticplan_save_dir, 'l_train.npy'), l_train_set)\n",
    "np.save(os.path.join(realisticplan_save_dir, 'u_train.npy'), u_train_set)\n",
    "np.save(os.path.join(realisticplan_save_dir, 'val.npy'), new_400valsplit_set)\n",
    "np.save(os.path.join(realisticplan_save_dir, 'test.npy'), test_set)\n"
   ]
  },
  {
   "cell_type": "code",
   "execution_count": null,
   "id": "33f6106b",
   "metadata": {},
   "outputs": [],
   "source": []
  },
  {
   "cell_type": "code",
   "execution_count": null,
   "id": "91335c8c",
   "metadata": {},
   "outputs": [],
   "source": []
  }
 ],
 "metadata": {
  "kernelspec": {
   "display_name": "Python 3 (ipykernel)",
   "language": "python",
   "name": "python3"
  },
  "language_info": {
   "codemirror_mode": {
    "name": "ipython",
    "version": 3
   },
   "file_extension": ".py",
   "mimetype": "text/x-python",
   "name": "python",
   "nbconvert_exporter": "python",
   "pygments_lexer": "ipython3",
   "version": "3.8.13"
  }
 },
 "nbformat": 4,
 "nbformat_minor": 5
}
