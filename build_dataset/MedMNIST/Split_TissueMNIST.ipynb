{
 "cells": [
  {
   "cell_type": "code",
   "execution_count": 1,
   "id": "c5d9c629",
   "metadata": {},
   "outputs": [],
   "source": [
    "import numpy as np\n",
    "import os\n",
    "from PIL import Image\n"
   ]
  },
  {
   "cell_type": "code",
   "execution_count": 2,
   "id": "ab7999a0",
   "metadata": {},
   "outputs": [],
   "source": [
    "root_dir = '/cluster/tufts/hugheslab/zhuang12/SemiSelfEvaluationProject/FromMedMNISTWebsite/'\n"
   ]
  },
  {
   "cell_type": "code",
   "execution_count": 3,
   "id": "61eff448",
   "metadata": {},
   "outputs": [],
   "source": [
    "# def get_means_and_std(images):\n",
    "\n",
    "#     means = 0\n",
    "#     stds = 0\n",
    "\n",
    "#     assert images.ndim == 3 #data['images'] N, H, W\n",
    "#     for image in images:\n",
    "#         means += image.mean()\n",
    "#         stds += image.std()\n",
    "\n",
    "#     means = means/len(images)\n",
    "#     stds = stds/len(images)\n",
    "\n",
    "#     print('means: {}'.format(means))\n",
    "#     print('stds: {}'.format(stds))\n",
    "    \n",
    "#     return means, stds\n",
    "def get_means_and_std(images):\n",
    "\n",
    "    means = np.zeros(3)\n",
    "    stds = np.zeros(3)\n",
    "\n",
    "    assert images.shape[3] == 3 #data['images'] N, H, W, C\n",
    "    for image in images:\n",
    "\n",
    "        for i in range(3):\n",
    "            means[i] += image[:,:,i].mean()\n",
    "            stds[i] += image[:,:,i].std()\n",
    "\n",
    "    means = means/len(images)\n",
    "    stds = stds/len(images)\n",
    "\n",
    "    print('means: {}'.format(means))\n",
    "    print('stds: {}'.format(stds))\n",
    "    \n",
    "    return means, stds"
   ]
  },
  {
   "cell_type": "code",
   "execution_count": null,
   "id": "96c28da1",
   "metadata": {},
   "outputs": [],
   "source": []
  },
  {
   "cell_type": "markdown",
   "id": "712f81a0",
   "metadata": {},
   "source": [
    "## original tissuemnist"
   ]
  },
  {
   "cell_type": "code",
   "execution_count": 4,
   "id": "11c32f46",
   "metadata": {},
   "outputs": [],
   "source": [
    "tissuemnist_path = os.path.join(root_dir, 'tissuemnist.npz')\n"
   ]
  },
  {
   "cell_type": "code",
   "execution_count": 5,
   "id": "7ba3d5f8",
   "metadata": {},
   "outputs": [],
   "source": [
    "# tissuemnist = np.load(tissuemnist_path, allow_pickle=True)\n",
    "tissuemnist = np.load(tissuemnist_path)\n"
   ]
  },
  {
   "cell_type": "markdown",
   "id": "2cc504a3",
   "metadata": {},
   "source": [
    "#### train"
   ]
  },
  {
   "cell_type": "code",
   "execution_count": 6,
   "id": "be375fe0",
   "metadata": {},
   "outputs": [],
   "source": [
    "train_images = tissuemnist['train_images']\n",
    "train_labels = tissuemnist['train_labels'].squeeze()\n",
    "\n",
    "\n"
   ]
  },
  {
   "cell_type": "code",
   "execution_count": 7,
   "id": "143963b6",
   "metadata": {
    "scrolled": true
   },
   "outputs": [
    {
     "name": "stdout",
     "output_type": "stream",
     "text": [
      "train_images: (165466, 28, 28) train_labels: (165466,)\n"
     ]
    }
   ],
   "source": [
    "print('train_images: {} train_labels: {}'.format(train_images.shape, train_labels.shape))\n"
   ]
  },
  {
   "cell_type": "code",
   "execution_count": 8,
   "id": "9187ed70",
   "metadata": {},
   "outputs": [
    {
     "data": {
      "text/plain": [
       "array([0, 0, 6, ..., 2, 1, 6], dtype=uint8)"
      ]
     },
     "execution_count": 8,
     "metadata": {},
     "output_type": "execute_result"
    }
   ],
   "source": [
    "train_labels"
   ]
  },
  {
   "cell_type": "code",
   "execution_count": 9,
   "id": "eb3f7657",
   "metadata": {},
   "outputs": [
    {
     "name": "stdout",
     "output_type": "stream",
     "text": [
      "train_labels: {0, 1, 2, 3, 4, 5, 6, 7}\n",
      "num samples each class\n",
      "0: 53075\n",
      "1: 7814\n",
      "2: 5866\n",
      "3: 15406\n",
      "4: 11789\n",
      "5: 7705\n",
      "6: 39203\n",
      "7: 24608\n"
     ]
    }
   ],
   "source": [
    "print('train_labels: {}'.format(set(train_labels)))\n",
    "N_class0 = np.sum(train_labels==0)\n",
    "N_class1 = np.sum(train_labels==1)\n",
    "N_class2 = np.sum(train_labels==2)\n",
    "N_class3 = np.sum(train_labels==3)\n",
    "N_class4 = np.sum(train_labels==4)\n",
    "N_class5 = np.sum(train_labels==5)\n",
    "N_class6 = np.sum(train_labels==6)\n",
    "N_class7 = np.sum(train_labels==7)\n",
    "\n",
    "print('num samples each class')\n",
    "print('0: {}\\n1: {}\\n2: {}\\n3: {}\\n4: {}\\n5: {}\\n6: {}\\n7: {}'.format(N_class0, N_class1, N_class2, N_class3, N_class4, N_class5, N_class6, N_class7))\n",
    "\n",
    "\n"
   ]
  },
  {
   "cell_type": "code",
   "execution_count": 10,
   "id": "36773812",
   "metadata": {},
   "outputs": [],
   "source": [
    "train_images_3channel = []\n",
    "for image in train_images:\n",
    "    this_train_image_3channel = np.stack([image.copy(), image.copy(), image.copy()], axis=-1)\n",
    "    train_images_3channel.append(this_train_image_3channel)\n",
    "\n",
    "train_images_3channel = np.array(train_images_3channel)\n"
   ]
  },
  {
   "cell_type": "code",
   "execution_count": 11,
   "id": "3c429cc6",
   "metadata": {},
   "outputs": [
    {
     "name": "stdout",
     "output_type": "stream",
     "text": [
      "train_images_3channel: (165466, 28, 28, 3) \n"
     ]
    }
   ],
   "source": [
    "print('train_images_3channel: {} '.format(train_images_3channel.shape))\n"
   ]
  },
  {
   "cell_type": "code",
   "execution_count": 12,
   "id": "a3ad63d0",
   "metadata": {},
   "outputs": [
    {
     "name": "stdout",
     "output_type": "stream",
     "text": [
      "means: [26.02150799 26.02150799 26.02150799]\n",
      "stds: [20.37592862 20.37592862 20.37592862]\n"
     ]
    }
   ],
   "source": [
    "train_means, train_stds = get_means_and_std(train_images_3channel)"
   ]
  },
  {
   "cell_type": "code",
   "execution_count": 13,
   "id": "491be2cf",
   "metadata": {},
   "outputs": [
    {
     "data": {
      "image/png": "[encoded data removed]",
      "text/plain": [
       "<PIL.Image.Image image mode=L size=28x28 at 0x2B17F49335F8>"
      ]
     },
     "execution_count": 13,
     "metadata": {},
     "output_type": "execute_result"
    }
   ],
   "source": [
    "Image.fromarray(train_images[0])"
   ]
  },
  {
   "cell_type": "code",
   "execution_count": null,
   "id": "a5a76dad",
   "metadata": {},
   "outputs": [],
   "source": []
  },
  {
   "cell_type": "code",
   "execution_count": null,
   "id": "806e62a6",
   "metadata": {},
   "outputs": [],
   "source": []
  },
  {
   "cell_type": "markdown",
   "id": "04cc19d6",
   "metadata": {},
   "source": [
    "#### val"
   ]
  },
  {
   "cell_type": "code",
   "execution_count": 14,
   "id": "72e96b52",
   "metadata": {},
   "outputs": [],
   "source": [
    "val_images = tissuemnist['val_images']\n",
    "val_labels = tissuemnist['val_labels'].squeeze()\n"
   ]
  },
  {
   "cell_type": "code",
   "execution_count": 15,
   "id": "01e69094",
   "metadata": {
    "scrolled": true
   },
   "outputs": [
    {
     "name": "stdout",
     "output_type": "stream",
     "text": [
      "val_images: (23640, 28, 28) val_labels: (23640,)\n"
     ]
    }
   ],
   "source": [
    "print('val_images: {} val_labels: {}'.format(val_images.shape, val_labels.shape))\n"
   ]
  },
  {
   "cell_type": "code",
   "execution_count": 16,
   "id": "52832f08",
   "metadata": {},
   "outputs": [
    {
     "name": "stdout",
     "output_type": "stream",
     "text": [
      "val_labels: {0, 1, 2, 3, 4, 5, 6, 7}\n",
      "num samples each class\n",
      "0: 7582\n",
      "1: 1117\n",
      "2: 838\n",
      "3: 2201\n",
      "4: 1684\n",
      "5: 1101\n",
      "6: 5601\n",
      "7: 3516\n"
     ]
    }
   ],
   "source": [
    "print('val_labels: {}'.format(set(val_labels)))\n",
    "N_class0 = np.sum(val_labels==0)\n",
    "N_class1 = np.sum(val_labels==1)\n",
    "N_class2 = np.sum(val_labels==2)\n",
    "N_class3 = np.sum(val_labels==3)\n",
    "N_class4 = np.sum(val_labels==4)\n",
    "N_class5 = np.sum(val_labels==5)\n",
    "N_class6 = np.sum(val_labels==6)\n",
    "N_class7 = np.sum(val_labels==7)\n",
    "\n",
    "print('num samples each class')\n",
    "print('0: {}\\n1: {}\\n2: {}\\n3: {}\\n4: {}\\n5: {}\\n6: {}\\n7: {}'.format(N_class0, N_class1, N_class2, N_class3, N_class4, N_class5, N_class6, N_class7))\n",
    "\n",
    "\n"
   ]
  },
  {
   "cell_type": "code",
   "execution_count": 17,
   "id": "e899955c",
   "metadata": {},
   "outputs": [],
   "source": [
    "val_images_3channel = []\n",
    "for image in val_images:\n",
    "    this_val_image_3channel = np.stack([image.copy(), image.copy(), image.copy()], axis=-1)\n",
    "    val_images_3channel.append(this_val_image_3channel)\n",
    "\n",
    "val_images_3channel = np.array(val_images_3channel)\n",
    "\n",
    "val_set = {\"images\": val_images_3channel, \"labels\": val_labels}"
   ]
  },
  {
   "cell_type": "code",
   "execution_count": 18,
   "id": "6ce2d1ee",
   "metadata": {},
   "outputs": [
    {
     "name": "stdout",
     "output_type": "stream",
     "text": [
      "val_images_3channel: (23640, 28, 28, 3) \n"
     ]
    }
   ],
   "source": [
    "print('val_images_3channel: {} '.format(val_images_3channel.shape))\n"
   ]
  },
  {
   "cell_type": "code",
   "execution_count": 19,
   "id": "8175f642",
   "metadata": {
    "scrolled": true
   },
   "outputs": [
    {
     "name": "stdout",
     "output_type": "stream",
     "text": [
      "means: [26.02644266 26.02644266 26.02644266]\n",
      "stds: [20.3406241 20.3406241 20.3406241]\n"
     ]
    }
   ],
   "source": [
    "val_means, val_stds = get_means_and_std(val_images_3channel)"
   ]
  },
  {
   "cell_type": "code",
   "execution_count": 20,
   "id": "c7e8ee2b",
   "metadata": {},
   "outputs": [
    {
     "data": {
      "image/png": "[encoded data removed]",
      "text/plain": [
       "<PIL.Image.Image image mode=L size=28x28 at 0x2B17FC55DE80>"
      ]
     },
     "execution_count": 20,
     "metadata": {},
     "output_type": "execute_result"
    }
   ],
   "source": [
    "Image.fromarray(val_images[1])"
   ]
  },
  {
   "cell_type": "code",
   "execution_count": null,
   "id": "093c7a68",
   "metadata": {
    "scrolled": true
   },
   "outputs": [],
   "source": []
  },
  {
   "cell_type": "markdown",
   "id": "1c0fc405",
   "metadata": {},
   "source": [
    "#### test"
   ]
  },
  {
   "cell_type": "code",
   "execution_count": 21,
   "id": "8b1d473d",
   "metadata": {},
   "outputs": [],
   "source": [
    "test_images = tissuemnist['test_images']\n",
    "test_labels = tissuemnist['test_labels'].squeeze()\n"
   ]
  },
  {
   "cell_type": "code",
   "execution_count": 22,
   "id": "2832e933",
   "metadata": {
    "scrolled": true
   },
   "outputs": [
    {
     "name": "stdout",
     "output_type": "stream",
     "text": [
      "test_images: (47280, 28, 28) test_labels: (47280,)\n"
     ]
    }
   ],
   "source": [
    "print('test_images: {} test_labels: {}'.format(test_images.shape, test_labels.shape))\n"
   ]
  },
  {
   "cell_type": "code",
   "execution_count": 23,
   "id": "2e7a66a5",
   "metadata": {},
   "outputs": [
    {
     "name": "stdout",
     "output_type": "stream",
     "text": [
      "test_labels: {0, 1, 2, 3, 4, 5, 6, 7}\n",
      "num samples each class\n",
      "0: 15165\n",
      "1: 2233\n",
      "2: 1677\n",
      "3: 4402\n",
      "4: 3369\n",
      "5: 2202\n",
      "6: 11201\n",
      "7: 7031\n"
     ]
    }
   ],
   "source": [
    "print('test_labels: {}'.format(set(test_labels)))\n",
    "N_class0 = np.sum(test_labels==0)\n",
    "N_class1 = np.sum(test_labels==1)\n",
    "N_class2 = np.sum(test_labels==2)\n",
    "N_class3 = np.sum(test_labels==3)\n",
    "N_class4 = np.sum(test_labels==4)\n",
    "N_class5 = np.sum(test_labels==5)\n",
    "N_class6 = np.sum(test_labels==6)\n",
    "N_class7 = np.sum(test_labels==7)\n",
    "\n",
    "print('num samples each class')\n",
    "print('0: {}\\n1: {}\\n2: {}\\n3: {}\\n4: {}\\n5: {}\\n6: {}\\n7: {}'.format(N_class0, N_class1, N_class2, N_class3, N_class4, N_class5, N_class6, N_class7))\n",
    "\n",
    "\n"
   ]
  },
  {
   "cell_type": "code",
   "execution_count": 24,
   "id": "9e826d91",
   "metadata": {},
   "outputs": [],
   "source": [
    "test_images_3channel = []\n",
    "for image in test_images:\n",
    "    this_test_image_3channel = np.stack([image.copy(), image.copy(), image.copy()], axis=-1)\n",
    "    test_images_3channel.append(this_test_image_3channel)\n",
    "\n",
    "test_images_3channel = np.array(test_images_3channel)\n",
    "\n",
    "test_set = {\"images\": test_images_3channel, \"labels\": test_labels}"
   ]
  },
  {
   "cell_type": "code",
   "execution_count": 25,
   "id": "a7c17927",
   "metadata": {
    "scrolled": true
   },
   "outputs": [
    {
     "name": "stdout",
     "output_type": "stream",
     "text": [
      "test_images_3channel: (47280, 28, 28, 3) \n"
     ]
    }
   ],
   "source": [
    "print('test_images_3channel: {} '.format(test_images_3channel.shape))\n"
   ]
  },
  {
   "cell_type": "code",
   "execution_count": 26,
   "id": "998b4842",
   "metadata": {
    "scrolled": true
   },
   "outputs": [
    {
     "name": "stdout",
     "output_type": "stream",
     "text": [
      "means: [26.07592029 26.07592029 26.07592029]\n",
      "stds: [20.41282754 20.41282754 20.41282754]\n"
     ]
    }
   ],
   "source": [
    "test_means, test_stds = get_means_and_std(test_images_3channel)"
   ]
  },
  {
   "cell_type": "code",
   "execution_count": 27,
   "id": "c6914e28",
   "metadata": {},
   "outputs": [
    {
     "data": {
      "image/png": "[encoded data removed]",
      "text/plain": [
       "<PIL.Image.Image image mode=L size=28x28 at 0x2B17F4933C88>"
      ]
     },
     "execution_count": 27,
     "metadata": {},
     "output_type": "execute_result"
    }
   ],
   "source": [
    "Image.fromarray(test_images[1])"
   ]
  },
  {
   "cell_type": "code",
   "execution_count": null,
   "id": "fc034b49",
   "metadata": {},
   "outputs": [],
   "source": []
  },
  {
   "cell_type": "markdown",
   "id": "530e7ad5",
   "metadata": {},
   "source": [
    "## split train into labeled and unlabeled"
   ]
  },
  {
   "cell_type": "code",
   "execution_count": 28,
   "id": "901e6152",
   "metadata": {},
   "outputs": [],
   "source": [
    "def split_l_u(images, labels, n_labels_per_cls, classes):\n",
    "    l_images = []\n",
    "    l_labels = []\n",
    "    u_images = []\n",
    "    u_labels = []\n",
    "    \n",
    "    for c in classes:\n",
    "        cls_mask = (labels==c)\n",
    "        c_images = images[cls_mask]\n",
    "        c_labels = labels[cls_mask]\n",
    "        l_images += [c_images[:n_labels_per_cls]]\n",
    "        l_labels += [c_labels[:n_labels_per_cls]]\n",
    "        u_images += [c_images[n_labels_per_cls:]]\n",
    "        [-1]*len(c_images[n_labels_per_cls:])\n",
    "        u_labels += [-1]*len(c_labels[n_labels_per_cls:])  #dummy label\n",
    "    \n",
    "    l_set = {\"images\": np.concatenate(l_images, 0), \"labels\": np.concatenate(l_labels, 0)}\n",
    "    u_set = {\"images\": np.concatenate(u_images, 0), \"labels\": np.array(u_labels)}\n",
    "\n",
    "    return l_set, u_set\n",
    "    \n",
    "    "
   ]
  },
  {
   "cell_type": "code",
   "execution_count": 29,
   "id": "cd568c5f",
   "metadata": {},
   "outputs": [],
   "source": [
    "rng = np.random.RandomState(0)\n",
    "indices = rng.permutation(len(train_images))\n",
    "train_images_3channel = train_images_3channel[indices]\n",
    "train_labels = train_labels[indices]\n"
   ]
  },
  {
   "cell_type": "code",
   "execution_count": 30,
   "id": "0b4a03b8",
   "metadata": {},
   "outputs": [],
   "source": [
    "classes = [0, 1, 2, 3, 4, 5, 6, 7]\n",
    "l_train_set_npercls10, u_train_set_npercls10 = split_l_u(train_images_3channel, train_labels, 10, classes)\n",
    "l_train_set_npercls50, u_train_set_npercls50 = split_l_u(train_images_3channel, train_labels, 50, classes)\n"
   ]
  },
  {
   "cell_type": "code",
   "execution_count": 31,
   "id": "8ebcd36f",
   "metadata": {},
   "outputs": [
    {
     "data": {
      "text/plain": [
       "{'images': array([[[[ 41,  41,  41],\n",
       "          [ 46,  46,  46],\n",
       "          [ 50,  50,  50],\n",
       "          ...,\n",
       "          [ 24,  24,  24],\n",
       "          [ 36,  36,  36],\n",
       "          [ 43,  43,  43]],\n",
       " \n",
       "         [[ 41,  41,  41],\n",
       "          [ 40,  40,  40],\n",
       "          [ 39,  39,  39],\n",
       "          ...,\n",
       "          [ 28,  28,  28],\n",
       "          [ 39,  39,  39],\n",
       "          [ 46,  46,  46]],\n",
       " \n",
       "         [[ 44,  44,  44],\n",
       "          [ 39,  39,  39],\n",
       "          [ 34,  34,  34],\n",
       "          ...,\n",
       "          [ 25,  25,  25],\n",
       "          [ 35,  35,  35],\n",
       "          [ 41,  41,  41]],\n",
       " \n",
       "         ...,\n",
       " \n",
       "         [[ 10,  10,  10],\n",
       "          [  9,   9,   9],\n",
       "          [  9,   9,   9],\n",
       "          ...,\n",
       "          [ 46,  46,  46],\n",
       "          [ 38,  38,  38],\n",
       "          [ 37,  37,  37]],\n",
       " \n",
       "         [[ 10,  10,  10],\n",
       "          [  9,   9,   9],\n",
       "          [  9,   9,   9],\n",
       "          ...,\n",
       "          [ 44,  44,  44],\n",
       "          [ 36,  36,  36],\n",
       "          [ 35,  35,  35]],\n",
       " \n",
       "         [[ 10,  10,  10],\n",
       "          [  9,   9,   9],\n",
       "          [  9,   9,   9],\n",
       "          ...,\n",
       "          [ 43,  43,  43],\n",
       "          [ 35,  35,  35],\n",
       "          [ 34,  34,  34]]],\n",
       " \n",
       " \n",
       "        [[[ 15,  15,  15],\n",
       "          [ 14,  14,  14],\n",
       "          [ 14,  14,  14],\n",
       "          ...,\n",
       "          [  7,   7,   7],\n",
       "          [  6,   6,   6],\n",
       "          [  6,   6,   6]],\n",
       " \n",
       "         [[ 14,  14,  14],\n",
       "          [ 13,  13,  13],\n",
       "          [ 13,  13,  13],\n",
       "          ...,\n",
       "          [ 10,  10,  10],\n",
       "          [ 10,  10,  10],\n",
       "          [  9,   9,   9]],\n",
       " \n",
       "         [[ 13,  13,  13],\n",
       "          [ 12,  12,  12],\n",
       "          [ 11,  11,  11],\n",
       "          ...,\n",
       "          [  8,   8,   8],\n",
       "          [  8,   8,   8],\n",
       "          [  7,   7,   7]],\n",
       " \n",
       "         ...,\n",
       " \n",
       "         [[ 18,  18,  18],\n",
       "          [ 14,  14,  14],\n",
       "          [ 10,  10,  10],\n",
       "          ...,\n",
       "          [ 12,  12,  12],\n",
       "          [ 15,  15,  15],\n",
       "          [ 17,  17,  17]],\n",
       " \n",
       "         [[ 15,  15,  15],\n",
       "          [ 12,  12,  12],\n",
       "          [ 10,  10,  10],\n",
       "          ...,\n",
       "          [ 12,  12,  12],\n",
       "          [ 14,  14,  14],\n",
       "          [ 16,  16,  16]],\n",
       " \n",
       "         [[ 17,  17,  17],\n",
       "          [ 15,  15,  15],\n",
       "          [ 14,  14,  14],\n",
       "          ...,\n",
       "          [ 15,  15,  15],\n",
       "          [ 17,  17,  17],\n",
       "          [ 19,  19,  19]]],\n",
       " \n",
       " \n",
       "        [[[ 43,  43,  43],\n",
       "          [ 51,  51,  51],\n",
       "          [ 88,  88,  88],\n",
       "          ...,\n",
       "          [ 87,  87,  87],\n",
       "          [ 70,  70,  70],\n",
       "          [ 30,  30,  30]],\n",
       " \n",
       "         [[ 40,  40,  40],\n",
       "          [ 48,  48,  48],\n",
       "          [ 82,  82,  82],\n",
       "          ...,\n",
       "          [107, 107, 107],\n",
       "          [106, 106, 106],\n",
       "          [ 70,  70,  70]],\n",
       " \n",
       "         [[ 20,  20,  20],\n",
       "          [ 23,  23,  23],\n",
       "          [ 46,  46,  46],\n",
       "          ...,\n",
       "          [ 93,  93,  93],\n",
       "          [105, 105, 105],\n",
       "          [ 70,  70,  70]],\n",
       " \n",
       "         ...,\n",
       " \n",
       "         [[ 71,  71,  71],\n",
       "          [101, 101, 101],\n",
       "          [ 94,  94,  94],\n",
       "          ...,\n",
       "          [  9,   9,   9],\n",
       "          [  5,   5,   5],\n",
       "          [  4,   4,   4]],\n",
       " \n",
       "         [[ 92,  92,  92],\n",
       "          [110, 110, 110],\n",
       "          [ 90,  90,  90],\n",
       "          ...,\n",
       "          [  7,   7,   7],\n",
       "          [  4,   4,   4],\n",
       "          [  3,   3,   3]],\n",
       " \n",
       "         [[ 79,  79,  79],\n",
       "          [ 95,  95,  95],\n",
       "          [ 78,  78,  78],\n",
       "          ...,\n",
       "          [  6,   6,   6],\n",
       "          [  3,   3,   3],\n",
       "          [  2,   2,   2]]],\n",
       " \n",
       " \n",
       "        ...,\n",
       " \n",
       " \n",
       "        [[[  4,   4,   4],\n",
       "          [  3,   3,   3],\n",
       "          [  3,   3,   3],\n",
       "          ...,\n",
       "          [  4,   4,   4],\n",
       "          [  4,   4,   4],\n",
       "          [  4,   4,   4]],\n",
       " \n",
       "         [[  4,   4,   4],\n",
       "          [  4,   4,   4],\n",
       "          [  3,   3,   3],\n",
       "          ...,\n",
       "          [  4,   4,   4],\n",
       "          [  4,   4,   4],\n",
       "          [  4,   4,   4]],\n",
       " \n",
       "         [[  4,   4,   4],\n",
       "          [  4,   4,   4],\n",
       "          [  3,   3,   3],\n",
       "          ...,\n",
       "          [  4,   4,   4],\n",
       "          [  4,   4,   4],\n",
       "          [  4,   4,   4]],\n",
       " \n",
       "         ...,\n",
       " \n",
       "         [[  3,   3,   3],\n",
       "          [  3,   3,   3],\n",
       "          [  3,   3,   3],\n",
       "          ...,\n",
       "          [  4,   4,   4],\n",
       "          [  4,   4,   4],\n",
       "          [  4,   4,   4]],\n",
       " \n",
       "         [[  3,   3,   3],\n",
       "          [  3,   3,   3],\n",
       "          [  3,   3,   3],\n",
       "          ...,\n",
       "          [  2,   2,   2],\n",
       "          [  2,   2,   2],\n",
       "          [  2,   2,   2]],\n",
       " \n",
       "         [[  3,   3,   3],\n",
       "          [  3,   3,   3],\n",
       "          [  3,   3,   3],\n",
       "          ...,\n",
       "          [  1,   1,   1],\n",
       "          [  1,   1,   1],\n",
       "          [  1,   1,   1]]],\n",
       " \n",
       " \n",
       "        [[[ 12,  12,  12],\n",
       "          [ 11,  11,  11],\n",
       "          [ 11,  11,  11],\n",
       "          ...,\n",
       "          [  8,   8,   8],\n",
       "          [ 10,  10,  10],\n",
       "          [ 10,  10,  10]],\n",
       " \n",
       "         [[ 10,  10,  10],\n",
       "          [ 10,  10,  10],\n",
       "          [ 10,  10,  10],\n",
       "          ...,\n",
       "          [  7,   7,   7],\n",
       "          [  7,   7,   7],\n",
       "          [  6,   6,   6]],\n",
       " \n",
       "         [[  9,   9,   9],\n",
       "          [  9,   9,   9],\n",
       "          [  9,   9,   9],\n",
       "          ...,\n",
       "          [ 12,  12,  12],\n",
       "          [  9,   9,   9],\n",
       "          [  7,   7,   7]],\n",
       " \n",
       "         ...,\n",
       " \n",
       "         [[ 52,  52,  52],\n",
       "          [ 38,  38,  38],\n",
       "          [ 23,  23,  23],\n",
       "          ...,\n",
       "          [ 42,  42,  42],\n",
       "          [ 43,  43,  43],\n",
       "          [ 47,  47,  47]],\n",
       " \n",
       "         [[ 57,  57,  57],\n",
       "          [ 53,  53,  53],\n",
       "          [ 36,  36,  36],\n",
       "          ...,\n",
       "          [ 36,  36,  36],\n",
       "          [ 37,  37,  37],\n",
       "          [ 41,  41,  41]],\n",
       " \n",
       "         [[ 76,  76,  76],\n",
       "          [ 72,  72,  72],\n",
       "          [ 43,  43,  43],\n",
       "          ...,\n",
       "          [ 36,  36,  36],\n",
       "          [ 37,  37,  37],\n",
       "          [ 41,  41,  41]]],\n",
       " \n",
       " \n",
       "        [[[  2,   2,   2],\n",
       "          [  2,   2,   2],\n",
       "          [  3,   3,   3],\n",
       "          ...,\n",
       "          [  6,   6,   6],\n",
       "          [  6,   6,   6],\n",
       "          [  6,   6,   6]],\n",
       " \n",
       "         [[  4,   4,   4],\n",
       "          [  4,   4,   4],\n",
       "          [  4,   4,   4],\n",
       "          ...,\n",
       "          [  6,   6,   6],\n",
       "          [  6,   6,   6],\n",
       "          [  6,   6,   6]],\n",
       " \n",
       "         [[  5,   5,   5],\n",
       "          [  5,   5,   5],\n",
       "          [  5,   5,   5],\n",
       "          ...,\n",
       "          [  7,   7,   7],\n",
       "          [  7,   7,   7],\n",
       "          [  7,   7,   7]],\n",
       " \n",
       "         ...,\n",
       " \n",
       "         [[  1,   1,   1],\n",
       "          [  1,   1,   1],\n",
       "          [  1,   1,   1],\n",
       "          ...,\n",
       "          [  2,   2,   2],\n",
       "          [  2,   2,   2],\n",
       "          [  2,   2,   2]],\n",
       " \n",
       "         [[  1,   1,   1],\n",
       "          [  1,   1,   1],\n",
       "          [  1,   1,   1],\n",
       "          ...,\n",
       "          [  2,   2,   2],\n",
       "          [  2,   2,   2],\n",
       "          [  2,   2,   2]],\n",
       " \n",
       "         [[  1,   1,   1],\n",
       "          [  1,   1,   1],\n",
       "          [  1,   1,   1],\n",
       "          ...,\n",
       "          [  2,   2,   2],\n",
       "          [  2,   2,   2],\n",
       "          [  2,   2,   2]]]], dtype=uint8),\n",
       " 'labels': array([0, 0, 0, 0, 0, 0, 0, 0, 0, 0, 0, 0, 0, 0, 0, 0, 0, 0, 0, 0, 0, 0,\n",
       "        0, 0, 0, 0, 0, 0, 0, 0, 0, 0, 0, 0, 0, 0, 0, 0, 0, 0, 0, 0, 0, 0,\n",
       "        0, 0, 0, 0, 0, 0, 1, 1, 1, 1, 1, 1, 1, 1, 1, 1, 1, 1, 1, 1, 1, 1,\n",
       "        1, 1, 1, 1, 1, 1, 1, 1, 1, 1, 1, 1, 1, 1, 1, 1, 1, 1, 1, 1, 1, 1,\n",
       "        1, 1, 1, 1, 1, 1, 1, 1, 1, 1, 1, 1, 2, 2, 2, 2, 2, 2, 2, 2, 2, 2,\n",
       "        2, 2, 2, 2, 2, 2, 2, 2, 2, 2, 2, 2, 2, 2, 2, 2, 2, 2, 2, 2, 2, 2,\n",
       "        2, 2, 2, 2, 2, 2, 2, 2, 2, 2, 2, 2, 2, 2, 2, 2, 2, 2, 3, 3, 3, 3,\n",
       "        3, 3, 3, 3, 3, 3, 3, 3, 3, 3, 3, 3, 3, 3, 3, 3, 3, 3, 3, 3, 3, 3,\n",
       "        3, 3, 3, 3, 3, 3, 3, 3, 3, 3, 3, 3, 3, 3, 3, 3, 3, 3, 3, 3, 3, 3,\n",
       "        3, 3, 4, 4, 4, 4, 4, 4, 4, 4, 4, 4, 4, 4, 4, 4, 4, 4, 4, 4, 4, 4,\n",
       "        4, 4, 4, 4, 4, 4, 4, 4, 4, 4, 4, 4, 4, 4, 4, 4, 4, 4, 4, 4, 4, 4,\n",
       "        4, 4, 4, 4, 4, 4, 4, 4, 5, 5, 5, 5, 5, 5, 5, 5, 5, 5, 5, 5, 5, 5,\n",
       "        5, 5, 5, 5, 5, 5, 5, 5, 5, 5, 5, 5, 5, 5, 5, 5, 5, 5, 5, 5, 5, 5,\n",
       "        5, 5, 5, 5, 5, 5, 5, 5, 5, 5, 5, 5, 5, 5, 6, 6, 6, 6, 6, 6, 6, 6,\n",
       "        6, 6, 6, 6, 6, 6, 6, 6, 6, 6, 6, 6, 6, 6, 6, 6, 6, 6, 6, 6, 6, 6,\n",
       "        6, 6, 6, 6, 6, 6, 6, 6, 6, 6, 6, 6, 6, 6, 6, 6, 6, 6, 6, 6, 7, 7,\n",
       "        7, 7, 7, 7, 7, 7, 7, 7, 7, 7, 7, 7, 7, 7, 7, 7, 7, 7, 7, 7, 7, 7,\n",
       "        7, 7, 7, 7, 7, 7, 7, 7, 7, 7, 7, 7, 7, 7, 7, 7, 7, 7, 7, 7, 7, 7,\n",
       "        7, 7, 7, 7], dtype=uint8)}"
      ]
     },
     "execution_count": 31,
     "metadata": {},
     "output_type": "execute_result"
    }
   ],
   "source": [
    "l_train_set_npercls50"
   ]
  },
  {
   "cell_type": "code",
   "execution_count": null,
   "id": "a568e42e",
   "metadata": {},
   "outputs": [],
   "source": []
  },
  {
   "cell_type": "markdown",
   "id": "bc8a29bd",
   "metadata": {},
   "source": [
    "### save data split"
   ]
  },
  {
   "cell_type": "code",
   "execution_count": 32,
   "id": "e61a2707",
   "metadata": {},
   "outputs": [],
   "source": [
    "n_per_cls10_save_dir = '/cluster/tufts/hugheslab/zhuang12/SemiSelfEvaluationProject/ML_DATA/MedMNIST/TissueMNIST/unnormalized_HWC/n_per_cls10'\n",
    "n_per_cls50_save_dir = '/cluster/tufts/hugheslab/zhuang12/SemiSelfEvaluationProject/ML_DATA/MedMNIST/TissueMNIST/unnormalized_HWC/n_per_cls50'\n",
    "\n"
   ]
  },
  {
   "cell_type": "code",
   "execution_count": 33,
   "id": "f29cdc5c",
   "metadata": {},
   "outputs": [],
   "source": [
    "np.save(os.path.join(n_per_cls10_save_dir, 'l_train.npy'), l_train_set_npercls10)\n",
    "np.save(os.path.join(n_per_cls10_save_dir, 'u_train.npy'), u_train_set_npercls10)\n",
    "np.save(os.path.join(n_per_cls10_save_dir, 'val.npy'), val_set)\n",
    "np.save(os.path.join(n_per_cls10_save_dir, 'test.npy'), test_set)\n"
   ]
  },
  {
   "cell_type": "code",
   "execution_count": 34,
   "id": "a2fbf861",
   "metadata": {},
   "outputs": [],
   "source": [
    "np.save(os.path.join(n_per_cls50_save_dir, 'l_train.npy'), l_train_set_npercls50)\n",
    "np.save(os.path.join(n_per_cls50_save_dir, 'u_train.npy'), u_train_set_npercls50)\n",
    "np.save(os.path.join(n_per_cls50_save_dir, 'val.npy'), val_set)\n",
    "np.save(os.path.join(n_per_cls50_save_dir, 'test.npy'), test_set)\n"
   ]
  },
  {
   "cell_type": "code",
   "execution_count": null,
   "id": "8530e462",
   "metadata": {},
   "outputs": [],
   "source": []
  },
  {
   "cell_type": "code",
   "execution_count": null,
   "id": "b28ca354",
   "metadata": {},
   "outputs": [],
   "source": []
  }
 ],
 "metadata": {
  "kernelspec": {
   "display_name": "Python 3 (ipykernel)",
   "language": "python",
   "name": "python3"
  },
  "language_info": {
   "codemirror_mode": {
    "name": "ipython",
    "version": 3
   },
   "file_extension": ".py",
   "mimetype": "text/x-python",
   "name": "python",
   "nbconvert_exporter": "python",
   "pygments_lexer": "ipython3",
   "version": "3.8.12"
  }
 },
 "nbformat": 4,
 "nbformat_minor": 5
}
