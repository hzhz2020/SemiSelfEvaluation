{
 "cells": [
  {
   "cell_type": "code",
   "execution_count": 1,
   "id": "7adbf228",
   "metadata": {},
   "outputs": [],
   "source": [
    "import numpy as np\n",
    "import os\n",
    "from PIL import Image\n"
   ]
  },
  {
   "cell_type": "code",
   "execution_count": 2,
   "id": "7e7a4204",
   "metadata": {},
   "outputs": [],
   "source": [
    "root_dir = '/cluster/tufts/hugheslab/zhuang12/SemiSelfEvaluationProject/FromMedMNISTWebsite/'\n"
   ]
  },
  {
   "cell_type": "code",
   "execution_count": 3,
   "id": "9199f0dc",
   "metadata": {},
   "outputs": [],
   "source": [
    "def get_means_and_std(images):\n",
    "\n",
    "    means = 0\n",
    "    stds = 0\n",
    "\n",
    "    assert images.ndim == 3 #data['images'] N, H, W\n",
    "    for image in images:\n",
    "        means += image.mean()\n",
    "        stds += image.std()\n",
    "\n",
    "    means = means/len(images)\n",
    "    stds = stds/len(images)\n",
    "\n",
    "    print('means: {}'.format(means))\n",
    "    print('stds: {}'.format(stds))\n",
    "    \n",
    "    return means, stds"
   ]
  },
  {
   "cell_type": "code",
   "execution_count": null,
   "id": "08b9a8c6",
   "metadata": {},
   "outputs": [],
   "source": []
  },
  {
   "cell_type": "markdown",
   "id": "b4f35836",
   "metadata": {},
   "source": [
    "## original tissuemnist"
   ]
  },
  {
   "cell_type": "code",
   "execution_count": 4,
   "id": "198b97a3",
   "metadata": {},
   "outputs": [],
   "source": [
    "tissuemnist_path = os.path.join(root_dir, 'tissuemnist.npz')\n"
   ]
  },
  {
   "cell_type": "code",
   "execution_count": 5,
   "id": "aba68fea",
   "metadata": {},
   "outputs": [],
   "source": [
    "# tissuemnist = np.load(tissuemnist_path, allow_pickle=True)\n",
    "tissuemnist = np.load(tissuemnist_path)\n"
   ]
  },
  {
   "cell_type": "markdown",
   "id": "8b7c3b86",
   "metadata": {},
   "source": [
    "#### train"
   ]
  },
  {
   "cell_type": "code",
   "execution_count": 6,
   "id": "7fedaaa6",
   "metadata": {},
   "outputs": [],
   "source": [
    "train_images = tissuemnist['train_images']\n",
    "train_labels = tissuemnist['train_labels'].squeeze()\n",
    "\n",
    "\n"
   ]
  },
  {
   "cell_type": "code",
   "execution_count": 7,
   "id": "1805f93d",
   "metadata": {
    "scrolled": true
   },
   "outputs": [
    {
     "name": "stdout",
     "output_type": "stream",
     "text": [
      "train_images: (165466, 28, 28) train_labels: (165466,)\n"
     ]
    }
   ],
   "source": [
    "print('train_images: {} train_labels: {}'.format(train_images.shape, train_labels.shape))\n"
   ]
  },
  {
   "cell_type": "code",
   "execution_count": 8,
   "id": "b7a75349",
   "metadata": {},
   "outputs": [
    {
     "data": {
      "text/plain": [
       "array([0, 0, 6, ..., 2, 1, 6], dtype=uint8)"
      ]
     },
     "execution_count": 8,
     "metadata": {},
     "output_type": "execute_result"
    }
   ],
   "source": [
    "train_labels"
   ]
  },
  {
   "cell_type": "code",
   "execution_count": 9,
   "id": "b617a65e",
   "metadata": {},
   "outputs": [
    {
     "name": "stdout",
     "output_type": "stream",
     "text": [
      "train_labels: {0, 1, 2, 3, 4, 5, 6, 7}\n",
      "num samples each class\n",
      "0: 53075\n",
      "1: 7814\n",
      "2: 5866\n",
      "3: 15406\n",
      "4: 11789\n",
      "5: 7705\n",
      "6: 39203\n",
      "7: 24608\n"
     ]
    }
   ],
   "source": [
    "print('train_labels: {}'.format(set(train_labels)))\n",
    "N_class0 = np.sum(train_labels==0)\n",
    "N_class1 = np.sum(train_labels==1)\n",
    "N_class2 = np.sum(train_labels==2)\n",
    "N_class3 = np.sum(train_labels==3)\n",
    "N_class4 = np.sum(train_labels==4)\n",
    "N_class5 = np.sum(train_labels==5)\n",
    "N_class6 = np.sum(train_labels==6)\n",
    "N_class7 = np.sum(train_labels==7)\n",
    "\n",
    "print('num samples each class')\n",
    "print('0: {}\\n1: {}\\n2: {}\\n3: {}\\n4: {}\\n5: {}\\n6: {}\\n7: {}'.format(N_class0, N_class1, N_class2, N_class3, N_class4, N_class5, N_class6, N_class7))\n",
    "\n",
    "\n"
   ]
  },
  {
   "cell_type": "code",
   "execution_count": 10,
   "id": "14ea2c4f",
   "metadata": {},
   "outputs": [
    {
     "name": "stdout",
     "output_type": "stream",
     "text": [
      "means: 26.02150798690494\n",
      "stds: 20.375928620847176\n"
     ]
    }
   ],
   "source": [
    "train_means, train_stds = get_means_and_std(train_images)"
   ]
  },
  {
   "cell_type": "code",
   "execution_count": 11,
   "id": "1b294221",
   "metadata": {},
   "outputs": [
    {
     "data": {
      "image/png": "[encoded data removed]",
      "text/plain": [
       "<PIL.Image.Image image mode=L size=28x28 at 0x7F533465B7C0>"
      ]
     },
     "execution_count": 11,
     "metadata": {},
     "output_type": "execute_result"
    }
   ],
   "source": [
    "Image.fromarray(train_images[0])"
   ]
  },
  {
   "cell_type": "code",
   "execution_count": null,
   "id": "cdf47f9e",
   "metadata": {},
   "outputs": [],
   "source": []
  },
  {
   "cell_type": "code",
   "execution_count": null,
   "id": "2fcdfc8c",
   "metadata": {},
   "outputs": [],
   "source": []
  },
  {
   "cell_type": "markdown",
   "id": "da64895b",
   "metadata": {},
   "source": [
    "#### val"
   ]
  },
  {
   "cell_type": "code",
   "execution_count": 12,
   "id": "2679ca12",
   "metadata": {},
   "outputs": [],
   "source": [
    "val_images = tissuemnist['val_images']\n",
    "val_labels = tissuemnist['val_labels'].squeeze()\n",
    "\n",
    "\n",
    "val_set = {\"images\": val_images, \"labels\": val_labels}"
   ]
  },
  {
   "cell_type": "code",
   "execution_count": 13,
   "id": "77db2430",
   "metadata": {
    "scrolled": true
   },
   "outputs": [
    {
     "name": "stdout",
     "output_type": "stream",
     "text": [
      "val_images: (23640, 28, 28) val_labels: (23640,)\n"
     ]
    }
   ],
   "source": [
    "print('val_images: {} val_labels: {}'.format(val_images.shape, val_labels.shape))\n"
   ]
  },
  {
   "cell_type": "code",
   "execution_count": 14,
   "id": "4c9e5a5c",
   "metadata": {},
   "outputs": [
    {
     "name": "stdout",
     "output_type": "stream",
     "text": [
      "val_labels: {0, 1, 2, 3, 4, 5, 6, 7}\n",
      "num samples each class\n",
      "0: 7582\n",
      "1: 1117\n",
      "2: 838\n",
      "3: 2201\n",
      "4: 1684\n",
      "5: 1101\n",
      "6: 5601\n",
      "7: 3516\n"
     ]
    }
   ],
   "source": [
    "print('val_labels: {}'.format(set(val_labels)))\n",
    "N_class0 = np.sum(val_labels==0)\n",
    "N_class1 = np.sum(val_labels==1)\n",
    "N_class2 = np.sum(val_labels==2)\n",
    "N_class3 = np.sum(val_labels==3)\n",
    "N_class4 = np.sum(val_labels==4)\n",
    "N_class5 = np.sum(val_labels==5)\n",
    "N_class6 = np.sum(val_labels==6)\n",
    "N_class7 = np.sum(val_labels==7)\n",
    "\n",
    "print('num samples each class')\n",
    "print('0: {}\\n1: {}\\n2: {}\\n3: {}\\n4: {}\\n5: {}\\n6: {}\\n7: {}'.format(N_class0, N_class1, N_class2, N_class3, N_class4, N_class5, N_class6, N_class7))\n",
    "\n",
    "\n"
   ]
  },
  {
   "cell_type": "code",
   "execution_count": 15,
   "id": "65ee15cf",
   "metadata": {},
   "outputs": [
    {
     "name": "stdout",
     "output_type": "stream",
     "text": [
      "means: 26.02644266462936\n",
      "stds: 20.34062409949826\n"
     ]
    }
   ],
   "source": [
    "val_means, val_stds = get_means_and_std(val_images)"
   ]
  },
  {
   "cell_type": "code",
   "execution_count": 16,
   "id": "64def4dd",
   "metadata": {},
   "outputs": [
    {
     "data": {
      "image/png": "[encoded data removed]",
      "text/plain": [
       "<PIL.Image.Image image mode=L size=28x28 at 0x7F533A62C730>"
      ]
     },
     "execution_count": 16,
     "metadata": {},
     "output_type": "execute_result"
    }
   ],
   "source": [
    "Image.fromarray(val_images[1])"
   ]
  },
  {
   "cell_type": "code",
   "execution_count": null,
   "id": "a4451031",
   "metadata": {
    "scrolled": true
   },
   "outputs": [],
   "source": []
  },
  {
   "cell_type": "markdown",
   "id": "85a8abdf",
   "metadata": {},
   "source": [
    "#### test"
   ]
  },
  {
   "cell_type": "code",
   "execution_count": 17,
   "id": "730fd238",
   "metadata": {},
   "outputs": [],
   "source": [
    "test_images = tissuemnist['test_images']\n",
    "test_labels = tissuemnist['test_labels'].squeeze()\n",
    "\n",
    "\n",
    "test_set = {\"images\": test_images, \"labels\": test_labels}"
   ]
  },
  {
   "cell_type": "code",
   "execution_count": 18,
   "id": "09bafa95",
   "metadata": {
    "scrolled": true
   },
   "outputs": [
    {
     "name": "stdout",
     "output_type": "stream",
     "text": [
      "test_images: (47280, 28, 28) test_labels: (47280,)\n"
     ]
    }
   ],
   "source": [
    "print('test_images: {} test_labels: {}'.format(test_images.shape, test_labels.shape))\n"
   ]
  },
  {
   "cell_type": "code",
   "execution_count": 19,
   "id": "5212f368",
   "metadata": {},
   "outputs": [
    {
     "name": "stdout",
     "output_type": "stream",
     "text": [
      "test_labels: {0, 1, 2, 3, 4, 5, 6, 7}\n",
      "num samples each class\n",
      "0: 15165\n",
      "1: 2233\n",
      "2: 1677\n",
      "3: 4402\n",
      "4: 3369\n",
      "5: 2202\n",
      "6: 11201\n",
      "7: 7031\n"
     ]
    }
   ],
   "source": [
    "print('test_labels: {}'.format(set(test_labels)))\n",
    "N_class0 = np.sum(test_labels==0)\n",
    "N_class1 = np.sum(test_labels==1)\n",
    "N_class2 = np.sum(test_labels==2)\n",
    "N_class3 = np.sum(test_labels==3)\n",
    "N_class4 = np.sum(test_labels==4)\n",
    "N_class5 = np.sum(test_labels==5)\n",
    "N_class6 = np.sum(test_labels==6)\n",
    "N_class7 = np.sum(test_labels==7)\n",
    "\n",
    "print('num samples each class')\n",
    "print('0: {}\\n1: {}\\n2: {}\\n3: {}\\n4: {}\\n5: {}\\n6: {}\\n7: {}'.format(N_class0, N_class1, N_class2, N_class3, N_class4, N_class5, N_class6, N_class7))\n",
    "\n",
    "\n"
   ]
  },
  {
   "cell_type": "code",
   "execution_count": 20,
   "id": "58a5e0b5",
   "metadata": {
    "scrolled": true
   },
   "outputs": [
    {
     "name": "stdout",
     "output_type": "stream",
     "text": [
      "means: 26.075920293561747\n",
      "stds: 20.412827544880408\n"
     ]
    }
   ],
   "source": [
    "test_means, test_stds = get_means_and_std(test_images)"
   ]
  },
  {
   "cell_type": "code",
   "execution_count": 21,
   "id": "b12bff91",
   "metadata": {},
   "outputs": [
    {
     "data": {
      "image/png": "[encoded data removed]",
      "text/plain": [
       "<PIL.Image.Image image mode=L size=28x28 at 0x7F533A63BD00>"
      ]
     },
     "execution_count": 21,
     "metadata": {},
     "output_type": "execute_result"
    }
   ],
   "source": [
    "Image.fromarray(test_images[1])"
   ]
  },
  {
   "cell_type": "code",
   "execution_count": null,
   "id": "0fddfe0c",
   "metadata": {},
   "outputs": [],
   "source": []
  },
  {
   "cell_type": "markdown",
   "id": "97725ad2",
   "metadata": {},
   "source": [
    "## split train into labeled and unlabeled"
   ]
  },
  {
   "cell_type": "code",
   "execution_count": 22,
   "id": "f2bdf2fd",
   "metadata": {},
   "outputs": [],
   "source": [
    "def split_l_u(images, labels, n_labels_per_cls, classes):\n",
    "    l_images = []\n",
    "    l_labels = []\n",
    "    u_images = []\n",
    "    u_labels = []\n",
    "    \n",
    "    for c in classes:\n",
    "        cls_mask = (labels==c)\n",
    "        c_images = images[cls_mask]\n",
    "        c_labels = labels[cls_mask]\n",
    "        l_images += [c_images[:n_labels_per_cls]]\n",
    "        l_labels += [c_labels[:n_labels_per_cls]]\n",
    "        u_images += [c_images[n_labels_per_cls:]]\n",
    "        [-1]*len(c_images[n_labels_per_cls:])\n",
    "        u_labels += [-1]*len(c_labels[n_labels_per_cls:])  #dummy label\n",
    "    \n",
    "    l_set = {\"images\": np.concatenate(l_images, 0), \"labels\": np.concatenate(l_labels, 0)}\n",
    "    u_set = {\"images\": np.concatenate(u_images, 0), \"labels\": np.array(u_labels)}\n",
    "\n",
    "    return l_set, u_set\n",
    "    \n",
    "    "
   ]
  },
  {
   "cell_type": "code",
   "execution_count": 23,
   "id": "4e8b21e2",
   "metadata": {},
   "outputs": [],
   "source": [
    "rng = np.random.RandomState(0)\n",
    "indices = rng.permutation(len(train_images))\n",
    "train_images = train_images[indices]\n",
    "train_labels = train_labels[indices]\n"
   ]
  },
  {
   "cell_type": "code",
   "execution_count": 24,
   "id": "16f5e5bc",
   "metadata": {},
   "outputs": [],
   "source": [
    "classes = [0, 1, 2, 3, 4, 5, 6, 7]\n",
    "l_train_set_npercls10, u_train_set_npercls10 = split_l_u(train_images, train_labels, 10, classes)\n",
    "l_train_set_npercls50, u_train_set_npercls50 = split_l_u(train_images, train_labels, 50, classes)\n"
   ]
  },
  {
   "cell_type": "code",
   "execution_count": 25,
   "id": "80f65eef",
   "metadata": {},
   "outputs": [
    {
     "data": {
      "text/plain": [
       "{'images': array([[[ 41,  46,  50, ...,  24,  36,  43],\n",
       "         [ 41,  40,  39, ...,  28,  39,  46],\n",
       "         [ 44,  39,  34, ...,  25,  35,  41],\n",
       "         ...,\n",
       "         [ 10,   9,   9, ...,  46,  38,  37],\n",
       "         [ 10,   9,   9, ...,  44,  36,  35],\n",
       "         [ 10,   9,   9, ...,  43,  35,  34]],\n",
       " \n",
       "        [[ 15,  14,  14, ...,   7,   6,   6],\n",
       "         [ 14,  13,  13, ...,  10,  10,   9],\n",
       "         [ 13,  12,  11, ...,   8,   8,   7],\n",
       "         ...,\n",
       "         [ 18,  14,  10, ...,  12,  15,  17],\n",
       "         [ 15,  12,  10, ...,  12,  14,  16],\n",
       "         [ 17,  15,  14, ...,  15,  17,  19]],\n",
       " \n",
       "        [[ 43,  51,  88, ...,  87,  70,  30],\n",
       "         [ 40,  48,  82, ..., 107, 106,  70],\n",
       "         [ 20,  23,  46, ...,  93, 105,  70],\n",
       "         ...,\n",
       "         [ 71, 101,  94, ...,   9,   5,   4],\n",
       "         [ 92, 110,  90, ...,   7,   4,   3],\n",
       "         [ 79,  95,  78, ...,   6,   3,   2]],\n",
       " \n",
       "        ...,\n",
       " \n",
       "        [[  4,   3,   3, ...,   4,   4,   4],\n",
       "         [  4,   4,   3, ...,   4,   4,   4],\n",
       "         [  4,   4,   3, ...,   4,   4,   4],\n",
       "         ...,\n",
       "         [  3,   3,   3, ...,   4,   4,   4],\n",
       "         [  3,   3,   3, ...,   2,   2,   2],\n",
       "         [  3,   3,   3, ...,   1,   1,   1]],\n",
       " \n",
       "        [[ 12,  11,  11, ...,   8,  10,  10],\n",
       "         [ 10,  10,  10, ...,   7,   7,   6],\n",
       "         [  9,   9,   9, ...,  12,   9,   7],\n",
       "         ...,\n",
       "         [ 52,  38,  23, ...,  42,  43,  47],\n",
       "         [ 57,  53,  36, ...,  36,  37,  41],\n",
       "         [ 76,  72,  43, ...,  36,  37,  41]],\n",
       " \n",
       "        [[  2,   2,   3, ...,   6,   6,   6],\n",
       "         [  4,   4,   4, ...,   6,   6,   6],\n",
       "         [  5,   5,   5, ...,   7,   7,   7],\n",
       "         ...,\n",
       "         [  1,   1,   1, ...,   2,   2,   2],\n",
       "         [  1,   1,   1, ...,   2,   2,   2],\n",
       "         [  1,   1,   1, ...,   2,   2,   2]]], dtype=uint8),\n",
       " 'labels': array([0, 0, 0, 0, 0, 0, 0, 0, 0, 0, 0, 0, 0, 0, 0, 0, 0, 0, 0, 0, 0, 0,\n",
       "        0, 0, 0, 0, 0, 0, 0, 0, 0, 0, 0, 0, 0, 0, 0, 0, 0, 0, 0, 0, 0, 0,\n",
       "        0, 0, 0, 0, 0, 0, 1, 1, 1, 1, 1, 1, 1, 1, 1, 1, 1, 1, 1, 1, 1, 1,\n",
       "        1, 1, 1, 1, 1, 1, 1, 1, 1, 1, 1, 1, 1, 1, 1, 1, 1, 1, 1, 1, 1, 1,\n",
       "        1, 1, 1, 1, 1, 1, 1, 1, 1, 1, 1, 1, 2, 2, 2, 2, 2, 2, 2, 2, 2, 2,\n",
       "        2, 2, 2, 2, 2, 2, 2, 2, 2, 2, 2, 2, 2, 2, 2, 2, 2, 2, 2, 2, 2, 2,\n",
       "        2, 2, 2, 2, 2, 2, 2, 2, 2, 2, 2, 2, 2, 2, 2, 2, 2, 2, 3, 3, 3, 3,\n",
       "        3, 3, 3, 3, 3, 3, 3, 3, 3, 3, 3, 3, 3, 3, 3, 3, 3, 3, 3, 3, 3, 3,\n",
       "        3, 3, 3, 3, 3, 3, 3, 3, 3, 3, 3, 3, 3, 3, 3, 3, 3, 3, 3, 3, 3, 3,\n",
       "        3, 3, 4, 4, 4, 4, 4, 4, 4, 4, 4, 4, 4, 4, 4, 4, 4, 4, 4, 4, 4, 4,\n",
       "        4, 4, 4, 4, 4, 4, 4, 4, 4, 4, 4, 4, 4, 4, 4, 4, 4, 4, 4, 4, 4, 4,\n",
       "        4, 4, 4, 4, 4, 4, 4, 4, 5, 5, 5, 5, 5, 5, 5, 5, 5, 5, 5, 5, 5, 5,\n",
       "        5, 5, 5, 5, 5, 5, 5, 5, 5, 5, 5, 5, 5, 5, 5, 5, 5, 5, 5, 5, 5, 5,\n",
       "        5, 5, 5, 5, 5, 5, 5, 5, 5, 5, 5, 5, 5, 5, 6, 6, 6, 6, 6, 6, 6, 6,\n",
       "        6, 6, 6, 6, 6, 6, 6, 6, 6, 6, 6, 6, 6, 6, 6, 6, 6, 6, 6, 6, 6, 6,\n",
       "        6, 6, 6, 6, 6, 6, 6, 6, 6, 6, 6, 6, 6, 6, 6, 6, 6, 6, 6, 6, 7, 7,\n",
       "        7, 7, 7, 7, 7, 7, 7, 7, 7, 7, 7, 7, 7, 7, 7, 7, 7, 7, 7, 7, 7, 7,\n",
       "        7, 7, 7, 7, 7, 7, 7, 7, 7, 7, 7, 7, 7, 7, 7, 7, 7, 7, 7, 7, 7, 7,\n",
       "        7, 7, 7, 7], dtype=uint8)}"
      ]
     },
     "execution_count": 25,
     "metadata": {},
     "output_type": "execute_result"
    }
   ],
   "source": [
    "l_train_set_npercls50"
   ]
  },
  {
   "cell_type": "code",
   "execution_count": null,
   "id": "4e311341",
   "metadata": {},
   "outputs": [],
   "source": []
  },
  {
   "cell_type": "markdown",
   "id": "70006c59",
   "metadata": {},
   "source": [
    "### save data split"
   ]
  },
  {
   "cell_type": "code",
   "execution_count": 26,
   "id": "07e32cd1",
   "metadata": {},
   "outputs": [],
   "source": [
    "n_per_cls10_save_dir = '/cluster/tufts/hugheslab/zhuang12/SemiSelfEvaluationProject/ML_DATA/MedMNIST/TissueMNIST/unnormalized_HWC/n_per_cls10'\n",
    "n_per_cls50_save_dir = '/cluster/tufts/hugheslab/zhuang12/SemiSelfEvaluationProject/ML_DATA/MedMNIST/TissueMNIST/unnormalized_HWC/n_per_cls50'\n",
    "\n"
   ]
  },
  {
   "cell_type": "code",
   "execution_count": 27,
   "id": "a74059b4",
   "metadata": {},
   "outputs": [],
   "source": [
    "np.save(os.path.join(n_per_cls10_save_dir, 'l_train.npy'), l_train_set_npercls10)\n",
    "np.save(os.path.join(n_per_cls10_save_dir, 'u_train.npy'), u_train_set_npercls10)\n",
    "np.save(os.path.join(n_per_cls10_save_dir, 'val.npy'), val_set)\n",
    "np.save(os.path.join(n_per_cls10_save_dir, 'test.npy'), test_set)\n"
   ]
  },
  {
   "cell_type": "code",
   "execution_count": 28,
   "id": "3c6d7629",
   "metadata": {},
   "outputs": [],
   "source": [
    "np.save(os.path.join(n_per_cls50_save_dir, 'l_train.npy'), l_train_set_npercls50)\n",
    "np.save(os.path.join(n_per_cls50_save_dir, 'u_train.npy'), u_train_set_npercls50)\n",
    "np.save(os.path.join(n_per_cls50_save_dir, 'val.npy'), val_set)\n",
    "np.save(os.path.join(n_per_cls50_save_dir, 'test.npy'), test_set)\n"
   ]
  }
 ],
 "metadata": {
  "kernelspec": {
   "display_name": "Python 3 (ipykernel)",
   "language": "python",
   "name": "python3"
  },
  "language_info": {
   "codemirror_mode": {
    "name": "ipython",
    "version": 3
   },
   "file_extension": ".py",
   "mimetype": "text/x-python",
   "name": "python",
   "nbconvert_exporter": "python",
   "pygments_lexer": "ipython3",
   "version": "3.8.12"
  }
 },
 "nbformat": 4,
 "nbformat_minor": 5
}
