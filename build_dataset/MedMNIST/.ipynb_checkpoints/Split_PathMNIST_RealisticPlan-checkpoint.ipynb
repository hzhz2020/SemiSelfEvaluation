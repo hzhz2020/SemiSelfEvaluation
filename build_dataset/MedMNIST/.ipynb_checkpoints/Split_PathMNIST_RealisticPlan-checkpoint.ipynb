{
 "cells": [
  {
   "cell_type": "code",
   "execution_count": 1,
   "id": "b92c8b12",
   "metadata": {},
   "outputs": [],
   "source": [
    "import numpy as np\n",
    "import os\n",
    "from PIL import Image\n"
   ]
  },
  {
   "cell_type": "code",
   "execution_count": 2,
   "id": "39692410",
   "metadata": {},
   "outputs": [],
   "source": [
    "root_dir = '/cluster/tufts/hugheslab/zhuang12/SemiSelfEvaluationProject/FromMedMNISTWebsite/'\n"
   ]
  },
  {
   "cell_type": "code",
   "execution_count": 3,
   "id": "2df06a67",
   "metadata": {},
   "outputs": [],
   "source": [
    "def get_means_and_std(images):\n",
    "\n",
    "    means = np.zeros(3)\n",
    "    stds = np.zeros(3)\n",
    "\n",
    "    assert images.shape[3] == 3 #data['images'] N, H, W, C\n",
    "    for image in images:\n",
    "\n",
    "        for i in range(3):\n",
    "            means[i] += image[:,:,i].mean()\n",
    "            stds[i] += image[:,:,i].std()\n",
    "\n",
    "    means = means/len(images)\n",
    "    stds = stds/len(images)\n",
    "\n",
    "    print('means: {}'.format(means))\n",
    "    print('stds: {}'.format(stds))\n",
    "    \n",
    "    return means, stds"
   ]
  },
  {
   "cell_type": "code",
   "execution_count": null,
   "id": "824b204e",
   "metadata": {},
   "outputs": [],
   "source": []
  },
  {
   "cell_type": "markdown",
   "id": "ce81fd4b",
   "metadata": {},
   "source": [
    "## original pathmnist"
   ]
  },
  {
   "cell_type": "code",
   "execution_count": 4,
   "id": "cde4dada",
   "metadata": {},
   "outputs": [],
   "source": [
    "pathmnist_path = os.path.join(root_dir, 'pathmnist.npz')\n"
   ]
  },
  {
   "cell_type": "code",
   "execution_count": 5,
   "id": "9f766aae",
   "metadata": {},
   "outputs": [],
   "source": [
    "# pathmnist = np.load(pathmnist_path, allow_pickle=True)\n",
    "pathmnist = np.load(pathmnist_path)\n"
   ]
  },
  {
   "cell_type": "markdown",
   "id": "262df6da",
   "metadata": {},
   "source": [
    "#### train"
   ]
  },
  {
   "cell_type": "code",
   "execution_count": 6,
   "id": "a3a9c237",
   "metadata": {},
   "outputs": [],
   "source": [
    "train_images = pathmnist['train_images']\n",
    "train_labels = pathmnist['train_labels'].squeeze()\n",
    "\n",
    "\n"
   ]
  },
  {
   "cell_type": "code",
   "execution_count": 7,
   "id": "892cc684",
   "metadata": {
    "scrolled": true
   },
   "outputs": [
    {
     "name": "stdout",
     "output_type": "stream",
     "text": [
      "train_images: (89996, 28, 28, 3) train_labels: (89996,)\n"
     ]
    }
   ],
   "source": [
    "print('train_images: {} train_labels: {}'.format(train_images.shape, train_labels.shape))\n"
   ]
  },
  {
   "cell_type": "code",
   "execution_count": 8,
   "id": "9331a904",
   "metadata": {},
   "outputs": [
    {
     "name": "stdout",
     "output_type": "stream",
     "text": [
      "train_labels: {0, 1, 2, 3, 4, 5, 6, 7, 8}\n",
      "num samples each class\n",
      "0: 9366\n",
      "1: 9509\n",
      "2: 10360\n",
      "3: 10401\n",
      "4: 8006\n",
      "5: 12182\n",
      "6: 7886\n",
      "7: 9401\n",
      "8: 12885\n"
     ]
    }
   ],
   "source": [
    "print('train_labels: {}'.format(set(train_labels)))\n",
    "N_class0 = np.sum(train_labels==0)\n",
    "N_class1 = np.sum(train_labels==1)\n",
    "N_class2 = np.sum(train_labels==2)\n",
    "N_class3 = np.sum(train_labels==3)\n",
    "N_class4 = np.sum(train_labels==4)\n",
    "N_class5 = np.sum(train_labels==5)\n",
    "N_class6 = np.sum(train_labels==6)\n",
    "N_class7 = np.sum(train_labels==7)\n",
    "N_class8 = np.sum(train_labels==8)\n",
    "\n",
    "print('num samples each class')\n",
    "print('0: {}\\n1: {}\\n2: {}\\n3: {}\\n4: {}\\n5: {}\\n6: {}\\n7: {}\\n8: {}'.format(N_class0, N_class1, N_class2, N_class3, N_class4, N_class5, N_class6, N_class7, N_class8))\n",
    "\n",
    "\n"
   ]
  },
  {
   "cell_type": "code",
   "execution_count": 9,
   "id": "13fad17f",
   "metadata": {},
   "outputs": [
    {
     "name": "stdout",
     "output_type": "stream",
     "text": [
      "means: [188.83897503 135.91045926 179.98635682]\n",
      "stds: [18.41967647 26.45458704 18.63912422]\n"
     ]
    }
   ],
   "source": [
    "train_means, train_stds = get_means_and_std(train_images)"
   ]
  },
  {
   "cell_type": "code",
   "execution_count": 10,
   "id": "3d444b24",
   "metadata": {},
   "outputs": [
    {
     "data": {
      "image/png": "[encoded data removed]",
      "text/plain": [
       "<PIL.Image.Image image mode=RGB size=28x28 at 0x7F93F4E7D0A0>"
      ]
     },
     "execution_count": 10,
     "metadata": {},
     "output_type": "execute_result"
    }
   ],
   "source": [
    "Image.fromarray(train_images[1])"
   ]
  },
  {
   "cell_type": "code",
   "execution_count": 28,
   "id": "449d64c8",
   "metadata": {},
   "outputs": [
    {
     "data": {
      "text/plain": [
       "12821"
      ]
     },
     "execution_count": 28,
     "metadata": {},
     "output_type": "execute_result"
    }
   ],
   "source": [
    "12885-64"
   ]
  },
  {
   "cell_type": "code",
   "execution_count": null,
   "id": "364a6137",
   "metadata": {},
   "outputs": [],
   "source": []
  },
  {
   "cell_type": "markdown",
   "id": "a9907c52",
   "metadata": {},
   "source": [
    "#### val"
   ]
  },
  {
   "cell_type": "code",
   "execution_count": 11,
   "id": "30dc94ba",
   "metadata": {},
   "outputs": [],
   "source": [
    "val_images = pathmnist['val_images']\n",
    "val_labels = pathmnist['val_labels'].squeeze()\n",
    "\n",
    "\n",
    "val_set = {\"images\": val_images, \"labels\": val_labels}"
   ]
  },
  {
   "cell_type": "code",
   "execution_count": 12,
   "id": "fcd2812c",
   "metadata": {
    "scrolled": true
   },
   "outputs": [
    {
     "name": "stdout",
     "output_type": "stream",
     "text": [
      "val_images: (10004, 28, 28, 3) val_labels: (10004,)\n"
     ]
    }
   ],
   "source": [
    "print('val_images: {} val_labels: {}'.format(val_images.shape, val_labels.shape))\n"
   ]
  },
  {
   "cell_type": "code",
   "execution_count": 13,
   "id": "ea9c2823",
   "metadata": {},
   "outputs": [
    {
     "name": "stdout",
     "output_type": "stream",
     "text": [
      "val_labels: {0, 1, 2, 3, 4, 5, 6, 7, 8}\n",
      "num samples each class\n",
      "0: 1041\n",
      "1: 1057\n",
      "2: 1152\n",
      "3: 1156\n",
      "4: 890\n",
      "5: 1354\n",
      "6: 877\n",
      "7: 1045\n",
      "8: 1432\n"
     ]
    }
   ],
   "source": [
    "print('val_labels: {}'.format(set(val_labels)))\n",
    "N_class0 = np.sum(val_labels==0)\n",
    "N_class1 = np.sum(val_labels==1)\n",
    "N_class2 = np.sum(val_labels==2)\n",
    "N_class3 = np.sum(val_labels==3)\n",
    "N_class4 = np.sum(val_labels==4)\n",
    "N_class5 = np.sum(val_labels==5)\n",
    "N_class6 = np.sum(val_labels==6)\n",
    "N_class7 = np.sum(val_labels==7)\n",
    "N_class8 = np.sum(val_labels==8)\n",
    "\n",
    "print('num samples each class')\n",
    "print('0: {}\\n1: {}\\n2: {}\\n3: {}\\n4: {}\\n5: {}\\n6: {}\\n7: {}\\n8: {}'.format(N_class0, N_class1, N_class2, N_class3, N_class4, N_class5, N_class6, N_class7, N_class8))\n",
    "\n",
    "\n"
   ]
  },
  {
   "cell_type": "code",
   "execution_count": 14,
   "id": "1a757c65",
   "metadata": {},
   "outputs": [
    {
     "name": "stdout",
     "output_type": "stream",
     "text": [
      "means: [189.07543258 136.30386583 180.27050035]\n",
      "stds: [18.48204268 26.62251155 18.74789286]\n"
     ]
    }
   ],
   "source": [
    "val_means, val_stds = get_means_and_std(val_images)"
   ]
  },
  {
   "cell_type": "code",
   "execution_count": 15,
   "id": "8376cabe",
   "metadata": {},
   "outputs": [
    {
     "data": {
      "image/png": "[encoded data removed]",
      "text/plain": [
       "<PIL.Image.Image image mode=RGB size=28x28 at 0x7F93F4E18250>"
      ]
     },
     "execution_count": 15,
     "metadata": {},
     "output_type": "execute_result"
    }
   ],
   "source": [
    "Image.fromarray(val_images[1])"
   ]
  },
  {
   "cell_type": "code",
   "execution_count": null,
   "id": "6407ec4e",
   "metadata": {
    "scrolled": true
   },
   "outputs": [],
   "source": []
  },
  {
   "cell_type": "code",
   "execution_count": null,
   "id": "16c22e78",
   "metadata": {},
   "outputs": [],
   "source": []
  },
  {
   "cell_type": "markdown",
   "id": "d72f730c",
   "metadata": {},
   "source": [
    "### Realistic Train/Val split"
   ]
  },
  {
   "cell_type": "code",
   "execution_count": 16,
   "id": "335a8b09",
   "metadata": {},
   "outputs": [
    {
     "name": "stdout",
     "output_type": "stream",
     "text": [
      "total_dev: 100000\n",
      "total_class0_dev: 10407\n",
      "total_class1_dev: 10566\n",
      "total_class2_dev: 11512\n",
      "total_class3_dev: 11557\n",
      "total_class4_dev: 8896\n",
      "total_class5_dev: 13536\n",
      "total_class6_dev: 8763\n",
      "total_class7_dev: 10446\n",
      "total_class8_dev: 14317\n"
     ]
    }
   ],
   "source": [
    "total_dev = len(train_labels) + len(val_labels)\n",
    "total_class0_dev = np.sum(train_labels==0) + np.sum(val_labels==0)\n",
    "total_class1_dev = np.sum(train_labels==1) + np.sum(val_labels==1)\n",
    "total_class2_dev = np.sum(train_labels==2) + np.sum(val_labels==2)\n",
    "total_class3_dev = np.sum(train_labels==3) + np.sum(val_labels==3)\n",
    "total_class4_dev = np.sum(train_labels==4) + np.sum(val_labels==4)\n",
    "total_class5_dev = np.sum(train_labels==5) + np.sum(val_labels==5)\n",
    "total_class6_dev = np.sum(train_labels==6) + np.sum(val_labels==6)\n",
    "total_class7_dev = np.sum(train_labels==7) + np.sum(val_labels==7)\n",
    "total_class8_dev = np.sum(train_labels==8) + np.sum(val_labels==8)\n",
    "\n",
    "print('total_dev: {}'.format(total_dev))\n",
    "print('total_class0_dev: {}'.format(total_class0_dev))\n",
    "print('total_class1_dev: {}'.format(total_class1_dev))\n",
    "print('total_class2_dev: {}'.format(total_class2_dev))\n",
    "print('total_class3_dev: {}'.format(total_class3_dev))\n",
    "print('total_class4_dev: {}'.format(total_class4_dev))\n",
    "print('total_class5_dev: {}'.format(total_class5_dev))\n",
    "print('total_class6_dev: {}'.format(total_class6_dev))\n",
    "print('total_class7_dev: {}'.format(total_class7_dev))\n",
    "print('total_class8_dev: {}'.format(total_class8_dev))\n",
    "\n",
    "assert total_dev == (total_class0_dev+total_class1_dev+total_class2_dev+total_class3_dev+total_class4_dev+total_class5_dev+total_class6_dev+total_class7_dev+total_class8_dev)\n",
    "\n"
   ]
  },
  {
   "cell_type": "code",
   "execution_count": 17,
   "id": "18a66a0e",
   "metadata": {},
   "outputs": [
    {
     "name": "stdout",
     "output_type": "stream",
     "text": [
      "temp_class0_dev: 93.663\n",
      "temp_class1_dev: 95.09400000000001\n",
      "temp_class2_dev: 103.608\n",
      "temp_class3_dev: 104.013\n",
      "temp_class4_dev: 80.064\n",
      "temp_class5_dev: 121.82400000000001\n",
      "temp_class6_dev: 78.867\n",
      "temp_class7_dev: 94.014\n",
      "temp_class8_dev: 128.85299999999998\n"
     ]
    }
   ],
   "source": [
    "temp_class0_dev = 900 * (total_class0_dev/total_dev)\n",
    "temp_class1_dev = 900 * (total_class1_dev/total_dev)\n",
    "temp_class2_dev = 900 * (total_class2_dev/total_dev)\n",
    "temp_class3_dev = 900 * (total_class3_dev/total_dev)\n",
    "temp_class4_dev = 900 * (total_class4_dev/total_dev)\n",
    "temp_class5_dev = 900 * (total_class5_dev/total_dev)\n",
    "temp_class6_dev = 900 * (total_class6_dev/total_dev)\n",
    "temp_class7_dev = 900 * (total_class7_dev/total_dev)\n",
    "temp_class8_dev = 900 * (total_class8_dev/total_dev)\n",
    "\n",
    "print('temp_class0_dev: {}'.format(temp_class0_dev))\n",
    "print('temp_class1_dev: {}'.format(temp_class1_dev))\n",
    "print('temp_class2_dev: {}'.format(temp_class2_dev))\n",
    "print('temp_class3_dev: {}'.format(temp_class3_dev))\n",
    "print('temp_class4_dev: {}'.format(temp_class4_dev))\n",
    "print('temp_class5_dev: {}'.format(temp_class5_dev))\n",
    "print('temp_class6_dev: {}'.format(temp_class6_dev))\n",
    "print('temp_class7_dev: {}'.format(temp_class7_dev))\n",
    "print('temp_class8_dev: {}'.format(temp_class8_dev))\n"
   ]
  },
  {
   "cell_type": "code",
   "execution_count": 19,
   "id": "8595e2ec",
   "metadata": {},
   "outputs": [
    {
     "name": "stdout",
     "output_type": "stream",
     "text": [
      "total dev: 900\n"
     ]
    }
   ],
   "source": [
    "final_class0_dev = 94\n",
    "final_class1_dev = 96\n",
    "final_class2_dev = 104\n",
    "final_class3_dev = 104\n",
    "final_class4_dev = 80\n",
    "final_class5_dev = 122\n",
    "final_class6_dev = 78\n",
    "final_class7_dev = 94\n",
    "final_class8_dev = 128\n",
    "\n",
    "print('total dev: {}'.format(final_class0_dev+final_class1_dev+final_class2_dev+final_class3_dev+final_class4_dev+final_class5_dev+final_class6_dev+final_class7_dev+final_class8_dev))\n"
   ]
  },
  {
   "cell_type": "code",
   "execution_count": null,
   "id": "8ef58ba9",
   "metadata": {},
   "outputs": [],
   "source": []
  },
  {
   "cell_type": "markdown",
   "id": "13af521b",
   "metadata": {},
   "source": [
    "#### test"
   ]
  },
  {
   "cell_type": "code",
   "execution_count": 19,
   "id": "667f85d8",
   "metadata": {},
   "outputs": [],
   "source": [
    "test_images = pathmnist['test_images']\n",
    "test_labels = pathmnist['test_labels'].squeeze()\n",
    "\n",
    "\n",
    "test_set = {\"images\": test_images, \"labels\": test_labels}"
   ]
  },
  {
   "cell_type": "code",
   "execution_count": 20,
   "id": "06f551af",
   "metadata": {
    "scrolled": true
   },
   "outputs": [
    {
     "name": "stdout",
     "output_type": "stream",
     "text": [
      "test_images: (7180, 28, 28, 3) test_labels: (7180,)\n"
     ]
    }
   ],
   "source": [
    "print('test_images: {} test_labels: {}'.format(test_images.shape, test_labels.shape))\n"
   ]
  },
  {
   "cell_type": "code",
   "execution_count": 21,
   "id": "e038508b",
   "metadata": {},
   "outputs": [
    {
     "name": "stdout",
     "output_type": "stream",
     "text": [
      "test_labels: {0, 1, 2, 3, 4, 5, 6, 7, 8}\n",
      "num samples each class\n",
      "0: 1338\n",
      "1: 847\n",
      "2: 339\n",
      "3: 634\n",
      "4: 1035\n",
      "5: 592\n",
      "6: 741\n",
      "7: 421\n",
      "8: 1233\n"
     ]
    }
   ],
   "source": [
    "print('test_labels: {}'.format(set(test_labels)))\n",
    "N_class0 = np.sum(test_labels==0)\n",
    "N_class1 = np.sum(test_labels==1)\n",
    "N_class2 = np.sum(test_labels==2)\n",
    "N_class3 = np.sum(test_labels==3)\n",
    "N_class4 = np.sum(test_labels==4)\n",
    "N_class5 = np.sum(test_labels==5)\n",
    "N_class6 = np.sum(test_labels==6)\n",
    "N_class7 = np.sum(test_labels==7)\n",
    "N_class8 = np.sum(test_labels==8)\n",
    "\n",
    "print('num samples each class')\n",
    "print('0: {}\\n1: {}\\n2: {}\\n3: {}\\n4: {}\\n5: {}\\n6: {}\\n7: {}\\n8: {}'.format(N_class0, N_class1, N_class2, N_class3, N_class4, N_class5, N_class6, N_class7, N_class8))\n",
    "\n",
    "\n"
   ]
  },
  {
   "cell_type": "code",
   "execution_count": 22,
   "id": "9101e3f2",
   "metadata": {
    "scrolled": true
   },
   "outputs": [
    {
     "name": "stdout",
     "output_type": "stream",
     "text": [
      "means: [185.34994866 136.51923089 180.85161482]\n",
      "stds: [19.83423335 29.00106576 20.44698596]\n"
     ]
    }
   ],
   "source": [
    "test_means, test_stds = get_means_and_std(test_images)"
   ]
  },
  {
   "cell_type": "code",
   "execution_count": 23,
   "id": "7bf51add",
   "metadata": {},
   "outputs": [
    {
     "data": {
      "image/png": "[encoded data removed]",
      "text/plain": [
       "<PIL.Image.Image image mode=RGB size=28x28 at 0x7F025935EC10>"
      ]
     },
     "execution_count": 23,
     "metadata": {},
     "output_type": "execute_result"
    }
   ],
   "source": [
    "Image.fromarray(test_images[1])"
   ]
  },
  {
   "cell_type": "code",
   "execution_count": null,
   "id": "645c9e86",
   "metadata": {},
   "outputs": [],
   "source": []
  },
  {
   "cell_type": "markdown",
   "id": "a5e44a7d",
   "metadata": {},
   "source": [
    "## split train into labeled and unlabeled"
   ]
  },
  {
   "cell_type": "code",
   "execution_count": 24,
   "id": "2c68813b",
   "metadata": {},
   "outputs": [],
   "source": [
    "def split_l_u(images, labels, n_labels_per_cls, classes):\n",
    "    l_images = []\n",
    "    l_labels = []\n",
    "    u_images = []\n",
    "    u_labels = []\n",
    "    \n",
    "    for c in classes:\n",
    "        cls_mask = (labels==c)\n",
    "        c_images = images[cls_mask]\n",
    "        c_labels = labels[cls_mask]\n",
    "        l_images += [c_images[:n_labels_per_cls]]\n",
    "        l_labels += [c_labels[:n_labels_per_cls]]\n",
    "        u_images += [c_images[n_labels_per_cls:]]\n",
    "        [-1]*len(c_images[n_labels_per_cls:])\n",
    "        u_labels += [-1]*len(c_labels[n_labels_per_cls:])  #dummy label\n",
    "    \n",
    "    l_set = {\"images\": np.concatenate(l_images, 0), \"labels\": np.concatenate(l_labels, 0)}\n",
    "    u_set = {\"images\": np.concatenate(u_images, 0), \"labels\": np.array(u_labels)}\n",
    "\n",
    "    return l_set, u_set\n",
    "    \n",
    "    "
   ]
  },
  {
   "cell_type": "code",
   "execution_count": 25,
   "id": "df2e2eec",
   "metadata": {},
   "outputs": [],
   "source": [
    "rng = np.random.RandomState(0)\n",
    "indices = rng.permutation(len(train_images))\n",
    "train_images = train_images[indices]\n",
    "train_labels = train_labels[indices]\n"
   ]
  },
  {
   "cell_type": "code",
   "execution_count": 26,
   "id": "f462351e",
   "metadata": {},
   "outputs": [],
   "source": [
    "classes = [0, 1, 2, 3, 4, 5, 6, 7, 8]\n",
    "l_train_set_npercls10, u_train_set_npercls10 = split_l_u(train_images, train_labels, 10, classes)\n",
    "l_train_set_npercls50, u_train_set_npercls50 = split_l_u(train_images, train_labels, 50, classes)\n"
   ]
  },
  {
   "cell_type": "code",
   "execution_count": 27,
   "id": "d1fd33d8",
   "metadata": {},
   "outputs": [
    {
     "data": {
      "text/plain": [
       "{'images': array([[[[214, 198, 220],\n",
       "          [213, 198, 220],\n",
       "          [215, 200, 221],\n",
       "          ...,\n",
       "          [215, 200, 220],\n",
       "          [215, 200, 221],\n",
       "          [213, 198, 220]],\n",
       " \n",
       "         [[214, 199, 220],\n",
       "          [215, 200, 220],\n",
       "          [216, 201, 221],\n",
       "          ...,\n",
       "          [216, 201, 221],\n",
       "          [215, 201, 221],\n",
       "          [214, 201, 221]],\n",
       " \n",
       "         [[216, 200, 221],\n",
       "          [214, 199, 220],\n",
       "          [215, 199, 220],\n",
       "          ...,\n",
       "          [216, 201, 221],\n",
       "          [216, 201, 221],\n",
       "          [216, 201, 221]],\n",
       " \n",
       "         ...,\n",
       " \n",
       "         [[186, 158, 190],\n",
       "          [194, 173, 199],\n",
       "          [190, 168, 195],\n",
       "          ...,\n",
       "          [182, 140, 181],\n",
       "          [178, 125, 170],\n",
       "          [190, 148, 188]],\n",
       " \n",
       "         [[206, 187, 211],\n",
       "          [212, 198, 219],\n",
       "          [210, 194, 216],\n",
       "          ...,\n",
       "          [208, 184, 211],\n",
       "          [204, 173, 204],\n",
       "          [196, 162, 198]],\n",
       " \n",
       "         [[205, 183, 209],\n",
       "          [213, 197, 218],\n",
       "          [215, 199, 220],\n",
       "          ...,\n",
       "          [214, 197, 219],\n",
       "          [204, 175, 206],\n",
       "          [197, 166, 201]]],\n",
       " \n",
       " \n",
       "        [[[227, 215, 230],\n",
       "          [227, 215, 230],\n",
       "          [227, 215, 229],\n",
       "          ...,\n",
       "          [230, 216, 231],\n",
       "          [227, 215, 231],\n",
       "          [229, 216, 231]],\n",
       " \n",
       "         [[227, 215, 230],\n",
       "          [227, 215, 230],\n",
       "          [227, 216, 230],\n",
       "          ...,\n",
       "          [227, 215, 230],\n",
       "          [227, 215, 230],\n",
       "          [228, 216, 230]],\n",
       " \n",
       "         [[227, 215, 230],\n",
       "          [227, 215, 230],\n",
       "          [227, 215, 230],\n",
       "          ...,\n",
       "          [227, 215, 229],\n",
       "          [227, 215, 230],\n",
       "          [227, 215, 230]],\n",
       " \n",
       "         ...,\n",
       " \n",
       "         [[225, 205, 224],\n",
       "          [217, 187, 212],\n",
       "          [193, 147, 183],\n",
       "          ...,\n",
       "          [207, 167, 202],\n",
       "          [200, 150, 190],\n",
       "          [207, 151, 192]],\n",
       " \n",
       "         [[214, 174, 203],\n",
       "          [195, 140, 180],\n",
       "          [209, 166, 200],\n",
       "          ...,\n",
       "          [213, 178, 209],\n",
       "          [199, 145, 188],\n",
       "          [195, 134, 180]],\n",
       " \n",
       "         [[182, 128, 169],\n",
       "          [207, 173, 202],\n",
       "          [226, 209, 227],\n",
       "          ...,\n",
       "          [175, 121, 168],\n",
       "          [171, 104, 157],\n",
       "          [208, 157, 196]]],\n",
       " \n",
       " \n",
       "        [[[223, 212, 229],\n",
       "          [223, 212, 229],\n",
       "          [223, 212, 228],\n",
       "          ...,\n",
       "          [223, 213, 228],\n",
       "          [223, 212, 228],\n",
       "          [223, 212, 228]],\n",
       " \n",
       "         [[221, 211, 228],\n",
       "          [224, 212, 228],\n",
       "          [223, 212, 228],\n",
       "          ...,\n",
       "          [223, 211, 227],\n",
       "          [223, 213, 229],\n",
       "          [226, 214, 229]],\n",
       " \n",
       "         [[223, 212, 228],\n",
       "          [223, 212, 228],\n",
       "          [224, 213, 229],\n",
       "          ...,\n",
       "          [217, 198, 219],\n",
       "          [223, 212, 229],\n",
       "          [222, 212, 229]],\n",
       " \n",
       "         ...,\n",
       " \n",
       "         [[223, 211, 228],\n",
       "          [223, 212, 228],\n",
       "          [224, 213, 228],\n",
       "          ...,\n",
       "          [223, 212, 228],\n",
       "          [223, 212, 228],\n",
       "          [225, 213, 229]],\n",
       " \n",
       "         [[223, 212, 228],\n",
       "          [223, 212, 228],\n",
       "          [223, 213, 228],\n",
       "          ...,\n",
       "          [223, 213, 229],\n",
       "          [223, 212, 228],\n",
       "          [224, 213, 229]],\n",
       " \n",
       "         [[223, 212, 228],\n",
       "          [224, 212, 228],\n",
       "          [225, 213, 229],\n",
       "          ...,\n",
       "          [222, 212, 228],\n",
       "          [223, 212, 228],\n",
       "          [223, 213, 229]]],\n",
       " \n",
       " \n",
       "        ...,\n",
       " \n",
       " \n",
       "        [[[194, 140, 181],\n",
       "          [185, 124, 171],\n",
       "          [140,  75, 131],\n",
       "          ...,\n",
       "          [177, 106, 159],\n",
       "          [176, 110, 163],\n",
       "          [170, 101, 156]],\n",
       " \n",
       "         [[237, 227, 238],\n",
       "          [218, 193, 216],\n",
       "          [157,  95, 148],\n",
       "          ...,\n",
       "          [186, 114, 166],\n",
       "          [162,  93, 149],\n",
       "          [152,  83, 140]],\n",
       " \n",
       "         [[238, 231, 240],\n",
       "          [234, 222, 235],\n",
       "          [215, 181, 209],\n",
       "          ...,\n",
       "          [194, 120, 170],\n",
       "          [178, 107, 160],\n",
       "          [160,  91, 147]],\n",
       " \n",
       "         ...,\n",
       " \n",
       "         [[197, 118, 167],\n",
       "          [207, 152, 189],\n",
       "          [212, 168, 200],\n",
       "          ...,\n",
       "          [181, 127, 172],\n",
       "          [172, 115, 161],\n",
       "          [188, 153, 187]],\n",
       " \n",
       "         [[189, 108, 160],\n",
       "          [188, 130, 173],\n",
       "          [192, 134, 178],\n",
       "          ...,\n",
       "          [180, 113, 164],\n",
       "          [165, 111, 157],\n",
       "          [192, 141, 181]],\n",
       " \n",
       "         [[199, 121, 170],\n",
       "          [213, 167, 200],\n",
       "          [218, 189, 214],\n",
       "          ...,\n",
       "          [177, 110, 161],\n",
       "          [176, 125, 166],\n",
       "          [192, 143, 182]]],\n",
       " \n",
       " \n",
       "        [[[132,  69, 126],\n",
       "          [141,  73, 126],\n",
       "          [185, 130, 168],\n",
       "          ...,\n",
       "          [162, 105, 156],\n",
       "          [150,  92, 145],\n",
       "          [148,  90, 143]],\n",
       " \n",
       "         [[128,  65, 122],\n",
       "          [133,  66, 123],\n",
       "          [148,  75, 130],\n",
       "          ...,\n",
       "          [150,  95, 147],\n",
       "          [164, 109, 158],\n",
       "          [138,  82, 137]],\n",
       " \n",
       "         [[144,  79, 134],\n",
       "          [136,  71, 128],\n",
       "          [135,  74, 129],\n",
       "          ...,\n",
       "          [193, 159, 192],\n",
       "          [163, 122, 165],\n",
       "          [145,  93, 144]],\n",
       " \n",
       "         ...,\n",
       " \n",
       "         [[244, 236, 243],\n",
       "          [246, 239, 245],\n",
       "          [245, 238, 244],\n",
       "          ...,\n",
       "          [156,  97, 150],\n",
       "          [150,  94, 146],\n",
       "          [156,  92, 145]],\n",
       " \n",
       "         [[246, 239, 245],\n",
       "          [247, 239, 245],\n",
       "          [246, 238, 245],\n",
       "          ...,\n",
       "          [152,  86, 141],\n",
       "          [154,  95, 148],\n",
       "          [158,  95, 148]],\n",
       " \n",
       "         [[247, 238, 245],\n",
       "          [247, 238, 245],\n",
       "          [245, 238, 245],\n",
       "          ...,\n",
       "          [158,  89, 142],\n",
       "          [165, 103, 154],\n",
       "          [139,  86, 141]]],\n",
       " \n",
       " \n",
       "        [[[141,  77, 133],\n",
       "          [159,  88, 143],\n",
       "          [165,  92, 147],\n",
       "          ...,\n",
       "          [157,  95, 149],\n",
       "          [180, 113, 164],\n",
       "          [182, 110, 160]],\n",
       " \n",
       "         [[162, 102, 153],\n",
       "          [170, 103, 156],\n",
       "          [146,  80, 137],\n",
       "          ...,\n",
       "          [159,  96, 150],\n",
       "          [167,  99, 153],\n",
       "          [184, 117, 164]],\n",
       " \n",
       "         [[130,  73, 128],\n",
       "          [157,  92, 146],\n",
       "          [156,  90, 146],\n",
       "          ...,\n",
       "          [151,  93, 146],\n",
       "          [136,  76, 133],\n",
       "          [138,  75, 131]],\n",
       " \n",
       "         ...,\n",
       " \n",
       "         [[164, 110, 160],\n",
       "          [158, 102, 153],\n",
       "          [158,  99, 152],\n",
       "          ...,\n",
       "          [145,  80, 135],\n",
       "          [161,  91, 146],\n",
       "          [150,  82, 139]],\n",
       " \n",
       "         [[167, 107, 159],\n",
       "          [192, 144, 183],\n",
       "          [185, 139, 178],\n",
       "          ...,\n",
       "          [147,  87, 141],\n",
       "          [152,  87, 142],\n",
       "          [156,  90, 143]],\n",
       " \n",
       "         [[153,  91, 146],\n",
       "          [176, 112, 161],\n",
       "          [152,  92, 143],\n",
       "          ...,\n",
       "          [144,  80, 134],\n",
       "          [151,  88, 143],\n",
       "          [150,  86, 139]]]], dtype=uint8),\n",
       " 'labels': array([0, 0, 0, 0, 0, 0, 0, 0, 0, 0, 0, 0, 0, 0, 0, 0, 0, 0, 0, 0, 0, 0,\n",
       "        0, 0, 0, 0, 0, 0, 0, 0, 0, 0, 0, 0, 0, 0, 0, 0, 0, 0, 0, 0, 0, 0,\n",
       "        0, 0, 0, 0, 0, 0, 1, 1, 1, 1, 1, 1, 1, 1, 1, 1, 1, 1, 1, 1, 1, 1,\n",
       "        1, 1, 1, 1, 1, 1, 1, 1, 1, 1, 1, 1, 1, 1, 1, 1, 1, 1, 1, 1, 1, 1,\n",
       "        1, 1, 1, 1, 1, 1, 1, 1, 1, 1, 1, 1, 2, 2, 2, 2, 2, 2, 2, 2, 2, 2,\n",
       "        2, 2, 2, 2, 2, 2, 2, 2, 2, 2, 2, 2, 2, 2, 2, 2, 2, 2, 2, 2, 2, 2,\n",
       "        2, 2, 2, 2, 2, 2, 2, 2, 2, 2, 2, 2, 2, 2, 2, 2, 2, 2, 3, 3, 3, 3,\n",
       "        3, 3, 3, 3, 3, 3, 3, 3, 3, 3, 3, 3, 3, 3, 3, 3, 3, 3, 3, 3, 3, 3,\n",
       "        3, 3, 3, 3, 3, 3, 3, 3, 3, 3, 3, 3, 3, 3, 3, 3, 3, 3, 3, 3, 3, 3,\n",
       "        3, 3, 4, 4, 4, 4, 4, 4, 4, 4, 4, 4, 4, 4, 4, 4, 4, 4, 4, 4, 4, 4,\n",
       "        4, 4, 4, 4, 4, 4, 4, 4, 4, 4, 4, 4, 4, 4, 4, 4, 4, 4, 4, 4, 4, 4,\n",
       "        4, 4, 4, 4, 4, 4, 4, 4, 5, 5, 5, 5, 5, 5, 5, 5, 5, 5, 5, 5, 5, 5,\n",
       "        5, 5, 5, 5, 5, 5, 5, 5, 5, 5, 5, 5, 5, 5, 5, 5, 5, 5, 5, 5, 5, 5,\n",
       "        5, 5, 5, 5, 5, 5, 5, 5, 5, 5, 5, 5, 5, 5, 6, 6, 6, 6, 6, 6, 6, 6,\n",
       "        6, 6, 6, 6, 6, 6, 6, 6, 6, 6, 6, 6, 6, 6, 6, 6, 6, 6, 6, 6, 6, 6,\n",
       "        6, 6, 6, 6, 6, 6, 6, 6, 6, 6, 6, 6, 6, 6, 6, 6, 6, 6, 6, 6, 7, 7,\n",
       "        7, 7, 7, 7, 7, 7, 7, 7, 7, 7, 7, 7, 7, 7, 7, 7, 7, 7, 7, 7, 7, 7,\n",
       "        7, 7, 7, 7, 7, 7, 7, 7, 7, 7, 7, 7, 7, 7, 7, 7, 7, 7, 7, 7, 7, 7,\n",
       "        7, 7, 7, 7, 8, 8, 8, 8, 8, 8, 8, 8, 8, 8, 8, 8, 8, 8, 8, 8, 8, 8,\n",
       "        8, 8, 8, 8, 8, 8, 8, 8, 8, 8, 8, 8, 8, 8, 8, 8, 8, 8, 8, 8, 8, 8,\n",
       "        8, 8, 8, 8, 8, 8, 8, 8, 8, 8], dtype=uint8)}"
      ]
     },
     "execution_count": 27,
     "metadata": {},
     "output_type": "execute_result"
    }
   ],
   "source": [
    "l_train_set_npercls50"
   ]
  },
  {
   "cell_type": "code",
   "execution_count": null,
   "id": "afcc399f",
   "metadata": {},
   "outputs": [],
   "source": []
  },
  {
   "cell_type": "markdown",
   "id": "b1778914",
   "metadata": {},
   "source": [
    "### save data split"
   ]
  },
  {
   "cell_type": "code",
   "execution_count": 28,
   "id": "7ca0153c",
   "metadata": {},
   "outputs": [],
   "source": [
    "n_per_cls10_save_dir = '/cluster/tufts/hugheslab/zhuang12/SemiSelfEvaluationProject/ML_DATA/MedMNIST/PathMNIST/unnormalized_HWC/n_per_cls10'\n",
    "n_per_cls50_save_dir = '/cluster/tufts/hugheslab/zhuang12/SemiSelfEvaluationProject/ML_DATA/MedMNIST/PathMNIST/unnormalized_HWC/n_per_cls50'\n",
    "\n"
   ]
  },
  {
   "cell_type": "code",
   "execution_count": 30,
   "id": "7cf769bf",
   "metadata": {},
   "outputs": [],
   "source": [
    "np.save(os.path.join(n_per_cls10_save_dir, 'l_train.npy'), l_train_set_npercls10)\n",
    "np.save(os.path.join(n_per_cls10_save_dir, 'u_train.npy'), u_train_set_npercls10)\n",
    "np.save(os.path.join(n_per_cls10_save_dir, 'val.npy'), val_set)\n",
    "np.save(os.path.join(n_per_cls10_save_dir, 'test.npy'), test_set)\n"
   ]
  },
  {
   "cell_type": "code",
   "execution_count": 31,
   "id": "3bde43d6",
   "metadata": {},
   "outputs": [],
   "source": [
    "np.save(os.path.join(n_per_cls50_save_dir, 'l_train.npy'), l_train_set_npercls50)\n",
    "np.save(os.path.join(n_per_cls50_save_dir, 'u_train.npy'), u_train_set_npercls50)\n",
    "np.save(os.path.join(n_per_cls50_save_dir, 'val.npy'), val_set)\n",
    "np.save(os.path.join(n_per_cls50_save_dir, 'test.npy'), test_set)\n"
   ]
  },
  {
   "cell_type": "code",
   "execution_count": null,
   "id": "3de730b0",
   "metadata": {},
   "outputs": [],
   "source": []
  }
 ],
 "metadata": {
  "kernelspec": {
   "display_name": "Python 3 (ipykernel)",
   "language": "python",
   "name": "python3"
  },
  "language_info": {
   "codemirror_mode": {
    "name": "ipython",
    "version": 3
   },
   "file_extension": ".py",
   "mimetype": "text/x-python",
   "name": "python",
   "nbconvert_exporter": "python",
   "pygments_lexer": "ipython3",
   "version": "3.8.13"
  }
 },
 "nbformat": 4,
 "nbformat_minor": 5
}
