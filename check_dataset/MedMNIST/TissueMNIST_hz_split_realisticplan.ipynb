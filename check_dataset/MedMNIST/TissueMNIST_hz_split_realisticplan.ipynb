{
 "cells": [
  {
   "cell_type": "code",
   "execution_count": 1,
   "id": "0765badb",
   "metadata": {},
   "outputs": [],
   "source": [
    "import numpy as np\n",
    "import os\n",
    "\n"
   ]
  },
  {
   "cell_type": "code",
   "execution_count": 2,
   "id": "9c87f27a",
   "metadata": {},
   "outputs": [],
   "source": [
    "root_dir = '/cluster/tufts/hugheslab/zhuang12/SemiSelfEvaluationProject/ML_DATA/MedMNIST/TissueMNIST/unnormalized_HWC/data_seed0'\n"
   ]
  },
  {
   "cell_type": "code",
   "execution_count": 3,
   "id": "0c2c4bba",
   "metadata": {},
   "outputs": [],
   "source": [
    "\n",
    "# def get_means_and_std(images):\n",
    "\n",
    "#     means = 0\n",
    "#     stds = 0\n",
    "\n",
    "#     assert images.ndim == 3 #data['images'] N, H, W\n",
    "#     for image in images:\n",
    "#         means += image.mean()\n",
    "#         stds += image.std()\n",
    "\n",
    "#     means = means/len(images)\n",
    "#     stds = stds/len(images)\n",
    "\n",
    "#     print('means: {}'.format(means))\n",
    "#     print('stds: {}'.format(stds))\n",
    "    \n",
    "#     return means, stds\n",
    "def get_means_and_std(images):\n",
    "\n",
    "    means = np.zeros(3)\n",
    "    stds = np.zeros(3)\n",
    "\n",
    "    assert images.shape[3] == 3 #data['images'] N, H, W, C\n",
    "    for image in images:\n",
    "\n",
    "        for i in range(3):\n",
    "            means[i] += image[:,:,i].mean()\n",
    "            stds[i] += image[:,:,i].std()\n",
    "\n",
    "    means = means/len(images)\n",
    "    stds = stds/len(images)\n",
    "\n",
    "    print('means: {}'.format(means))\n",
    "    print('stds: {}'.format(stds))\n",
    "    \n",
    "    return means, stds"
   ]
  },
  {
   "cell_type": "code",
   "execution_count": null,
   "id": "e3b5146f",
   "metadata": {},
   "outputs": [],
   "source": []
  },
  {
   "cell_type": "markdown",
   "id": "3b96d84b",
   "metadata": {},
   "source": [
    "### nlabels400_val400"
   ]
  },
  {
   "cell_type": "code",
   "execution_count": 4,
   "id": "6f48d8a7",
   "metadata": {},
   "outputs": [],
   "source": [
    "l_train_path = os.path.join(root_dir, 'nlabels400_val400_realistic', 'l_train.npy')\n",
    "u_train_path = os.path.join(root_dir, 'nlabels400_val400_realistic', 'u_train.npy')\n",
    "val_path = os.path.join(root_dir, 'nlabels400_val400_realistic', 'val.npy')\n",
    "test_path = os.path.join(root_dir, 'nlabels400_val400_realistic', 'test.npy')\n",
    "\n"
   ]
  },
  {
   "cell_type": "code",
   "execution_count": 5,
   "id": "0c571316",
   "metadata": {},
   "outputs": [],
   "source": [
    "l_train = np.load(l_train_path, allow_pickle=True).item()\n",
    "u_train = np.load(u_train_path, allow_pickle=True).item()\n",
    "val = np.load(val_path, allow_pickle=True).item()\n",
    "test = np.load(test_path, allow_pickle=True).item()\n",
    "\n"
   ]
  },
  {
   "cell_type": "markdown",
   "id": "1bb70b75",
   "metadata": {},
   "source": [
    "#### l_train"
   ]
  },
  {
   "cell_type": "code",
   "execution_count": 6,
   "id": "46636b5f",
   "metadata": {
    "scrolled": true
   },
   "outputs": [
    {
     "data": {
      "text/plain": [
       "(400, 28, 28, 3)"
      ]
     },
     "execution_count": 6,
     "metadata": {},
     "output_type": "execute_result"
    }
   ],
   "source": [
    "l_train['images'].shape"
   ]
  },
  {
   "cell_type": "code",
   "execution_count": 7,
   "id": "962465b9",
   "metadata": {},
   "outputs": [
    {
     "name": "stdout",
     "output_type": "stream",
     "text": [
      "num samples each class\n",
      "0: 128\n",
      "1: 19\n",
      "2: 15\n",
      "3: 37\n",
      "4: 28\n",
      "5: 19\n",
      "6: 95\n",
      "7: 59\n"
     ]
    }
   ],
   "source": [
    "N_class0 = np.sum(l_train['labels']==0)\n",
    "N_class1 = np.sum(l_train['labels']==1)\n",
    "N_class2 = np.sum(l_train['labels']==2)\n",
    "N_class3 = np.sum(l_train['labels']==3)\n",
    "N_class4 = np.sum(l_train['labels']==4)\n",
    "N_class5 = np.sum(l_train['labels']==5)\n",
    "N_class6 = np.sum(l_train['labels']==6)\n",
    "N_class7 = np.sum(l_train['labels']==7)\n",
    "\n",
    "print('num samples each class')\n",
    "print('0: {}\\n1: {}\\n2: {}\\n3: {}\\n4: {}\\n5: {}\\n6: {}\\n7: {}'.format(N_class0, N_class1, N_class2, N_class3, N_class4, N_class5, N_class6, N_class7))\n"
   ]
  },
  {
   "cell_type": "code",
   "execution_count": 8,
   "id": "d4644ca2",
   "metadata": {
    "scrolled": true
   },
   "outputs": [
    {
     "name": "stdout",
     "output_type": "stream",
     "text": [
      "means: [25.20011161 25.20011161 25.20011161]\n",
      "stds: [20.00911364 20.00911364 20.00911364]\n"
     ]
    }
   ],
   "source": [
    "l_train_means, l_train_stds = get_means_and_std(l_train['images'])"
   ]
  },
  {
   "cell_type": "code",
   "execution_count": 1,
   "id": "702694d5",
   "metadata": {},
   "outputs": [
    {
     "data": {
      "text/plain": [
       "0.09882396709803921"
      ]
     },
     "execution_count": 1,
     "metadata": {},
     "output_type": "execute_result"
    }
   ],
   "source": [
    "25.20011161/255"
   ]
  },
  {
   "cell_type": "code",
   "execution_count": 2,
   "id": "01df0283",
   "metadata": {},
   "outputs": [
    {
     "data": {
      "text/plain": [
       "0.07846711231372548"
      ]
     },
     "execution_count": 2,
     "metadata": {},
     "output_type": "execute_result"
    }
   ],
   "source": [
    "20.00911364/255"
   ]
  },
  {
   "cell_type": "markdown",
   "id": "6264edae",
   "metadata": {},
   "source": [
    "#### u_train"
   ]
  },
  {
   "cell_type": "code",
   "execution_count": 9,
   "id": "c71d9272",
   "metadata": {},
   "outputs": [
    {
     "data": {
      "text/plain": [
       "(165066, 28, 28, 3)"
      ]
     },
     "execution_count": 9,
     "metadata": {},
     "output_type": "execute_result"
    }
   ],
   "source": [
    "u_train['images'].shape"
   ]
  },
  {
   "cell_type": "code",
   "execution_count": 10,
   "id": "c816da4c",
   "metadata": {},
   "outputs": [
    {
     "name": "stdout",
     "output_type": "stream",
     "text": [
      "num samples each class\n",
      "0: 0\n",
      "1: 0\n",
      "2: 0\n",
      "3: 0\n",
      "4: 0\n",
      "5: 0\n",
      "6: 0\n",
      "7: 0\n"
     ]
    }
   ],
   "source": [
    "N_class0 = np.sum(u_train['labels']==0)\n",
    "N_class1 = np.sum(u_train['labels']==1)\n",
    "N_class2 = np.sum(u_train['labels']==2)\n",
    "N_class3 = np.sum(u_train['labels']==3)\n",
    "N_class4 = np.sum(u_train['labels']==4)\n",
    "N_class5 = np.sum(u_train['labels']==5)\n",
    "N_class6 = np.sum(u_train['labels']==6)\n",
    "N_class7 = np.sum(u_train['labels']==7)\n",
    "\n",
    "print('num samples each class')\n",
    "print('0: {}\\n1: {}\\n2: {}\\n3: {}\\n4: {}\\n5: {}\\n6: {}\\n7: {}'.format(N_class0, N_class1, N_class2, N_class3, N_class4, N_class5, N_class6, N_class7))\n"
   ]
  },
  {
   "cell_type": "code",
   "execution_count": 11,
   "id": "e8cf8253",
   "metadata": {
    "scrolled": false
   },
   "outputs": [
    {
     "name": "stdout",
     "output_type": "stream",
     "text": [
      "means: [26.02349845 26.02349845 26.02349845]\n",
      "stds: [20.37681751 20.37681751 20.37681751]\n"
     ]
    }
   ],
   "source": [
    "u_train_means, u_train_stds = get_means_and_std(u_train['images'])"
   ]
  },
  {
   "cell_type": "code",
   "execution_count": null,
   "id": "ac469acb",
   "metadata": {},
   "outputs": [],
   "source": []
  },
  {
   "cell_type": "markdown",
   "id": "e8c5b4af",
   "metadata": {},
   "source": [
    "#### val"
   ]
  },
  {
   "cell_type": "code",
   "execution_count": 12,
   "id": "1c16bf84",
   "metadata": {},
   "outputs": [
    {
     "data": {
      "text/plain": [
       "(400, 28, 28, 3)"
      ]
     },
     "execution_count": 12,
     "metadata": {},
     "output_type": "execute_result"
    }
   ],
   "source": [
    "val['images'].shape"
   ]
  },
  {
   "cell_type": "code",
   "execution_count": 13,
   "id": "766f7b26",
   "metadata": {},
   "outputs": [
    {
     "name": "stdout",
     "output_type": "stream",
     "text": [
      "num samples each class\n",
      "0: 128\n",
      "1: 19\n",
      "2: 15\n",
      "3: 37\n",
      "4: 28\n",
      "5: 19\n",
      "6: 95\n",
      "7: 59\n"
     ]
    }
   ],
   "source": [
    "N_class0 = np.sum(val['labels']==0)\n",
    "N_class1 = np.sum(val['labels']==1)\n",
    "N_class2 = np.sum(val['labels']==2)\n",
    "N_class3 = np.sum(val['labels']==3)\n",
    "N_class4 = np.sum(val['labels']==4)\n",
    "N_class5 = np.sum(val['labels']==5)\n",
    "N_class6 = np.sum(val['labels']==6)\n",
    "N_class7 = np.sum(val['labels']==7)\n",
    "\n",
    "print('num samples each class')\n",
    "print('0: {}\\n1: {}\\n2: {}\\n3: {}\\n4: {}\\n5: {}\\n6: {}\\n7: {}'.format(N_class0, N_class1, N_class2, N_class3, N_class4, N_class5, N_class6, N_class7))\n"
   ]
  },
  {
   "cell_type": "code",
   "execution_count": 14,
   "id": "93e0efb8",
   "metadata": {
    "scrolled": true
   },
   "outputs": [
    {
     "name": "stdout",
     "output_type": "stream",
     "text": [
      "means: [26.05102679 26.05102679 26.05102679]\n",
      "stds: [20.26487317 20.26487317 20.26487317]\n"
     ]
    }
   ],
   "source": [
    "val_means, val_stds = get_means_and_std(val['images'])"
   ]
  },
  {
   "cell_type": "code",
   "execution_count": null,
   "id": "1cd98586",
   "metadata": {},
   "outputs": [],
   "source": []
  },
  {
   "cell_type": "markdown",
   "id": "1b6ea6b5",
   "metadata": {},
   "source": [
    "#### test"
   ]
  },
  {
   "cell_type": "code",
   "execution_count": 15,
   "id": "4b8b0238",
   "metadata": {},
   "outputs": [
    {
     "data": {
      "text/plain": [
       "(47280, 28, 28, 3)"
      ]
     },
     "execution_count": 15,
     "metadata": {},
     "output_type": "execute_result"
    }
   ],
   "source": [
    "test['images'].shape"
   ]
  },
  {
   "cell_type": "code",
   "execution_count": 16,
   "id": "20ef902c",
   "metadata": {},
   "outputs": [
    {
     "name": "stdout",
     "output_type": "stream",
     "text": [
      "num samples each class\n",
      "0: 15165\n",
      "1: 2233\n",
      "2: 1677\n",
      "3: 4402\n",
      "4: 3369\n",
      "5: 2202\n",
      "6: 11201\n",
      "7: 7031\n"
     ]
    }
   ],
   "source": [
    "N_class0 = np.sum(test['labels']==0)\n",
    "N_class1 = np.sum(test['labels']==1)\n",
    "N_class2 = np.sum(test['labels']==2)\n",
    "N_class3 = np.sum(test['labels']==3)\n",
    "N_class4 = np.sum(test['labels']==4)\n",
    "N_class5 = np.sum(test['labels']==5)\n",
    "N_class6 = np.sum(test['labels']==6)\n",
    "N_class7 = np.sum(test['labels']==7)\n",
    "\n",
    "print('num samples each class')\n",
    "print('0: {}\\n1: {}\\n2: {}\\n3: {}\\n4: {}\\n5: {}\\n6: {}\\n7: {}'.format(N_class0, N_class1, N_class2, N_class3, N_class4, N_class5, N_class6, N_class7))\n"
   ]
  },
  {
   "cell_type": "code",
   "execution_count": 17,
   "id": "5143e0e3",
   "metadata": {
    "scrolled": false
   },
   "outputs": [
    {
     "name": "stdout",
     "output_type": "stream",
     "text": [
      "means: [26.07592029 26.07592029 26.07592029]\n",
      "stds: [20.41282754 20.41282754 20.41282754]\n"
     ]
    }
   ],
   "source": [
    "test_means, test_stds = get_means_and_std(test['images'])"
   ]
  },
  {
   "cell_type": "code",
   "execution_count": null,
   "id": "56246bfa",
   "metadata": {},
   "outputs": [],
   "source": []
  }
 ],
 "metadata": {
  "kernelspec": {
   "display_name": "Python 3 (ipykernel)",
   "language": "python",
   "name": "python3"
  },
  "language_info": {
   "codemirror_mode": {
    "name": "ipython",
    "version": 3
   },
   "file_extension": ".py",
   "mimetype": "text/x-python",
   "name": "python",
   "nbconvert_exporter": "python",
   "pygments_lexer": "ipython3",
   "version": "3.8.13"
  }
 },
 "nbformat": 4,
 "nbformat_minor": 5
}
