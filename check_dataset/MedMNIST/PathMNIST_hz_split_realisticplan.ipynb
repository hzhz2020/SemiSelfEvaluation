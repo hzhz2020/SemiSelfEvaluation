{
 "cells": [
  {
   "cell_type": "code",
   "execution_count": 3,
   "id": "d0512407",
   "metadata": {},
   "outputs": [],
   "source": [
    "import numpy as np\n",
    "import os\n",
    "\n"
   ]
  },
  {
   "cell_type": "code",
   "execution_count": 2,
   "id": "aaa0c08c",
   "metadata": {},
   "outputs": [],
   "source": [
    "root_dir = '/cluster/tufts/hugheslab/zhuang12/SemiSelfEvaluationProject/ML_DATA/MedMNIST/PathMNIST/unnormalized_HWC/data_seed0'\n"
   ]
  },
  {
   "cell_type": "code",
   "execution_count": 3,
   "id": "2841cfa1",
   "metadata": {},
   "outputs": [],
   "source": [
    "def get_means_and_std(data):\n",
    "\n",
    "    means = np.zeros(3)\n",
    "    stds = np.zeros(3)\n",
    "\n",
    "    assert data['images'].shape[3] == 3 #data['images'] N, H, W, C\n",
    "    for image in data['images']:\n",
    "\n",
    "        for i in range(3):\n",
    "            means[i] += image[:,:,i].mean()\n",
    "            stds[i] += image[:,:,i].std()\n",
    "\n",
    "    means = means/len(data['images'])\n",
    "    stds = stds/len(data['images'])\n",
    "\n",
    "    print('means: {}'.format(means))\n",
    "    print('stds: {}'.format(stds))\n",
    "    \n",
    "    return means, stds"
   ]
  },
  {
   "cell_type": "code",
   "execution_count": null,
   "id": "ab504781",
   "metadata": {},
   "outputs": [],
   "source": []
  },
  {
   "cell_type": "markdown",
   "id": "90fe8547",
   "metadata": {},
   "source": [
    "### nlabels450_val450"
   ]
  },
  {
   "cell_type": "code",
   "execution_count": 4,
   "id": "e8671f0a",
   "metadata": {},
   "outputs": [],
   "source": [
    "l_train_path = os.path.join(root_dir, 'nlabels450_val450_realistic', 'l_train.npy')\n",
    "u_train_path = os.path.join(root_dir, 'nlabels450_val450_realistic', 'u_train.npy')\n",
    "val_path = os.path.join(root_dir, 'nlabels450_val450_realistic', 'val.npy')\n",
    "test_path = os.path.join(root_dir, 'nlabels450_val450_realistic', 'test.npy')\n",
    "\n"
   ]
  },
  {
   "cell_type": "code",
   "execution_count": 5,
   "id": "06f0d3a8",
   "metadata": {},
   "outputs": [],
   "source": [
    "l_train = np.load(l_train_path, allow_pickle=True).item()\n",
    "u_train = np.load(u_train_path, allow_pickle=True).item()\n",
    "val = np.load(val_path, allow_pickle=True).item()\n",
    "test = np.load(test_path, allow_pickle=True).item()\n",
    "\n"
   ]
  },
  {
   "cell_type": "markdown",
   "id": "0fd965a4",
   "metadata": {},
   "source": [
    "#### l_train"
   ]
  },
  {
   "cell_type": "code",
   "execution_count": 6,
   "id": "424e7993",
   "metadata": {
    "scrolled": true
   },
   "outputs": [
    {
     "data": {
      "text/plain": [
       "(450, 28, 28, 3)"
      ]
     },
     "execution_count": 6,
     "metadata": {},
     "output_type": "execute_result"
    }
   ],
   "source": [
    "l_train['images'].shape"
   ]
  },
  {
   "cell_type": "code",
   "execution_count": 7,
   "id": "cb71b10d",
   "metadata": {},
   "outputs": [
    {
     "name": "stdout",
     "output_type": "stream",
     "text": [
      "num samples each class\n",
      "0: 47\n",
      "1: 48\n",
      "2: 52\n",
      "3: 52\n",
      "4: 40\n",
      "5: 61\n",
      "6: 39\n",
      "7: 47\n",
      "8: 64\n"
     ]
    }
   ],
   "source": [
    "N_class0 = np.sum(l_train['labels']==0)\n",
    "N_class1 = np.sum(l_train['labels']==1)\n",
    "N_class2 = np.sum(l_train['labels']==2)\n",
    "N_class3 = np.sum(l_train['labels']==3)\n",
    "N_class4 = np.sum(l_train['labels']==4)\n",
    "N_class5 = np.sum(l_train['labels']==5)\n",
    "N_class6 = np.sum(l_train['labels']==6)\n",
    "N_class7 = np.sum(l_train['labels']==7)\n",
    "N_class8 = np.sum(l_train['labels']==8)\n",
    "\n",
    "print('num samples each class')\n",
    "print('0: {}\\n1: {}\\n2: {}\\n3: {}\\n4: {}\\n5: {}\\n6: {}\\n7: {}\\n8: {}'.format(N_class0, N_class1, N_class2, N_class3, N_class4, N_class5, N_class6, N_class7, N_class8))\n"
   ]
  },
  {
   "cell_type": "code",
   "execution_count": 8,
   "id": "36da8fc8",
   "metadata": {
    "scrolled": true
   },
   "outputs": [
    {
     "name": "stdout",
     "output_type": "stream",
     "text": [
      "means: [188.77288832 135.41276927 180.09165533]\n",
      "stds: [18.09501294 25.96820613 18.33387823]\n"
     ]
    }
   ],
   "source": [
    "l_train_means, l_train_stds = get_means_and_std(l_train)"
   ]
  },
  {
   "cell_type": "code",
   "execution_count": 4,
   "id": "8da371a0",
   "metadata": {},
   "outputs": [
    {
     "name": "stdout",
     "output_type": "stream",
     "text": [
      "[0.74028584 0.53103047 0.70624179]\n"
     ]
    }
   ],
   "source": [
    "print(np.array([188.77288832, 135.41276927, 180.09165533])/255)"
   ]
  },
  {
   "cell_type": "code",
   "execution_count": 5,
   "id": "a10926e5",
   "metadata": {},
   "outputs": [
    {
     "name": "stdout",
     "output_type": "stream",
     "text": [
      "[0.07096084 0.1018361  0.07189756]\n"
     ]
    }
   ],
   "source": [
    "print(np.array([18.09501294, 25.96820613, 18.33387823])/255)"
   ]
  },
  {
   "cell_type": "code",
   "execution_count": 6,
   "id": "834b090b",
   "metadata": {},
   "outputs": [
    {
     "data": {
      "text/plain": [
       "89996"
      ]
     },
     "execution_count": 6,
     "metadata": {},
     "output_type": "execute_result"
    }
   ],
   "source": [
    "89546+450"
   ]
  },
  {
   "cell_type": "markdown",
   "id": "3891621d",
   "metadata": {},
   "source": [
    "#### u_train"
   ]
  },
  {
   "cell_type": "code",
   "execution_count": 9,
   "id": "1faa4457",
   "metadata": {},
   "outputs": [
    {
     "data": {
      "text/plain": [
       "(89546, 28, 28, 3)"
      ]
     },
     "execution_count": 9,
     "metadata": {},
     "output_type": "execute_result"
    }
   ],
   "source": [
    "u_train['images'].shape"
   ]
  },
  {
   "cell_type": "code",
   "execution_count": 10,
   "id": "74386bf4",
   "metadata": {},
   "outputs": [
    {
     "name": "stdout",
     "output_type": "stream",
     "text": [
      "num samples each class\n",
      "0: 0\n",
      "1: 0\n",
      "2: 0\n",
      "3: 0\n",
      "4: 0\n",
      "5: 0\n",
      "6: 0\n",
      "7: 0\n",
      "8: 0\n"
     ]
    }
   ],
   "source": [
    "N_class0 = np.sum(u_train['labels']==0)\n",
    "N_class1 = np.sum(u_train['labels']==1)\n",
    "N_class2 = np.sum(u_train['labels']==2)\n",
    "N_class3 = np.sum(u_train['labels']==3)\n",
    "N_class4 = np.sum(u_train['labels']==4)\n",
    "N_class5 = np.sum(u_train['labels']==5)\n",
    "N_class6 = np.sum(u_train['labels']==6)\n",
    "N_class7 = np.sum(u_train['labels']==7)\n",
    "N_class8 = np.sum(u_train['labels']==8)\n",
    "\n",
    "print('num samples each class')\n",
    "print('0: {}\\n1: {}\\n2: {}\\n3: {}\\n4: {}\\n5: {}\\n6: {}\\n7: {}\\n8: {}'.format(N_class0, N_class1, N_class2, N_class3, N_class4, N_class5, N_class6, N_class7, N_class8))\n"
   ]
  },
  {
   "cell_type": "code",
   "execution_count": 11,
   "id": "62c98ba4",
   "metadata": {
    "scrolled": false
   },
   "outputs": [
    {
     "name": "stdout",
     "output_type": "stream",
     "text": [
      "means: [188.83930714 135.91296032 179.98582766]\n",
      "stds: [18.42130802 26.45703127 18.64065819]\n"
     ]
    }
   ],
   "source": [
    "u_train_means, u_train_stds = get_means_and_std(u_train)"
   ]
  },
  {
   "cell_type": "code",
   "execution_count": null,
   "id": "09b5cc38",
   "metadata": {},
   "outputs": [],
   "source": []
  },
  {
   "cell_type": "markdown",
   "id": "77748adb",
   "metadata": {},
   "source": [
    "#### val"
   ]
  },
  {
   "cell_type": "code",
   "execution_count": 12,
   "id": "f1a78cd9",
   "metadata": {},
   "outputs": [
    {
     "data": {
      "text/plain": [
       "(450, 28, 28, 3)"
      ]
     },
     "execution_count": 12,
     "metadata": {},
     "output_type": "execute_result"
    }
   ],
   "source": [
    "val['images'].shape"
   ]
  },
  {
   "cell_type": "code",
   "execution_count": 13,
   "id": "5f49eae9",
   "metadata": {},
   "outputs": [
    {
     "name": "stdout",
     "output_type": "stream",
     "text": [
      "num samples each class\n",
      "0: 47\n",
      "1: 48\n",
      "2: 52\n",
      "3: 52\n",
      "4: 40\n",
      "5: 61\n",
      "6: 39\n",
      "7: 47\n",
      "8: 64\n"
     ]
    }
   ],
   "source": [
    "N_class0 = np.sum(val['labels']==0)\n",
    "N_class1 = np.sum(val['labels']==1)\n",
    "N_class2 = np.sum(val['labels']==2)\n",
    "N_class3 = np.sum(val['labels']==3)\n",
    "N_class4 = np.sum(val['labels']==4)\n",
    "N_class5 = np.sum(val['labels']==5)\n",
    "N_class6 = np.sum(val['labels']==6)\n",
    "N_class7 = np.sum(val['labels']==7)\n",
    "N_class8 = np.sum(val['labels']==8)\n",
    "\n",
    "print('num samples each class')\n",
    "print('0: {}\\n1: {}\\n2: {}\\n3: {}\\n4: {}\\n5: {}\\n6: {}\\n7: {}\\n8: {}'.format(N_class0, N_class1, N_class2, N_class3, N_class4, N_class5, N_class6, N_class7, N_class8))\n"
   ]
  },
  {
   "cell_type": "code",
   "execution_count": 14,
   "id": "592b7095",
   "metadata": {
    "scrolled": true
   },
   "outputs": [
    {
     "name": "stdout",
     "output_type": "stream",
     "text": [
      "means: [188.92680839 135.70152494 180.39001134]\n",
      "stds: [18.50326385 26.56932308 18.7221347 ]\n"
     ]
    }
   ],
   "source": [
    "val_means, val_stds = get_means_and_std(val)"
   ]
  },
  {
   "cell_type": "code",
   "execution_count": null,
   "id": "7f1a8729",
   "metadata": {},
   "outputs": [],
   "source": []
  },
  {
   "cell_type": "markdown",
   "id": "e8331b78",
   "metadata": {},
   "source": [
    "#### test"
   ]
  },
  {
   "cell_type": "code",
   "execution_count": 15,
   "id": "cdf74246",
   "metadata": {},
   "outputs": [
    {
     "data": {
      "text/plain": [
       "(7180, 28, 28, 3)"
      ]
     },
     "execution_count": 15,
     "metadata": {},
     "output_type": "execute_result"
    }
   ],
   "source": [
    "test['images'].shape"
   ]
  },
  {
   "cell_type": "code",
   "execution_count": 16,
   "id": "4fe0d249",
   "metadata": {},
   "outputs": [
    {
     "name": "stdout",
     "output_type": "stream",
     "text": [
      "num samples each class\n",
      "0: 1338\n",
      "1: 847\n",
      "2: 339\n",
      "3: 634\n",
      "4: 1035\n",
      "5: 592\n",
      "6: 741\n",
      "7: 421\n",
      "8: 1233\n"
     ]
    }
   ],
   "source": [
    "N_class0 = np.sum(test['labels']==0)\n",
    "N_class1 = np.sum(test['labels']==1)\n",
    "N_class2 = np.sum(test['labels']==2)\n",
    "N_class3 = np.sum(test['labels']==3)\n",
    "N_class4 = np.sum(test['labels']==4)\n",
    "N_class5 = np.sum(test['labels']==5)\n",
    "N_class6 = np.sum(test['labels']==6)\n",
    "N_class7 = np.sum(test['labels']==7)\n",
    "N_class8 = np.sum(test['labels']==8)\n",
    "\n",
    "print('num samples each class')\n",
    "print('0: {}\\n1: {}\\n2: {}\\n3: {}\\n4: {}\\n5: {}\\n6: {}\\n7: {}\\n8: {}'.format(N_class0, N_class1, N_class2, N_class3, N_class4, N_class5, N_class6, N_class7, N_class8))\n"
   ]
  },
  {
   "cell_type": "code",
   "execution_count": 17,
   "id": "220a5f44",
   "metadata": {
    "scrolled": false
   },
   "outputs": [
    {
     "name": "stdout",
     "output_type": "stream",
     "text": [
      "means: [185.34994866 136.51923089 180.85161482]\n",
      "stds: [19.83423335 29.00106576 20.44698596]\n"
     ]
    }
   ],
   "source": [
    "test_means, test_stds = get_means_and_std(test)"
   ]
  },
  {
   "cell_type": "code",
   "execution_count": null,
   "id": "771d2a2d",
   "metadata": {},
   "outputs": [],
   "source": []
  },
  {
   "cell_type": "code",
   "execution_count": null,
   "id": "17adaf98",
   "metadata": {},
   "outputs": [],
   "source": []
  }
 ],
 "metadata": {
  "kernelspec": {
   "display_name": "Python 3 (ipykernel)",
   "language": "python",
   "name": "python3"
  },
  "language_info": {
   "codemirror_mode": {
    "name": "ipython",
    "version": 3
   },
   "file_extension": ".py",
   "mimetype": "text/x-python",
   "name": "python",
   "nbconvert_exporter": "python",
   "pygments_lexer": "ipython3",
   "version": "3.8.13"
  }
 },
 "nbformat": 4,
 "nbformat_minor": 5
}
