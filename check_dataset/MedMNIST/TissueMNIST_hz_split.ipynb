{
 "cells": [
  {
   "cell_type": "code",
   "execution_count": 1,
   "metadata": {},
   "outputs": [],
   "source": [
    "import numpy as np\n",
    "import os\n",
    "\n"
   ]
  },
  {
   "cell_type": "code",
   "execution_count": 2,
   "metadata": {},
   "outputs": [],
   "source": [
    "root_dir = '/cluster/tufts/hugheslab/zhuang12/SemiSelfEvaluationProject/ML_DATA/MedMNIST/TissueMNIST/unnormalized_HWC'\n"
   ]
  },
  {
   "cell_type": "code",
   "execution_count": 3,
   "metadata": {},
   "outputs": [],
   "source": [
    "\n",
    "# def get_means_and_std(images):\n",
    "\n",
    "#     means = 0\n",
    "#     stds = 0\n",
    "\n",
    "#     assert images.ndim == 3 #data['images'] N, H, W\n",
    "#     for image in images:\n",
    "#         means += image.mean()\n",
    "#         stds += image.std()\n",
    "\n",
    "#     means = means/len(images)\n",
    "#     stds = stds/len(images)\n",
    "\n",
    "#     print('means: {}'.format(means))\n",
    "#     print('stds: {}'.format(stds))\n",
    "    \n",
    "#     return means, stds\n",
    "def get_means_and_std(images):\n",
    "\n",
    "    means = np.zeros(3)\n",
    "    stds = np.zeros(3)\n",
    "\n",
    "    assert images.shape[3] == 3 #data['images'] N, H, W, C\n",
    "    for image in images:\n",
    "\n",
    "        for i in range(3):\n",
    "            means[i] += image[:,:,i].mean()\n",
    "            stds[i] += image[:,:,i].std()\n",
    "\n",
    "    means = means/len(images)\n",
    "    stds = stds/len(images)\n",
    "\n",
    "    print('means: {}'.format(means))\n",
    "    print('stds: {}'.format(stds))\n",
    "    \n",
    "    return means, stds"
   ]
  },
  {
   "cell_type": "code",
   "execution_count": null,
   "metadata": {},
   "outputs": [],
   "source": []
  },
  {
   "cell_type": "markdown",
   "metadata": {},
   "source": [
    "### n_per_cls10"
   ]
  },
  {
   "cell_type": "code",
   "execution_count": 4,
   "metadata": {},
   "outputs": [],
   "source": [
    "l_train_path = os.path.join(root_dir, 'n_per_cls10', 'l_train.npy')\n",
    "u_train_path = os.path.join(root_dir, 'n_per_cls10', 'u_train.npy')\n",
    "val_path = os.path.join(root_dir, 'n_per_cls10', 'val.npy')\n",
    "test_path = os.path.join(root_dir, 'n_per_cls10', 'test.npy')\n",
    "\n"
   ]
  },
  {
   "cell_type": "code",
   "execution_count": 5,
   "metadata": {},
   "outputs": [],
   "source": [
    "l_train = np.load(l_train_path, allow_pickle=True).item()\n",
    "u_train = np.load(u_train_path, allow_pickle=True).item()\n",
    "val = np.load(val_path, allow_pickle=True).item()\n",
    "test = np.load(test_path, allow_pickle=True).item()\n",
    "\n"
   ]
  },
  {
   "cell_type": "markdown",
   "metadata": {},
   "source": [
    "#### l_train"
   ]
  },
  {
   "cell_type": "code",
   "execution_count": 6,
   "metadata": {
    "scrolled": true
   },
   "outputs": [
    {
     "data": {
      "text/plain": [
       "(80, 28, 28, 3)"
      ]
     },
     "execution_count": 6,
     "metadata": {},
     "output_type": "execute_result"
    }
   ],
   "source": [
    "l_train['images'].shape"
   ]
  },
  {
   "cell_type": "code",
   "execution_count": 7,
   "metadata": {},
   "outputs": [
    {
     "name": "stdout",
     "output_type": "stream",
     "text": [
      "num samples each class\n",
      "0: 10\n",
      "1: 10\n",
      "2: 10\n",
      "3: 10\n",
      "4: 10\n",
      "5: 10\n",
      "6: 10\n",
      "7: 10\n"
     ]
    }
   ],
   "source": [
    "N_class0 = np.sum(l_train['labels']==0)\n",
    "N_class1 = np.sum(l_train['labels']==1)\n",
    "N_class2 = np.sum(l_train['labels']==2)\n",
    "N_class3 = np.sum(l_train['labels']==3)\n",
    "N_class4 = np.sum(l_train['labels']==4)\n",
    "N_class5 = np.sum(l_train['labels']==5)\n",
    "N_class6 = np.sum(l_train['labels']==6)\n",
    "N_class7 = np.sum(l_train['labels']==7)\n",
    "\n",
    "print('num samples each class')\n",
    "print('0: {}\\n1: {}\\n2: {}\\n3: {}\\n4: {}\\n5: {}\\n6: {}\\n7: {}'.format(N_class0, N_class1, N_class2, N_class3, N_class4, N_class5, N_class6, N_class7))\n"
   ]
  },
  {
   "cell_type": "code",
   "execution_count": 8,
   "metadata": {
    "scrolled": true
   },
   "outputs": [
    {
     "name": "stdout",
     "output_type": "stream",
     "text": [
      "means: [27.28537946 27.28537946 27.28537946]\n",
      "stds: [23.23736758 23.23736758 23.23736758]\n"
     ]
    }
   ],
   "source": [
    "l_train_means, l_train_stds = get_means_and_std(l_train['images'])"
   ]
  },
  {
   "cell_type": "code",
   "execution_count": null,
   "metadata": {},
   "outputs": [],
   "source": []
  },
  {
   "cell_type": "markdown",
   "metadata": {},
   "source": [
    "#### u_train"
   ]
  },
  {
   "cell_type": "code",
   "execution_count": 9,
   "metadata": {},
   "outputs": [
    {
     "data": {
      "text/plain": [
       "(165386, 28, 28, 3)"
      ]
     },
     "execution_count": 9,
     "metadata": {},
     "output_type": "execute_result"
    }
   ],
   "source": [
    "u_train['images'].shape"
   ]
  },
  {
   "cell_type": "code",
   "execution_count": 10,
   "metadata": {},
   "outputs": [
    {
     "name": "stdout",
     "output_type": "stream",
     "text": [
      "num samples each class\n",
      "0: 0\n",
      "1: 0\n",
      "2: 0\n",
      "3: 0\n",
      "4: 0\n",
      "5: 0\n",
      "6: 0\n",
      "7: 0\n"
     ]
    }
   ],
   "source": [
    "N_class0 = np.sum(u_train['labels']==0)\n",
    "N_class1 = np.sum(u_train['labels']==1)\n",
    "N_class2 = np.sum(u_train['labels']==2)\n",
    "N_class3 = np.sum(u_train['labels']==3)\n",
    "N_class4 = np.sum(u_train['labels']==4)\n",
    "N_class5 = np.sum(u_train['labels']==5)\n",
    "N_class6 = np.sum(u_train['labels']==6)\n",
    "N_class7 = np.sum(u_train['labels']==7)\n",
    "\n",
    "print('num samples each class')\n",
    "print('0: {}\\n1: {}\\n2: {}\\n3: {}\\n4: {}\\n5: {}\\n6: {}\\n7: {}'.format(N_class0, N_class1, N_class2, N_class3, N_class4, N_class5, N_class6, N_class7))\n"
   ]
  },
  {
   "cell_type": "code",
   "execution_count": 11,
   "metadata": {
    "scrolled": false
   },
   "outputs": [
    {
     "name": "stdout",
     "output_type": "stream",
     "text": [
      "means: [26.02089663 26.02089663 26.02089663]\n",
      "stds: [20.37454449 20.37454449 20.37454449]\n"
     ]
    }
   ],
   "source": [
    "u_train_means, u_train_stds = get_means_and_std(u_train['images'])"
   ]
  },
  {
   "cell_type": "code",
   "execution_count": null,
   "metadata": {},
   "outputs": [],
   "source": []
  },
  {
   "cell_type": "markdown",
   "metadata": {},
   "source": [
    "#### val"
   ]
  },
  {
   "cell_type": "code",
   "execution_count": 12,
   "metadata": {},
   "outputs": [
    {
     "data": {
      "text/plain": [
       "(23640, 28, 28, 3)"
      ]
     },
     "execution_count": 12,
     "metadata": {},
     "output_type": "execute_result"
    }
   ],
   "source": [
    "val['images'].shape"
   ]
  },
  {
   "cell_type": "code",
   "execution_count": 13,
   "metadata": {},
   "outputs": [
    {
     "name": "stdout",
     "output_type": "stream",
     "text": [
      "num samples each class\n",
      "0: 7582\n",
      "1: 1117\n",
      "2: 838\n",
      "3: 2201\n",
      "4: 1684\n",
      "5: 1101\n",
      "6: 5601\n",
      "7: 3516\n"
     ]
    }
   ],
   "source": [
    "N_class0 = np.sum(val['labels']==0)\n",
    "N_class1 = np.sum(val['labels']==1)\n",
    "N_class2 = np.sum(val['labels']==2)\n",
    "N_class3 = np.sum(val['labels']==3)\n",
    "N_class4 = np.sum(val['labels']==4)\n",
    "N_class5 = np.sum(val['labels']==5)\n",
    "N_class6 = np.sum(val['labels']==6)\n",
    "N_class7 = np.sum(val['labels']==7)\n",
    "\n",
    "print('num samples each class')\n",
    "print('0: {}\\n1: {}\\n2: {}\\n3: {}\\n4: {}\\n5: {}\\n6: {}\\n7: {}'.format(N_class0, N_class1, N_class2, N_class3, N_class4, N_class5, N_class6, N_class7))\n"
   ]
  },
  {
   "cell_type": "code",
   "execution_count": 14,
   "metadata": {
    "scrolled": true
   },
   "outputs": [
    {
     "name": "stdout",
     "output_type": "stream",
     "text": [
      "means: [26.02644266 26.02644266 26.02644266]\n",
      "stds: [20.3406241 20.3406241 20.3406241]\n"
     ]
    }
   ],
   "source": [
    "val_means, val_stds = get_means_and_std(val['images'])"
   ]
  },
  {
   "cell_type": "code",
   "execution_count": null,
   "metadata": {},
   "outputs": [],
   "source": []
  },
  {
   "cell_type": "markdown",
   "metadata": {},
   "source": [
    "#### test"
   ]
  },
  {
   "cell_type": "code",
   "execution_count": 15,
   "metadata": {},
   "outputs": [
    {
     "data": {
      "text/plain": [
       "(47280, 28, 28, 3)"
      ]
     },
     "execution_count": 15,
     "metadata": {},
     "output_type": "execute_result"
    }
   ],
   "source": [
    "test['images'].shape"
   ]
  },
  {
   "cell_type": "code",
   "execution_count": 16,
   "metadata": {},
   "outputs": [
    {
     "name": "stdout",
     "output_type": "stream",
     "text": [
      "num samples each class\n",
      "0: 15165\n",
      "1: 2233\n",
      "2: 1677\n",
      "3: 4402\n",
      "4: 3369\n",
      "5: 2202\n",
      "6: 11201\n",
      "7: 7031\n"
     ]
    }
   ],
   "source": [
    "N_class0 = np.sum(test['labels']==0)\n",
    "N_class1 = np.sum(test['labels']==1)\n",
    "N_class2 = np.sum(test['labels']==2)\n",
    "N_class3 = np.sum(test['labels']==3)\n",
    "N_class4 = np.sum(test['labels']==4)\n",
    "N_class5 = np.sum(test['labels']==5)\n",
    "N_class6 = np.sum(test['labels']==6)\n",
    "N_class7 = np.sum(test['labels']==7)\n",
    "\n",
    "print('num samples each class')\n",
    "print('0: {}\\n1: {}\\n2: {}\\n3: {}\\n4: {}\\n5: {}\\n6: {}\\n7: {}'.format(N_class0, N_class1, N_class2, N_class3, N_class4, N_class5, N_class6, N_class7))\n"
   ]
  },
  {
   "cell_type": "code",
   "execution_count": 17,
   "metadata": {
    "scrolled": false
   },
   "outputs": [
    {
     "name": "stdout",
     "output_type": "stream",
     "text": [
      "means: [26.07592029 26.07592029 26.07592029]\n",
      "stds: [20.41282754 20.41282754 20.41282754]\n"
     ]
    }
   ],
   "source": [
    "test_means, test_stds = get_means_and_std(test['images'])"
   ]
  },
  {
   "cell_type": "code",
   "execution_count": null,
   "metadata": {},
   "outputs": [],
   "source": []
  },
  {
   "cell_type": "markdown",
   "metadata": {},
   "source": [
    "### n_per_cls50"
   ]
  },
  {
   "cell_type": "code",
   "execution_count": 18,
   "metadata": {},
   "outputs": [],
   "source": [
    "l_train_path = os.path.join(root_dir, 'n_per_cls50', 'l_train.npy')\n",
    "u_train_path = os.path.join(root_dir, 'n_per_cls50', 'u_train.npy')\n",
    "val_path = os.path.join(root_dir, 'n_per_cls50', 'val.npy')\n",
    "test_path = os.path.join(root_dir, 'n_per_cls50', 'test.npy')\n",
    "\n"
   ]
  },
  {
   "cell_type": "code",
   "execution_count": 19,
   "metadata": {},
   "outputs": [],
   "source": [
    "l_train = np.load(l_train_path, allow_pickle=True).item()\n",
    "u_train = np.load(u_train_path, allow_pickle=True).item()\n",
    "val = np.load(val_path, allow_pickle=True).item()\n",
    "test = np.load(test_path, allow_pickle=True).item()\n",
    "\n"
   ]
  },
  {
   "cell_type": "markdown",
   "metadata": {},
   "source": [
    "#### l_train"
   ]
  },
  {
   "cell_type": "code",
   "execution_count": 20,
   "metadata": {
    "scrolled": true
   },
   "outputs": [
    {
     "data": {
      "text/plain": [
       "(400, 28, 28, 3)"
      ]
     },
     "execution_count": 20,
     "metadata": {},
     "output_type": "execute_result"
    }
   ],
   "source": [
    "l_train['images'].shape"
   ]
  },
  {
   "cell_type": "code",
   "execution_count": 21,
   "metadata": {},
   "outputs": [
    {
     "name": "stdout",
     "output_type": "stream",
     "text": [
      "num samples each class\n",
      "0: 50\n",
      "1: 50\n",
      "2: 50\n",
      "3: 50\n",
      "4: 50\n",
      "5: 50\n",
      "6: 50\n",
      "7: 50\n"
     ]
    }
   ],
   "source": [
    "N_class0 = np.sum(l_train['labels']==0)\n",
    "N_class1 = np.sum(l_train['labels']==1)\n",
    "N_class2 = np.sum(l_train['labels']==2)\n",
    "N_class3 = np.sum(l_train['labels']==3)\n",
    "N_class4 = np.sum(l_train['labels']==4)\n",
    "N_class5 = np.sum(l_train['labels']==5)\n",
    "N_class6 = np.sum(l_train['labels']==6)\n",
    "N_class7 = np.sum(l_train['labels']==7)\n",
    "\n",
    "print('num samples each class')\n",
    "print('0: {}\\n1: {}\\n2: {}\\n3: {}\\n4: {}\\n5: {}\\n6: {}\\n7: {}'.format(N_class0, N_class1, N_class2, N_class3, N_class4, N_class5, N_class6, N_class7))\n"
   ]
  },
  {
   "cell_type": "code",
   "execution_count": 22,
   "metadata": {
    "scrolled": true
   },
   "outputs": [
    {
     "name": "stdout",
     "output_type": "stream",
     "text": [
      "means: [27.31955676 27.31955676 27.31955676]\n",
      "stds: [23.29517711 23.29517711 23.29517711]\n"
     ]
    }
   ],
   "source": [
    "l_train_means, l_train_stds = get_means_and_std(l_train['images'])"
   ]
  },
  {
   "cell_type": "code",
   "execution_count": null,
   "metadata": {},
   "outputs": [],
   "source": []
  },
  {
   "cell_type": "markdown",
   "metadata": {},
   "source": [
    "#### u_train"
   ]
  },
  {
   "cell_type": "code",
   "execution_count": 23,
   "metadata": {},
   "outputs": [
    {
     "data": {
      "text/plain": [
       "(165066, 28, 28, 3)"
      ]
     },
     "execution_count": 23,
     "metadata": {},
     "output_type": "execute_result"
    }
   ],
   "source": [
    "u_train['images'].shape"
   ]
  },
  {
   "cell_type": "code",
   "execution_count": 24,
   "metadata": {},
   "outputs": [
    {
     "name": "stdout",
     "output_type": "stream",
     "text": [
      "num samples each class\n",
      "0: 0\n",
      "1: 0\n",
      "2: 0\n",
      "3: 0\n",
      "4: 0\n",
      "5: 0\n",
      "6: 0\n",
      "7: 0\n"
     ]
    }
   ],
   "source": [
    "N_class0 = np.sum(u_train['labels']==0)\n",
    "N_class1 = np.sum(u_train['labels']==1)\n",
    "N_class2 = np.sum(u_train['labels']==2)\n",
    "N_class3 = np.sum(u_train['labels']==3)\n",
    "N_class4 = np.sum(u_train['labels']==4)\n",
    "N_class5 = np.sum(u_train['labels']==5)\n",
    "N_class6 = np.sum(u_train['labels']==6)\n",
    "N_class7 = np.sum(u_train['labels']==7)\n",
    "\n",
    "print('num samples each class')\n",
    "print('0: {}\\n1: {}\\n2: {}\\n3: {}\\n4: {}\\n5: {}\\n6: {}\\n7: {}'.format(N_class0, N_class1, N_class2, N_class3, N_class4, N_class5, N_class6, N_class7))\n"
   ]
  },
  {
   "cell_type": "code",
   "execution_count": 25,
   "metadata": {
    "scrolled": false
   },
   "outputs": [
    {
     "name": "stdout",
     "output_type": "stream",
     "text": [
      "means: [26.01836246 26.01836246 26.01836246]\n",
      "stds: [20.36885448 20.36885448 20.36885448]\n"
     ]
    }
   ],
   "source": [
    "u_train_means, u_train_stds = get_means_and_std(u_train['images'])"
   ]
  },
  {
   "cell_type": "code",
   "execution_count": null,
   "metadata": {},
   "outputs": [],
   "source": []
  },
  {
   "cell_type": "markdown",
   "metadata": {},
   "source": [
    "#### val"
   ]
  },
  {
   "cell_type": "code",
   "execution_count": 26,
   "metadata": {},
   "outputs": [
    {
     "data": {
      "text/plain": [
       "(23640, 28, 28, 3)"
      ]
     },
     "execution_count": 26,
     "metadata": {},
     "output_type": "execute_result"
    }
   ],
   "source": [
    "val['images'].shape"
   ]
  },
  {
   "cell_type": "code",
   "execution_count": 27,
   "metadata": {},
   "outputs": [
    {
     "name": "stdout",
     "output_type": "stream",
     "text": [
      "num samples each class\n",
      "0: 7582\n",
      "1: 1117\n",
      "2: 838\n",
      "3: 2201\n",
      "4: 1684\n",
      "5: 1101\n",
      "6: 5601\n",
      "7: 3516\n"
     ]
    }
   ],
   "source": [
    "N_class0 = np.sum(val['labels']==0)\n",
    "N_class1 = np.sum(val['labels']==1)\n",
    "N_class2 = np.sum(val['labels']==2)\n",
    "N_class3 = np.sum(val['labels']==3)\n",
    "N_class4 = np.sum(val['labels']==4)\n",
    "N_class5 = np.sum(val['labels']==5)\n",
    "N_class6 = np.sum(val['labels']==6)\n",
    "N_class7 = np.sum(val['labels']==7)\n",
    "\n",
    "print('num samples each class')\n",
    "print('0: {}\\n1: {}\\n2: {}\\n3: {}\\n4: {}\\n5: {}\\n6: {}\\n7: {}'.format(N_class0, N_class1, N_class2, N_class3, N_class4, N_class5, N_class6, N_class7))\n"
   ]
  },
  {
   "cell_type": "code",
   "execution_count": 28,
   "metadata": {
    "scrolled": true
   },
   "outputs": [
    {
     "name": "stdout",
     "output_type": "stream",
     "text": [
      "means: [26.02644266 26.02644266 26.02644266]\n",
      "stds: [20.3406241 20.3406241 20.3406241]\n"
     ]
    }
   ],
   "source": [
    "val_means, val_stds = get_means_and_std(val['images'])"
   ]
  },
  {
   "cell_type": "code",
   "execution_count": null,
   "metadata": {},
   "outputs": [],
   "source": []
  },
  {
   "cell_type": "markdown",
   "metadata": {},
   "source": [
    "#### test"
   ]
  },
  {
   "cell_type": "code",
   "execution_count": 29,
   "metadata": {},
   "outputs": [
    {
     "data": {
      "text/plain": [
       "(47280, 28, 28, 3)"
      ]
     },
     "execution_count": 29,
     "metadata": {},
     "output_type": "execute_result"
    }
   ],
   "source": [
    "test['images'].shape"
   ]
  },
  {
   "cell_type": "code",
   "execution_count": 30,
   "metadata": {},
   "outputs": [
    {
     "name": "stdout",
     "output_type": "stream",
     "text": [
      "num samples each class\n",
      "0: 15165\n",
      "1: 2233\n",
      "2: 1677\n",
      "3: 4402\n",
      "4: 3369\n",
      "5: 2202\n",
      "6: 11201\n",
      "7: 7031\n"
     ]
    }
   ],
   "source": [
    "N_class0 = np.sum(test['labels']==0)\n",
    "N_class1 = np.sum(test['labels']==1)\n",
    "N_class2 = np.sum(test['labels']==2)\n",
    "N_class3 = np.sum(test['labels']==3)\n",
    "N_class4 = np.sum(test['labels']==4)\n",
    "N_class5 = np.sum(test['labels']==5)\n",
    "N_class6 = np.sum(test['labels']==6)\n",
    "N_class7 = np.sum(test['labels']==7)\n",
    "\n",
    "print('num samples each class')\n",
    "print('0: {}\\n1: {}\\n2: {}\\n3: {}\\n4: {}\\n5: {}\\n6: {}\\n7: {}'.format(N_class0, N_class1, N_class2, N_class3, N_class4, N_class5, N_class6, N_class7))\n"
   ]
  },
  {
   "cell_type": "code",
   "execution_count": 31,
   "metadata": {
    "scrolled": false
   },
   "outputs": [
    {
     "name": "stdout",
     "output_type": "stream",
     "text": [
      "means: [26.07592029 26.07592029 26.07592029]\n",
      "stds: [20.41282754 20.41282754 20.41282754]\n"
     ]
    }
   ],
   "source": [
    "test_means, test_stds = get_means_and_std(test['images'])"
   ]
  },
  {
   "cell_type": "code",
   "execution_count": null,
   "metadata": {},
   "outputs": [],
   "source": []
  }
 ],
 "metadata": {
  "kernelspec": {
   "display_name": "Python 3",
   "language": "python",
   "name": "python3"
  },
  "language_info": {
   "codemirror_mode": {
    "name": "ipython",
    "version": 3
   },
   "file_extension": ".py",
   "mimetype": "text/x-python",
   "name": "python",
   "nbconvert_exporter": "python",
   "pygments_lexer": "ipython3",
   "version": "3.6.13"
  }
 },
 "nbformat": 4,
 "nbformat_minor": 5
}
