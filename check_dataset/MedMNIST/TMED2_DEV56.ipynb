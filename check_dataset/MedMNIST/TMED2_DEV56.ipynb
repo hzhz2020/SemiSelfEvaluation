{
 "cells": [
  {
   "cell_type": "code",
   "execution_count": 1,
   "id": "7e818d55",
   "metadata": {},
   "outputs": [],
   "source": [
    "import numpy as np\n",
    "import os\n",
    "\n"
   ]
  },
  {
   "cell_type": "code",
   "execution_count": 2,
   "id": "994241f3",
   "metadata": {},
   "outputs": [],
   "source": [
    "root_dir = '/cluster/tufts/hugheslab/zhuang12/SemiSelfEvaluationProject/ML_DATA/TMED2/unnormalized_HWC'\n"
   ]
  },
  {
   "cell_type": "code",
   "execution_count": 3,
   "id": "b0d3361c",
   "metadata": {},
   "outputs": [],
   "source": [
    "def get_means_and_std(data):\n",
    "\n",
    "    means = np.zeros(3)\n",
    "    stds = np.zeros(3)\n",
    "\n",
    "    assert data['images'].shape[3] == 3 #data['images'] N, H, W, C\n",
    "    for image in data['images']:\n",
    "\n",
    "        for i in range(3):\n",
    "            means[i] += image[:,:,i].mean()\n",
    "            stds[i] += image[:,:,i].std()\n",
    "\n",
    "    means = means/len(data['images'])\n",
    "    stds = stds/len(data['images'])\n",
    "\n",
    "    print('means: {}'.format(means))\n",
    "    print('stds: {}'.format(stds))\n",
    "    \n",
    "    return means, stds"
   ]
  },
  {
   "cell_type": "code",
   "execution_count": null,
   "id": "fe150d93",
   "metadata": {},
   "outputs": [],
   "source": []
  },
  {
   "cell_type": "markdown",
   "id": "81253bfe",
   "metadata": {},
   "source": [
    "### data_seed0"
   ]
  },
  {
   "cell_type": "markdown",
   "id": "753d9813",
   "metadata": {},
   "source": [
    "### DEV56"
   ]
  },
  {
   "cell_type": "code",
   "execution_count": 4,
   "id": "741658b7",
   "metadata": {},
   "outputs": [],
   "source": [
    "l_train_path = os.path.join(root_dir, 'data_seed0/DEV56', 'train.npy')\n",
    "# u_train_path = os.path.join(root_dir, 'all_shared_unlabeledset', 'u_train.npy')\n",
    "val_path = os.path.join(root_dir, 'data_seed0/DEV56', 'val.npy')\n",
    "test_path = os.path.join(root_dir, 'data_seed0/this_seed_shared_testset', 'test.npy')\n",
    "\n"
   ]
  },
  {
   "cell_type": "code",
   "execution_count": 5,
   "id": "78366e86",
   "metadata": {},
   "outputs": [],
   "source": [
    "l_train = np.load(l_train_path, allow_pickle=True)\n",
    "# u_train = np.load(u_train_path, allow_pickle=True)\n",
    "val = np.load(val_path, allow_pickle=True)\n",
    "test = np.load(test_path, allow_pickle=True)\n",
    "\n"
   ]
  },
  {
   "cell_type": "markdown",
   "id": "9612b191",
   "metadata": {},
   "source": [
    "#### l_train"
   ]
  },
  {
   "cell_type": "code",
   "execution_count": 6,
   "id": "f1d9594a",
   "metadata": {
    "scrolled": true
   },
   "outputs": [
    {
     "data": {
      "text/plain": [
       "(1561, 112, 112, 3)"
      ]
     },
     "execution_count": 6,
     "metadata": {},
     "output_type": "execute_result"
    }
   ],
   "source": [
    "l_train['images'].shape"
   ]
  },
  {
   "cell_type": "code",
   "execution_count": 7,
   "id": "1159c4df",
   "metadata": {},
   "outputs": [
    {
     "name": "stdout",
     "output_type": "stream",
     "text": [
      "num samples each class\n",
      "0: 632\n",
      "1: 239\n",
      "2: 405\n",
      "3: 285\n"
     ]
    }
   ],
   "source": [
    "N_class0 = np.sum(l_train['labels']==0)\n",
    "N_class1 = np.sum(l_train['labels']==1)\n",
    "N_class2 = np.sum(l_train['labels']==2)\n",
    "N_class3 = np.sum(l_train['labels']==3)\n",
    "\n",
    "print('num samples each class')\n",
    "print('0: {}\\n1: {}\\n2: {}\\n3: {}'.format(N_class0, N_class1, N_class2, N_class3))\n"
   ]
  },
  {
   "cell_type": "code",
   "execution_count": 8,
   "id": "f2429b65",
   "metadata": {
    "scrolled": true
   },
   "outputs": [
    {
     "name": "stdout",
     "output_type": "stream",
     "text": [
      "means: [15.54931418 15.54931418 15.54931418]\n",
      "stds: [36.18243445 36.18243445 36.18243445]\n"
     ]
    }
   ],
   "source": [
    "l_train_means, l_train_stds = get_means_and_std(l_train)"
   ]
  },
  {
   "cell_type": "code",
   "execution_count": null,
   "id": "d8e58f20",
   "metadata": {},
   "outputs": [],
   "source": []
  },
  {
   "cell_type": "markdown",
   "id": "aa9c52f6",
   "metadata": {},
   "source": [
    "#### val"
   ]
  },
  {
   "cell_type": "code",
   "execution_count": 9,
   "id": "ed84b595",
   "metadata": {},
   "outputs": [
    {
     "data": {
      "text/plain": [
       "(243, 112, 112, 3)"
      ]
     },
     "execution_count": 9,
     "metadata": {},
     "output_type": "execute_result"
    }
   ],
   "source": [
    "val['images'].shape"
   ]
  },
  {
   "cell_type": "code",
   "execution_count": 10,
   "id": "8c776a7c",
   "metadata": {},
   "outputs": [
    {
     "name": "stdout",
     "output_type": "stream",
     "text": [
      "num samples each class\n",
      "0: 105\n",
      "1: 38\n",
      "2: 55\n",
      "3: 45\n"
     ]
    }
   ],
   "source": [
    "N_class0 = np.sum(val['labels']==0)\n",
    "N_class1 = np.sum(val['labels']==1)\n",
    "N_class2 = np.sum(val['labels']==2)\n",
    "N_class3 = np.sum(val['labels']==3)\n",
    "\n",
    "\n",
    "print('num samples each class')\n",
    "print('0: {}\\n1: {}\\n2: {}\\n3: {}'.format(N_class0, N_class1, N_class2, N_class3))\n"
   ]
  },
  {
   "cell_type": "code",
   "execution_count": 11,
   "id": "54c192e1",
   "metadata": {
    "scrolled": true
   },
   "outputs": [
    {
     "name": "stdout",
     "output_type": "stream",
     "text": [
      "means: [14.25083066 14.25083066 14.25083066]\n",
      "stds: [34.29725376 34.29725376 34.29725376]\n"
     ]
    }
   ],
   "source": [
    "val_means, val_stds = get_means_and_std(val)"
   ]
  },
  {
   "cell_type": "code",
   "execution_count": null,
   "id": "d2a8ccca",
   "metadata": {},
   "outputs": [],
   "source": []
  },
  {
   "cell_type": "markdown",
   "id": "96895eea",
   "metadata": {},
   "source": [
    "#### test"
   ]
  },
  {
   "cell_type": "code",
   "execution_count": 12,
   "id": "62591822",
   "metadata": {},
   "outputs": [
    {
     "data": {
      "text/plain": [
       "(2104, 112, 112, 3)"
      ]
     },
     "execution_count": 12,
     "metadata": {},
     "output_type": "execute_result"
    }
   ],
   "source": [
    "test['images'].shape"
   ]
  },
  {
   "cell_type": "code",
   "execution_count": 15,
   "id": "ac091683",
   "metadata": {},
   "outputs": [
    {
     "name": "stdout",
     "output_type": "stream",
     "text": [
      "num samples each class\n",
      "0: 994\n",
      "1: 383\n",
      "2: 430\n",
      "3: 297\n"
     ]
    }
   ],
   "source": [
    "N_class0 = np.sum(test['labels']==0)\n",
    "N_class1 = np.sum(test['labels']==1)\n",
    "N_class2 = np.sum(test['labels']==2)\n",
    "N_class3 = np.sum(test['labels']==3)\n",
    "\n",
    "\n",
    "print('num samples each class')\n",
    "print('0: {}\\n1: {}\\n2: {}\\n3: {}'.format(N_class0, N_class1, N_class2, N_class3))\n"
   ]
  },
  {
   "cell_type": "code",
   "execution_count": 16,
   "id": "7a28e1c7",
   "metadata": {
    "scrolled": false
   },
   "outputs": [
    {
     "name": "stdout",
     "output_type": "stream",
     "text": [
      "means: [14.10362444 14.10362444 14.10362444]\n",
      "stds: [33.99599439 33.99599439 33.99599439]\n"
     ]
    }
   ],
   "source": [
    "test_means, test_stds = get_means_and_std(test)"
   ]
  },
  {
   "cell_type": "code",
   "execution_count": null,
   "id": "15d8543e",
   "metadata": {},
   "outputs": [],
   "source": []
  },
  {
   "cell_type": "markdown",
   "id": "cf8eafae",
   "metadata": {},
   "source": [
    "### data_seed1"
   ]
  },
  {
   "cell_type": "markdown",
   "id": "69426d33",
   "metadata": {},
   "source": [
    "### DEV56"
   ]
  },
  {
   "cell_type": "code",
   "execution_count": 4,
   "id": "fa7ca4a7",
   "metadata": {},
   "outputs": [],
   "source": [
    "l_train_path = os.path.join(root_dir, 'data_seed1/DEV56', 'train.npy')\n",
    "# u_train_path = os.path.join(root_dir, 'all_shared_unlabeledset', 'u_train.npy')\n",
    "val_path = os.path.join(root_dir, 'data_seed1/DEV56', 'val.npy')\n",
    "test_path = os.path.join(root_dir, 'data_seed1/this_seed_shared_testset', 'test.npy')\n",
    "\n"
   ]
  },
  {
   "cell_type": "code",
   "execution_count": 5,
   "id": "5af68b98",
   "metadata": {},
   "outputs": [],
   "source": [
    "l_train = np.load(l_train_path, allow_pickle=True)\n",
    "# u_train = np.load(u_train_path, allow_pickle=True)\n",
    "val = np.load(val_path, allow_pickle=True)\n",
    "test = np.load(test_path, allow_pickle=True)\n",
    "\n"
   ]
  },
  {
   "cell_type": "markdown",
   "id": "2bc9d257",
   "metadata": {},
   "source": [
    "#### l_train"
   ]
  },
  {
   "cell_type": "code",
   "execution_count": 6,
   "id": "4bef4316",
   "metadata": {
    "scrolled": true
   },
   "outputs": [
    {
     "data": {
      "text/plain": [
       "(1660, 112, 112, 3)"
      ]
     },
     "execution_count": 6,
     "metadata": {},
     "output_type": "execute_result"
    }
   ],
   "source": [
    "l_train['images'].shape"
   ]
  },
  {
   "cell_type": "code",
   "execution_count": 7,
   "id": "d4e3e96e",
   "metadata": {
    "scrolled": true
   },
   "outputs": [
    {
     "name": "stdout",
     "output_type": "stream",
     "text": [
      "num samples each class\n",
      "0: 650\n",
      "1: 223\n",
      "2: 462\n",
      "3: 325\n"
     ]
    }
   ],
   "source": [
    "N_class0 = np.sum(l_train['labels']==0)\n",
    "N_class1 = np.sum(l_train['labels']==1)\n",
    "N_class2 = np.sum(l_train['labels']==2)\n",
    "N_class3 = np.sum(l_train['labels']==3)\n",
    "\n",
    "print('num samples each class')\n",
    "print('0: {}\\n1: {}\\n2: {}\\n3: {}'.format(N_class0, N_class1, N_class2, N_class3))\n"
   ]
  },
  {
   "cell_type": "code",
   "execution_count": 8,
   "id": "23bea35f",
   "metadata": {
    "scrolled": true
   },
   "outputs": [
    {
     "name": "stdout",
     "output_type": "stream",
     "text": [
      "means: [16.21166064 16.21166064 16.21166064]\n",
      "stds: [36.3642727 36.3642727 36.3642727]\n"
     ]
    }
   ],
   "source": [
    "l_train_means, l_train_stds = get_means_and_std(l_train)"
   ]
  },
  {
   "cell_type": "code",
   "execution_count": null,
   "id": "2f7d91ea",
   "metadata": {},
   "outputs": [],
   "source": []
  },
  {
   "cell_type": "markdown",
   "id": "ff2aea73",
   "metadata": {},
   "source": [
    "#### val"
   ]
  },
  {
   "cell_type": "code",
   "execution_count": 9,
   "id": "98ce0676",
   "metadata": {},
   "outputs": [
    {
     "data": {
      "text/plain": [
       "(235, 112, 112, 3)"
      ]
     },
     "execution_count": 9,
     "metadata": {},
     "output_type": "execute_result"
    }
   ],
   "source": [
    "val['images'].shape"
   ]
  },
  {
   "cell_type": "code",
   "execution_count": 10,
   "id": "546b2712",
   "metadata": {},
   "outputs": [
    {
     "name": "stdout",
     "output_type": "stream",
     "text": [
      "num samples each class\n",
      "0: 118\n",
      "1: 50\n",
      "2: 39\n",
      "3: 28\n"
     ]
    }
   ],
   "source": [
    "N_class0 = np.sum(val['labels']==0)\n",
    "N_class1 = np.sum(val['labels']==1)\n",
    "N_class2 = np.sum(val['labels']==2)\n",
    "N_class3 = np.sum(val['labels']==3)\n",
    "\n",
    "\n",
    "print('num samples each class')\n",
    "print('0: {}\\n1: {}\\n2: {}\\n3: {}'.format(N_class0, N_class1, N_class2, N_class3))\n"
   ]
  },
  {
   "cell_type": "code",
   "execution_count": 11,
   "id": "670ca0be",
   "metadata": {
    "scrolled": true
   },
   "outputs": [
    {
     "name": "stdout",
     "output_type": "stream",
     "text": [
      "means: [14.03911949 14.03911949 14.03911949]\n",
      "stds: [34.12439508 34.12439508 34.12439508]\n"
     ]
    }
   ],
   "source": [
    "val_means, val_stds = get_means_and_std(val)"
   ]
  },
  {
   "cell_type": "code",
   "execution_count": null,
   "id": "a0c387a2",
   "metadata": {},
   "outputs": [],
   "source": []
  },
  {
   "cell_type": "markdown",
   "id": "7088db4d",
   "metadata": {},
   "source": [
    "#### test"
   ]
  },
  {
   "cell_type": "code",
   "execution_count": 12,
   "id": "786b4900",
   "metadata": {},
   "outputs": [
    {
     "data": {
      "text/plain": [
       "(2019, 112, 112, 3)"
      ]
     },
     "execution_count": 12,
     "metadata": {},
     "output_type": "execute_result"
    }
   ],
   "source": [
    "test['images'].shape"
   ]
  },
  {
   "cell_type": "code",
   "execution_count": 13,
   "id": "3644da25",
   "metadata": {},
   "outputs": [
    {
     "name": "stdout",
     "output_type": "stream",
     "text": [
      "num samples each class\n",
      "0: 935\n",
      "1: 342\n",
      "2: 423\n",
      "3: 319\n"
     ]
    }
   ],
   "source": [
    "N_class0 = np.sum(test['labels']==0)\n",
    "N_class1 = np.sum(test['labels']==1)\n",
    "N_class2 = np.sum(test['labels']==2)\n",
    "N_class3 = np.sum(test['labels']==3)\n",
    "\n",
    "\n",
    "print('num samples each class')\n",
    "print('0: {}\\n1: {}\\n2: {}\\n3: {}'.format(N_class0, N_class1, N_class2, N_class3))\n"
   ]
  },
  {
   "cell_type": "code",
   "execution_count": 14,
   "id": "8f656504",
   "metadata": {
    "scrolled": true
   },
   "outputs": [
    {
     "name": "stdout",
     "output_type": "stream",
     "text": [
      "means: [14.49554203 14.49554203 14.49554203]\n",
      "stds: [34.31799876 34.31799876 34.31799876]\n"
     ]
    }
   ],
   "source": [
    "test_means, test_stds = get_means_and_std(test)"
   ]
  },
  {
   "cell_type": "code",
   "execution_count": null,
   "id": "baa8eae3",
   "metadata": {},
   "outputs": [],
   "source": []
  },
  {
   "cell_type": "markdown",
   "id": "3c5552ef",
   "metadata": {},
   "source": [
    "### data_seed2"
   ]
  },
  {
   "cell_type": "markdown",
   "id": "bff72d0b",
   "metadata": {},
   "source": [
    "### DEV56"
   ]
  },
  {
   "cell_type": "code",
   "execution_count": 15,
   "id": "d9057e45",
   "metadata": {},
   "outputs": [],
   "source": [
    "l_train_path = os.path.join(root_dir, 'data_seed2/DEV56', 'train.npy')\n",
    "# u_train_path = os.path.join(root_dir, 'all_shared_unlabeledset', 'u_train.npy')\n",
    "val_path = os.path.join(root_dir, 'data_seed2/DEV56', 'val.npy')\n",
    "test_path = os.path.join(root_dir, 'data_seed2/this_seed_shared_testset', 'test.npy')\n",
    "\n"
   ]
  },
  {
   "cell_type": "code",
   "execution_count": 16,
   "id": "2a1bfd97",
   "metadata": {},
   "outputs": [],
   "source": [
    "l_train = np.load(l_train_path, allow_pickle=True)\n",
    "# u_train = np.load(u_train_path, allow_pickle=True)\n",
    "val = np.load(val_path, allow_pickle=True)\n",
    "test = np.load(test_path, allow_pickle=True)\n",
    "\n"
   ]
  },
  {
   "cell_type": "markdown",
   "id": "4df9a008",
   "metadata": {},
   "source": [
    "#### l_train"
   ]
  },
  {
   "cell_type": "code",
   "execution_count": 17,
   "id": "b49a9588",
   "metadata": {
    "scrolled": true
   },
   "outputs": [
    {
     "data": {
      "text/plain": [
       "(1427, 112, 112, 3)"
      ]
     },
     "execution_count": 17,
     "metadata": {},
     "output_type": "execute_result"
    }
   ],
   "source": [
    "l_train['images'].shape"
   ]
  },
  {
   "cell_type": "code",
   "execution_count": 18,
   "id": "767db26f",
   "metadata": {
    "scrolled": true
   },
   "outputs": [
    {
     "name": "stdout",
     "output_type": "stream",
     "text": [
      "num samples each class\n",
      "0: 572\n",
      "1: 199\n",
      "2: 379\n",
      "3: 277\n"
     ]
    }
   ],
   "source": [
    "N_class0 = np.sum(l_train['labels']==0)\n",
    "N_class1 = np.sum(l_train['labels']==1)\n",
    "N_class2 = np.sum(l_train['labels']==2)\n",
    "N_class3 = np.sum(l_train['labels']==3)\n",
    "\n",
    "print('num samples each class')\n",
    "print('0: {}\\n1: {}\\n2: {}\\n3: {}'.format(N_class0, N_class1, N_class2, N_class3))\n"
   ]
  },
  {
   "cell_type": "code",
   "execution_count": 19,
   "id": "27b68f4f",
   "metadata": {
    "scrolled": true
   },
   "outputs": [
    {
     "name": "stdout",
     "output_type": "stream",
     "text": [
      "means: [15.86412286 15.86412286 15.86412286]\n",
      "stds: [35.66711662 35.66711662 35.66711662]\n"
     ]
    }
   ],
   "source": [
    "l_train_means, l_train_stds = get_means_and_std(l_train)"
   ]
  },
  {
   "cell_type": "code",
   "execution_count": null,
   "id": "fe6ceb0f",
   "metadata": {},
   "outputs": [],
   "source": []
  },
  {
   "cell_type": "markdown",
   "id": "adb30164",
   "metadata": {},
   "source": [
    "#### val"
   ]
  },
  {
   "cell_type": "code",
   "execution_count": 20,
   "id": "609c6511",
   "metadata": {},
   "outputs": [
    {
     "data": {
      "text/plain": [
       "(252, 112, 112, 3)"
      ]
     },
     "execution_count": 20,
     "metadata": {},
     "output_type": "execute_result"
    }
   ],
   "source": [
    "val['images'].shape"
   ]
  },
  {
   "cell_type": "code",
   "execution_count": 21,
   "id": "33858ec9",
   "metadata": {},
   "outputs": [
    {
     "name": "stdout",
     "output_type": "stream",
     "text": [
      "num samples each class\n",
      "0: 101\n",
      "1: 44\n",
      "2: 67\n",
      "3: 40\n"
     ]
    }
   ],
   "source": [
    "N_class0 = np.sum(val['labels']==0)\n",
    "N_class1 = np.sum(val['labels']==1)\n",
    "N_class2 = np.sum(val['labels']==2)\n",
    "N_class3 = np.sum(val['labels']==3)\n",
    "\n",
    "\n",
    "print('num samples each class')\n",
    "print('0: {}\\n1: {}\\n2: {}\\n3: {}'.format(N_class0, N_class1, N_class2, N_class3))\n"
   ]
  },
  {
   "cell_type": "code",
   "execution_count": 22,
   "id": "2756fb7f",
   "metadata": {
    "scrolled": true
   },
   "outputs": [
    {
     "name": "stdout",
     "output_type": "stream",
     "text": [
      "means: [14.81873298 14.81873298 14.81873298]\n",
      "stds: [34.73380328 34.73380328 34.73380328]\n"
     ]
    }
   ],
   "source": [
    "val_means, val_stds = get_means_and_std(val)"
   ]
  },
  {
   "cell_type": "code",
   "execution_count": null,
   "id": "bab65c8a",
   "metadata": {},
   "outputs": [],
   "source": []
  },
  {
   "cell_type": "markdown",
   "id": "6f9d9216",
   "metadata": {},
   "source": [
    "#### test"
   ]
  },
  {
   "cell_type": "code",
   "execution_count": 23,
   "id": "f23305ab",
   "metadata": {},
   "outputs": [
    {
     "data": {
      "text/plain": [
       "(2057, 112, 112, 3)"
      ]
     },
     "execution_count": 23,
     "metadata": {},
     "output_type": "execute_result"
    }
   ],
   "source": [
    "test['images'].shape"
   ]
  },
  {
   "cell_type": "code",
   "execution_count": 24,
   "id": "622ffc14",
   "metadata": {},
   "outputs": [
    {
     "name": "stdout",
     "output_type": "stream",
     "text": [
      "num samples each class\n",
      "0: 962\n",
      "1: 353\n",
      "2: 426\n",
      "3: 316\n"
     ]
    }
   ],
   "source": [
    "N_class0 = np.sum(test['labels']==0)\n",
    "N_class1 = np.sum(test['labels']==1)\n",
    "N_class2 = np.sum(test['labels']==2)\n",
    "N_class3 = np.sum(test['labels']==3)\n",
    "\n",
    "\n",
    "print('num samples each class')\n",
    "print('0: {}\\n1: {}\\n2: {}\\n3: {}'.format(N_class0, N_class1, N_class2, N_class3))\n"
   ]
  },
  {
   "cell_type": "code",
   "execution_count": 25,
   "id": "cd425333",
   "metadata": {
    "scrolled": true
   },
   "outputs": [
    {
     "name": "stdout",
     "output_type": "stream",
     "text": [
      "means: [14.23665733 14.23665733 14.23665733]\n",
      "stds: [34.02816324 34.02816324 34.02816324]\n"
     ]
    }
   ],
   "source": [
    "test_means, test_stds = get_means_and_std(test)"
   ]
  },
  {
   "cell_type": "code",
   "execution_count": null,
   "id": "c3aca4c9",
   "metadata": {},
   "outputs": [],
   "source": []
  }
 ],
 "metadata": {
  "kernelspec": {
   "display_name": "Python 3 (ipykernel)",
   "language": "python",
   "name": "python3"
  },
  "language_info": {
   "codemirror_mode": {
    "name": "ipython",
    "version": 3
   },
   "file_extension": ".py",
   "mimetype": "text/x-python",
   "name": "python",
   "nbconvert_exporter": "python",
   "pygments_lexer": "ipython3",
   "version": "3.8.13"
  }
 },
 "nbformat": 4,
 "nbformat_minor": 5
}
