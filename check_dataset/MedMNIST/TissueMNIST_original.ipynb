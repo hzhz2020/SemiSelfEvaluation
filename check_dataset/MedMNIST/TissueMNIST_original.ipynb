{
 "cells": [
  {
   "cell_type": "code",
   "execution_count": 1,
   "id": "9584d3d4",
   "metadata": {},
   "outputs": [],
   "source": [
    "import numpy as np\n",
    "import os\n",
    "from PIL import Image\n"
   ]
  },
  {
   "cell_type": "code",
   "execution_count": 2,
   "id": "ad6df9cb",
   "metadata": {},
   "outputs": [],
   "source": [
    "root_dir = '/cluster/tufts/hugheslab/zhuang12/SemiSelfEvaluationProject/FromMedMNISTWebsite/'\n"
   ]
  },
  {
   "cell_type": "code",
   "execution_count": 3,
   "id": "338cb7a4",
   "metadata": {},
   "outputs": [],
   "source": [
    "def get_means_and_std(images):\n",
    "\n",
    "    means = 0\n",
    "    stds = 0\n",
    "\n",
    "    assert images.ndim == 3 #data['images'] N, H, W\n",
    "    for image in images:\n",
    "        means += image.mean()\n",
    "        stds += image.std()\n",
    "\n",
    "    means = means/len(images)\n",
    "    stds = stds/len(images)\n",
    "\n",
    "    print('means: {}'.format(means))\n",
    "    print('stds: {}'.format(stds))\n",
    "    \n",
    "    return means, stds"
   ]
  },
  {
   "cell_type": "code",
   "execution_count": null,
   "id": "19f3dd62",
   "metadata": {},
   "outputs": [],
   "source": []
  },
  {
   "cell_type": "markdown",
   "id": "0aae11bb",
   "metadata": {},
   "source": [
    "### tissuemnist"
   ]
  },
  {
   "cell_type": "code",
   "execution_count": 4,
   "id": "c6cfecde",
   "metadata": {},
   "outputs": [],
   "source": [
    "tissuemnist_path = os.path.join(root_dir, 'tissuemnist.npz')\n"
   ]
  },
  {
   "cell_type": "code",
   "execution_count": 5,
   "id": "b34c0935",
   "metadata": {},
   "outputs": [],
   "source": [
    "# tissuemnist = np.load(tissuemnist_path, allow_pickle=True)\n",
    "tissuemnist = np.load(tissuemnist_path)\n"
   ]
  },
  {
   "cell_type": "markdown",
   "id": "78b4a398",
   "metadata": {},
   "source": [
    "#### train"
   ]
  },
  {
   "cell_type": "code",
   "execution_count": 6,
   "id": "6e9fafc0",
   "metadata": {},
   "outputs": [],
   "source": [
    "train_images = tissuemnist['train_images']\n",
    "train_labels = tissuemnist['train_labels'].squeeze()\n",
    "\n",
    "\n"
   ]
  },
  {
   "cell_type": "code",
   "execution_count": 7,
   "id": "adca29ac",
   "metadata": {
    "scrolled": true
   },
   "outputs": [
    {
     "name": "stdout",
     "output_type": "stream",
     "text": [
      "train_images: (165466, 28, 28) train_labels: (165466,)\n"
     ]
    }
   ],
   "source": [
    "print('train_images: {} train_labels: {}'.format(train_images.shape, train_labels.shape))\n"
   ]
  },
  {
   "cell_type": "code",
   "execution_count": 8,
   "id": "def8346e",
   "metadata": {},
   "outputs": [
    {
     "name": "stdout",
     "output_type": "stream",
     "text": [
      "train_labels: {0, 1, 2, 3, 4, 5, 6, 7}\n",
      "num samples each class\n",
      "0: 53075\n",
      "1: 7814\n",
      "2: 5866\n",
      "3: 15406\n",
      "4: 11789\n",
      "5: 7705\n",
      "6: 39203\n",
      "7: 24608\n"
     ]
    }
   ],
   "source": [
    "print('train_labels: {}'.format(set(train_labels)))\n",
    "N_class0 = np.sum(train_labels==0)\n",
    "N_class1 = np.sum(train_labels==1)\n",
    "N_class2 = np.sum(train_labels==2)\n",
    "N_class3 = np.sum(train_labels==3)\n",
    "N_class4 = np.sum(train_labels==4)\n",
    "N_class5 = np.sum(train_labels==5)\n",
    "N_class6 = np.sum(train_labels==6)\n",
    "N_class7 = np.sum(train_labels==7)\n",
    "\n",
    "print('num samples each class')\n",
    "print('0: {}\\n1: {}\\n2: {}\\n3: {}\\n4: {}\\n5: {}\\n6: {}\\n7: {}'.format(N_class0, N_class1, N_class2, N_class3, N_class4, N_class5, N_class6, N_class7))\n",
    "\n",
    "\n"
   ]
  },
  {
   "cell_type": "code",
   "execution_count": 9,
   "id": "e23c8ad0",
   "metadata": {},
   "outputs": [
    {
     "name": "stdout",
     "output_type": "stream",
     "text": [
      "means: 26.02150798690494\n",
      "stds: 20.375928620847176\n"
     ]
    }
   ],
   "source": [
    "train_means, train_stds = get_means_and_std(train_images)"
   ]
  },
  {
   "cell_type": "code",
   "execution_count": 11,
   "id": "b8bd47f6",
   "metadata": {},
   "outputs": [
    {
     "data": {
      "image/png": "[encoded data removed]",
      "text/plain": [
       "<PIL.Image.Image image mode=L size=28x28 at 0x2BA6177E09D0>"
      ]
     },
     "execution_count": 11,
     "metadata": {},
     "output_type": "execute_result"
    }
   ],
   "source": [
    "Image.fromarray(train_images[0])"
   ]
  },
  {
   "cell_type": "code",
   "execution_count": 1,
   "id": "356d4708",
   "metadata": {},
   "outputs": [
    {
     "data": {
      "text/plain": [
       "0.10204512936041153"
      ]
     },
     "execution_count": 1,
     "metadata": {},
     "output_type": "execute_result"
    }
   ],
   "source": [
    "26.02150798690494/255"
   ]
  },
  {
   "cell_type": "code",
   "execution_count": 2,
   "id": "64fab847",
   "metadata": {},
   "outputs": [
    {
     "data": {
      "text/plain": [
       "0.07990560243469481"
      ]
     },
     "execution_count": 2,
     "metadata": {},
     "output_type": "execute_result"
    }
   ],
   "source": [
    "20.375928620847176/255"
   ]
  },
  {
   "cell_type": "code",
   "execution_count": null,
   "id": "12fe99ad",
   "metadata": {},
   "outputs": [],
   "source": []
  },
  {
   "cell_type": "markdown",
   "id": "9e175d02",
   "metadata": {},
   "source": [
    "#### val"
   ]
  },
  {
   "cell_type": "code",
   "execution_count": 12,
   "id": "b7c5b894",
   "metadata": {},
   "outputs": [],
   "source": [
    "val_images = tissuemnist['val_images']\n",
    "val_labels = tissuemnist['val_labels'].squeeze()\n",
    "\n",
    "\n"
   ]
  },
  {
   "cell_type": "code",
   "execution_count": 13,
   "id": "8a93d4f4",
   "metadata": {
    "scrolled": true
   },
   "outputs": [
    {
     "name": "stdout",
     "output_type": "stream",
     "text": [
      "val_images: (23640, 28, 28) val_labels: (23640,)\n"
     ]
    }
   ],
   "source": [
    "print('val_images: {} val_labels: {}'.format(val_images.shape, val_labels.shape))\n"
   ]
  },
  {
   "cell_type": "code",
   "execution_count": 14,
   "id": "eed01115",
   "metadata": {},
   "outputs": [
    {
     "name": "stdout",
     "output_type": "stream",
     "text": [
      "val_labels: {0, 1, 2, 3, 4, 5, 6, 7}\n",
      "num samples each class\n",
      "0: 7582\n",
      "1: 1117\n",
      "2: 838\n",
      "3: 2201\n",
      "4: 1684\n",
      "5: 1101\n",
      "6: 5601\n",
      "7: 3516\n"
     ]
    }
   ],
   "source": [
    "print('val_labels: {}'.format(set(val_labels)))\n",
    "N_class0 = np.sum(val_labels==0)\n",
    "N_class1 = np.sum(val_labels==1)\n",
    "N_class2 = np.sum(val_labels==2)\n",
    "N_class3 = np.sum(val_labels==3)\n",
    "N_class4 = np.sum(val_labels==4)\n",
    "N_class5 = np.sum(val_labels==5)\n",
    "N_class6 = np.sum(val_labels==6)\n",
    "N_class7 = np.sum(val_labels==7)\n",
    "\n",
    "print('num samples each class')\n",
    "print('0: {}\\n1: {}\\n2: {}\\n3: {}\\n4: {}\\n5: {}\\n6: {}\\n7: {}'.format(N_class0, N_class1, N_class2, N_class3, N_class4, N_class5, N_class6, N_class7))\n",
    "\n",
    "\n"
   ]
  },
  {
   "cell_type": "code",
   "execution_count": 15,
   "id": "528b64a9",
   "metadata": {},
   "outputs": [
    {
     "name": "stdout",
     "output_type": "stream",
     "text": [
      "means: 26.02644266462936\n",
      "stds: 20.34062409949826\n"
     ]
    }
   ],
   "source": [
    "val_means, val_stds = get_means_and_std(val_images)"
   ]
  },
  {
   "cell_type": "code",
   "execution_count": 16,
   "id": "b71e26de",
   "metadata": {},
   "outputs": [
    {
     "data": {
      "image/png": "[encoded data removed]",
      "text/plain": [
       "<PIL.Image.Image image mode=L size=28x28 at 0x2BA6177350D0>"
      ]
     },
     "execution_count": 16,
     "metadata": {},
     "output_type": "execute_result"
    }
   ],
   "source": [
    "Image.fromarray(val_images[1])"
   ]
  },
  {
   "cell_type": "code",
   "execution_count": 17,
   "id": "58a83449",
   "metadata": {
    "scrolled": true
   },
   "outputs": [
    {
     "data": {
      "text/plain": [
       "array([[57, 56, 34,  9,  6,  8,  4,  4,  6,  6,  6,  5,  4,  4,  5,  6,\n",
       "         7,  7,  6,  5,  5,  5,  6,  7,  8, 18, 30, 37],\n",
       "       [69, 70, 42,  6,  0,  3,  6,  8,  5,  5,  5,  4,  3,  3,  4,  5,\n",
       "         6,  6,  6,  6,  6,  6,  6,  6,  8, 17, 28, 34],\n",
       "       [84, 91, 63, 16,  0,  2,  5,  5,  7,  6,  5,  4,  4,  4,  4,  5,\n",
       "         5,  5,  6,  7,  7,  6,  6,  5,  1,  8, 17, 22],\n",
       "       [76, 92, 70, 25,  5,  7,  6,  3, 10,  8,  6,  5,  5,  5,  4,  3,\n",
       "         4,  5,  6,  7,  7,  7,  6,  6,  0,  3,  9, 13],\n",
       "       [61, 76, 58, 19,  4,  8,  8,  7, 11,  8,  5,  4,  5,  5,  4,  2,\n",
       "         4,  5,  5,  6,  7,  7,  7,  7,  5,  7, 10, 11],\n",
       "       [70, 73, 48, 13,  3,  4,  4,  6,  8,  5,  2,  3,  7,  9,  8,  6,\n",
       "         5,  5,  5,  5,  5,  7,  8,  9,  7,  7,  7,  7],\n",
       "       [64, 57, 32, 10,  7,  5,  1,  4,  7,  5,  4,  8, 15, 20, 20, 19,\n",
       "         7,  5,  4,  3,  4,  6,  9, 11,  8,  7,  4,  3],\n",
       "       [29, 21,  6,  2, 13, 11,  4,  6,  9,  7,  8, 14, 24, 31, 33, 32,\n",
       "         8,  6,  3,  1,  2,  6, 10, 13, 13, 11,  7,  5],\n",
       "       [11, 10,  9,  9,  8,  7,  6,  6,  7,  8,  8, 11, 21, 35, 42, 41,\n",
       "        36, 17,  2,  3,  5,  4,  9, 18, 18, 16, 10,  3],\n",
       "       [10, 10,  9,  8,  7,  7,  6,  6,  5,  7,  9, 14, 27, 41, 48, 48,\n",
       "        39, 19,  4,  4,  5,  4,  8, 16, 21, 21, 16,  9],\n",
       "       [ 9,  9,  9,  8,  7,  7,  6,  6,  5,  8, 11, 17, 30, 44, 50, 49,\n",
       "        42, 24,  8,  4,  5,  4,  7, 13, 22, 23, 21, 15],\n",
       "       [ 9,  8,  8,  7,  7,  6,  6,  6,  7, 10, 13, 18, 30, 42, 46, 44,\n",
       "        46, 29, 12,  5,  4,  4,  6, 10, 18, 22, 22, 18],\n",
       "       [ 8,  7,  7,  7,  7,  6,  6,  6,  8, 11, 14, 20, 31, 44, 48, 46,\n",
       "        49, 33, 16,  6,  4,  4,  5,  7, 15, 21, 24, 22],\n",
       "       [ 7,  7,  7,  6,  6,  6,  6,  6,  7, 10, 14, 20, 34, 48, 55, 54,\n",
       "        51, 37, 19,  7,  4,  5,  6,  6, 14, 23, 29, 28],\n",
       "       [ 6,  6,  6,  6,  6,  6,  6,  6,  8, 11, 13, 19, 32, 48, 56, 56,\n",
       "        52, 39, 21,  7,  4,  6,  7,  5, 13, 23, 32, 32],\n",
       "       [ 6,  6,  6,  6,  6,  6,  6,  6, 10, 12, 12, 16, 28, 43, 51, 51,\n",
       "        53, 40, 21,  8,  4,  7,  7,  5, 11, 22, 32, 33],\n",
       "       [11,  8,  5,  5,  6,  7,  7,  6, 12,  8,  6, 12, 25, 37, 44, 46,\n",
       "        48, 45, 32, 14,  6,  7,  7,  4, 12, 17, 23, 28],\n",
       "       [11,  8,  5,  4,  6,  8,  9,  9, 10,  8,  8, 13, 24, 35, 42, 45,\n",
       "        47, 43, 30, 13,  4,  5,  6,  4, 11, 16, 22, 26],\n",
       "       [13,  9,  5,  3,  5,  8, 10, 11,  6,  6,  7, 10, 18, 27, 36, 41,\n",
       "        45, 39, 26, 11,  3,  3,  5,  5,  9, 14, 19, 23],\n",
       "       [17, 12,  6,  3,  4,  7,  9, 10,  8,  7,  7,  8, 12, 21, 31, 39,\n",
       "        40, 33, 21,  9,  2,  2,  4,  6,  8, 11, 16, 19],\n",
       "       [21, 16,  9,  5,  4,  6,  7,  8, 11, 10,  8,  7,  9, 16, 26, 32,\n",
       "        33, 25, 15,  7,  2,  1,  3,  7,  7, 10, 14, 16],\n",
       "       [21, 16, 10,  7,  6,  7,  7,  7,  7,  6,  5,  5,  7, 11, 14, 16,\n",
       "        24, 17, 10,  6,  3,  1,  3,  7,  6,  9, 12, 13],\n",
       "       [18, 14, 10,  8,  8,  9,  9,  9,  9,  9, 12, 16, 19, 17, 10,  5,\n",
       "        16, 10,  6,  6,  5,  1,  3,  8,  6,  9, 11, 12],\n",
       "       [14, 12,  9,  9, 10, 12, 12, 11, 20, 23, 28, 36, 40, 33, 20,  8,\n",
       "        11,  6,  4,  7,  6,  2,  3,  8,  7,  9, 11, 11],\n",
       "       [12, 13,  8, 11, 20, 17, 13, 21, 29, 37, 45, 48, 47, 40, 26, 13,\n",
       "        10,  8,  7,  5,  4,  4,  5,  6,  5,  6,  7,  8],\n",
       "       [11, 12,  9, 13, 24, 23, 21, 30, 45, 50, 53, 51, 47, 39, 25, 12,\n",
       "        10,  8,  7,  5,  4,  4,  5,  6,  3,  3,  5,  6],\n",
       "       [ 9, 11, 10, 16, 29, 30, 30, 40, 56, 58, 56, 50, 44, 36, 24, 13,\n",
       "        10,  8,  7,  5,  4,  4,  5,  6,  3,  4,  5,  6],\n",
       "       [ 8, 11, 10, 18, 32, 34, 35, 45, 56, 56, 52, 44, 39, 34, 26, 17,\n",
       "        10,  8,  7,  5,  4,  4,  5,  6,  7,  8,  9, 11]], dtype=uint8)"
      ]
     },
     "execution_count": 17,
     "metadata": {},
     "output_type": "execute_result"
    }
   ],
   "source": [
    "val_images[1]"
   ]
  },
  {
   "cell_type": "markdown",
   "id": "5bb348f1",
   "metadata": {},
   "source": [
    "#### test"
   ]
  },
  {
   "cell_type": "code",
   "execution_count": 18,
   "id": "b254d736",
   "metadata": {},
   "outputs": [],
   "source": [
    "test_images = tissuemnist['test_images']\n",
    "test_labels = tissuemnist['test_labels'].squeeze()\n",
    "\n",
    "\n"
   ]
  },
  {
   "cell_type": "code",
   "execution_count": 19,
   "id": "b9fef6af",
   "metadata": {
    "scrolled": true
   },
   "outputs": [
    {
     "name": "stdout",
     "output_type": "stream",
     "text": [
      "test_images: (47280, 28, 28) test_labels: (47280,)\n"
     ]
    }
   ],
   "source": [
    "print('test_images: {} test_labels: {}'.format(test_images.shape, test_labels.shape))\n"
   ]
  },
  {
   "cell_type": "code",
   "execution_count": 20,
   "id": "ff0031dc",
   "metadata": {},
   "outputs": [
    {
     "name": "stdout",
     "output_type": "stream",
     "text": [
      "test_labels: {0, 1, 2, 3, 4, 5, 6, 7}\n",
      "num samples each class\n",
      "0: 15165\n",
      "1: 2233\n",
      "2: 1677\n",
      "3: 4402\n",
      "4: 3369\n",
      "5: 2202\n",
      "6: 11201\n",
      "7: 7031\n"
     ]
    }
   ],
   "source": [
    "print('test_labels: {}'.format(set(test_labels)))\n",
    "N_class0 = np.sum(test_labels==0)\n",
    "N_class1 = np.sum(test_labels==1)\n",
    "N_class2 = np.sum(test_labels==2)\n",
    "N_class3 = np.sum(test_labels==3)\n",
    "N_class4 = np.sum(test_labels==4)\n",
    "N_class5 = np.sum(test_labels==5)\n",
    "N_class6 = np.sum(test_labels==6)\n",
    "N_class7 = np.sum(test_labels==7)\n",
    "\n",
    "print('num samples each class')\n",
    "print('0: {}\\n1: {}\\n2: {}\\n3: {}\\n4: {}\\n5: {}\\n6: {}\\n7: {}'.format(N_class0, N_class1, N_class2, N_class3, N_class4, N_class5, N_class6, N_class7))\n",
    "\n",
    "\n"
   ]
  },
  {
   "cell_type": "code",
   "execution_count": 21,
   "id": "2eabdba2",
   "metadata": {
    "scrolled": true
   },
   "outputs": [
    {
     "name": "stdout",
     "output_type": "stream",
     "text": [
      "means: 26.075920293561747\n",
      "stds: 20.412827544880408\n"
     ]
    }
   ],
   "source": [
    "test_means, test_stds = get_means_and_std(test_images)"
   ]
  },
  {
   "cell_type": "code",
   "execution_count": 22,
   "id": "dbf958d0",
   "metadata": {},
   "outputs": [
    {
     "data": {
      "image/png": "[encoded data removed]",
      "text/plain": [
       "<PIL.Image.Image image mode=L size=28x28 at 0x2BA61774AAF0>"
      ]
     },
     "execution_count": 22,
     "metadata": {},
     "output_type": "execute_result"
    }
   ],
   "source": [
    "Image.fromarray(test_images[1])"
   ]
  },
  {
   "cell_type": "code",
   "execution_count": null,
   "id": "e05f535a",
   "metadata": {},
   "outputs": [],
   "source": []
  }
 ],
 "metadata": {
  "kernelspec": {
   "display_name": "Python 3 (ipykernel)",
   "language": "python",
   "name": "python3"
  },
  "language_info": {
   "codemirror_mode": {
    "name": "ipython",
    "version": 3
   },
   "file_extension": ".py",
   "mimetype": "text/x-python",
   "name": "python",
   "nbconvert_exporter": "python",
   "pygments_lexer": "ipython3",
   "version": "3.8.13"
  }
 },
 "nbformat": 4,
 "nbformat_minor": 5
}
