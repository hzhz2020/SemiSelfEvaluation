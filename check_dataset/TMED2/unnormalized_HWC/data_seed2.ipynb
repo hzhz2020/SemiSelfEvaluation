{
 "cells": [
  {
   "cell_type": "code",
   "execution_count": 1,
   "id": "83b827c7",
   "metadata": {},
   "outputs": [],
   "source": [
    "import numpy as np\n",
    "import os\n",
    "\n"
   ]
  },
  {
   "cell_type": "code",
   "execution_count": 2,
   "id": "562686cf",
   "metadata": {},
   "outputs": [],
   "source": [
    "root_dir = '/cluster/tufts/hugheslab/zhuang12/SemiSelfEvaluationProject/SemiSelfEvaluation/ML_DATA/TMED2/unnormalized_HWC'\n"
   ]
  },
  {
   "cell_type": "code",
   "execution_count": 3,
   "id": "a0515a02",
   "metadata": {},
   "outputs": [],
   "source": [
    "def get_means_and_std(data):\n",
    "\n",
    "    means = np.zeros(3)\n",
    "    stds = np.zeros(3)\n",
    "\n",
    "    assert data['images'].shape[3] == 3 #data['images'] N, H, W, C\n",
    "    for image in data['images']:\n",
    "\n",
    "        for i in range(3):\n",
    "            means[i] += image[:,:,i].mean()\n",
    "            stds[i] += image[:,:,i].std()\n",
    "\n",
    "    means = means/len(data['images'])\n",
    "    stds = stds/len(data['images'])\n",
    "\n",
    "    print('means: {}'.format(means))\n",
    "    print('stds: {}'.format(stds))\n",
    "    \n",
    "    return means, stds"
   ]
  },
  {
   "cell_type": "code",
   "execution_count": 4,
   "id": "7bcd5307",
   "metadata": {},
   "outputs": [],
   "source": [
    "def calculate_loss_weights(N_class0, N_class1, N_class2, N_class3):\n",
    "    \n",
    "    product_without_N_class0 =  N_class1 * N_class2 * N_class3\n",
    "#     print(product_without_N_class0)\n",
    "    \n",
    "    product_without_N_class1 =  N_class0 * N_class2 * N_class3\n",
    "#     print(product_without_N_class1)\n",
    "    \n",
    "    product_without_N_class2 =  N_class0 * N_class1 * N_class3\n",
    "#     print(product_without_N_class2)\n",
    "    \n",
    "    product_without_N_class3 =  N_class0 * N_class1 * N_class2\n",
    "#     print(product_without_N_class3)\n",
    "    \n",
    "    \n",
    "    denominator = product_without_N_class0 + product_without_N_class1 + product_without_N_class2 + product_without_N_class3\n",
    "    \n",
    "    \n",
    "    W_class0 = round(product_without_N_class0 / denominator,3)\n",
    "    \n",
    "    W_class1 = round(product_without_N_class1 / denominator,3)\n",
    "    \n",
    "    W_class2 = round(product_without_N_class2 / denominator,3)\n",
    "\n",
    "    W_class3 = round(product_without_N_class3 / denominator,3)\n",
    "    \n",
    "   \n",
    "    \n",
    "    \n",
    "    return W_class0, W_class1, W_class2, W_class3"
   ]
  },
  {
   "cell_type": "code",
   "execution_count": null,
   "id": "10710b5d",
   "metadata": {},
   "outputs": [],
   "source": []
  },
  {
   "cell_type": "markdown",
   "id": "9622ecd3",
   "metadata": {},
   "source": [
    "## data_seed2"
   ]
  },
  {
   "cell_type": "markdown",
   "id": "c2264beb",
   "metadata": {},
   "source": [
    "### shared testset"
   ]
  },
  {
   "cell_type": "code",
   "execution_count": 5,
   "id": "91cc9436",
   "metadata": {},
   "outputs": [],
   "source": [
    "seed2_test_path = os.path.join(root_dir, 'data_seed2', 'this_seed_shared_testset', 'test.npy')\n",
    "seed2_test = np.load(seed2_test_path, allow_pickle=True)\n"
   ]
  },
  {
   "cell_type": "code",
   "execution_count": 6,
   "id": "554dfaba",
   "metadata": {},
   "outputs": [
    {
     "data": {
      "text/plain": [
       "{'images': array([[[[ 1,  1,  1],\n",
       "          [ 0,  0,  0],\n",
       "          [ 0,  0,  0],\n",
       "          ...,\n",
       "          [ 0,  0,  0],\n",
       "          [ 0,  0,  0],\n",
       "          [ 0,  0,  0]],\n",
       " \n",
       "         [[ 0,  0,  0],\n",
       "          [ 0,  0,  0],\n",
       "          [ 0,  0,  0],\n",
       "          ...,\n",
       "          [ 0,  0,  0],\n",
       "          [ 0,  0,  0],\n",
       "          [ 0,  0,  0]],\n",
       " \n",
       "         [[ 0,  0,  0],\n",
       "          [ 0,  0,  0],\n",
       "          [ 0,  0,  0],\n",
       "          ...,\n",
       "          [ 1,  1,  1],\n",
       "          [ 0,  0,  0],\n",
       "          [ 0,  0,  0]],\n",
       " \n",
       "         ...,\n",
       " \n",
       "         [[ 0,  0,  0],\n",
       "          [ 0,  0,  0],\n",
       "          [ 0,  0,  0],\n",
       "          ...,\n",
       "          [ 0,  0,  0],\n",
       "          [ 0,  0,  0],\n",
       "          [ 0,  0,  0]],\n",
       " \n",
       "         [[ 0,  0,  0],\n",
       "          [ 0,  0,  0],\n",
       "          [ 0,  0,  0],\n",
       "          ...,\n",
       "          [ 0,  0,  0],\n",
       "          [ 0,  0,  0],\n",
       "          [ 0,  0,  0]],\n",
       " \n",
       "         [[ 0,  0,  0],\n",
       "          [ 0,  0,  0],\n",
       "          [ 0,  0,  0],\n",
       "          ...,\n",
       "          [ 0,  0,  0],\n",
       "          [ 0,  0,  0],\n",
       "          [ 0,  0,  0]]],\n",
       " \n",
       " \n",
       "        [[[ 1,  1,  1],\n",
       "          [ 0,  0,  0],\n",
       "          [ 0,  0,  0],\n",
       "          ...,\n",
       "          [ 0,  0,  0],\n",
       "          [ 0,  0,  0],\n",
       "          [ 0,  0,  0]],\n",
       " \n",
       "         [[ 0,  0,  0],\n",
       "          [ 0,  0,  0],\n",
       "          [ 0,  0,  0],\n",
       "          ...,\n",
       "          [ 0,  0,  0],\n",
       "          [ 0,  0,  0],\n",
       "          [ 0,  0,  0]],\n",
       " \n",
       "         [[ 0,  0,  0],\n",
       "          [ 0,  0,  0],\n",
       "          [ 0,  0,  0],\n",
       "          ...,\n",
       "          [ 1,  1,  1],\n",
       "          [ 0,  0,  0],\n",
       "          [ 0,  0,  0]],\n",
       " \n",
       "         ...,\n",
       " \n",
       "         [[ 0,  0,  0],\n",
       "          [ 0,  0,  0],\n",
       "          [ 0,  0,  0],\n",
       "          ...,\n",
       "          [ 0,  0,  0],\n",
       "          [ 0,  0,  0],\n",
       "          [ 0,  0,  0]],\n",
       " \n",
       "         [[ 0,  0,  0],\n",
       "          [ 0,  0,  0],\n",
       "          [ 0,  0,  0],\n",
       "          ...,\n",
       "          [ 0,  0,  0],\n",
       "          [ 0,  0,  0],\n",
       "          [ 0,  0,  0]],\n",
       " \n",
       "         [[ 0,  0,  0],\n",
       "          [ 0,  0,  0],\n",
       "          [ 0,  0,  0],\n",
       "          ...,\n",
       "          [ 0,  0,  0],\n",
       "          [ 0,  0,  0],\n",
       "          [ 0,  0,  0]]],\n",
       " \n",
       " \n",
       "        [[[ 0,  0,  0],\n",
       "          [ 0,  0,  0],\n",
       "          [ 0,  0,  0],\n",
       "          ...,\n",
       "          [25, 25, 25],\n",
       "          [90, 90, 90],\n",
       "          [95, 95, 95]],\n",
       " \n",
       "         [[ 0,  0,  0],\n",
       "          [ 0,  0,  0],\n",
       "          [ 0,  0,  0],\n",
       "          ...,\n",
       "          [ 9,  9,  9],\n",
       "          [37, 37, 37],\n",
       "          [37, 37, 37]],\n",
       " \n",
       "         [[ 0,  0,  0],\n",
       "          [ 0,  0,  0],\n",
       "          [ 0,  0,  0],\n",
       "          ...,\n",
       "          [ 4,  4,  4],\n",
       "          [ 0,  0,  0],\n",
       "          [ 0,  0,  0]],\n",
       " \n",
       "         ...,\n",
       " \n",
       "         [[ 0,  0,  0],\n",
       "          [ 0,  0,  0],\n",
       "          [ 0,  0,  0],\n",
       "          ...,\n",
       "          [ 0,  0,  0],\n",
       "          [ 0,  0,  0],\n",
       "          [ 0,  0,  0]],\n",
       " \n",
       "         [[ 0,  0,  0],\n",
       "          [ 0,  0,  0],\n",
       "          [ 0,  0,  0],\n",
       "          ...,\n",
       "          [ 0,  0,  0],\n",
       "          [ 0,  0,  0],\n",
       "          [ 0,  0,  0]],\n",
       " \n",
       "         [[ 0,  0,  0],\n",
       "          [ 0,  0,  0],\n",
       "          [ 0,  0,  0],\n",
       "          ...,\n",
       "          [ 0,  0,  0],\n",
       "          [ 0,  0,  0],\n",
       "          [ 0,  0,  0]]],\n",
       " \n",
       " \n",
       "        ...,\n",
       " \n",
       " \n",
       "        [[[ 1,  1,  1],\n",
       "          [ 0,  0,  0],\n",
       "          [ 0,  0,  0],\n",
       "          ...,\n",
       "          [ 0,  0,  0],\n",
       "          [ 0,  0,  0],\n",
       "          [ 0,  0,  0]],\n",
       " \n",
       "         [[ 0,  0,  0],\n",
       "          [ 0,  0,  0],\n",
       "          [ 0,  0,  0],\n",
       "          ...,\n",
       "          [ 0,  0,  0],\n",
       "          [ 0,  0,  0],\n",
       "          [ 0,  0,  0]],\n",
       " \n",
       "         [[ 0,  0,  0],\n",
       "          [ 0,  0,  0],\n",
       "          [ 0,  0,  0],\n",
       "          ...,\n",
       "          [ 1,  1,  1],\n",
       "          [ 0,  0,  0],\n",
       "          [ 0,  0,  0]],\n",
       " \n",
       "         ...,\n",
       " \n",
       "         [[ 0,  0,  0],\n",
       "          [ 0,  0,  0],\n",
       "          [ 0,  0,  0],\n",
       "          ...,\n",
       "          [ 0,  0,  0],\n",
       "          [ 0,  0,  0],\n",
       "          [ 0,  0,  0]],\n",
       " \n",
       "         [[ 0,  0,  0],\n",
       "          [ 0,  0,  0],\n",
       "          [ 0,  0,  0],\n",
       "          ...,\n",
       "          [ 0,  0,  0],\n",
       "          [ 0,  0,  0],\n",
       "          [ 0,  0,  0]],\n",
       " \n",
       "         [[ 0,  0,  0],\n",
       "          [ 0,  0,  0],\n",
       "          [ 0,  0,  0],\n",
       "          ...,\n",
       "          [ 0,  0,  0],\n",
       "          [ 0,  0,  0],\n",
       "          [ 0,  0,  0]]],\n",
       " \n",
       " \n",
       "        [[[ 1,  1,  1],\n",
       "          [ 0,  0,  0],\n",
       "          [ 0,  0,  0],\n",
       "          ...,\n",
       "          [ 0,  0,  0],\n",
       "          [ 0,  0,  0],\n",
       "          [ 0,  0,  0]],\n",
       " \n",
       "         [[ 0,  0,  0],\n",
       "          [ 0,  0,  0],\n",
       "          [ 0,  0,  0],\n",
       "          ...,\n",
       "          [ 0,  0,  0],\n",
       "          [ 0,  0,  0],\n",
       "          [ 0,  0,  0]],\n",
       " \n",
       "         [[ 0,  0,  0],\n",
       "          [ 0,  0,  0],\n",
       "          [ 0,  0,  0],\n",
       "          ...,\n",
       "          [ 1,  1,  1],\n",
       "          [ 0,  0,  0],\n",
       "          [ 0,  0,  0]],\n",
       " \n",
       "         ...,\n",
       " \n",
       "         [[ 0,  0,  0],\n",
       "          [ 0,  0,  0],\n",
       "          [ 0,  0,  0],\n",
       "          ...,\n",
       "          [ 0,  0,  0],\n",
       "          [ 0,  0,  0],\n",
       "          [ 0,  0,  0]],\n",
       " \n",
       "         [[ 0,  0,  0],\n",
       "          [ 0,  0,  0],\n",
       "          [ 0,  0,  0],\n",
       "          ...,\n",
       "          [ 0,  0,  0],\n",
       "          [ 0,  0,  0],\n",
       "          [ 0,  0,  0]],\n",
       " \n",
       "         [[ 0,  0,  0],\n",
       "          [ 0,  0,  0],\n",
       "          [ 0,  0,  0],\n",
       "          ...,\n",
       "          [ 0,  0,  0],\n",
       "          [ 0,  0,  0],\n",
       "          [ 0,  0,  0]]],\n",
       " \n",
       " \n",
       "        [[[ 0,  0,  0],\n",
       "          [ 0,  0,  0],\n",
       "          [ 0,  0,  0],\n",
       "          ...,\n",
       "          [ 0,  0,  0],\n",
       "          [ 0,  0,  0],\n",
       "          [ 0,  0,  0]],\n",
       " \n",
       "         [[ 0,  0,  0],\n",
       "          [ 0,  0,  0],\n",
       "          [ 0,  0,  0],\n",
       "          ...,\n",
       "          [ 0,  0,  0],\n",
       "          [ 0,  0,  0],\n",
       "          [ 0,  0,  0]],\n",
       " \n",
       "         [[ 0,  0,  0],\n",
       "          [ 1,  1,  1],\n",
       "          [ 4,  4,  4],\n",
       "          ...,\n",
       "          [ 0,  0,  0],\n",
       "          [ 0,  0,  0],\n",
       "          [ 0,  0,  0]],\n",
       " \n",
       "         ...,\n",
       " \n",
       "         [[ 0,  0,  0],\n",
       "          [ 0,  0,  0],\n",
       "          [ 0,  0,  0],\n",
       "          ...,\n",
       "          [ 0,  0,  0],\n",
       "          [ 0,  0,  0],\n",
       "          [ 0,  0,  0]],\n",
       " \n",
       "         [[ 0,  0,  0],\n",
       "          [ 0,  0,  0],\n",
       "          [ 0,  0,  0],\n",
       "          ...,\n",
       "          [ 0,  0,  0],\n",
       "          [ 0,  0,  0],\n",
       "          [ 0,  0,  0]],\n",
       " \n",
       "         [[ 0,  0,  0],\n",
       "          [ 0,  0,  0],\n",
       "          [ 0,  0,  0],\n",
       "          ...,\n",
       "          [ 0,  0,  0],\n",
       "          [ 0,  0,  0],\n",
       "          [ 0,  0,  0]]]], dtype=uint8),\n",
       " 'labels': array([0, 0, 0, ..., 1, 1, 0])}"
      ]
     },
     "execution_count": 6,
     "metadata": {},
     "output_type": "execute_result"
    }
   ],
   "source": [
    "seed2_test"
   ]
  },
  {
   "cell_type": "code",
   "execution_count": 7,
   "id": "4f452fd9",
   "metadata": {},
   "outputs": [
    {
     "name": "stdout",
     "output_type": "stream",
     "text": [
      "images: (2057, 112, 112, 3)\n",
      "labels: (2057,)\n",
      "labels: {0, 1, 2, 3}\n",
      "0: 962, 1: 353, 2: 426, 3: 316\n",
      "W_0: 0.111, W_1: 0.302, W_2: 0.25, W_3: 0.337\n"
     ]
    }
   ],
   "source": [
    "print('images: {}'.format(seed2_test['images'].shape))\n",
    "print('labels: {}'.format(seed2_test['labels'].shape))\n",
    "print('labels: {}'.format(set(seed2_test['labels'])))\n",
    "\n",
    "N_class0 = np.sum(seed2_test['labels']==0)\n",
    "N_class1 = np.sum(seed2_test['labels']==1)\n",
    "N_class2 = np.sum(seed2_test['labels']==2)\n",
    "N_class3 = np.sum(seed2_test['labels']==3)\n",
    "\n",
    "W_class0, W_class1, W_class2, W_class3 = calculate_loss_weights(N_class0, N_class1, N_class2, N_class3)\n",
    "\n",
    "print('0: {}, 1: {}, 2: {}, 3: {}'.format(N_class0, N_class1, N_class2, N_class3))\n",
    "print('W_0: {}, W_1: {}, W_2: {}, W_3: {}'.format(W_class0, W_class1, W_class2, W_class3))"
   ]
  },
  {
   "cell_type": "code",
   "execution_count": 8,
   "id": "96aabeca",
   "metadata": {
    "scrolled": true
   },
   "outputs": [
    {
     "name": "stdout",
     "output_type": "stream",
     "text": [
      "means: [14.23665733 14.23665733 14.23665733]\n",
      "stds: [34.02816324 34.02816324 34.02816324]\n"
     ]
    }
   ],
   "source": [
    "seed2_test_means, seed2_test_stds = get_means_and_std(seed2_test)"
   ]
  },
  {
   "cell_type": "code",
   "execution_count": null,
   "id": "1b582608",
   "metadata": {},
   "outputs": [],
   "source": []
  },
  {
   "cell_type": "markdown",
   "id": "16af91b8",
   "metadata": {},
   "source": [
    "### DEV479"
   ]
  },
  {
   "cell_type": "code",
   "execution_count": 9,
   "id": "fba2426f",
   "metadata": {},
   "outputs": [],
   "source": [
    "seed2_DEV479_dir = os.path.join(root_dir, 'data_seed2', 'DEV479')\n",
    "\n",
    "seed2_DEV479_train_path = os.path.join(seed2_DEV479_dir, 'train.npy')\n",
    "seed2_DEV479_val_path = os.path.join(seed2_DEV479_dir, 'val.npy')\n"
   ]
  },
  {
   "cell_type": "code",
   "execution_count": 10,
   "id": "36c06e4d",
   "metadata": {},
   "outputs": [],
   "source": [
    "seed2_DEV479_train = np.load(seed2_DEV479_train_path, allow_pickle=True)\n",
    "seed2_DEV479_val = np.load(seed2_DEV479_val_path, allow_pickle=True)\n"
   ]
  },
  {
   "cell_type": "markdown",
   "id": "d180b275",
   "metadata": {},
   "source": [
    "#### train"
   ]
  },
  {
   "cell_type": "code",
   "execution_count": 11,
   "id": "5be4ee26",
   "metadata": {},
   "outputs": [
    {
     "name": "stdout",
     "output_type": "stream",
     "text": [
      "images: (14052, 112, 112, 3)\n",
      "labels: (14052,)\n",
      "labels: {0, 1, 2, 3}\n",
      "0: 5464, 1: 2023, 2: 3743, 3: 2822\n",
      "W_0: 0.141, W_1: 0.381, W_2: 0.206, W_3: 0.273\n"
     ]
    }
   ],
   "source": [
    "print('images: {}'.format(seed2_DEV479_train['images'].shape))\n",
    "print('labels: {}'.format(seed2_DEV479_train['labels'].shape))\n",
    "print('labels: {}'.format(set(seed2_DEV479_train['labels'])))\n",
    "\n",
    "N_class0 = np.sum(seed2_DEV479_train['labels']==0)\n",
    "N_class1 = np.sum(seed2_DEV479_train['labels']==1)\n",
    "N_class2 = np.sum(seed2_DEV479_train['labels']==2)\n",
    "N_class3 = np.sum(seed2_DEV479_train['labels']==3)\n",
    "\n",
    "W_class0, W_class1, W_class2, W_class3 = calculate_loss_weights(N_class0, N_class1, N_class2, N_class3)\n",
    "\n",
    "print('0: {}, 1: {}, 2: {}, 3: {}'.format(N_class0, N_class1, N_class2, N_class3))\n",
    "print('W_0: {}, W_1: {}, W_2: {}, W_3: {}'.format(W_class0, W_class1, W_class2, W_class3))"
   ]
  },
  {
   "cell_type": "code",
   "execution_count": 12,
   "id": "6a01580e",
   "metadata": {},
   "outputs": [
    {
     "name": "stdout",
     "output_type": "stream",
     "text": [
      "means: [15.66990174 15.66990174 15.66990174]\n",
      "stds: [35.9589818 35.9589818 35.9589818]\n"
     ]
    }
   ],
   "source": [
    "seed2_DEV479_train_means, seed2_DEV479_train_stds = get_means_and_std(seed2_DEV479_train)"
   ]
  },
  {
   "cell_type": "markdown",
   "id": "88dd5480",
   "metadata": {},
   "source": [
    "#### val"
   ]
  },
  {
   "cell_type": "code",
   "execution_count": 13,
   "id": "eed22ed2",
   "metadata": {},
   "outputs": [
    {
     "name": "stdout",
     "output_type": "stream",
     "text": [
      "images: (1994, 112, 112, 3)\n",
      "labels: (1994,)\n",
      "labels: {0, 1, 2, 3}\n",
      "0: 946, 1: 354, 2: 396, 3: 298\n",
      "W_0: 0.108, W_1: 0.289, W_2: 0.259, W_3: 0.344\n"
     ]
    }
   ],
   "source": [
    "print('images: {}'.format(seed2_DEV479_val['images'].shape))\n",
    "print('labels: {}'.format(seed2_DEV479_val['labels'].shape))\n",
    "print('labels: {}'.format(set(seed2_DEV479_val['labels'])))\n",
    "\n",
    "N_class0 = np.sum(seed2_DEV479_val['labels']==0)\n",
    "N_class1 = np.sum(seed2_DEV479_val['labels']==1)\n",
    "N_class2 = np.sum(seed2_DEV479_val['labels']==2)\n",
    "N_class3 = np.sum(seed2_DEV479_val['labels']==3)\n",
    "\n",
    "W_class0, W_class1, W_class2, W_class3 = calculate_loss_weights(N_class0, N_class1, N_class2, N_class3)\n",
    "\n",
    "print('0: {}, 1: {}, 2: {}, 3: {}'.format(N_class0, N_class1, N_class2, N_class3))\n",
    "print('W_0: {}, W_1: {}, W_2: {}, W_3: {}'.format(W_class0, W_class1, W_class2, W_class3))"
   ]
  },
  {
   "cell_type": "code",
   "execution_count": 14,
   "id": "9d477739",
   "metadata": {},
   "outputs": [
    {
     "name": "stdout",
     "output_type": "stream",
     "text": [
      "means: [14.23774228 14.23774228 14.23774228]\n",
      "stds: [34.22863447 34.22863447 34.22863447]\n"
     ]
    }
   ],
   "source": [
    "seed2_DEV479_val_means, seed2_DEV479_val_stds = get_means_and_std(seed2_DEV479_val)"
   ]
  },
  {
   "cell_type": "code",
   "execution_count": null,
   "id": "bc2bed5d",
   "metadata": {},
   "outputs": [],
   "source": []
  },
  {
   "cell_type": "markdown",
   "id": "27a437dc",
   "metadata": {},
   "source": [
    "### DEV165"
   ]
  },
  {
   "cell_type": "code",
   "execution_count": 15,
   "id": "39b373c8",
   "metadata": {},
   "outputs": [],
   "source": [
    "seed2_DEV165_dir = os.path.join(root_dir, 'data_seed2', 'DEV165')\n",
    "\n",
    "seed2_DEV165_train_path = os.path.join(seed2_DEV165_dir, 'train.npy')\n",
    "seed2_DEV165_val_path = os.path.join(seed2_DEV165_dir, 'val.npy')\n"
   ]
  },
  {
   "cell_type": "code",
   "execution_count": 16,
   "id": "6d2e3c4d",
   "metadata": {},
   "outputs": [],
   "source": [
    "seed2_DEV165_train = np.load(seed2_DEV165_train_path, allow_pickle=True)\n",
    "seed2_DEV165_val = np.load(seed2_DEV165_val_path, allow_pickle=True)\n"
   ]
  },
  {
   "cell_type": "markdown",
   "id": "8dd183b8",
   "metadata": {},
   "source": [
    "#### train"
   ]
  },
  {
   "cell_type": "code",
   "execution_count": 17,
   "id": "b880f086",
   "metadata": {},
   "outputs": [
    {
     "name": "stdout",
     "output_type": "stream",
     "text": [
      "images: (4570, 112, 112, 3)\n",
      "labels: (4570,)\n",
      "labels: {0, 1, 2, 3}\n",
      "0: 1791, 1: 659, 2: 1192, 3: 928\n",
      "W_0: 0.14, W_1: 0.38, W_2: 0.21, W_3: 0.27\n"
     ]
    }
   ],
   "source": [
    "print('images: {}'.format(seed2_DEV165_train['images'].shape))\n",
    "print('labels: {}'.format(seed2_DEV165_train['labels'].shape))\n",
    "print('labels: {}'.format(set(seed2_DEV165_train['labels'])))\n",
    "\n",
    "N_class0 = np.sum(seed2_DEV165_train['labels']==0)\n",
    "N_class1 = np.sum(seed2_DEV165_train['labels']==1)\n",
    "N_class2 = np.sum(seed2_DEV165_train['labels']==2)\n",
    "N_class3 = np.sum(seed2_DEV165_train['labels']==3)\n",
    "\n",
    "W_class0, W_class1, W_class2, W_class3 = calculate_loss_weights(N_class0, N_class1, N_class2, N_class3)\n",
    "\n",
    "print('0: {}, 1: {}, 2: {}, 3: {}'.format(N_class0, N_class1, N_class2, N_class3))\n",
    "print('W_0: {}, W_1: {}, W_2: {}, W_3: {}'.format(W_class0, W_class1, W_class2, W_class3))"
   ]
  },
  {
   "cell_type": "code",
   "execution_count": 18,
   "id": "9706308c",
   "metadata": {
    "scrolled": false
   },
   "outputs": [
    {
     "name": "stdout",
     "output_type": "stream",
     "text": [
      "means: [15.72297351 15.72297351 15.72297351]\n",
      "stds: [36.13432744 36.13432744 36.13432744]\n"
     ]
    }
   ],
   "source": [
    "seed2_DEV165_train_means, seed2_DEV165_train_stds = get_means_and_std(seed2_DEV165_train)"
   ]
  },
  {
   "cell_type": "markdown",
   "id": "f32730d9",
   "metadata": {},
   "source": [
    "#### val"
   ]
  },
  {
   "cell_type": "code",
   "execution_count": 19,
   "id": "e8ed0959",
   "metadata": {},
   "outputs": [
    {
     "name": "stdout",
     "output_type": "stream",
     "text": [
      "images: (722, 112, 112, 3)\n",
      "labels: (722,)\n",
      "labels: {0, 1, 2, 3}\n",
      "0: 323, 1: 134, 2: 159, 3: 106\n",
      "W_0: 0.118, W_1: 0.284, W_2: 0.239, W_3: 0.359\n"
     ]
    }
   ],
   "source": [
    "print('images: {}'.format(seed2_DEV165_val['images'].shape))\n",
    "print('labels: {}'.format(seed2_DEV165_val['labels'].shape))\n",
    "print('labels: {}'.format(set(seed2_DEV165_val['labels'])))\n",
    "\n",
    "N_class0 = np.sum(seed2_DEV165_val['labels']==0)\n",
    "N_class1 = np.sum(seed2_DEV165_val['labels']==1)\n",
    "N_class2 = np.sum(seed2_DEV165_val['labels']==2)\n",
    "N_class3 = np.sum(seed2_DEV165_val['labels']==3)\n",
    "\n",
    "W_class0, W_class1, W_class2, W_class3 = calculate_loss_weights(N_class0, N_class1, N_class2, N_class3)\n",
    "\n",
    "print('0: {}, 1: {}, 2: {}, 3: {}'.format(N_class0, N_class1, N_class2, N_class3))\n",
    "print('W_0: {}, W_1: {}, W_2: {}, W_3: {}'.format(W_class0, W_class1, W_class2, W_class3))"
   ]
  },
  {
   "cell_type": "code",
   "execution_count": 20,
   "id": "76039f53",
   "metadata": {},
   "outputs": [
    {
     "name": "stdout",
     "output_type": "stream",
     "text": [
      "means: [15.13610606 15.13610606 15.13610606]\n",
      "stds: [36.0052943 36.0052943 36.0052943]\n"
     ]
    }
   ],
   "source": [
    "seed2_DEV165_val_means, seed2_DEV165_val_stds = get_means_and_std(seed2_DEV165_val)"
   ]
  },
  {
   "cell_type": "code",
   "execution_count": null,
   "id": "5d9506e3",
   "metadata": {},
   "outputs": [],
   "source": []
  },
  {
   "cell_type": "code",
   "execution_count": null,
   "id": "43dde7a5",
   "metadata": {},
   "outputs": [],
   "source": []
  },
  {
   "cell_type": "markdown",
   "id": "5cabb45e",
   "metadata": {},
   "source": [
    "### DEV56"
   ]
  },
  {
   "cell_type": "code",
   "execution_count": 21,
   "id": "108b7304",
   "metadata": {},
   "outputs": [],
   "source": [
    "seed2_DEV56_dir = os.path.join(root_dir, 'data_seed2', 'DEV56')\n",
    "\n",
    "seed2_DEV56_train_path = os.path.join(seed2_DEV56_dir, 'train.npy')\n",
    "seed2_DEV56_val_path = os.path.join(seed2_DEV56_dir, 'val.npy')\n"
   ]
  },
  {
   "cell_type": "code",
   "execution_count": 22,
   "id": "24ee72ec",
   "metadata": {},
   "outputs": [],
   "source": [
    "seed2_DEV56_train = np.load(seed2_DEV56_train_path, allow_pickle=True)\n",
    "seed2_DEV56_val = np.load(seed2_DEV56_val_path, allow_pickle=True)\n"
   ]
  },
  {
   "cell_type": "markdown",
   "id": "6fc0f88b",
   "metadata": {},
   "source": [
    "#### train"
   ]
  },
  {
   "cell_type": "code",
   "execution_count": 23,
   "id": "403edb9e",
   "metadata": {},
   "outputs": [
    {
     "name": "stdout",
     "output_type": "stream",
     "text": [
      "images: (1427, 112, 112, 3)\n",
      "labels: (1427,)\n",
      "labels: {0, 1, 2, 3}\n",
      "0: 572, 1: 199, 2: 379, 3: 277\n",
      "W_0: 0.134, W_1: 0.386, W_2: 0.203, W_3: 0.277\n"
     ]
    }
   ],
   "source": [
    "print('images: {}'.format(seed2_DEV56_train['images'].shape))\n",
    "print('labels: {}'.format(seed2_DEV56_train['labels'].shape))\n",
    "print('labels: {}'.format(set(seed2_DEV56_train['labels'])))\n",
    "\n",
    "N_class0 = np.sum(seed2_DEV56_train['labels']==0)\n",
    "N_class1 = np.sum(seed2_DEV56_train['labels']==1)\n",
    "N_class2 = np.sum(seed2_DEV56_train['labels']==2)\n",
    "N_class3 = np.sum(seed2_DEV56_train['labels']==3)\n",
    "\n",
    "W_class0, W_class1, W_class2, W_class3 = calculate_loss_weights(N_class0, N_class1, N_class2, N_class3)\n",
    "\n",
    "print('0: {}, 1: {}, 2: {}, 3: {}'.format(N_class0, N_class1, N_class2, N_class3))\n",
    "print('W_0: {}, W_1: {}, W_2: {}, W_3: {}'.format(W_class0, W_class1, W_class2, W_class3))"
   ]
  },
  {
   "cell_type": "code",
   "execution_count": 24,
   "id": "2f931108",
   "metadata": {},
   "outputs": [
    {
     "name": "stdout",
     "output_type": "stream",
     "text": [
      "means: [15.86412286 15.86412286 15.86412286]\n",
      "stds: [35.66711662 35.66711662 35.66711662]\n"
     ]
    }
   ],
   "source": [
    "seed2_DEV56_train_means, seed2_DEV56_train_stds = get_means_and_std(seed2_DEV56_train)"
   ]
  },
  {
   "cell_type": "markdown",
   "id": "16f4b042",
   "metadata": {},
   "source": [
    "#### val"
   ]
  },
  {
   "cell_type": "code",
   "execution_count": 25,
   "id": "40d771d1",
   "metadata": {
    "scrolled": true
   },
   "outputs": [
    {
     "name": "stdout",
     "output_type": "stream",
     "text": [
      "images: (252, 112, 112, 3)\n",
      "labels: (252,)\n",
      "labels: {0, 1, 2, 3}\n",
      "0: 101, 1: 44, 2: 67, 3: 40\n",
      "W_0: 0.136, W_1: 0.313, W_2: 0.206, W_3: 0.345\n"
     ]
    }
   ],
   "source": [
    "print('images: {}'.format(seed2_DEV56_val['images'].shape))\n",
    "print('labels: {}'.format(seed2_DEV56_val['labels'].shape))\n",
    "print('labels: {}'.format(set(seed2_DEV56_val['labels'])))\n",
    "\n",
    "N_class0 = np.sum(seed2_DEV56_val['labels']==0)\n",
    "N_class1 = np.sum(seed2_DEV56_val['labels']==1)\n",
    "N_class2 = np.sum(seed2_DEV56_val['labels']==2)\n",
    "N_class3 = np.sum(seed2_DEV56_val['labels']==3)\n",
    "\n",
    "W_class0, W_class1, W_class2, W_class3 = calculate_loss_weights(N_class0, N_class1, N_class2, N_class3)\n",
    "\n",
    "print('0: {}, 1: {}, 2: {}, 3: {}'.format(N_class0, N_class1, N_class2, N_class3))\n",
    "print('W_0: {}, W_1: {}, W_2: {}, W_3: {}'.format(W_class0, W_class1, W_class2, W_class3))"
   ]
  },
  {
   "cell_type": "code",
   "execution_count": 26,
   "id": "f5e8278f",
   "metadata": {
    "scrolled": false
   },
   "outputs": [
    {
     "name": "stdout",
     "output_type": "stream",
     "text": [
      "means: [14.81873298 14.81873298 14.81873298]\n",
      "stds: [34.73380328 34.73380328 34.73380328]\n"
     ]
    }
   ],
   "source": [
    "seed2_DEV56_val_means, seed2_DEV56_val_stds = get_means_and_std(seed2_DEV56_val)"
   ]
  },
  {
   "cell_type": "code",
   "execution_count": null,
   "id": "c84c0e24",
   "metadata": {},
   "outputs": [],
   "source": []
  },
  {
   "cell_type": "code",
   "execution_count": null,
   "id": "f27a7fa9",
   "metadata": {},
   "outputs": [],
   "source": []
  }
 ],
 "metadata": {
  "kernelspec": {
   "display_name": "Python 3 (ipykernel)",
   "language": "python",
   "name": "python3"
  },
  "language_info": {
   "codemirror_mode": {
    "name": "ipython",
    "version": 3
   },
   "file_extension": ".py",
   "mimetype": "text/x-python",
   "name": "python",
   "nbconvert_exporter": "python",
   "pygments_lexer": "ipython3",
   "version": "3.8.13"
  }
 },
 "nbformat": 4,
 "nbformat_minor": 5
}
