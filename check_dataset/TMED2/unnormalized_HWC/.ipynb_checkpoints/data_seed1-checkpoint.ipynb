{
 "cells": [
  {
   "cell_type": "code",
   "execution_count": 1,
   "id": "5edea23d",
   "metadata": {},
   "outputs": [],
   "source": [
    "import numpy as np\n",
    "import os\n",
    "\n"
   ]
  },
  {
   "cell_type": "code",
   "execution_count": 2,
   "id": "f37db50c",
   "metadata": {},
   "outputs": [],
   "source": [
    "root_dir = '/cluster/tufts/hugheslab/zhuang12/SemiSelfEvaluationProject/ML_DATA/TMED2/unnormalized_HWC'\n"
   ]
  },
  {
   "cell_type": "code",
   "execution_count": 3,
   "id": "26ee2950",
   "metadata": {},
   "outputs": [],
   "source": [
    "def get_means_and_std(data):\n",
    "\n",
    "    means = np.zeros(3)\n",
    "    stds = np.zeros(3)\n",
    "\n",
    "    assert data['images'].shape[3] == 3 #data['images'] N, H, W, C\n",
    "    for image in data['images']:\n",
    "\n",
    "        for i in range(3):\n",
    "            means[i] += image[:,:,i].mean()\n",
    "            stds[i] += image[:,:,i].std()\n",
    "\n",
    "    means = means/len(data['images'])\n",
    "    stds = stds/len(data['images'])\n",
    "\n",
    "    print('means: {}'.format(means))\n",
    "    print('stds: {}'.format(stds))\n",
    "    \n",
    "    return means, stds"
   ]
  },
  {
   "cell_type": "code",
   "execution_count": 4,
   "id": "da971e11",
   "metadata": {},
   "outputs": [],
   "source": [
    "def calculate_loss_weights(N_class0, N_class1, N_class2, N_class3):\n",
    "    \n",
    "    product_without_N_class0 =  N_class1 * N_class2 * N_class3\n",
    "#     print(product_without_N_class0)\n",
    "    \n",
    "    product_without_N_class1 =  N_class0 * N_class2 * N_class3\n",
    "#     print(product_without_N_class1)\n",
    "    \n",
    "    product_without_N_class2 =  N_class0 * N_class1 * N_class3\n",
    "#     print(product_without_N_class2)\n",
    "    \n",
    "    product_without_N_class3 =  N_class0 * N_class1 * N_class2\n",
    "#     print(product_without_N_class3)\n",
    "    \n",
    "    \n",
    "    denominator = product_without_N_class0 + product_without_N_class1 + product_without_N_class2 + product_without_N_class3\n",
    "    \n",
    "    \n",
    "    W_class0 = round(product_without_N_class0 / denominator,3)\n",
    "    \n",
    "    W_class1 = round(product_without_N_class1 / denominator,3)\n",
    "    \n",
    "    W_class2 = round(product_without_N_class2 / denominator,3)\n",
    "\n",
    "    W_class3 = round(product_without_N_class3 / denominator,3)\n",
    "    \n",
    "   \n",
    "    \n",
    "    \n",
    "    return W_class0, W_class1, W_class2, W_class3"
   ]
  },
  {
   "cell_type": "code",
   "execution_count": null,
   "id": "39f2c6ea",
   "metadata": {},
   "outputs": [],
   "source": []
  },
  {
   "cell_type": "markdown",
   "id": "ed8129e3",
   "metadata": {},
   "source": [
    "## data_seed1"
   ]
  },
  {
   "cell_type": "markdown",
   "id": "afa952d9",
   "metadata": {},
   "source": [
    "### shared testset"
   ]
  },
  {
   "cell_type": "code",
   "execution_count": 5,
   "id": "52f13125",
   "metadata": {},
   "outputs": [],
   "source": [
    "seed1_test_path = os.path.join(root_dir, 'data_seed1', 'this_seed_shared_testset', 'test.npy')\n",
    "seed1_test = np.load(seed1_test_path, allow_pickle=True)\n"
   ]
  },
  {
   "cell_type": "code",
   "execution_count": 6,
   "id": "be015c9d",
   "metadata": {},
   "outputs": [
    {
     "data": {
      "text/plain": [
       "{'images': array([[[[1, 1, 1],\n",
       "          [0, 0, 0],\n",
       "          [0, 0, 0],\n",
       "          ...,\n",
       "          [0, 0, 0],\n",
       "          [0, 0, 0],\n",
       "          [0, 0, 0]],\n",
       " \n",
       "         [[0, 0, 0],\n",
       "          [0, 0, 0],\n",
       "          [0, 0, 0],\n",
       "          ...,\n",
       "          [0, 0, 0],\n",
       "          [0, 0, 0],\n",
       "          [0, 0, 0]],\n",
       " \n",
       "         [[0, 0, 0],\n",
       "          [0, 0, 0],\n",
       "          [0, 0, 0],\n",
       "          ...,\n",
       "          [1, 1, 1],\n",
       "          [0, 0, 0],\n",
       "          [0, 0, 0]],\n",
       " \n",
       "         ...,\n",
       " \n",
       "         [[0, 0, 0],\n",
       "          [0, 0, 0],\n",
       "          [0, 0, 0],\n",
       "          ...,\n",
       "          [0, 0, 0],\n",
       "          [0, 0, 0],\n",
       "          [0, 0, 0]],\n",
       " \n",
       "         [[0, 0, 0],\n",
       "          [0, 0, 0],\n",
       "          [0, 0, 0],\n",
       "          ...,\n",
       "          [0, 0, 0],\n",
       "          [0, 0, 0],\n",
       "          [0, 0, 0]],\n",
       " \n",
       "         [[0, 0, 0],\n",
       "          [0, 0, 0],\n",
       "          [0, 0, 0],\n",
       "          ...,\n",
       "          [0, 0, 0],\n",
       "          [0, 0, 0],\n",
       "          [0, 0, 0]]],\n",
       " \n",
       " \n",
       "        [[[1, 1, 1],\n",
       "          [0, 0, 0],\n",
       "          [0, 0, 0],\n",
       "          ...,\n",
       "          [0, 0, 0],\n",
       "          [0, 0, 0],\n",
       "          [0, 0, 0]],\n",
       " \n",
       "         [[0, 0, 0],\n",
       "          [0, 0, 0],\n",
       "          [0, 0, 0],\n",
       "          ...,\n",
       "          [0, 0, 0],\n",
       "          [0, 0, 0],\n",
       "          [0, 0, 0]],\n",
       " \n",
       "         [[0, 0, 0],\n",
       "          [0, 0, 0],\n",
       "          [0, 0, 0],\n",
       "          ...,\n",
       "          [1, 1, 1],\n",
       "          [0, 0, 0],\n",
       "          [0, 0, 0]],\n",
       " \n",
       "         ...,\n",
       " \n",
       "         [[0, 0, 0],\n",
       "          [0, 0, 0],\n",
       "          [0, 0, 0],\n",
       "          ...,\n",
       "          [0, 0, 0],\n",
       "          [0, 0, 0],\n",
       "          [0, 0, 0]],\n",
       " \n",
       "         [[0, 0, 0],\n",
       "          [0, 0, 0],\n",
       "          [0, 0, 0],\n",
       "          ...,\n",
       "          [0, 0, 0],\n",
       "          [0, 0, 0],\n",
       "          [0, 0, 0]],\n",
       " \n",
       "         [[0, 0, 0],\n",
       "          [0, 0, 0],\n",
       "          [0, 0, 0],\n",
       "          ...,\n",
       "          [0, 0, 0],\n",
       "          [0, 0, 0],\n",
       "          [0, 0, 0]]],\n",
       " \n",
       " \n",
       "        [[[1, 1, 1],\n",
       "          [0, 0, 0],\n",
       "          [0, 0, 0],\n",
       "          ...,\n",
       "          [0, 0, 0],\n",
       "          [0, 0, 0],\n",
       "          [0, 0, 0]],\n",
       " \n",
       "         [[0, 0, 0],\n",
       "          [0, 0, 0],\n",
       "          [0, 0, 0],\n",
       "          ...,\n",
       "          [0, 0, 0],\n",
       "          [0, 0, 0],\n",
       "          [0, 0, 0]],\n",
       " \n",
       "         [[0, 0, 0],\n",
       "          [0, 0, 0],\n",
       "          [0, 0, 0],\n",
       "          ...,\n",
       "          [1, 1, 1],\n",
       "          [0, 0, 0],\n",
       "          [0, 0, 0]],\n",
       " \n",
       "         ...,\n",
       " \n",
       "         [[0, 0, 0],\n",
       "          [0, 0, 0],\n",
       "          [0, 0, 0],\n",
       "          ...,\n",
       "          [0, 0, 0],\n",
       "          [0, 0, 0],\n",
       "          [0, 0, 0]],\n",
       " \n",
       "         [[0, 0, 0],\n",
       "          [0, 0, 0],\n",
       "          [0, 0, 0],\n",
       "          ...,\n",
       "          [0, 0, 0],\n",
       "          [0, 0, 0],\n",
       "          [0, 0, 0]],\n",
       " \n",
       "         [[0, 0, 0],\n",
       "          [0, 0, 0],\n",
       "          [0, 0, 0],\n",
       "          ...,\n",
       "          [0, 0, 0],\n",
       "          [0, 0, 0],\n",
       "          [0, 0, 0]]],\n",
       " \n",
       " \n",
       "        ...,\n",
       " \n",
       " \n",
       "        [[[1, 1, 1],\n",
       "          [0, 0, 0],\n",
       "          [0, 0, 0],\n",
       "          ...,\n",
       "          [0, 0, 0],\n",
       "          [0, 0, 0],\n",
       "          [0, 0, 0]],\n",
       " \n",
       "         [[0, 0, 0],\n",
       "          [0, 0, 0],\n",
       "          [0, 0, 0],\n",
       "          ...,\n",
       "          [0, 0, 0],\n",
       "          [0, 0, 0],\n",
       "          [0, 0, 0]],\n",
       " \n",
       "         [[0, 0, 0],\n",
       "          [0, 0, 0],\n",
       "          [0, 0, 0],\n",
       "          ...,\n",
       "          [1, 1, 1],\n",
       "          [0, 0, 0],\n",
       "          [0, 0, 0]],\n",
       " \n",
       "         ...,\n",
       " \n",
       "         [[0, 0, 0],\n",
       "          [0, 0, 0],\n",
       "          [0, 0, 0],\n",
       "          ...,\n",
       "          [0, 0, 0],\n",
       "          [0, 0, 0],\n",
       "          [0, 0, 0]],\n",
       " \n",
       "         [[0, 0, 0],\n",
       "          [0, 0, 0],\n",
       "          [0, 0, 0],\n",
       "          ...,\n",
       "          [0, 0, 0],\n",
       "          [0, 0, 0],\n",
       "          [0, 0, 0]],\n",
       " \n",
       "         [[0, 0, 0],\n",
       "          [0, 0, 0],\n",
       "          [0, 0, 0],\n",
       "          ...,\n",
       "          [0, 0, 0],\n",
       "          [0, 0, 0],\n",
       "          [0, 0, 0]]],\n",
       " \n",
       " \n",
       "        [[[1, 1, 1],\n",
       "          [0, 0, 0],\n",
       "          [0, 0, 0],\n",
       "          ...,\n",
       "          [0, 0, 0],\n",
       "          [0, 0, 0],\n",
       "          [0, 0, 0]],\n",
       " \n",
       "         [[0, 0, 0],\n",
       "          [0, 0, 0],\n",
       "          [0, 0, 0],\n",
       "          ...,\n",
       "          [0, 0, 0],\n",
       "          [0, 0, 0],\n",
       "          [0, 0, 0]],\n",
       " \n",
       "         [[0, 0, 0],\n",
       "          [0, 0, 0],\n",
       "          [0, 0, 0],\n",
       "          ...,\n",
       "          [1, 1, 1],\n",
       "          [0, 0, 0],\n",
       "          [0, 0, 0]],\n",
       " \n",
       "         ...,\n",
       " \n",
       "         [[0, 0, 0],\n",
       "          [0, 0, 0],\n",
       "          [0, 0, 0],\n",
       "          ...,\n",
       "          [0, 0, 0],\n",
       "          [0, 0, 0],\n",
       "          [0, 0, 0]],\n",
       " \n",
       "         [[0, 0, 0],\n",
       "          [0, 0, 0],\n",
       "          [0, 0, 0],\n",
       "          ...,\n",
       "          [0, 0, 0],\n",
       "          [0, 0, 0],\n",
       "          [0, 0, 0]],\n",
       " \n",
       "         [[0, 0, 0],\n",
       "          [0, 0, 0],\n",
       "          [0, 0, 0],\n",
       "          ...,\n",
       "          [0, 0, 0],\n",
       "          [0, 0, 0],\n",
       "          [0, 0, 0]]],\n",
       " \n",
       " \n",
       "        [[[1, 1, 1],\n",
       "          [0, 0, 0],\n",
       "          [0, 0, 0],\n",
       "          ...,\n",
       "          [0, 0, 0],\n",
       "          [0, 0, 0],\n",
       "          [0, 0, 0]],\n",
       " \n",
       "         [[0, 0, 0],\n",
       "          [0, 0, 0],\n",
       "          [0, 0, 0],\n",
       "          ...,\n",
       "          [0, 0, 0],\n",
       "          [0, 0, 0],\n",
       "          [0, 0, 0]],\n",
       " \n",
       "         [[0, 0, 0],\n",
       "          [0, 0, 0],\n",
       "          [0, 0, 0],\n",
       "          ...,\n",
       "          [1, 1, 1],\n",
       "          [0, 0, 0],\n",
       "          [0, 0, 0]],\n",
       " \n",
       "         ...,\n",
       " \n",
       "         [[0, 0, 0],\n",
       "          [0, 0, 0],\n",
       "          [0, 0, 0],\n",
       "          ...,\n",
       "          [0, 0, 0],\n",
       "          [0, 0, 0],\n",
       "          [0, 0, 0]],\n",
       " \n",
       "         [[0, 0, 0],\n",
       "          [0, 0, 0],\n",
       "          [0, 0, 0],\n",
       "          ...,\n",
       "          [0, 0, 0],\n",
       "          [0, 0, 0],\n",
       "          [0, 0, 0]],\n",
       " \n",
       "         [[0, 0, 0],\n",
       "          [0, 0, 0],\n",
       "          [0, 0, 0],\n",
       "          ...,\n",
       "          [0, 0, 0],\n",
       "          [0, 0, 0],\n",
       "          [0, 0, 0]]]], dtype=uint8),\n",
       " 'labels': array([0, 0, 1, ..., 1, 1, 1])}"
      ]
     },
     "execution_count": 6,
     "metadata": {},
     "output_type": "execute_result"
    }
   ],
   "source": [
    "seed1_test"
   ]
  },
  {
   "cell_type": "code",
   "execution_count": 7,
   "id": "4a79b96b",
   "metadata": {},
   "outputs": [
    {
     "name": "stdout",
     "output_type": "stream",
     "text": [
      "images: (2019, 112, 112, 3)\n",
      "labels: (2019,)\n",
      "labels: {0, 1, 2, 3}\n",
      "0: 935, 1: 342, 2: 423, 3: 319\n",
      "W_0: 0.113, W_1: 0.308, W_2: 0.249, W_3: 0.33\n"
     ]
    }
   ],
   "source": [
    "print('images: {}'.format(seed1_test['images'].shape))\n",
    "print('labels: {}'.format(seed1_test['labels'].shape))\n",
    "print('labels: {}'.format(set(seed1_test['labels'])))\n",
    "\n",
    "N_class0 = np.sum(seed1_test['labels']==0)\n",
    "N_class1 = np.sum(seed1_test['labels']==1)\n",
    "N_class2 = np.sum(seed1_test['labels']==2)\n",
    "N_class3 = np.sum(seed1_test['labels']==3)\n",
    "\n",
    "W_class0, W_class1, W_class2, W_class3 = calculate_loss_weights(N_class0, N_class1, N_class2, N_class3)\n",
    "\n",
    "print('0: {}, 1: {}, 2: {}, 3: {}'.format(N_class0, N_class1, N_class2, N_class3))\n",
    "print('W_0: {}, W_1: {}, W_2: {}, W_3: {}'.format(W_class0, W_class1, W_class2, W_class3))"
   ]
  },
  {
   "cell_type": "code",
   "execution_count": 8,
   "id": "6f8db8a9",
   "metadata": {},
   "outputs": [
    {
     "name": "stdout",
     "output_type": "stream",
     "text": [
      "means: [14.49554203 14.49554203 14.49554203]\n",
      "stds: [34.31799876 34.31799876 34.31799876]\n"
     ]
    }
   ],
   "source": [
    "seed1_test_means, seed1_test_stds = get_means_and_std(seed1_test)"
   ]
  },
  {
   "cell_type": "code",
   "execution_count": null,
   "id": "3aebf49e",
   "metadata": {},
   "outputs": [],
   "source": []
  },
  {
   "cell_type": "markdown",
   "id": "f132b1d0",
   "metadata": {},
   "source": [
    "### DEV479"
   ]
  },
  {
   "cell_type": "code",
   "execution_count": 9,
   "id": "7643c396",
   "metadata": {},
   "outputs": [],
   "source": [
    "seed1_DEV479_dir = os.path.join(root_dir, 'data_seed1', 'DEV479')\n",
    "\n",
    "seed1_DEV479_train_path = os.path.join(seed1_DEV479_dir, 'train.npy')\n",
    "seed1_DEV479_val_path = os.path.join(seed1_DEV479_dir, 'val.npy')\n"
   ]
  },
  {
   "cell_type": "code",
   "execution_count": 10,
   "id": "4dfbb53f",
   "metadata": {},
   "outputs": [],
   "source": [
    "seed1_DEV479_train = np.load(seed1_DEV479_train_path, allow_pickle=True)\n",
    "seed1_DEV479_val = np.load(seed1_DEV479_val_path, allow_pickle=True)\n"
   ]
  },
  {
   "cell_type": "markdown",
   "id": "d1d4a874",
   "metadata": {},
   "source": [
    "#### train"
   ]
  },
  {
   "cell_type": "code",
   "execution_count": 11,
   "id": "441e85e3",
   "metadata": {},
   "outputs": [
    {
     "name": "stdout",
     "output_type": "stream",
     "text": [
      "images: (13990, 112, 112, 3)\n",
      "labels: (13990,)\n",
      "labels: {0, 1, 2, 3}\n",
      "0: 5451, 1: 2015, 2: 3725, 3: 2799\n",
      "W_0: 0.141, W_1: 0.38, W_2: 0.206, W_3: 0.274\n"
     ]
    }
   ],
   "source": [
    "print('images: {}'.format(seed1_DEV479_train['images'].shape))\n",
    "print('labels: {}'.format(seed1_DEV479_train['labels'].shape))\n",
    "print('labels: {}'.format(set(seed1_DEV479_train['labels'])))\n",
    "\n",
    "N_class0 = np.sum(seed1_DEV479_train['labels']==0)\n",
    "N_class1 = np.sum(seed1_DEV479_train['labels']==1)\n",
    "N_class2 = np.sum(seed1_DEV479_train['labels']==2)\n",
    "N_class3 = np.sum(seed1_DEV479_train['labels']==3)\n",
    "\n",
    "W_class0, W_class1, W_class2, W_class3 = calculate_loss_weights(N_class0, N_class1, N_class2, N_class3)\n",
    "\n",
    "print('0: {}, 1: {}, 2: {}, 3: {}'.format(N_class0, N_class1, N_class2, N_class3))\n",
    "print('W_0: {}, W_1: {}, W_2: {}, W_3: {}'.format(W_class0, W_class1, W_class2, W_class3))"
   ]
  },
  {
   "cell_type": "code",
   "execution_count": 12,
   "id": "94639f85",
   "metadata": {},
   "outputs": [
    {
     "name": "stdout",
     "output_type": "stream",
     "text": [
      "means: [15.67791603 15.67791603 15.67791603]\n",
      "stds: [36.03996896 36.03996896 36.03996896]\n"
     ]
    }
   ],
   "source": [
    "seed1_DEV479_train_means, seed1_DEV479_train_stds = get_means_and_std(seed1_DEV479_train)"
   ]
  },
  {
   "cell_type": "markdown",
   "id": "cb7d0903",
   "metadata": {},
   "source": [
    "#### val"
   ]
  },
  {
   "cell_type": "code",
   "execution_count": 13,
   "id": "3dd7bca4",
   "metadata": {},
   "outputs": [
    {
     "name": "stdout",
     "output_type": "stream",
     "text": [
      "images: (2094, 112, 112, 3)\n",
      "labels: (2094,)\n",
      "labels: {0, 1, 2, 3}\n",
      "0: 986, 1: 373, 2: 417, 3: 318\n",
      "W_0: 0.11, W_1: 0.29, W_2: 0.26, W_3: 0.34\n"
     ]
    }
   ],
   "source": [
    "print('images: {}'.format(seed1_DEV479_val['images'].shape))\n",
    "print('labels: {}'.format(seed1_DEV479_val['labels'].shape))\n",
    "print('labels: {}'.format(set(seed1_DEV479_val['labels'])))\n",
    "\n",
    "N_class0 = np.sum(seed1_DEV479_val['labels']==0)\n",
    "N_class1 = np.sum(seed1_DEV479_val['labels']==1)\n",
    "N_class2 = np.sum(seed1_DEV479_val['labels']==2)\n",
    "N_class3 = np.sum(seed1_DEV479_val['labels']==3)\n",
    "\n",
    "W_class0, W_class1, W_class2, W_class3 = calculate_loss_weights(N_class0, N_class1, N_class2, N_class3)\n",
    "\n",
    "print('0: {}, 1: {}, 2: {}, 3: {}'.format(N_class0, N_class1, N_class2, N_class3))\n",
    "print('W_0: {}, W_1: {}, W_2: {}, W_3: {}'.format(W_class0, W_class1, W_class2, W_class3))"
   ]
  },
  {
   "cell_type": "code",
   "execution_count": 14,
   "id": "c1684893",
   "metadata": {},
   "outputs": [
    {
     "name": "stdout",
     "output_type": "stream",
     "text": [
      "means: [13.97697077 13.97697077 13.97697077]\n",
      "stds: [33.45570011 33.45570011 33.45570011]\n"
     ]
    }
   ],
   "source": [
    "seed1_DEV479_val_means, seed1_DEV479_val_stds = get_means_and_std(seed1_DEV479_val)"
   ]
  },
  {
   "cell_type": "code",
   "execution_count": null,
   "id": "25fffdde",
   "metadata": {},
   "outputs": [],
   "source": []
  },
  {
   "cell_type": "markdown",
   "id": "f65202d6",
   "metadata": {},
   "source": [
    "### DEV165"
   ]
  },
  {
   "cell_type": "code",
   "execution_count": 15,
   "id": "e69cd3be",
   "metadata": {},
   "outputs": [],
   "source": [
    "seed1_DEV165_dir = os.path.join(root_dir, 'data_seed1', 'DEV165')\n",
    "\n",
    "seed1_DEV165_train_path = os.path.join(seed1_DEV165_dir, 'train.npy')\n",
    "seed1_DEV165_val_path = os.path.join(seed1_DEV165_dir, 'val.npy')\n"
   ]
  },
  {
   "cell_type": "code",
   "execution_count": 16,
   "id": "b17481be",
   "metadata": {},
   "outputs": [],
   "source": [
    "seed1_DEV165_train = np.load(seed1_DEV165_train_path, allow_pickle=True)\n",
    "seed1_DEV165_val = np.load(seed1_DEV165_val_path, allow_pickle=True)\n"
   ]
  },
  {
   "cell_type": "markdown",
   "id": "2d0d97ea",
   "metadata": {},
   "source": [
    "#### train"
   ]
  },
  {
   "cell_type": "code",
   "execution_count": 17,
   "id": "84bcef2e",
   "metadata": {},
   "outputs": [
    {
     "name": "stdout",
     "output_type": "stream",
     "text": [
      "images: (4975, 112, 112, 3)\n",
      "labels: (4975,)\n",
      "labels: {0, 1, 2, 3}\n",
      "0: 1959, 1: 717, 2: 1326, 3: 973\n",
      "W_0: 0.138, W_1: 0.378, W_2: 0.205, W_3: 0.279\n"
     ]
    }
   ],
   "source": [
    "print('images: {}'.format(seed1_DEV165_train['images'].shape))\n",
    "print('labels: {}'.format(seed1_DEV165_train['labels'].shape))\n",
    "print('labels: {}'.format(set(seed1_DEV165_train['labels'])))\n",
    "\n",
    "N_class0 = np.sum(seed1_DEV165_train['labels']==0)\n",
    "N_class1 = np.sum(seed1_DEV165_train['labels']==1)\n",
    "N_class2 = np.sum(seed1_DEV165_train['labels']==2)\n",
    "N_class3 = np.sum(seed1_DEV165_train['labels']==3)\n",
    "\n",
    "W_class0, W_class1, W_class2, W_class3 = calculate_loss_weights(N_class0, N_class1, N_class2, N_class3)\n",
    "\n",
    "print('0: {}, 1: {}, 2: {}, 3: {}'.format(N_class0, N_class1, N_class2, N_class3))\n",
    "print('W_0: {}, W_1: {}, W_2: {}, W_3: {}'.format(W_class0, W_class1, W_class2, W_class3))"
   ]
  },
  {
   "cell_type": "code",
   "execution_count": 18,
   "id": "04939f32",
   "metadata": {
    "scrolled": true
   },
   "outputs": [
    {
     "name": "stdout",
     "output_type": "stream",
     "text": [
      "means: [15.79739967 15.79739967 15.79739967]\n",
      "stds: [36.06941314 36.06941314 36.06941314]\n"
     ]
    }
   ],
   "source": [
    "seed1_DEV165_train_means, seed1_DEV165_train_stds = get_means_and_std(seed1_DEV165_train)"
   ]
  },
  {
   "cell_type": "markdown",
   "id": "85d50340",
   "metadata": {},
   "source": [
    "#### val"
   ]
  },
  {
   "cell_type": "code",
   "execution_count": 19,
   "id": "9b13ed3e",
   "metadata": {},
   "outputs": [
    {
     "name": "stdout",
     "output_type": "stream",
     "text": [
      "images: (696, 112, 112, 3)\n",
      "labels: (696,)\n",
      "labels: {0, 1, 2, 3}\n",
      "0: 324, 1: 133, 2: 140, 3: 99\n",
      "W_0: 0.111, W_1: 0.27, W_2: 0.256, W_3: 0.363\n"
     ]
    }
   ],
   "source": [
    "print('images: {}'.format(seed1_DEV165_val['images'].shape))\n",
    "print('labels: {}'.format(seed1_DEV165_val['labels'].shape))\n",
    "print('labels: {}'.format(set(seed1_DEV165_val['labels'])))\n",
    "\n",
    "N_class0 = np.sum(seed1_DEV165_val['labels']==0)\n",
    "N_class1 = np.sum(seed1_DEV165_val['labels']==1)\n",
    "N_class2 = np.sum(seed1_DEV165_val['labels']==2)\n",
    "N_class3 = np.sum(seed1_DEV165_val['labels']==3)\n",
    "\n",
    "W_class0, W_class1, W_class2, W_class3 = calculate_loss_weights(N_class0, N_class1, N_class2, N_class3)\n",
    "\n",
    "print('0: {}, 1: {}, 2: {}, 3: {}'.format(N_class0, N_class1, N_class2, N_class3))\n",
    "print('W_0: {}, W_1: {}, W_2: {}, W_3: {}'.format(W_class0, W_class1, W_class2, W_class3))"
   ]
  },
  {
   "cell_type": "code",
   "execution_count": 20,
   "id": "509b0254",
   "metadata": {},
   "outputs": [
    {
     "name": "stdout",
     "output_type": "stream",
     "text": [
      "means: [14.27225534 14.27225534 14.27225534]\n",
      "stds: [33.92431975 33.92431975 33.92431975]\n"
     ]
    }
   ],
   "source": [
    "seed1_DEV165_val_means, seed1_DEV165_val_stds = get_means_and_std(seed1_DEV165_val)"
   ]
  },
  {
   "cell_type": "code",
   "execution_count": null,
   "id": "1b17e85e",
   "metadata": {},
   "outputs": [],
   "source": []
  },
  {
   "cell_type": "code",
   "execution_count": null,
   "id": "b41d2b9c",
   "metadata": {},
   "outputs": [],
   "source": []
  },
  {
   "cell_type": "markdown",
   "id": "3c099861",
   "metadata": {},
   "source": [
    "### DEV56"
   ]
  },
  {
   "cell_type": "code",
   "execution_count": 21,
   "id": "0b0c4302",
   "metadata": {},
   "outputs": [],
   "source": [
    "seed1_DEV56_dir = os.path.join(root_dir, 'data_seed1', 'DEV56')\n",
    "\n",
    "seed1_DEV56_train_path = os.path.join(seed1_DEV56_dir, 'train.npy')\n",
    "seed1_DEV56_val_path = os.path.join(seed1_DEV56_dir, 'val.npy')\n"
   ]
  },
  {
   "cell_type": "code",
   "execution_count": 22,
   "id": "692363f4",
   "metadata": {},
   "outputs": [],
   "source": [
    "seed1_DEV56_train = np.load(seed1_DEV56_train_path, allow_pickle=True)\n",
    "seed1_DEV56_val = np.load(seed1_DEV56_val_path, allow_pickle=True)\n"
   ]
  },
  {
   "cell_type": "markdown",
   "id": "41275886",
   "metadata": {},
   "source": [
    "#### train"
   ]
  },
  {
   "cell_type": "code",
   "execution_count": 23,
   "id": "a0cc4903",
   "metadata": {},
   "outputs": [
    {
     "name": "stdout",
     "output_type": "stream",
     "text": [
      "images: (1660, 112, 112, 3)\n",
      "labels: (1660,)\n",
      "labels: {0, 1, 2, 3}\n",
      "0: 650, 1: 223, 2: 462, 3: 325\n",
      "W_0: 0.137, W_1: 0.398, W_2: 0.192, W_3: 0.273\n"
     ]
    }
   ],
   "source": [
    "print('images: {}'.format(seed1_DEV56_train['images'].shape))\n",
    "print('labels: {}'.format(seed1_DEV56_train['labels'].shape))\n",
    "print('labels: {}'.format(set(seed1_DEV56_train['labels'])))\n",
    "\n",
    "N_class0 = np.sum(seed1_DEV56_train['labels']==0)\n",
    "N_class1 = np.sum(seed1_DEV56_train['labels']==1)\n",
    "N_class2 = np.sum(seed1_DEV56_train['labels']==2)\n",
    "N_class3 = np.sum(seed1_DEV56_train['labels']==3)\n",
    "\n",
    "W_class0, W_class1, W_class2, W_class3 = calculate_loss_weights(N_class0, N_class1, N_class2, N_class3)\n",
    "\n",
    "print('0: {}, 1: {}, 2: {}, 3: {}'.format(N_class0, N_class1, N_class2, N_class3))\n",
    "print('W_0: {}, W_1: {}, W_2: {}, W_3: {}'.format(W_class0, W_class1, W_class2, W_class3))"
   ]
  },
  {
   "cell_type": "code",
   "execution_count": 24,
   "id": "c3048b0a",
   "metadata": {},
   "outputs": [
    {
     "name": "stdout",
     "output_type": "stream",
     "text": [
      "means: [16.21166064 16.21166064 16.21166064]\n",
      "stds: [36.3642727 36.3642727 36.3642727]\n"
     ]
    }
   ],
   "source": [
    "seed1_DEV56_train_means, seed1_DEV56_train_stds = get_means_and_std(seed1_DEV56_train)"
   ]
  },
  {
   "cell_type": "markdown",
   "id": "ee7c104b",
   "metadata": {},
   "source": [
    "#### val"
   ]
  },
  {
   "cell_type": "code",
   "execution_count": 25,
   "id": "6e3d7201",
   "metadata": {
    "scrolled": true
   },
   "outputs": [
    {
     "name": "stdout",
     "output_type": "stream",
     "text": [
      "images: (235, 112, 112, 3)\n",
      "labels: (235,)\n",
      "labels: {0, 1, 2, 3}\n",
      "0: 118, 1: 50, 2: 39, 3: 28\n",
      "W_0: 0.094, W_1: 0.223, W_2: 0.285, W_3: 0.398\n"
     ]
    }
   ],
   "source": [
    "print('images: {}'.format(seed1_DEV56_val['images'].shape))\n",
    "print('labels: {}'.format(seed1_DEV56_val['labels'].shape))\n",
    "print('labels: {}'.format(set(seed1_DEV56_val['labels'])))\n",
    "\n",
    "N_class0 = np.sum(seed1_DEV56_val['labels']==0)\n",
    "N_class1 = np.sum(seed1_DEV56_val['labels']==1)\n",
    "N_class2 = np.sum(seed1_DEV56_val['labels']==2)\n",
    "N_class3 = np.sum(seed1_DEV56_val['labels']==3)\n",
    "\n",
    "W_class0, W_class1, W_class2, W_class3 = calculate_loss_weights(N_class0, N_class1, N_class2, N_class3)\n",
    "\n",
    "print('0: {}, 1: {}, 2: {}, 3: {}'.format(N_class0, N_class1, N_class2, N_class3))\n",
    "print('W_0: {}, W_1: {}, W_2: {}, W_3: {}'.format(W_class0, W_class1, W_class2, W_class3))"
   ]
  },
  {
   "cell_type": "code",
   "execution_count": 26,
   "id": "e3034b28",
   "metadata": {
    "scrolled": true
   },
   "outputs": [
    {
     "name": "stdout",
     "output_type": "stream",
     "text": [
      "means: [14.03911949 14.03911949 14.03911949]\n",
      "stds: [34.12439508 34.12439508 34.12439508]\n"
     ]
    }
   ],
   "source": [
    "seed1_DEV56_val_means, seed1_DEV56_val_stds = get_means_and_std(seed1_DEV56_val)"
   ]
  },
  {
   "cell_type": "code",
   "execution_count": null,
   "id": "e048a386",
   "metadata": {},
   "outputs": [],
   "source": []
  },
  {
   "cell_type": "code",
   "execution_count": null,
   "id": "b0df7f3f",
   "metadata": {},
   "outputs": [],
   "source": []
  }
 ],
 "metadata": {
  "kernelspec": {
   "display_name": "Python 3 (ipykernel)",
   "language": "python",
   "name": "python3"
  },
  "language_info": {
   "codemirror_mode": {
    "name": "ipython",
    "version": 3
   },
   "file_extension": ".py",
   "mimetype": "text/x-python",
   "name": "python",
   "nbconvert_exporter": "python",
   "pygments_lexer": "ipython3",
   "version": "3.8.13"
  }
 },
 "nbformat": 4,
 "nbformat_minor": 5
}
