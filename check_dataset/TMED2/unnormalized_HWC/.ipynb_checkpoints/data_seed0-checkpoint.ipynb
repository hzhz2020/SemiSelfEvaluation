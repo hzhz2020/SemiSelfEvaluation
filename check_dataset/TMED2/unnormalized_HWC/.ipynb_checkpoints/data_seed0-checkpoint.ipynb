{
 "cells": [
  {
   "cell_type": "code",
   "execution_count": 1,
   "id": "010310b9",
   "metadata": {},
   "outputs": [],
   "source": [
    "import numpy as np\n",
    "import os\n",
    "\n"
   ]
  },
  {
   "cell_type": "code",
   "execution_count": 2,
   "id": "f862502f",
   "metadata": {},
   "outputs": [],
   "source": [
    "root_dir = '/cluster/tufts/hugheslab/zhuang12/SemiSelfEvaluationProject/SemiSelfEvaluation/ML_DATA/TMED2/unnormalized_HWC'\n"
   ]
  },
  {
   "cell_type": "code",
   "execution_count": 3,
   "id": "12ca249f",
   "metadata": {},
   "outputs": [],
   "source": [
    "def get_means_and_std(data):\n",
    "\n",
    "    means = np.zeros(3)\n",
    "    stds = np.zeros(3)\n",
    "\n",
    "    assert data['images'].shape[3] == 3 #data['images'] N, H, W, C\n",
    "    for image in data['images']:\n",
    "\n",
    "        for i in range(3):\n",
    "            means[i] += image[:,:,i].mean()\n",
    "            stds[i] += image[:,:,i].std()\n",
    "\n",
    "    means = means/len(data['images'])\n",
    "    stds = stds/len(data['images'])\n",
    "\n",
    "    print('means: {}'.format(means))\n",
    "    print('stds: {}'.format(stds))\n",
    "    \n",
    "    return means, stds"
   ]
  },
  {
   "cell_type": "code",
   "execution_count": 19,
   "id": "3065f6fa",
   "metadata": {},
   "outputs": [],
   "source": [
    "def calculate_loss_weights(N_class0, N_class1, N_class2, N_class3):\n",
    "    \n",
    "    product_without_N_class0 =  N_class1 * N_class2 * N_class3\n",
    "#     print(product_without_N_class0)\n",
    "    \n",
    "    product_without_N_class1 =  N_class0 * N_class2 * N_class3\n",
    "#     print(product_without_N_class1)\n",
    "    \n",
    "    product_without_N_class2 =  N_class0 * N_class1 * N_class3\n",
    "#     print(product_without_N_class2)\n",
    "    \n",
    "    product_without_N_class3 =  N_class0 * N_class1 * N_class2\n",
    "#     print(product_without_N_class3)\n",
    "    \n",
    "    \n",
    "    denominator = product_without_N_class0 + product_without_N_class1 + product_without_N_class2 + product_without_N_class3\n",
    "    \n",
    "    \n",
    "    W_class0 = round(product_without_N_class0 / denominator,3)\n",
    "    \n",
    "    W_class1 = round(product_without_N_class1 / denominator,3)\n",
    "    \n",
    "    W_class2 = round(product_without_N_class2 / denominator,3)\n",
    "\n",
    "    W_class3 = round(product_without_N_class3 / denominator,3)\n",
    "    \n",
    "   \n",
    "    \n",
    "    \n",
    "    return W_class0, W_class1, W_class2, W_class3"
   ]
  },
  {
   "cell_type": "code",
   "execution_count": null,
   "id": "13252713",
   "metadata": {},
   "outputs": [],
   "source": []
  },
  {
   "cell_type": "markdown",
   "id": "4c30d9fa",
   "metadata": {},
   "source": [
    "## data_seed0"
   ]
  },
  {
   "cell_type": "markdown",
   "id": "17679f04",
   "metadata": {},
   "source": [
    "### shared testset"
   ]
  },
  {
   "cell_type": "code",
   "execution_count": 8,
   "id": "5f6f0adf",
   "metadata": {},
   "outputs": [],
   "source": [
    "seed0_test_path = os.path.join(root_dir, 'data_seed0', 'this_seed_shared_testset', 'test.npy')\n",
    "seed0_test = np.load(seed0_test_path, allow_pickle=True)\n"
   ]
  },
  {
   "cell_type": "code",
   "execution_count": 9,
   "id": "38b1f64a",
   "metadata": {},
   "outputs": [
    {
     "data": {
      "text/plain": [
       "{'images': array([[[[0, 0, 0],\n",
       "          [1, 1, 1],\n",
       "          [1, 1, 1],\n",
       "          ...,\n",
       "          [0, 0, 0],\n",
       "          [0, 0, 0],\n",
       "          [0, 0, 0]],\n",
       " \n",
       "         [[0, 0, 0],\n",
       "          [0, 0, 0],\n",
       "          [0, 0, 0],\n",
       "          ...,\n",
       "          [0, 0, 0],\n",
       "          [0, 0, 0],\n",
       "          [0, 0, 0]],\n",
       " \n",
       "         [[0, 0, 0],\n",
       "          [0, 0, 0],\n",
       "          [0, 0, 0],\n",
       "          ...,\n",
       "          [1, 1, 1],\n",
       "          [0, 0, 0],\n",
       "          [0, 0, 0]],\n",
       " \n",
       "         ...,\n",
       " \n",
       "         [[0, 0, 0],\n",
       "          [0, 0, 0],\n",
       "          [0, 0, 0],\n",
       "          ...,\n",
       "          [0, 0, 0],\n",
       "          [0, 0, 0],\n",
       "          [0, 0, 0]],\n",
       " \n",
       "         [[0, 0, 0],\n",
       "          [0, 0, 0],\n",
       "          [0, 0, 0],\n",
       "          ...,\n",
       "          [0, 0, 0],\n",
       "          [0, 0, 0],\n",
       "          [0, 0, 0]],\n",
       " \n",
       "         [[0, 0, 0],\n",
       "          [0, 0, 0],\n",
       "          [0, 0, 0],\n",
       "          ...,\n",
       "          [0, 0, 0],\n",
       "          [0, 0, 0],\n",
       "          [0, 0, 0]]],\n",
       " \n",
       " \n",
       "        [[[0, 0, 0],\n",
       "          [1, 1, 1],\n",
       "          [1, 1, 1],\n",
       "          ...,\n",
       "          [0, 0, 0],\n",
       "          [0, 0, 0],\n",
       "          [0, 0, 0]],\n",
       " \n",
       "         [[0, 0, 0],\n",
       "          [0, 0, 0],\n",
       "          [0, 0, 0],\n",
       "          ...,\n",
       "          [0, 0, 0],\n",
       "          [0, 0, 0],\n",
       "          [0, 0, 0]],\n",
       " \n",
       "         [[0, 0, 0],\n",
       "          [0, 0, 0],\n",
       "          [0, 0, 0],\n",
       "          ...,\n",
       "          [1, 1, 1],\n",
       "          [0, 0, 0],\n",
       "          [0, 0, 0]],\n",
       " \n",
       "         ...,\n",
       " \n",
       "         [[0, 0, 0],\n",
       "          [0, 0, 0],\n",
       "          [0, 0, 0],\n",
       "          ...,\n",
       "          [0, 0, 0],\n",
       "          [0, 0, 0],\n",
       "          [0, 0, 0]],\n",
       " \n",
       "         [[0, 0, 0],\n",
       "          [0, 0, 0],\n",
       "          [0, 0, 0],\n",
       "          ...,\n",
       "          [0, 0, 0],\n",
       "          [0, 0, 0],\n",
       "          [0, 0, 0]],\n",
       " \n",
       "         [[0, 0, 0],\n",
       "          [0, 0, 0],\n",
       "          [0, 0, 0],\n",
       "          ...,\n",
       "          [0, 0, 0],\n",
       "          [0, 0, 0],\n",
       "          [0, 0, 0]]],\n",
       " \n",
       " \n",
       "        [[[0, 0, 0],\n",
       "          [1, 1, 1],\n",
       "          [1, 1, 1],\n",
       "          ...,\n",
       "          [0, 0, 0],\n",
       "          [0, 0, 0],\n",
       "          [0, 0, 0]],\n",
       " \n",
       "         [[0, 0, 0],\n",
       "          [0, 0, 0],\n",
       "          [0, 0, 0],\n",
       "          ...,\n",
       "          [0, 0, 0],\n",
       "          [0, 0, 0],\n",
       "          [0, 0, 0]],\n",
       " \n",
       "         [[0, 0, 0],\n",
       "          [0, 0, 0],\n",
       "          [1, 1, 1],\n",
       "          ...,\n",
       "          [1, 1, 1],\n",
       "          [0, 0, 0],\n",
       "          [0, 0, 0]],\n",
       " \n",
       "         ...,\n",
       " \n",
       "         [[0, 0, 0],\n",
       "          [0, 0, 0],\n",
       "          [0, 0, 0],\n",
       "          ...,\n",
       "          [0, 0, 0],\n",
       "          [0, 0, 0],\n",
       "          [0, 0, 0]],\n",
       " \n",
       "         [[0, 0, 0],\n",
       "          [0, 0, 0],\n",
       "          [0, 0, 0],\n",
       "          ...,\n",
       "          [0, 0, 0],\n",
       "          [0, 0, 0],\n",
       "          [0, 0, 0]],\n",
       " \n",
       "         [[0, 0, 0],\n",
       "          [0, 0, 0],\n",
       "          [0, 0, 0],\n",
       "          ...,\n",
       "          [0, 0, 0],\n",
       "          [0, 0, 0],\n",
       "          [0, 0, 0]]],\n",
       " \n",
       " \n",
       "        ...,\n",
       " \n",
       " \n",
       "        [[[1, 1, 1],\n",
       "          [0, 0, 0],\n",
       "          [0, 0, 0],\n",
       "          ...,\n",
       "          [0, 0, 0],\n",
       "          [0, 0, 0],\n",
       "          [0, 0, 0]],\n",
       " \n",
       "         [[0, 0, 0],\n",
       "          [0, 0, 0],\n",
       "          [0, 0, 0],\n",
       "          ...,\n",
       "          [0, 0, 0],\n",
       "          [0, 0, 0],\n",
       "          [0, 0, 0]],\n",
       " \n",
       "         [[0, 0, 0],\n",
       "          [0, 0, 0],\n",
       "          [0, 0, 0],\n",
       "          ...,\n",
       "          [1, 1, 1],\n",
       "          [0, 0, 0],\n",
       "          [0, 0, 0]],\n",
       " \n",
       "         ...,\n",
       " \n",
       "         [[0, 0, 0],\n",
       "          [0, 0, 0],\n",
       "          [0, 0, 0],\n",
       "          ...,\n",
       "          [0, 0, 0],\n",
       "          [0, 0, 0],\n",
       "          [0, 0, 0]],\n",
       " \n",
       "         [[0, 0, 0],\n",
       "          [0, 0, 0],\n",
       "          [0, 0, 0],\n",
       "          ...,\n",
       "          [0, 0, 0],\n",
       "          [0, 0, 0],\n",
       "          [0, 0, 0]],\n",
       " \n",
       "         [[0, 0, 0],\n",
       "          [0, 0, 0],\n",
       "          [0, 0, 0],\n",
       "          ...,\n",
       "          [0, 0, 0],\n",
       "          [0, 0, 0],\n",
       "          [0, 0, 0]]],\n",
       " \n",
       " \n",
       "        [[[1, 1, 1],\n",
       "          [0, 0, 0],\n",
       "          [0, 0, 0],\n",
       "          ...,\n",
       "          [0, 0, 0],\n",
       "          [0, 0, 0],\n",
       "          [0, 0, 0]],\n",
       " \n",
       "         [[0, 0, 0],\n",
       "          [0, 0, 0],\n",
       "          [0, 0, 0],\n",
       "          ...,\n",
       "          [0, 0, 0],\n",
       "          [0, 0, 0],\n",
       "          [0, 0, 0]],\n",
       " \n",
       "         [[0, 0, 0],\n",
       "          [0, 0, 0],\n",
       "          [0, 0, 0],\n",
       "          ...,\n",
       "          [1, 1, 1],\n",
       "          [0, 0, 0],\n",
       "          [0, 0, 0]],\n",
       " \n",
       "         ...,\n",
       " \n",
       "         [[0, 0, 0],\n",
       "          [0, 0, 0],\n",
       "          [0, 0, 0],\n",
       "          ...,\n",
       "          [0, 0, 0],\n",
       "          [0, 0, 0],\n",
       "          [0, 0, 0]],\n",
       " \n",
       "         [[0, 0, 0],\n",
       "          [0, 0, 0],\n",
       "          [0, 0, 0],\n",
       "          ...,\n",
       "          [0, 0, 0],\n",
       "          [0, 0, 0],\n",
       "          [0, 0, 0]],\n",
       " \n",
       "         [[0, 0, 0],\n",
       "          [0, 0, 0],\n",
       "          [0, 0, 0],\n",
       "          ...,\n",
       "          [0, 0, 0],\n",
       "          [0, 0, 0],\n",
       "          [0, 0, 0]]],\n",
       " \n",
       " \n",
       "        [[[0, 0, 0],\n",
       "          [1, 1, 1],\n",
       "          [1, 1, 1],\n",
       "          ...,\n",
       "          [0, 0, 0],\n",
       "          [0, 0, 0],\n",
       "          [0, 0, 0]],\n",
       " \n",
       "         [[0, 0, 0],\n",
       "          [0, 0, 0],\n",
       "          [0, 0, 0],\n",
       "          ...,\n",
       "          [0, 0, 0],\n",
       "          [0, 0, 0],\n",
       "          [0, 0, 0]],\n",
       " \n",
       "         [[0, 0, 0],\n",
       "          [0, 0, 0],\n",
       "          [0, 0, 0],\n",
       "          ...,\n",
       "          [1, 1, 1],\n",
       "          [0, 0, 0],\n",
       "          [0, 0, 0]],\n",
       " \n",
       "         ...,\n",
       " \n",
       "         [[0, 0, 0],\n",
       "          [0, 0, 0],\n",
       "          [0, 0, 0],\n",
       "          ...,\n",
       "          [0, 0, 0],\n",
       "          [0, 0, 0],\n",
       "          [0, 0, 0]],\n",
       " \n",
       "         [[0, 0, 0],\n",
       "          [0, 0, 0],\n",
       "          [0, 0, 0],\n",
       "          ...,\n",
       "          [0, 0, 0],\n",
       "          [0, 0, 0],\n",
       "          [0, 0, 0]],\n",
       " \n",
       "         [[0, 0, 0],\n",
       "          [0, 0, 0],\n",
       "          [0, 0, 0],\n",
       "          ...,\n",
       "          [0, 0, 0],\n",
       "          [0, 0, 0],\n",
       "          [0, 0, 0]]]], dtype=uint8),\n",
       " 'labels': array([0, 0, 0, ..., 1, 1, 1])}"
      ]
     },
     "execution_count": 9,
     "metadata": {},
     "output_type": "execute_result"
    }
   ],
   "source": [
    "seed0_test"
   ]
  },
  {
   "cell_type": "code",
   "execution_count": 20,
   "id": "a4829494",
   "metadata": {},
   "outputs": [
    {
     "name": "stdout",
     "output_type": "stream",
     "text": [
      "images: (2104, 112, 112, 3)\n",
      "labels: (2104,)\n",
      "labels: {0, 1, 2, 3}\n",
      "0: 994, 1: 383, 2: 430, 3: 297\n",
      "W_0: 0.108, W_1: 0.28, W_2: 0.25, W_3: 0.362\n"
     ]
    }
   ],
   "source": [
    "print('images: {}'.format(seed0_test['images'].shape))\n",
    "print('labels: {}'.format(seed0_test['labels'].shape))\n",
    "print('labels: {}'.format(set(seed0_test['labels'])))\n",
    "\n",
    "N_class0 = np.sum(seed0_test['labels']==0)\n",
    "N_class1 = np.sum(seed0_test['labels']==1)\n",
    "N_class2 = np.sum(seed0_test['labels']==2)\n",
    "N_class3 = np.sum(seed0_test['labels']==3)\n",
    "\n",
    "W_class0, W_class1, W_class2, W_class3 = calculate_loss_weights(N_class0, N_class1, N_class2, N_class3)\n",
    "\n",
    "print('0: {}, 1: {}, 2: {}, 3: {}'.format(N_class0, N_class1, N_class2, N_class3))\n",
    "print('W_0: {}, W_1: {}, W_2: {}, W_3: {}'.format(W_class0, W_class1, W_class2, W_class3))"
   ]
  },
  {
   "cell_type": "code",
   "execution_count": 11,
   "id": "324dc1f4",
   "metadata": {},
   "outputs": [
    {
     "name": "stdout",
     "output_type": "stream",
     "text": [
      "means: [14.10362444 14.10362444 14.10362444]\n",
      "stds: [33.99599439 33.99599439 33.99599439]\n"
     ]
    }
   ],
   "source": [
    "seed0_test_means, seed0_test_stds = get_means_and_std(seed0_test)"
   ]
  },
  {
   "cell_type": "code",
   "execution_count": null,
   "id": "962f00b5",
   "metadata": {},
   "outputs": [],
   "source": []
  },
  {
   "cell_type": "markdown",
   "id": "d7ccebde",
   "metadata": {},
   "source": [
    "### DEV479"
   ]
  },
  {
   "cell_type": "code",
   "execution_count": 16,
   "id": "75297616",
   "metadata": {},
   "outputs": [],
   "source": [
    "seed0_DEV479_dir = os.path.join(root_dir, 'data_seed0', 'DEV479')\n",
    "\n",
    "seed0_DEV479_train_path = os.path.join(seed0_DEV479_dir, 'train.npy')\n",
    "seed0_DEV479_val_path = os.path.join(seed0_DEV479_dir, 'val.npy')\n"
   ]
  },
  {
   "cell_type": "code",
   "execution_count": 17,
   "id": "7d6db809",
   "metadata": {},
   "outputs": [],
   "source": [
    "seed0_DEV479_train = np.load(seed0_DEV479_train_path, allow_pickle=True)\n",
    "seed0_DEV479_val = np.load(seed0_DEV479_val_path, allow_pickle=True)\n"
   ]
  },
  {
   "cell_type": "markdown",
   "id": "99f87485",
   "metadata": {},
   "source": [
    "#### train"
   ]
  },
  {
   "cell_type": "code",
   "execution_count": 21,
   "id": "5de599ca",
   "metadata": {},
   "outputs": [
    {
     "name": "stdout",
     "output_type": "stream",
     "text": [
      "images: (13992, 112, 112, 3)\n",
      "labels: (13992,)\n",
      "labels: {0, 1, 2, 3}\n",
      "0: 5413, 1: 2002, 2: 3750, 3: 2827\n",
      "W_0: 0.142, W_1: 0.383, W_2: 0.204, W_3: 0.271\n"
     ]
    }
   ],
   "source": [
    "print('images: {}'.format(seed0_DEV479_train['images'].shape))\n",
    "print('labels: {}'.format(seed0_DEV479_train['labels'].shape))\n",
    "print('labels: {}'.format(set(seed0_DEV479_train['labels'])))\n",
    "\n",
    "N_class0 = np.sum(seed0_DEV479_train['labels']==0)\n",
    "N_class1 = np.sum(seed0_DEV479_train['labels']==1)\n",
    "N_class2 = np.sum(seed0_DEV479_train['labels']==2)\n",
    "N_class3 = np.sum(seed0_DEV479_train['labels']==3)\n",
    "\n",
    "W_class0, W_class1, W_class2, W_class3 = calculate_loss_weights(N_class0, N_class1, N_class2, N_class3)\n",
    "\n",
    "print('0: {}, 1: {}, 2: {}, 3: {}'.format(N_class0, N_class1, N_class2, N_class3))\n",
    "print('W_0: {}, W_1: {}, W_2: {}, W_3: {}'.format(W_class0, W_class1, W_class2, W_class3))"
   ]
  },
  {
   "cell_type": "code",
   "execution_count": 23,
   "id": "f0659320",
   "metadata": {},
   "outputs": [
    {
     "name": "stdout",
     "output_type": "stream",
     "text": [
      "means: [15.62412835 15.62412835 15.62412835]\n",
      "stds: [35.89568471 35.89568471 35.89568471]\n"
     ]
    }
   ],
   "source": [
    "seed0_DEV479_train_means, seed0_DEV479_train_stds = get_means_and_std(seed0_DEV479_train)"
   ]
  },
  {
   "cell_type": "markdown",
   "id": "5ce9afe0",
   "metadata": {},
   "source": [
    "#### val"
   ]
  },
  {
   "cell_type": "code",
   "execution_count": 22,
   "id": "be821bc4",
   "metadata": {},
   "outputs": [
    {
     "name": "stdout",
     "output_type": "stream",
     "text": [
      "images: (2007, 112, 112, 3)\n",
      "labels: (2007,)\n",
      "labels: {0, 1, 2, 3}\n",
      "0: 965, 1: 345, 2: 385, 3: 312\n",
      "W_0: 0.106, W_1: 0.298, W_2: 0.267, W_3: 0.329\n"
     ]
    }
   ],
   "source": [
    "print('images: {}'.format(seed0_DEV479_val['images'].shape))\n",
    "print('labels: {}'.format(seed0_DEV479_val['labels'].shape))\n",
    "print('labels: {}'.format(set(seed0_DEV479_val['labels'])))\n",
    "\n",
    "N_class0 = np.sum(seed0_DEV479_val['labels']==0)\n",
    "N_class1 = np.sum(seed0_DEV479_val['labels']==1)\n",
    "N_class2 = np.sum(seed0_DEV479_val['labels']==2)\n",
    "N_class3 = np.sum(seed0_DEV479_val['labels']==3)\n",
    "\n",
    "W_class0, W_class1, W_class2, W_class3 = calculate_loss_weights(N_class0, N_class1, N_class2, N_class3)\n",
    "\n",
    "print('0: {}, 1: {}, 2: {}, 3: {}'.format(N_class0, N_class1, N_class2, N_class3))\n",
    "print('W_0: {}, W_1: {}, W_2: {}, W_3: {}'.format(W_class0, W_class1, W_class2, W_class3))"
   ]
  },
  {
   "cell_type": "code",
   "execution_count": 24,
   "id": "9845e6c4",
   "metadata": {},
   "outputs": [
    {
     "name": "stdout",
     "output_type": "stream",
     "text": [
      "means: [14.73915884 14.73915884 14.73915884]\n",
      "stds: [34.76006408 34.76006408 34.76006408]\n"
     ]
    }
   ],
   "source": [
    "seed0_DEV479_val_means, seed0_DEV479_val_stds = get_means_and_std(seed0_DEV479_val)"
   ]
  },
  {
   "cell_type": "code",
   "execution_count": null,
   "id": "19a932ba",
   "metadata": {},
   "outputs": [],
   "source": []
  },
  {
   "cell_type": "markdown",
   "id": "0dcce865",
   "metadata": {},
   "source": [
    "### DEV165"
   ]
  },
  {
   "cell_type": "code",
   "execution_count": 25,
   "id": "73aa114a",
   "metadata": {},
   "outputs": [],
   "source": [
    "seed0_DEV165_dir = os.path.join(root_dir, 'data_seed0', 'DEV165')\n",
    "\n",
    "seed0_DEV165_train_path = os.path.join(seed0_DEV165_dir, 'train.npy')\n",
    "seed0_DEV165_val_path = os.path.join(seed0_DEV165_dir, 'val.npy')\n"
   ]
  },
  {
   "cell_type": "code",
   "execution_count": 26,
   "id": "5ca7582a",
   "metadata": {},
   "outputs": [],
   "source": [
    "seed0_DEV165_train = np.load(seed0_DEV165_train_path, allow_pickle=True)\n",
    "seed0_DEV165_val = np.load(seed0_DEV165_val_path, allow_pickle=True)\n"
   ]
  },
  {
   "cell_type": "markdown",
   "id": "ca76c85d",
   "metadata": {},
   "source": [
    "#### train"
   ]
  },
  {
   "cell_type": "code",
   "execution_count": 27,
   "id": "84ebadde",
   "metadata": {},
   "outputs": [
    {
     "name": "stdout",
     "output_type": "stream",
     "text": [
      "images: (4796, 112, 112, 3)\n",
      "labels: (4796,)\n",
      "labels: {0, 1, 2, 3}\n",
      "0: 1867, 1: 698, 2: 1281, 3: 950\n",
      "W_0: 0.141, W_1: 0.377, W_2: 0.205, W_3: 0.277\n"
     ]
    }
   ],
   "source": [
    "print('images: {}'.format(seed0_DEV165_train['images'].shape))\n",
    "print('labels: {}'.format(seed0_DEV165_train['labels'].shape))\n",
    "print('labels: {}'.format(set(seed0_DEV165_train['labels'])))\n",
    "\n",
    "N_class0 = np.sum(seed0_DEV165_train['labels']==0)\n",
    "N_class1 = np.sum(seed0_DEV165_train['labels']==1)\n",
    "N_class2 = np.sum(seed0_DEV165_train['labels']==2)\n",
    "N_class3 = np.sum(seed0_DEV165_train['labels']==3)\n",
    "\n",
    "W_class0, W_class1, W_class2, W_class3 = calculate_loss_weights(N_class0, N_class1, N_class2, N_class3)\n",
    "\n",
    "print('0: {}, 1: {}, 2: {}, 3: {}'.format(N_class0, N_class1, N_class2, N_class3))\n",
    "print('W_0: {}, W_1: {}, W_2: {}, W_3: {}'.format(W_class0, W_class1, W_class2, W_class3))"
   ]
  },
  {
   "cell_type": "code",
   "execution_count": 28,
   "id": "540431a4",
   "metadata": {},
   "outputs": [
    {
     "name": "stdout",
     "output_type": "stream",
     "text": [
      "means: [15.54304657 15.54304657 15.54304657]\n",
      "stds: [35.83527872 35.83527872 35.83527872]\n"
     ]
    }
   ],
   "source": [
    "seed0_DEV165_train_means, seed0_DEV165_train_stds = get_means_and_std(seed0_DEV165_train)"
   ]
  },
  {
   "cell_type": "markdown",
   "id": "8b595738",
   "metadata": {},
   "source": [
    "#### val"
   ]
  },
  {
   "cell_type": "code",
   "execution_count": 29,
   "id": "d4b76c83",
   "metadata": {},
   "outputs": [
    {
     "name": "stdout",
     "output_type": "stream",
     "text": [
      "images: (735, 112, 112, 3)\n",
      "labels: (735,)\n",
      "labels: {0, 1, 2, 3}\n",
      "0: 350, 1: 124, 2: 149, 3: 112\n",
      "W_0: 0.108, W_1: 0.304, W_2: 0.253, W_3: 0.336\n"
     ]
    }
   ],
   "source": [
    "print('images: {}'.format(seed0_DEV165_val['images'].shape))\n",
    "print('labels: {}'.format(seed0_DEV165_val['labels'].shape))\n",
    "print('labels: {}'.format(set(seed0_DEV165_val['labels'])))\n",
    "\n",
    "N_class0 = np.sum(seed0_DEV165_val['labels']==0)\n",
    "N_class1 = np.sum(seed0_DEV165_val['labels']==1)\n",
    "N_class2 = np.sum(seed0_DEV165_val['labels']==2)\n",
    "N_class3 = np.sum(seed0_DEV165_val['labels']==3)\n",
    "\n",
    "W_class0, W_class1, W_class2, W_class3 = calculate_loss_weights(N_class0, N_class1, N_class2, N_class3)\n",
    "\n",
    "print('0: {}, 1: {}, 2: {}, 3: {}'.format(N_class0, N_class1, N_class2, N_class3))\n",
    "print('W_0: {}, W_1: {}, W_2: {}, W_3: {}'.format(W_class0, W_class1, W_class2, W_class3))"
   ]
  },
  {
   "cell_type": "code",
   "execution_count": 30,
   "id": "459c122c",
   "metadata": {},
   "outputs": [
    {
     "name": "stdout",
     "output_type": "stream",
     "text": [
      "means: [15.02846167 15.02846167 15.02846167]\n",
      "stds: [35.31917697 35.31917697 35.31917697]\n"
     ]
    }
   ],
   "source": [
    "seed0_DEV165_val_means, seed0_DEV165_val_stds = get_means_and_std(seed0_DEV165_val)"
   ]
  },
  {
   "cell_type": "code",
   "execution_count": null,
   "id": "ead561a0",
   "metadata": {},
   "outputs": [],
   "source": []
  },
  {
   "cell_type": "code",
   "execution_count": null,
   "id": "a1ae8ec6",
   "metadata": {},
   "outputs": [],
   "source": []
  },
  {
   "cell_type": "markdown",
   "id": "f40200c0",
   "metadata": {},
   "source": [
    "### DEV56"
   ]
  },
  {
   "cell_type": "code",
   "execution_count": 31,
   "id": "6b03b241",
   "metadata": {},
   "outputs": [],
   "source": [
    "seed0_DEV56_dir = os.path.join(root_dir, 'data_seed0', 'DEV56')\n",
    "\n",
    "seed0_DEV56_train_path = os.path.join(seed0_DEV56_dir, 'train.npy')\n",
    "seed0_DEV56_val_path = os.path.join(seed0_DEV56_dir, 'val.npy')\n"
   ]
  },
  {
   "cell_type": "code",
   "execution_count": 32,
   "id": "ab395960",
   "metadata": {},
   "outputs": [],
   "source": [
    "seed0_DEV56_train = np.load(seed0_DEV56_train_path, allow_pickle=True)\n",
    "seed0_DEV56_val = np.load(seed0_DEV56_val_path, allow_pickle=True)\n"
   ]
  },
  {
   "cell_type": "markdown",
   "id": "fa53241c",
   "metadata": {},
   "source": [
    "#### train"
   ]
  },
  {
   "cell_type": "code",
   "execution_count": 33,
   "id": "fbedcd7f",
   "metadata": {},
   "outputs": [
    {
     "name": "stdout",
     "output_type": "stream",
     "text": [
      "images: (1561, 112, 112, 3)\n",
      "labels: (1561,)\n",
      "labels: {0, 1, 2, 3}\n",
      "0: 632, 1: 239, 2: 405, 3: 285\n",
      "W_0: 0.135, W_1: 0.356, W_2: 0.21, W_3: 0.299\n"
     ]
    }
   ],
   "source": [
    "print('images: {}'.format(seed0_DEV56_train['images'].shape))\n",
    "print('labels: {}'.format(seed0_DEV56_train['labels'].shape))\n",
    "print('labels: {}'.format(set(seed0_DEV56_train['labels'])))\n",
    "\n",
    "N_class0 = np.sum(seed0_DEV56_train['labels']==0)\n",
    "N_class1 = np.sum(seed0_DEV56_train['labels']==1)\n",
    "N_class2 = np.sum(seed0_DEV56_train['labels']==2)\n",
    "N_class3 = np.sum(seed0_DEV56_train['labels']==3)\n",
    "\n",
    "W_class0, W_class1, W_class2, W_class3 = calculate_loss_weights(N_class0, N_class1, N_class2, N_class3)\n",
    "\n",
    "print('0: {}, 1: {}, 2: {}, 3: {}'.format(N_class0, N_class1, N_class2, N_class3))\n",
    "print('W_0: {}, W_1: {}, W_2: {}, W_3: {}'.format(W_class0, W_class1, W_class2, W_class3))"
   ]
  },
  {
   "cell_type": "code",
   "execution_count": 34,
   "id": "3cc3e9d5",
   "metadata": {},
   "outputs": [
    {
     "name": "stdout",
     "output_type": "stream",
     "text": [
      "means: [15.54931418 15.54931418 15.54931418]\n",
      "stds: [36.18243445 36.18243445 36.18243445]\n"
     ]
    }
   ],
   "source": [
    "seed0_DEV56_train_means, seed0_DEV56_train_stds = get_means_and_std(seed0_DEV56_train)"
   ]
  },
  {
   "cell_type": "markdown",
   "id": "f1e25fb0",
   "metadata": {},
   "source": [
    "#### val"
   ]
  },
  {
   "cell_type": "code",
   "execution_count": 35,
   "id": "38c68ffb",
   "metadata": {
    "scrolled": true
   },
   "outputs": [
    {
     "name": "stdout",
     "output_type": "stream",
     "text": [
      "images: (243, 112, 112, 3)\n",
      "labels: (243,)\n",
      "labels: {0, 1, 2, 3}\n",
      "0: 105, 1: 38, 2: 55, 3: 45\n",
      "W_0: 0.125, W_1: 0.345, W_2: 0.238, W_3: 0.291\n"
     ]
    }
   ],
   "source": [
    "print('images: {}'.format(seed0_DEV56_val['images'].shape))\n",
    "print('labels: {}'.format(seed0_DEV56_val['labels'].shape))\n",
    "print('labels: {}'.format(set(seed0_DEV56_val['labels'])))\n",
    "\n",
    "N_class0 = np.sum(seed0_DEV56_val['labels']==0)\n",
    "N_class1 = np.sum(seed0_DEV56_val['labels']==1)\n",
    "N_class2 = np.sum(seed0_DEV56_val['labels']==2)\n",
    "N_class3 = np.sum(seed0_DEV56_val['labels']==3)\n",
    "\n",
    "W_class0, W_class1, W_class2, W_class3 = calculate_loss_weights(N_class0, N_class1, N_class2, N_class3)\n",
    "\n",
    "print('0: {}, 1: {}, 2: {}, 3: {}'.format(N_class0, N_class1, N_class2, N_class3))\n",
    "print('W_0: {}, W_1: {}, W_2: {}, W_3: {}'.format(W_class0, W_class1, W_class2, W_class3))"
   ]
  },
  {
   "cell_type": "code",
   "execution_count": 36,
   "id": "d91e1e27",
   "metadata": {},
   "outputs": [
    {
     "name": "stdout",
     "output_type": "stream",
     "text": [
      "means: [14.25083066 14.25083066 14.25083066]\n",
      "stds: [34.29725376 34.29725376 34.29725376]\n"
     ]
    }
   ],
   "source": [
    "seed0_DEV56_val_means, seed0_DEV56_val_stds = get_means_and_std(seed0_DEV56_val)"
   ]
  },
  {
   "cell_type": "code",
   "execution_count": null,
   "id": "93453d19",
   "metadata": {},
   "outputs": [],
   "source": []
  }
 ],
 "metadata": {
  "kernelspec": {
   "display_name": "Python 3 (ipykernel)",
   "language": "python",
   "name": "python3"
  },
  "language_info": {
   "codemirror_mode": {
    "name": "ipython",
    "version": 3
   },
   "file_extension": ".py",
   "mimetype": "text/x-python",
   "name": "python",
   "nbconvert_exporter": "python",
   "pygments_lexer": "ipython3",
   "version": "3.8.13"
  }
 },
 "nbformat": 4,
 "nbformat_minor": 5
}
