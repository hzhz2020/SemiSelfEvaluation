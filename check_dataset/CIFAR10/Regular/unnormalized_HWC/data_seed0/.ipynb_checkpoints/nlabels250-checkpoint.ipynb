{
 "cells": [
  {
   "cell_type": "code",
   "execution_count": 1,
   "id": "010310b9",
   "metadata": {},
   "outputs": [],
   "source": [
    "import numpy as np\n",
    "import os\n",
    "\n"
   ]
  },
  {
   "cell_type": "code",
   "execution_count": 2,
   "id": "f862502f",
   "metadata": {},
   "outputs": [],
   "source": [
    "root_dir = '/cluster/tufts/hugheslab/zhuang12/SemiSelfEvaluationProject/SemiSelfEvaluation/ML_DATA/CIFAR10/Regular/unnormalized_HWC/data_seed0'\n"
   ]
  },
  {
   "cell_type": "code",
   "execution_count": 3,
   "id": "12ca249f",
   "metadata": {},
   "outputs": [],
   "source": [
    "def get_means_and_std(data):\n",
    "\n",
    "    means = np.zeros(3)\n",
    "    stds = np.zeros(3)\n",
    "\n",
    "    assert data['images'].shape[3] == 3 #data['images'] N, H, W, C\n",
    "    for image in data['images']:\n",
    "\n",
    "        for i in range(3):\n",
    "            means[i] += image[:,:,i].mean()\n",
    "            stds[i] += image[:,:,i].std()\n",
    "\n",
    "    means = means/len(data['images'])\n",
    "    stds = stds/len(data['images'])\n",
    "\n",
    "    print('means: {}'.format(means))\n",
    "    print('stds: {}'.format(stds))\n",
    "    \n",
    "    return means, stds"
   ]
  },
  {
   "cell_type": "code",
   "execution_count": null,
   "id": "13252713",
   "metadata": {},
   "outputs": [],
   "source": []
  },
  {
   "cell_type": "markdown",
   "id": "4c30d9fa",
   "metadata": {},
   "source": [
    "### nlabels250"
   ]
  },
  {
   "cell_type": "code",
   "execution_count": 4,
   "id": "5f6f0adf",
   "metadata": {},
   "outputs": [],
   "source": [
    "l_train_path = os.path.join(root_dir, 'nlabels250', 'l_train.npy')\n",
    "u_train_path = os.path.join(root_dir, 'nlabels250', 'u_train.npy')\n",
    "val_path = os.path.join(root_dir, 'nlabels250', 'val.npy')\n",
    "test_path = os.path.join(root_dir, 'nlabels250', 'test.npy')\n",
    "\n"
   ]
  },
  {
   "cell_type": "code",
   "execution_count": 5,
   "id": "3eb39238",
   "metadata": {},
   "outputs": [],
   "source": [
    "l_train = np.load(l_train_path, allow_pickle=True).item()\n",
    "u_train = np.load(u_train_path, allow_pickle=True).item()\n",
    "val = np.load(val_path, allow_pickle=True).item()\n",
    "test = np.load(test_path, allow_pickle=True).item()\n"
   ]
  },
  {
   "cell_type": "markdown",
   "id": "0083c63b",
   "metadata": {},
   "source": [
    "#### l_train"
   ]
  },
  {
   "cell_type": "code",
   "execution_count": 6,
   "id": "64f9a392",
   "metadata": {},
   "outputs": [
    {
     "data": {
      "text/plain": [
       "(250, 32, 32, 3)"
      ]
     },
     "execution_count": 6,
     "metadata": {},
     "output_type": "execute_result"
    }
   ],
   "source": [
    "l_train['images'].shape"
   ]
  },
  {
   "cell_type": "code",
   "execution_count": 7,
   "id": "bc52886b",
   "metadata": {},
   "outputs": [
    {
     "name": "stdout",
     "output_type": "stream",
     "text": [
      "num samples each class\n",
      "0: 25\n",
      "1: 25\n",
      "2: 25\n",
      "3: 25\n",
      "4: 25\n",
      "5: 25\n",
      "6: 25\n",
      "7: 25\n",
      "8: 25\n",
      "9: 25\n"
     ]
    }
   ],
   "source": [
    "N_class0 = np.sum(l_train['labels']==0)\n",
    "N_class1 = np.sum(l_train['labels']==1)\n",
    "N_class2 = np.sum(l_train['labels']==2)\n",
    "N_class3 = np.sum(l_train['labels']==3)\n",
    "N_class4 = np.sum(l_train['labels']==4)\n",
    "N_class5 = np.sum(l_train['labels']==5)\n",
    "N_class6 = np.sum(l_train['labels']==6)\n",
    "N_class7 = np.sum(l_train['labels']==7)\n",
    "N_class8 = np.sum(l_train['labels']==8)\n",
    "N_class9 = np.sum(l_train['labels']==9)\n",
    "\n",
    "print('num samples each class')\n",
    "print('0: {}\\n1: {}\\n2: {}\\n3: {}\\n4: {}\\n5: {}\\n6: {}\\n7: {}\\n8: {}\\n9: {}'.format(N_class0, N_class1, N_class2, N_class3, N_class4, N_class5, N_class6, N_class7, N_class8, N_class9))\n"
   ]
  },
  {
   "cell_type": "code",
   "execution_count": 8,
   "id": "324dc1f4",
   "metadata": {
    "scrolled": true
   },
   "outputs": [
    {
     "name": "stdout",
     "output_type": "stream",
     "text": [
      "means: [127.60146484 123.72012891 114.36734766]\n",
      "stds: [52.75065502 51.87118431 52.024078  ]\n"
     ]
    }
   ],
   "source": [
    "l_train_means, l_train_stds = get_means_and_std(l_train)"
   ]
  },
  {
   "cell_type": "code",
   "execution_count": null,
   "id": "fdde7f20",
   "metadata": {},
   "outputs": [],
   "source": []
  },
  {
   "cell_type": "markdown",
   "id": "e1482dc3",
   "metadata": {},
   "source": [
    "#### u_train"
   ]
  },
  {
   "cell_type": "code",
   "execution_count": 9,
   "id": "9273bf75",
   "metadata": {},
   "outputs": [
    {
     "data": {
      "text/plain": [
       "(44750, 32, 32, 3)"
      ]
     },
     "execution_count": 9,
     "metadata": {},
     "output_type": "execute_result"
    }
   ],
   "source": [
    "u_train['images'].shape"
   ]
  },
  {
   "cell_type": "code",
   "execution_count": 10,
   "id": "f25a6e81",
   "metadata": {},
   "outputs": [
    {
     "name": "stdout",
     "output_type": "stream",
     "text": [
      "num samples each class\n",
      "0: 0\n",
      "1: 0\n",
      "2: 0\n",
      "3: 0\n",
      "4: 0\n",
      "5: 0\n",
      "6: 0\n",
      "7: 0\n",
      "8: 0\n",
      "9: 0\n"
     ]
    }
   ],
   "source": [
    "N_class0 = np.sum(u_train['labels']==0)\n",
    "N_class1 = np.sum(u_train['labels']==1)\n",
    "N_class2 = np.sum(u_train['labels']==2)\n",
    "N_class3 = np.sum(u_train['labels']==3)\n",
    "N_class4 = np.sum(u_train['labels']==4)\n",
    "N_class5 = np.sum(u_train['labels']==5)\n",
    "N_class6 = np.sum(u_train['labels']==6)\n",
    "N_class7 = np.sum(u_train['labels']==7)\n",
    "N_class8 = np.sum(u_train['labels']==8)\n",
    "N_class9 = np.sum(u_train['labels']==9)\n",
    "\n",
    "print('num samples each class')\n",
    "print('0: {}\\n1: {}\\n2: {}\\n3: {}\\n4: {}\\n5: {}\\n6: {}\\n7: {}\\n8: {}\\n9: {}'.format(N_class0, N_class1, N_class2, N_class3, N_class4, N_class5, N_class6, N_class7, N_class8, N_class9))\n"
   ]
  },
  {
   "cell_type": "code",
   "execution_count": 11,
   "id": "278d1ee1",
   "metadata": {
    "scrolled": false
   },
   "outputs": [
    {
     "name": "stdout",
     "output_type": "stream",
     "text": [
      "means: [125.31382267 122.97845806 113.86695273]\n",
      "stds: [51.57352458 50.82839837 51.22268608]\n"
     ]
    }
   ],
   "source": [
    "u_train_means, u_train_stds = get_means_and_std(u_train)"
   ]
  },
  {
   "cell_type": "code",
   "execution_count": null,
   "id": "93453d19",
   "metadata": {},
   "outputs": [],
   "source": []
  },
  {
   "cell_type": "markdown",
   "id": "a1afc1a5",
   "metadata": {},
   "source": [
    "#### val"
   ]
  },
  {
   "cell_type": "code",
   "execution_count": 12,
   "id": "6528ea1f",
   "metadata": {},
   "outputs": [
    {
     "data": {
      "text/plain": [
       "(5000, 32, 32, 3)"
      ]
     },
     "execution_count": 12,
     "metadata": {},
     "output_type": "execute_result"
    }
   ],
   "source": [
    "val['images'].shape"
   ]
  },
  {
   "cell_type": "code",
   "execution_count": 13,
   "id": "e8bb539c",
   "metadata": {},
   "outputs": [
    {
     "name": "stdout",
     "output_type": "stream",
     "text": [
      "num samples each class\n",
      "0: 503\n",
      "1: 483\n",
      "2: 487\n",
      "3: 527\n",
      "4: 473\n",
      "5: 548\n",
      "6: 491\n",
      "7: 502\n",
      "8: 482\n",
      "9: 504\n"
     ]
    }
   ],
   "source": [
    "N_class0 = np.sum(val['labels']==0)\n",
    "N_class1 = np.sum(val['labels']==1)\n",
    "N_class2 = np.sum(val['labels']==2)\n",
    "N_class3 = np.sum(val['labels']==3)\n",
    "N_class4 = np.sum(val['labels']==4)\n",
    "N_class5 = np.sum(val['labels']==5)\n",
    "N_class6 = np.sum(val['labels']==6)\n",
    "N_class7 = np.sum(val['labels']==7)\n",
    "N_class8 = np.sum(val['labels']==8)\n",
    "N_class9 = np.sum(val['labels']==9)\n",
    "\n",
    "print('num samples each class')\n",
    "print('0: {}\\n1: {}\\n2: {}\\n3: {}\\n4: {}\\n5: {}\\n6: {}\\n7: {}\\n8: {}\\n9: {}'.format(N_class0, N_class1, N_class2, N_class3, N_class4, N_class5, N_class6, N_class7, N_class8, N_class9))\n"
   ]
  },
  {
   "cell_type": "code",
   "execution_count": 14,
   "id": "6363ce33",
   "metadata": {
    "scrolled": true
   },
   "outputs": [
    {
     "name": "stdout",
     "output_type": "stream",
     "text": [
      "means: [125.13039434 122.66073535 113.8262375 ]\n",
      "stds: [51.39482061 50.74659041 51.15758314]\n"
     ]
    }
   ],
   "source": [
    "val_means, val_stds = get_means_and_std(val)"
   ]
  },
  {
   "cell_type": "code",
   "execution_count": null,
   "id": "b868ab48",
   "metadata": {},
   "outputs": [],
   "source": []
  },
  {
   "cell_type": "markdown",
   "id": "767fd03f",
   "metadata": {},
   "source": [
    "#### test"
   ]
  },
  {
   "cell_type": "code",
   "execution_count": 15,
   "id": "3a6f729e",
   "metadata": {},
   "outputs": [
    {
     "data": {
      "text/plain": [
       "(10000, 32, 32, 3)"
      ]
     },
     "execution_count": 15,
     "metadata": {},
     "output_type": "execute_result"
    }
   ],
   "source": [
    "test['images'].shape"
   ]
  },
  {
   "cell_type": "code",
   "execution_count": 16,
   "id": "9a604213",
   "metadata": {},
   "outputs": [
    {
     "name": "stdout",
     "output_type": "stream",
     "text": [
      "num samples each class\n",
      "0: 1000\n",
      "1: 1000\n",
      "2: 1000\n",
      "3: 1000\n",
      "4: 1000\n",
      "5: 1000\n",
      "6: 1000\n",
      "7: 1000\n",
      "8: 1000\n",
      "9: 1000\n"
     ]
    }
   ],
   "source": [
    "N_class0 = np.sum(test['labels']==0)\n",
    "N_class1 = np.sum(test['labels']==1)\n",
    "N_class2 = np.sum(test['labels']==2)\n",
    "N_class3 = np.sum(test['labels']==3)\n",
    "N_class4 = np.sum(test['labels']==4)\n",
    "N_class5 = np.sum(test['labels']==5)\n",
    "N_class6 = np.sum(test['labels']==6)\n",
    "N_class7 = np.sum(test['labels']==7)\n",
    "N_class8 = np.sum(test['labels']==8)\n",
    "N_class9 = np.sum(test['labels']==9)\n",
    "\n",
    "print('num samples each class')\n",
    "print('0: {}\\n1: {}\\n2: {}\\n3: {}\\n4: {}\\n5: {}\\n6: {}\\n7: {}\\n8: {}\\n9: {}'.format(N_class0, N_class1, N_class2, N_class3, N_class4, N_class5, N_class6, N_class7, N_class8, N_class9))\n"
   ]
  },
  {
   "cell_type": "code",
   "execution_count": 17,
   "id": "267393c9",
   "metadata": {
    "scrolled": false
   },
   "outputs": [
    {
     "name": "stdout",
     "output_type": "stream",
     "text": [
      "means: [126.02464141 123.7085042  114.85431865]\n",
      "stds: [51.48317831 50.75034858 51.2632413 ]\n"
     ]
    }
   ],
   "source": [
    "test_means, test_stds = get_means_and_std(test)"
   ]
  },
  {
   "cell_type": "code",
   "execution_count": null,
   "id": "65667baf",
   "metadata": {},
   "outputs": [],
   "source": []
  }
 ],
 "metadata": {
  "kernelspec": {
   "display_name": "Python 3 (ipykernel)",
   "language": "python",
   "name": "python3"
  },
  "language_info": {
   "codemirror_mode": {
    "name": "ipython",
    "version": 3
   },
   "file_extension": ".py",
   "mimetype": "text/x-python",
   "name": "python",
   "nbconvert_exporter": "python",
   "pygments_lexer": "ipython3",
   "version": "3.8.12"
  }
 },
 "nbformat": 4,
 "nbformat_minor": 5
}
